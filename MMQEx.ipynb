{
  "nbformat": 4,
  "nbformat_minor": 0,
  "metadata": {
    "colab": {
      "provenance": [],
      "authorship_tag": "ABX9TyME4f71g8k6p37d9SQvdMa4",
      "include_colab_link": true
    },
    "kernelspec": {
      "name": "python3",
      "display_name": "Python 3"
    },
    "language_info": {
      "name": "python"
    }
  },
  "cells": [
    {
      "cell_type": "markdown",
      "metadata": {
        "id": "view-in-github",
        "colab_type": "text"
      },
      "source": [
        "<a href=\"https://colab.research.google.com/github/elizamelo/LabFis04/blob/main/MMQEx.ipynb\" target=\"_parent\"><img src=\"https://colab.research.google.com/assets/colab-badge.svg\" alt=\"Open In Colab\"/></a>"
      ]
    },
    {
      "cell_type": "code",
      "execution_count": 32,
      "metadata": {
        "id": "FUa5gEGqYex7"
      },
      "outputs": [],
      "source": [
        "import numpy as np\n",
        "import pandas as pd\n",
        "import math\n",
        "import matplotlib as mpl\n",
        "import matplotlib.pyplot as plt\n"
      ]
    },
    {
      "cell_type": "code",
      "source": [
        "X=[0.122,0.242,0.350,0.438,0.522,0.588,0.649,0.695]\n",
        "Y=[0.174,0.342,0.500,0.643,0.766,0.866,0.940,0.985]"
      ],
      "metadata": {
        "id": "PGGmEaeqY12D"
      },
      "execution_count": 33,
      "outputs": []
    },
    {
      "cell_type": "code",
      "source": [
        "#xdata=dataset['X'] # sen(theta2)\n",
        "#ydata=dataset['Y'] # sen(theta1)\n",
        "xdata=X\n",
        "ydata=Y"
      ],
      "metadata": {
        "id": "TjAYp2mYZCtU"
      },
      "execution_count": 34,
      "outputs": []
    },
    {
      "cell_type": "code",
      "source": [
        "xbar = np.mean(xdata) # cálculo da média de xdata\n",
        "ybar = np.mean(ydata)  # cálculo da média de ydata\n",
        "print(xbar)\n",
        "print(ybar)"
      ],
      "metadata": {
        "colab": {
          "base_uri": "https://localhost:8080/"
        },
        "id": "foiSxdqia0DM",
        "outputId": "54f0a0a6-2755-45a3-dfdd-02e90929a700"
      },
      "execution_count": 35,
      "outputs": [
        {
          "output_type": "stream",
          "name": "stdout",
          "text": [
            "0.45075\n",
            "0.652\n"
          ]
        }
      ]
    },
    {
      "cell_type": "code",
      "source": [
        "a = np.sum(xdata*(ydata-ybar))/np.sum(xdata*(xdata-xbar)) #coef. angular estimado\n",
        "b = ybar - a*xbar #coeficiente linear estimado\n",
        "print(a)\n",
        "print(b)"
      ],
      "metadata": {
        "colab": {
          "base_uri": "https://localhost:8080/"
        },
        "id": "o_NftB9Va0S2",
        "outputId": "d7d2f3b7-91de-48f8-b8e2-c8e49114e5b3"
      },
      "execution_count": 36,
      "outputs": [
        {
          "output_type": "stream",
          "name": "stdout",
          "text": [
            "1.450662912532057\n",
            "-0.0018863078238245956\n"
          ]
        }
      ]
    },
    {
      "cell_type": "code",
      "source": [
        "yest = np.round(a,3)*np.round(xdata,3) + np.round(b,3) # função estimada\n"
      ],
      "metadata": {
        "id": "UZbGrx-da4yz"
      },
      "execution_count": 37,
      "outputs": []
    },
    {
      "cell_type": "code",
      "source": [
        "R_squared = np.sum((yest-ybar)**2)/np.sum((ydata-ybar)**2) #coef. de determinação\n",
        "print(\"R_squared =\",R_squared)\n",
        "print(\"coef. angular (a): \", np.round(a,3))\n",
        "print(\"coeficiente linear (b): \", np.round(b,3))\n",
        "print(\"Equação da reta: y=\",np.round(a,3),\"*x +\", np.round(b,9))"
      ],
      "metadata": {
        "colab": {
          "base_uri": "https://localhost:8080/"
        },
        "id": "FU70knvaa8m-",
        "outputId": "36179152-76c8-425e-e782-fce9a0e17f47"
      },
      "execution_count": 38,
      "outputs": [
        {
          "output_type": "stream",
          "name": "stdout",
          "text": [
            "R_squared = 0.998853404008035\n",
            "coef. angular (a):  1.451\n",
            "coeficiente linear (b):  -0.002\n",
            "Equação da reta: y= 1.451 *x + -0.001886308\n"
          ]
        }
      ]
    },
    {
      "cell_type": "code",
      "source": [
        "print(\"Equação da reta: y=\",np.round(a,4),\"*x \", np.round(b,4))\n",
        "plt.figure( figsize=(12,10))\n",
        "plt.plot(xdata, yest, 'r', label = \"fitted curve\")\n",
        "plt.scatter(xdata, ydata, label = \"data\")\n",
        "plt.xlabel(r'$sin\\theta_{2}$', fontsize=18)#r'$\\sigma_i=23$'\n",
        "plt.ylabel(r'$sin\\theta_{1}$', fontsize=18 )\n",
        "plt.title('Reta - Exercício', fontsize=18)\n",
        "\n",
        "plt.show()\n"
      ],
      "metadata": {
        "colab": {
          "base_uri": "https://localhost:8080/",
          "height": 907
        },
        "id": "JvAmgcoyav7C",
        "outputId": "448bd116-9322-4865-de4c-02d5e6f6997a"
      },
      "execution_count": 50,
      "outputs": [
        {
          "output_type": "stream",
          "name": "stdout",
          "text": [
            "Equação da reta: y= 1.4507 *x  -0.0019\n"
          ]
        },
        {
          "output_type": "display_data",
          "data": {
            "text/plain": [
              "<Figure size 1200x1000 with 1 Axes>"
            ],
            "image/png": "[encoded data removed]"
          },
          "metadata": {}
        }
      ]
    },
    {
      "cell_type": "markdown",
      "source": [
        "Usando um pacote:"
      ],
      "metadata": {
        "id": "gvGwumisL7RK"
      }
    },
    {
      "cell_type": "code",
      "source": [
        "from scipy.optimize import curve_fit\n",
        "\n",
        "def pol1(x, p0, p1):\n",
        "   return p0 + p1*x\n",
        "\n",
        "popt_lin, pcov_lin = curve_fit( pol1, X, Y, p0=(0.,0.) )\n",
        "print ( popt_lin, pcov_lin )"
      ],
      "metadata": {
        "colab": {
          "base_uri": "https://localhost:8080/"
        },
        "id": "-pBElVLpL8Fa",
        "outputId": "1f5c3801-c73f-4003-9bce-36e98c27b850"
      },
      "execution_count": 40,
      "outputs": [
        {
          "output_type": "stream",
          "name": "stdout",
          "text": [
            "[-0.00188631  1.45066291] [[ 0.00013511 -0.00025505]\n",
            " [-0.00025505  0.00056583]]\n"
          ]
        }
      ]
    },
    {
      "cell_type": "code",
      "source": [
        "\n",
        "\n",
        "print ( \"Coeficiente m ( ) : {}\".format( popt_lin[ 1 ] ) )\n",
        "print ( \"Incerteza padrão coeficiente m  (): {}\".format( np.sqrt( pcov_lin[ 1, 1 ] ) ) )\n",
        "print ( \"a = {:.2f} ± {:.2f} () \".format( np.round( popt_lin[ 1 ], 2 ), np.round( np.sqrt( pcov_lin[ 1, 1 ] ), 2 ) ) )\n",
        "     \n"
      ],
      "metadata": {
        "colab": {
          "base_uri": "https://localhost:8080/"
        },
        "id": "xWABUm_vMOWt",
        "outputId": "b4012a51-6245-4cd1-b1e0-092afe3abaae"
      },
      "execution_count": 41,
      "outputs": [
        {
          "output_type": "stream",
          "name": "stdout",
          "text": [
            "Coeficiente m ( ) : 1.4506629126742105\n",
            "Incerteza padrão coeficiente m  (): 0.023787149333352815\n",
            "a = 1.45 ± 0.02 () \n"
          ]
        }
      ]
    },
    {
      "cell_type": "code",
      "source": [
        "print ( \"Coeficiente b (): {}\".format( popt_lin[ 0 ] ) )\n",
        "print ( \"Incerteza padrão coeficiente b (): {}\".format( np.sqrt( pcov_lin[ 0, 0 ] ) ) )\n",
        "print ( \"{} ± {} ()\".format( np.round( popt_lin[ 0 ], 3 ), np.round( np.sqrt( pcov_lin[ 0, 0 ] ), 3 ) ) )"
      ],
      "metadata": {
        "colab": {
          "base_uri": "https://localhost:8080/"
        },
        "id": "kGUEOMQnMVdX",
        "outputId": "6260a0bc-0b3f-4ac5-f8e0-b4bc6e3bd1f7"
      },
      "execution_count": 42,
      "outputs": [
        {
          "output_type": "stream",
          "name": "stdout",
          "text": [
            "Coeficiente b (): -0.0018863078879003943\n",
            "Incerteza padrão coeficiente b (): 0.011623637596715686\n",
            "-0.002 ± 0.012 ()\n"
          ]
        }
      ]
    }
  ]
}