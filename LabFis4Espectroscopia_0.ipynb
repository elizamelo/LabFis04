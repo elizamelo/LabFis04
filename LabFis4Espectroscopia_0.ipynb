{
  "cells": [
    {
      "cell_type": "markdown",
      "metadata": {
        "id": "view-in-github",
        "colab_type": "text"
      },
      "source": [
        "<a href=\"https://colab.research.google.com/github/elizamelo/LabFis04/blob/main/LabFis4Espectroscopia_0.ipynb\" target=\"_parent\"><img src=\"https://colab.research.google.com/assets/colab-badge.svg\" alt=\"Open In Colab\"/></a>"
      ]
    },
    {
      "cell_type": "code",
      "execution_count": 1,
      "metadata": {
        "id": "eYhZN7qu-fDi"
      },
      "outputs": [],
      "source": [
        "import numpy as np\n",
        "import pandas as pd\n",
        "import math\n",
        "import matplotlib as mpl\n",
        "import matplotlib.pyplot as plt"
      ]
    },
    {
      "cell_type": "markdown",
      "metadata": {
        "id": "wUvzuMB--tNt"
      },
      "source": [
        "Laboratório de Física IV Prática 08 -09 : Espectrocopia I e II"
      ]
    },
    {
      "cell_type": "code",
      "execution_count": 2,
      "metadata": {
        "id": "8m-R_WSZdXpX"
      },
      "outputs": [],
      "source": [
        "#!curl -o espectroscopio1.xlsx https://raw.githubusercontent.com/LabFis04/main/Grupos/espectroscopio1.xlsx"
      ]
    },
    {
      "cell_type": "code",
      "execution_count": 3,
      "metadata": {
        "id": "1O4Nu9dHT1Wi"
      },
      "outputs": [],
      "source": [
        "#!ls -lah\n",
        "     "
      ]
    },
    {
      "cell_type": "code",
      "execution_count": 4,
      "metadata": {
        "id": "tfQAD3ni-ijW"
      },
      "outputs": [],
      "source": [
        "# Fonte - ex.: Mercurio - Hg\n",
        "Theta_ref1 =176 #graus - espectroscopio 1\n",
        "Theta_ref2 =347 #graus - espectroscopio 2\n",
        "Theta_ref3 =256 #graus - espectroscopio 3\n"
      ]
    },
    {
      "cell_type": "code",
      "execution_count": 5,
      "metadata": {
        "colab": {
          "base_uri": "https://localhost:8080/"
        },
        "id": "iz5XzrAbAjBL",
        "outputId": "9341023a-2441-4d4d-fd7d-e5445fa778c3"
      },
      "outputs": [
        {
          "output_type": "stream",
          "name": "stdout",
          "text": [
            "theta_i_d_1: 7.5 ;  theta_i_e_1: 7.3 ;  Alinhamento do Esp. 1: 0.2 .\n",
            "theta_i_d_2: 7.3 ;  theta_i_e_2: 7.4 ;  Alinhamento do Esp. 2: 0.1 .\n",
            "theta_i_d_3: 7.5 ;  theta_i_e_3: 7.4 ;  Alinhamento do Esp. 3: 0.1 .\n"
          ]
        }
      ],
      "source": [
        "#Alinhamento\n",
        "x_d_1=168.5\n",
        "x_e_1=183.3\n",
        "\n",
        "x_d_2=339.7\n",
        "x_e_2=354.4\n",
        "\n",
        "x_d_3=263.5\n",
        "x_e_3=248.6\n",
        "\n",
        "theta_i_d_1 = abs(Theta_ref1-x_d_1)\n",
        "theta_i_e_1 = abs(Theta_ref1-x_e_1)\n",
        "a_esp1=abs(theta_i_d_1-theta_i_e_1)\n",
        "print(\"theta_i_d_1:\", theta_i_d_1,\"; \",\"theta_i_e_1:\",  np.round(theta_i_e_1,1),\"; \",\"Alinhamento do Esp. 1:\",  np.round(a_esp1, 2 ),\".\")\n",
        "\n",
        "theta_i_d_2 = abs(Theta_ref2-x_d_2)\n",
        "theta_i_e_2 = abs(Theta_ref2-x_e_2)\n",
        "a_esp2=abs(theta_i_d_2-theta_i_e_2)\n",
        "print(\"theta_i_d_2:\", np.round(theta_i_d_2,1),\"; \",\"theta_i_e_2:\",  np.round(theta_i_e_2,1),\"; \",\"Alinhamento do Esp. 2:\",  np.round(a_esp2, 2 ),\".\")\n",
        "\n",
        "theta_i_d_3 = abs(Theta_ref3-x_d_3)\n",
        "theta_i_e_3 = abs(Theta_ref3-x_e_3)\n",
        "a_esp3=abs(theta_i_d_3-theta_i_e_3)\n",
        "print(\"theta_i_d_3:\", theta_i_d_3,\"; \",\"theta_i_e_3:\", np.round(theta_i_e_3,1),\"; \",\"Alinhamento do Esp. 3:\",  np.round(a_esp3, 2 ),\".\")"
      ]
    },
    {
      "cell_type": "code",
      "execution_count": 6,
      "metadata": {
        "id": "cRZ8hNKxUGll"
      },
      "outputs": [],
      "source": [
        "#dataset = pd.read_excel(\"espectroscopio1.xlsx\", sheet_name=\"Sheet1\", usecols=[0,1,2], nrows=8, index_col=0, names=[\"Índice\", \"X\", \"Y\"] ) #importação dos dados \n",
        "dataset = pd.read_excel(\"espectroscopio123.xlsx\" ) #importação dos dados \n"
      ]
    },
    {
      "cell_type": "code",
      "execution_count": 7,
      "metadata": {
        "id": "0VKBUXalEudv"
      },
      "outputs": [],
      "source": [
        "\n",
        "xdata=dataset['X'] # sen(theta)\n",
        "ydata=dataset['Y'] # Comprimento de onda (Angtrom)"
      ]
    },
    {
      "cell_type": "code",
      "execution_count": 8,
      "metadata": {
        "colab": {
          "base_uri": "https://localhost:8080/"
        },
        "id": "Icqub5sbFFR9",
        "outputId": "e89bd507-9e7b-426f-985e-3ec0bb8d1ba2"
      },
      "outputs": [
        {
          "output_type": "stream",
          "name": "stdout",
          "text": [
            "R_squared = 0.9980603670108705\n",
            "coef. angular (a):  33506.627\n",
            "coeficiente linear (b):  17.382\n",
            "Equação da reta: y= 33506.627 *x + 17.382192672\n"
          ]
        }
      ],
      "source": [
        "xbar = np.mean(xdata) # cálculo da média de xdata\n",
        "ybar = np.mean(ydata)  # cálculo da média de ydata\n",
        "\n",
        "\n",
        "a = np.sum(xdata*(ydata-ybar))/np.sum(xdata*(xdata-xbar)) #coef. angular estimado\n",
        "b = ybar - a*xbar #coeficiente linear estimado\n",
        "\n",
        "\n",
        "yest = a*xdata + b # função estimada\n",
        "\n",
        "R_squared = np.sum((yest-ybar)**2)/np.sum((ydata-ybar)**2) #coef. de determinação\n",
        "print(\"R_squared =\",R_squared)\n",
        "print(\"coef. angular (a): \", np.round(a,3))\n",
        "print(\"coeficiente linear (b): \", np.round(b,3))\n",
        "print(\"Equação da reta: y=\",np.round(a,3),\"*x +\", np.round(b,9))"
      ]
    },
    {
      "cell_type": "code",
      "execution_count": 9,
      "metadata": {
        "id": "Q0XjzbkIFK6H",
        "colab": {
          "base_uri": "https://localhost:8080/",
          "height": 652
        },
        "outputId": "76ed384a-b7a5-4cd3-bf09-56222fba5444"
      },
      "outputs": [
        {
          "output_type": "stream",
          "name": "stdout",
          "text": [
            "Equação da reta: y= 33506.6267 *x + 17.3822\n"
          ]
        },
        {
          "output_type": "display_data",
          "data": {
            "text/plain": [
              "<Figure size 864x720 with 1 Axes>"
            ],
            "image/png": "[encoded data removed]"
          },
          "metadata": {
            "needs_background": "light"
          }
        }
      ],
      "source": [
        "print(\"Equação da reta: y=\",np.round(a,4),\"*x +\", np.round(b,4))\n",
        "plt.figure( figsize=(12,10))\n",
        "plt.plot(xdata, yest, 'g', label = \"fitted curve\")\n",
        "plt.scatter(xdata, ydata, label = \"data\")\n",
        "plt.xlabel(r'$sin\\theta$', fontsize=18)#r'$\\sigma_i=23$'\n",
        "plt.ylabel(r'$\\lambda(\\AA)$', fontsize=18 )\n",
        "plt.title('Reta de Calibração - Espectroscopio 1', fontsize=18)\n",
        "\n",
        "plt.show()\n"
      ]
    },
    {
      "cell_type": "markdown",
      "metadata": {
        "id": "YbykXM3RAmuC"
      },
      "source": [
        "Lâmpada de Hidrogênio - espectro visível\n",
        "\n",
        "Determinar a constante de Rydberg\n",
        "\n",
        "d=1e-3/300 m\n",
        "\n",
        "m=1\n",
        "\n",
        "lambda=d/m *sen(theta)"
      ]
    },
    {
      "cell_type": "code",
      "execution_count": 10,
      "metadata": {
        "id": "DEyPsHTtAxOt",
        "colab": {
          "base_uri": "https://localhost:8080/"
        },
        "outputId": "78e6cf68-b0b6-43e6-ba80-42b587484f01"
      },
      "outputs": [
        {
          "output_type": "execute_result",
          "data": {
            "text/plain": [
              "0.001097"
            ]
          },
          "metadata": {},
          "execution_count": 10
        }
      ],
      "source": [
        "R_H=1.097e-3 #A\n",
        "R_H"
      ]
    },
    {
      "cell_type": "code",
      "execution_count": 11,
      "metadata": {
        "id": "PrsmyxgwBbzi",
        "colab": {
          "base_uri": "https://localhost:8080/"
        },
        "outputId": "f963ca65-8c6f-4e14-87aa-6b539943eb17"
      },
      "outputs": [
        {
          "output_type": "execute_result",
          "data": {
            "text/plain": [
              "3.3333333333333333e-06"
            ]
          },
          "metadata": {},
          "execution_count": 11
        }
      ],
      "source": [
        "d=1e-3/300 #m\n",
        "d"
      ]
    },
    {
      "cell_type": "code",
      "execution_count": 12,
      "metadata": {
        "id": "23ATWQyjBDU-",
        "colab": {
          "base_uri": "https://localhost:8080/"
        },
        "outputId": "7cb07a81-85df-4191-983e-757523702a99"
      },
      "outputs": [
        {
          "output_type": "stream",
          "name": "stdout",
          "text": [
            "θ_1 = 7.4 °\n",
            "θ_2 = 8.5 °\n",
            "θ_3 = 11.3 °\n"
          ]
        }
      ],
      "source": [
        "thetag_1=7.4 #violeta 2\n",
        "thetag_2=8.5 #azul-esverdeada\n",
        "thetag_3=11.3 #vermelha\n",
        "print(\"\\u03B8_1 =\", thetag_1,\"\\u00B0\")\n",
        "print(\"\\u03B8_2 =\", thetag_2,\"\\u00B0\")\n",
        "print(\"\\u03B8_3 =\", thetag_3,\"\\u00B0\")"
      ]
    },
    {
      "cell_type": "code",
      "execution_count": 13,
      "metadata": {
        "id": "nTQg943_jC00",
        "colab": {
          "base_uri": "https://localhost:8080/"
        },
        "outputId": "67e99ec9-5efe-4140-a7e2-f87a18765a54"
      },
      "outputs": [
        {
          "output_type": "stream",
          "name": "stdout",
          "text": [
            "θ_1 = 0.1291543646475804 rad\n",
            "θ_2 = 0.14835298641951802 rad\n",
            "θ_3 = 0.19722220547535926 rad\n"
          ]
        }
      ],
      "source": [
        "thetar_1= np.deg2rad(thetag_1)#violeta 2\n",
        "thetar_2= np.deg2rad(thetag_2) #azul-esverdeada\n",
        "thetar_3= np.deg2rad(thetag_3) #vermelha\n",
        "print(\"\\u03B8_1 =\", thetar_1,\"rad\")\n",
        "print(\"\\u03B8_2 =\", thetar_2,\"rad\")\n",
        "print(\"\\u03B8_3 =\", thetar_3,\"rad\")"
      ]
    },
    {
      "cell_type": "code",
      "execution_count": 14,
      "metadata": {
        "id": "fp9B9TLuDg_H",
        "colab": {
          "base_uri": "https://localhost:8080/"
        },
        "outputId": "105e11a4-da62-47ae-de66-eafcf9862867"
      },
      "outputs": [
        {
          "output_type": "stream",
          "name": "stdout",
          "text": [
            "senθ_1 = 0.1287955965775628 rad\n",
            "senθ_2 = 0.14780941112961063 rad\n",
            "senθ_3 = 0.19594614424251772 rad\n",
            "θ_1 = 7.379444103763937 °\n",
            "θ_2 = 8.468855430040707 °\n",
            "θ_3 = 11.22688707695792 °\n"
          ]
        }
      ],
      "source": [
        "or1=((np.sin(thetar_1)) )\n",
        "or2=((np.sin(thetar_2)) )\n",
        "or3=((np.sin(thetar_3)) )\n",
        "print(\"sen\\u03B8_1 =\",or1 ,\"rad\")\n",
        "print(\"sen\\u03B8_2 =\",or2 ,\"rad\")\n",
        "print(\"sen\\u03B8_3 =\",or3 ,\"rad\")\n",
        "o1=np.rad2deg(or1)\n",
        "o2=np.rad2deg(or2)\n",
        "o3=np.rad2deg(or3)\n",
        "print(\"\\u03B8_1 =\", o1,\"\\u00B0\")\n",
        "print(\"\\u03B8_2 =\", o2,\"\\u00B0\")\n",
        "print(\"\\u03B8_3 =\", o3,\"\\u00B0\")\n",
        "\n",
        "\n"
      ]
    },
    {
      "cell_type": "code",
      "execution_count": 15,
      "metadata": {
        "id": "mNTX_VfzmFlJ",
        "colab": {
          "base_uri": "https://localhost:8080/"
        },
        "outputId": "1ab49de8-f696-4ef2-8486-e088afdd9b9a"
      },
      "outputs": [
        {
          "output_type": "execute_result",
          "data": {
            "text/plain": [
              "4.2931865525854265e-07"
            ]
          },
          "metadata": {},
          "execution_count": 15
        }
      ],
      "source": [
        "l_1=(d * or1)\n",
        "l_1"
      ]
    },
    {
      "cell_type": "code",
      "execution_count": 16,
      "metadata": {
        "id": "zJOMEf0BIlXv",
        "colab": {
          "base_uri": "https://localhost:8080/"
        },
        "outputId": "4de09520-a7c8-4255-aa4b-9937782d8bb4"
      },
      "outputs": [
        {
          "output_type": "execute_result",
          "data": {
            "text/plain": [
              "4.926980370987021e-07"
            ]
          },
          "metadata": {},
          "execution_count": 16
        }
      ],
      "source": [
        "l_2=(d * or2)\n",
        "l_2"
      ]
    },
    {
      "cell_type": "code",
      "execution_count": 17,
      "metadata": {
        "id": "-78wHzfWImKQ",
        "colab": {
          "base_uri": "https://localhost:8080/"
        },
        "outputId": "a619263f-1675-427c-893d-1e1d8043f4c8"
      },
      "outputs": [
        {
          "output_type": "execute_result",
          "data": {
            "text/plain": [
              "6.531538141417257e-07"
            ]
          },
          "metadata": {},
          "execution_count": 17
        }
      ],
      "source": [
        "l_3=(d * or3)\n",
        "l_3"
      ]
    },
    {
      "cell_type": "code",
      "execution_count": 18,
      "metadata": {
        "id": "pX03SL2EIwdL",
        "colab": {
          "base_uri": "https://localhost:8080/"
        },
        "outputId": "53d24169-5926-4e50-d24f-f7a8c61b233a"
      },
      "outputs": [
        {
          "output_type": "stream",
          "name": "stdout",
          "text": [
            "2329272.179886485 ; 2029640.7225175735 ; 1531032.9333589613 ;\n"
          ]
        }
      ],
      "source": [
        "y1=1/l_1\n",
        "y2=1/l_2\n",
        "y3=1/l_3\n",
        "print(y1,\";\",y2,\";\",y3,\";\")"
      ]
    },
    {
      "cell_type": "code",
      "execution_count": 19,
      "metadata": {
        "id": "1vXoVYw4JIFQ",
        "colab": {
          "base_uri": "https://localhost:8080/"
        },
        "outputId": "f6d83f29-0ebe-4edc-f16f-6746cb9ec855"
      },
      "outputs": [
        {
          "output_type": "stream",
          "name": "stdout",
          "text": [
            "0.21 ; 0.1875 ; 0.1388888888888889 ;\n"
          ]
        }
      ],
      "source": [
        "x1=(1/4)-(1/25)\n",
        "x2=(1/4)-(1/16)\n",
        "x3=(1/4)-(1/9)\n",
        "print(x1,\";\",x2,\";\",x3,\";\")"
      ]
    },
    {
      "cell_type": "code",
      "execution_count": 20,
      "metadata": {
        "id": "mrF8qycKJ0EG"
      },
      "outputs": [],
      "source": [
        "x_h=np.array([x1,x2,x3]) # sen(theta)\n",
        "y_h=np.array([y1,y2,y3] )# Comprimento de onda (Angtrom)"
      ]
    },
    {
      "cell_type": "code",
      "execution_count": 21,
      "metadata": {
        "id": "I9P0G-kOKE0S",
        "colab": {
          "base_uri": "https://localhost:8080/"
        },
        "outputId": "c58cd5f9-03ac-4237-ce25-9023a683db0a"
      },
      "outputs": [
        {
          "output_type": "stream",
          "name": "stdout",
          "text": [
            "coef. angular (a_h):  1.11 1e7/m\n",
            "coeficiente linear (b_h):  -15994.86\n",
            "Equação da reta: y_h= 11070196.55 *x_h + -15994.86\n"
          ]
        }
      ],
      "source": [
        "xhbar = np.mean(x_h) # cálculo da média de x_h\n",
        "yhbar = np.mean(y_h)  # cálculo da média de y_h\n",
        "\n",
        "\n",
        "a_h = np.sum(x_h*(y_h-yhbar))/np.sum(x_h*(x_h-xhbar)) #coef. angular estimado\n",
        "b_h = yhbar - a_h*xhbar #coeficiente linear estimado\n",
        "\n",
        "\n",
        "yhest = a_h*x_h + b_h # função estimada\n",
        "\n",
        "Rh_squared = np.sum((yhest-yhbar)**2)/np.sum((y_h-yhbar)**2) #coef. de determinação\n",
        "print(\"coef. angular (a_h): \", np.round(a_h*1e-7,2),\"1e7/m\")\n",
        "print(\"coeficiente linear (b_h): \", np.round(b_h,2))\n",
        "print(\"Equação da reta: y_h=\",np.round(a_h,2),\"*x_h +\", np.round(b_h,2))"
      ]
    },
    {
      "cell_type": "code",
      "execution_count": 22,
      "metadata": {
        "id": "OVBDfFuGMF2A",
        "colab": {
          "base_uri": "https://localhost:8080/",
          "height": 667
        },
        "outputId": "106b7bd7-5595-4930-9488-7d7dac4abf39"
      },
      "outputs": [
        {
          "output_type": "stream",
          "name": "stdout",
          "text": [
            "Equação da reta: y_h= 11070196.55 *x_h + -15994.86\n"
          ]
        },
        {
          "output_type": "display_data",
          "data": {
            "text/plain": [
              "<Figure size 864x720 with 1 Axes>"
            ],
            "image/png": "[encoded data removed]"
          },
          "metadata": {
            "needs_background": "light"
          }
        }
      ],
      "source": [
        "print(\"Equação da reta: y_h=\",np.round(a_h,2),\"*x_h +\", np.round(b_h,2))\n",
        "plt.figure(figsize=(12,10))\n",
        "plt.plot(x_h, yhest, 'r', label = \"fitted curve\")\n",
        "plt.scatter(x_h, y_h, label = \"data\")\n",
        "plt.xlabel(r'$(\\frac{1}{4}-\\frac{1}{n_{i}^{2}})$',fontsize=18 )\n",
        "plt.ylabel(r'$\\frac{1}{\\lambda}(m)$',fontsize=18  )\n",
        "plt.title('Reta - Espectrocopio 1',fontsize=18 )\n",
        "plt.show()"
      ]
    }
  ],
  "metadata": {
    "colab": {
      "provenance": [],
      "authorship_tag": "ABX9TyN40j7Qc+UUA9EERWOzvYMn",
      "include_colab_link": true
    },
    "kernelspec": {
      "display_name": "Python 3",
      "name": "python3"
    },
    "language_info": {
      "name": "python"
    }
  },
  "nbformat": 4,
  "nbformat_minor": 0
}