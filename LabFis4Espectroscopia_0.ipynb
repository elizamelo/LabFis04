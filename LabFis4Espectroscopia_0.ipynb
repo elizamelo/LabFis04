{
  "nbformat": 4,
  "nbformat_minor": 0,
  "metadata": {
    "colab": {
      "provenance": [],
      "authorship_tag": "ABX9TyPjX1Isqn46yVXUdMG69N97",
      "include_colab_link": true
    },
    "kernelspec": {
      "name": "python3",
      "display_name": "Python 3"
    },
    "language_info": {
      "name": "python"
    }
  },
  "cells": [
    {
      "cell_type": "markdown",
      "metadata": {
        "id": "view-in-github",
        "colab_type": "text"
      },
      "source": [
        "<a href=\"https://colab.research.google.com/github/elizamelo/LabFis04/blob/main/LabFis4Espectroscopia_0.ipynb\" target=\"_parent\"><img src=\"https://colab.research.google.com/assets/colab-badge.svg\" alt=\"Open In Colab\"/></a>"
      ]
    },
    {
      "cell_type": "code",
      "execution_count": 1,
      "metadata": {
        "id": "eYhZN7qu-fDi"
      },
      "outputs": [],
      "source": [
        "import numpy as np\n",
        "import pandas as pd\n",
        "import math\n",
        "import matplotlib as mpl\n",
        "import matplotlib.pyplot as plt"
      ]
    },
    {
      "cell_type": "markdown",
      "source": [
        "Laboratório de Física IV Prática 08 -09 : Espectrocopia I e II"
      ],
      "metadata": {
        "id": "wUvzuMB--tNt"
      }
    },
    {
      "cell_type": "code",
      "source": [
        "#!curl -o espectroscopio1.xlsx https://raw.githubusercontent.com/LabFis04/main/Grupos/espectroscopio1.xlsx"
      ],
      "metadata": {
        "id": "8m-R_WSZdXpX"
      },
      "execution_count": 2,
      "outputs": []
    },
    {
      "cell_type": "code",
      "source": [
        "#!ls -lah\n",
        "     "
      ],
      "metadata": {
        "id": "1O4Nu9dHT1Wi"
      },
      "execution_count": 3,
      "outputs": []
    },
    {
      "cell_type": "code",
      "source": [
        "# Fonte - ex.: Mercurio - Hg\n",
        "Theta_ref1 =176 #graus - espectroscopio 1\n",
        "Theta_ref2 =347 #graus - espectroscopio 2\n",
        "Theta_ref3 =256 #graus - espectroscopio 3\n"
      ],
      "metadata": {
        "id": "tfQAD3ni-ijW"
      },
      "execution_count": 4,
      "outputs": []
    },
    {
      "cell_type": "code",
      "source": [
        "#Alinhamento\n",
        "x_d_1=168.5\n",
        "x_e_1=183.3\n",
        "\n",
        "x_d_2=339.7\n",
        "x_e_2=354.4\n",
        "\n",
        "x_d_3=263.5\n",
        "x_e_3=248.6\n",
        "\n",
        "theta_i_d_1 = abs(Theta_ref1-x_d_1)\n",
        "theta_i_e_1 = abs(Theta_ref1-x_e_1)\n",
        "a_esp1=abs(theta_i_d_1-theta_i_e_1)\n",
        "print(\"theta_i_d_1:\", theta_i_d_1,\"; \",\"theta_i_e_1:\",  np.round(theta_i_e_1,1),\"; \",\"Alinhamento do Esp. 1:\",  np.round(a_esp1, 2 ),\".\")\n",
        "\n",
        "theta_i_d_2 = abs(Theta_ref2-x_d_2)\n",
        "theta_i_e_2 = abs(Theta_ref2-x_e_2)\n",
        "a_esp2=abs(theta_i_d_2-theta_i_e_2)\n",
        "print(\"theta_i_d_2:\", np.round(theta_i_d_2,1),\"; \",\"theta_i_e_2:\",  np.round(theta_i_e_2,1),\"; \",\"Alinhamento do Esp. 2:\",  np.round(a_esp2, 2 ),\".\")\n",
        "\n",
        "theta_i_d_3 = abs(Theta_ref3-x_d_3)\n",
        "theta_i_e_3 = abs(Theta_ref3-x_e_3)\n",
        "a_esp3=abs(theta_i_d_3-theta_i_e_3)\n",
        "print(\"theta_i_d_3:\", theta_i_d_3,\"; \",\"theta_i_e_3:\", np.round(theta_i_e_3,1),\"; \",\"Alinhamento do Esp. 3:\",  np.round(a_esp3, 2 ),\".\")"
      ],
      "metadata": {
        "colab": {
          "base_uri": "https://localhost:8080/"
        },
        "id": "iz5XzrAbAjBL",
        "outputId": "407f6eb0-2c26-47bb-fe91-c1454243ed0e"
      },
      "execution_count": 5,
      "outputs": [
        {
          "output_type": "stream",
          "name": "stdout",
          "text": [
            "theta_i_d_1: 7.5 ;  theta_i_e_1: 7.3 ;  Alinhamento do Esp. 1: 0.2 .\n",
            "theta_i_d_2: 7.3 ;  theta_i_e_2: 7.4 ;  Alinhamento do Esp. 2: 0.1 .\n",
            "theta_i_d_3: 7.5 ;  theta_i_e_3: 7.4 ;  Alinhamento do Esp. 3: 0.1 .\n"
          ]
        }
      ]
    },
    {
      "cell_type": "code",
      "source": [
        "#dataset = pd.read_excel(\"espectroscopio1.xlsx\", sheet_name=\"Sheet1\", usecols=[0,1,2], nrows=8, index_col=0, names=[\"Índice\", \"X\", \"Y\"] ) #importação dos dados \n",
        "dataset = pd.read_excel(\"espectroscopio1.xlsx\" ) #importação dos dados \n"
      ],
      "metadata": {
        "id": "cRZ8hNKxUGll"
      },
      "execution_count": 8,
      "outputs": []
    },
    {
      "cell_type": "code",
      "source": [
        "\n",
        "xdata=dataset['X'] # sen(theta)\n",
        "ydata=dataset['Y'] # Comprimento de onda (Angtrom)"
      ],
      "metadata": {
        "id": "0VKBUXalEudv"
      },
      "execution_count": 9,
      "outputs": []
    },
    {
      "cell_type": "code",
      "source": [
        "xbar = np.mean(xdata) # cálculo da média de xdata\n",
        "ybar = np.mean(ydata)  # cálculo da média de ydata\n",
        "\n",
        "\n",
        "a = np.sum(xdata*(ydata-ybar))/np.sum(xdata*(xdata-xbar)) #coef. angular estimado\n",
        "b = ybar - a*xbar #coeficiente linear estimado\n",
        "\n",
        "\n",
        "yest = a*xdata + b # função estimada\n",
        "\n",
        "R_squared = np.sum((yest-ybar)**2)/np.sum((ydata-ybar)**2) #coef. de determinação\n",
        "print(\"coef. angular (a): \", np.round(a,2))\n",
        "print(\"coeficiente linear (b): \", np.round(b,2))\n",
        "print(\"Equação da reta: y=\",np.round(a,2),\"*x +\", np.round(b,2))"
      ],
      "metadata": {
        "id": "Icqub5sbFFR9",
        "colab": {
          "base_uri": "https://localhost:8080/"
        },
        "outputId": "4dbda1eb-af81-4a65-d273-8225d6a20d86"
      },
      "execution_count": 10,
      "outputs": [
        {
          "output_type": "stream",
          "name": "stdout",
          "text": [
            "coef. angular (a):  -1156.21\n",
            "coeficiente linear (b):  5662.69\n",
            "Equação da reta: y= -1156.21 *x + 5662.69\n"
          ]
        }
      ]
    },
    {
      "cell_type": "code",
      "source": [
        "plt.figure()\n",
        "plt.plot(xdata, yest, 'g', label = \"fitted curve\")\n",
        "plt.scatter(xdata, ydata, label = \"data\")\n",
        "plt.xlabel(r'$sin\\theta$')#r'$\\sigma_i=23$'\n",
        "plt.ylabel(r'$\\lambda(\\AA)$' )\n",
        "plt.title('Reta de Calibração - Espectrocopio 1')\n",
        "plt.show()"
      ],
      "metadata": {
        "id": "Q0XjzbkIFK6H",
        "colab": {
          "base_uri": "https://localhost:8080/",
          "height": 297
        },
        "outputId": "aeb103c3-0614-4bf5-8b35-15cf2fd611ae"
      },
      "execution_count": 11,
      "outputs": [
        {
          "output_type": "display_data",
          "data": {
            "text/plain": [
              "<Figure size 432x288 with 1 Axes>"
            ],
            "image/png": "[encoded data removed]"
          },
          "metadata": {
            "needs_background": "light"
          }
        }
      ]
    },
    {
      "cell_type": "markdown",
      "source": [
        "Lâmpada de Hidrogênio - espectro visível\n",
        "\n",
        "Determinar a constante de Rydberg\n",
        "\n",
        "d=1e-3/300 m\n",
        "\n",
        "m=1\n",
        "\n",
        "lambda=d/m *sen(theta)"
      ],
      "metadata": {
        "id": "YbykXM3RAmuC"
      }
    },
    {
      "cell_type": "code",
      "source": [
        "R_H=1.097e-3 #A\n",
        "R_H"
      ],
      "metadata": {
        "id": "DEyPsHTtAxOt",
        "colab": {
          "base_uri": "https://localhost:8080/"
        },
        "outputId": "b490c176-3803-4bf0-8e90-c087ca1b068c"
      },
      "execution_count": 12,
      "outputs": [
        {
          "output_type": "execute_result",
          "data": {
            "text/plain": [
              "0.001097"
            ]
          },
          "metadata": {},
          "execution_count": 12
        }
      ]
    },
    {
      "cell_type": "code",
      "source": [
        "d=1e-3/300 #m\n",
        "d"
      ],
      "metadata": {
        "id": "PrsmyxgwBbzi",
        "colab": {
          "base_uri": "https://localhost:8080/"
        },
        "outputId": "0d7268d0-e330-43f1-fd0e-4387443eb75a"
      },
      "execution_count": 13,
      "outputs": [
        {
          "output_type": "execute_result",
          "data": {
            "text/plain": [
              "3.3333333333333333e-06"
            ]
          },
          "metadata": {},
          "execution_count": 13
        }
      ]
    },
    {
      "cell_type": "code",
      "source": [
        "theta_1=7.4 #violeta 2\n",
        "theta_2=8.6 #azul-esverdeada\n",
        "theta_3=11.2 #vermelha\n",
        "print(\"\\u03B8_1 =\", theta_1,\"\\u00B0\")\n",
        "print(\"\\u03B8_2 =\", theta_2,\"\\u00B0\")\n",
        "print(\"\\u03B8_3 =\", theta_3,\"\\u00B0\")"
      ],
      "metadata": {
        "id": "23ATWQyjBDU-",
        "colab": {
          "base_uri": "https://localhost:8080/"
        },
        "outputId": "8737ee6d-6664-4774-8960-0914227a7809"
      },
      "execution_count": 14,
      "outputs": [
        {
          "output_type": "stream",
          "name": "stdout",
          "text": [
            "θ_1 = 7.4 °\n",
            "θ_2 = 8.6 °\n",
            "θ_3 = 11.2 °\n"
          ]
        }
      ]
    },
    {
      "cell_type": "code",
      "source": [
        "l_1=(d * (np.sin(theta_1)))\n",
        "l_1\n"
      ],
      "metadata": {
        "id": "fp9B9TLuDg_H",
        "colab": {
          "base_uri": "https://localhost:8080/"
        },
        "outputId": "054524e3-d581-4992-b741-20fbba258673"
      },
      "execution_count": 15,
      "outputs": [
        {
          "output_type": "execute_result",
          "data": {
            "text/plain": [
              "2.9956936527054232e-06"
            ]
          },
          "metadata": {},
          "execution_count": 15
        }
      ]
    },
    {
      "cell_type": "code",
      "source": [
        "l_2=(d * (np.sin(theta_2)))\n",
        "l_2"
      ],
      "metadata": {
        "colab": {
          "base_uri": "https://localhost:8080/"
        },
        "id": "zJOMEf0BIlXv",
        "outputId": "3daf56f9-b645-4eeb-8b64-b96d99b02f0d"
      },
      "execution_count": 16,
      "outputs": [
        {
          "output_type": "execute_result",
          "data": {
            "text/plain": [
              "2.4479903262470443e-06"
            ]
          },
          "metadata": {},
          "execution_count": 16
        }
      ]
    },
    {
      "cell_type": "code",
      "source": [
        "l_3=(d * (np.sin(theta_3)))\n",
        "l_3"
      ],
      "metadata": {
        "colab": {
          "base_uri": "https://localhost:8080/"
        },
        "id": "-78wHzfWImKQ",
        "outputId": "747706f9-62d4-4bea-de6b-25b1f53780aa"
      },
      "execution_count": 17,
      "outputs": [
        {
          "output_type": "execute_result",
          "data": {
            "text/plain": [
              "-3.2639257638377247e-06"
            ]
          },
          "metadata": {},
          "execution_count": 17
        }
      ]
    },
    {
      "cell_type": "code",
      "source": [
        "y1=1/434.5e-9\n",
        "y2=1/486.1e-9\n",
        "y3=1/656.3e-9\n",
        "print(y1,\";\",y2,\";\",y3,\";\")"
      ],
      "metadata": {
        "colab": {
          "base_uri": "https://localhost:8080/"
        },
        "id": "pX03SL2EIwdL",
        "outputId": "483b864e-9915-4807-9648-7bc8811bac65"
      },
      "execution_count": 18,
      "outputs": [
        {
          "output_type": "stream",
          "name": "stdout",
          "text": [
            "2301495.9723820486 ; 2057189.878625797 ; 1523693.4328813043 ;\n"
          ]
        }
      ]
    },
    {
      "cell_type": "code",
      "source": [
        "x1=(1/4)-(1/25)\n",
        "x2=(1/4)-(1/16)\n",
        "x3=(1/4)-(1/9)\n",
        "print(x1,\";\",x2,\";\",x3,\";\")"
      ],
      "metadata": {
        "colab": {
          "base_uri": "https://localhost:8080/"
        },
        "id": "1vXoVYw4JIFQ",
        "outputId": "58ec0823-900a-4e74-d8f9-fbdac7d16ea6"
      },
      "execution_count": 19,
      "outputs": [
        {
          "output_type": "stream",
          "name": "stdout",
          "text": [
            "0.21 ; 0.1875 ; 0.1388888888888889 ;\n"
          ]
        }
      ]
    },
    {
      "cell_type": "code",
      "source": [
        "x_h=np.array([x1,x2,x3]) # sen(theta)\n",
        "y_h=np.array([y1,y2,y3] )# Comprimento de onda (Angtrom)"
      ],
      "metadata": {
        "id": "mrF8qycKJ0EG"
      },
      "execution_count": 20,
      "outputs": []
    },
    {
      "cell_type": "code",
      "source": [
        "xhbar = np.mean(x_h) # cálculo da média de x_h\n",
        "yhbar = np.mean(y_h)  # cálculo da média de y_h\n",
        "\n",
        "\n",
        "a_h = np.sum(x_h*(y_h-yhbar))/np.sum(x_h*(x_h-xhbar)) #coef. angular estimado\n",
        "b_h = yhbar - a_h*xhbar #coeficiente linear estimado\n",
        "\n",
        "\n",
        "yhest = a_h*x_h + b_h # função estimada\n",
        "\n",
        "Rh_squared = np.sum((yhest-yhbar)**2)/np.sum((y_h-yhbar)**2) #coef. de determinação\n",
        "print(\"coef. angular (a_h): \", np.round(a_h*1e-7,2),\"1e7/m\")\n",
        "print(\"coeficiente linear (b_h): \", np.round(b_h,2))\n",
        "print(\"Equação da reta: y_h=\",np.round(a_h,2),\"*x_h +\", np.round(b_h,2))"
      ],
      "metadata": {
        "colab": {
          "base_uri": "https://localhost:8080/"
        },
        "id": "I9P0G-kOKE0S",
        "outputId": "a6d2c32d-798b-4762-aa6f-908be029aa8f"
      },
      "execution_count": 21,
      "outputs": [
        {
          "output_type": "stream",
          "name": "stdout",
          "text": [
            "coef. angular (a_h):  1.09 1e7/m\n",
            "coeficiente linear (b_h):  4088.78\n",
            "Equação da reta: y_h= 10943763.15 *x_h + 4088.78\n"
          ]
        }
      ]
    },
    {
      "cell_type": "code",
      "source": [
        "plt.figure()\n",
        "plt.plot(x_h, yhest, 'g', label = \"fitted curve\")\n",
        "plt.scatter(x_h, y_h, label = \"data\")\n",
        "plt.xlabel(r'$(\\frac{1}{4}-\\frac{1}{n_{i}^{2}})$')\n",
        "plt.ylabel(r'$\\frac{1}{\\lambda}(m)$' )\n",
        "plt.title('Reta - Espectrocopio 1')\n",
        "plt.show()"
      ],
      "metadata": {
        "colab": {
          "base_uri": "https://localhost:8080/",
          "height": 307
        },
        "id": "OVBDfFuGMF2A",
        "outputId": "4b5a46d6-5df2-4097-caa3-01e314cf2edc"
      },
      "execution_count": 22,
      "outputs": [
        {
          "output_type": "display_data",
          "data": {
            "text/plain": [
              "<Figure size 432x288 with 1 Axes>"
            ],
            "image/png": "[encoded data removed]"
          },
          "metadata": {
            "needs_background": "light"
          }
        }
      ]
    }
  ]
}