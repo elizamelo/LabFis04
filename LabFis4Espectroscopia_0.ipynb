{
  "cells": [
    {
      "cell_type": "markdown",
      "metadata": {
        "id": "view-in-github",
        "colab_type": "text"
      },
      "source": [
        "<a href=\"https://colab.research.google.com/github/elizamelo/LabFis04/blob/main/LabFis4Espectroscopia_0.ipynb\" target=\"_parent\"><img src=\"https://colab.research.google.com/assets/colab-badge.svg\" alt=\"Open In Colab\"/></a>"
      ]
    },
    {
      "cell_type": "code",
      "execution_count": null,
      "metadata": {
        "id": "eYhZN7qu-fDi"
      },
      "outputs": [],
      "source": [
        "import numpy as np\n",
        "import pandas as pd\n",
        "import math\n",
        "import matplotlib as mpl\n",
        "import matplotlib.pyplot as plt"
      ]
    },
    {
      "cell_type": "markdown",
      "metadata": {
        "id": "wUvzuMB--tNt"
      },
      "source": [
        "Laboratório de Física IV Prática 08 -09 : Espectrocopia I e II"
      ]
    },
    {
      "cell_type": "code",
      "execution_count": null,
      "metadata": {
        "id": "8m-R_WSZdXpX"
      },
      "outputs": [],
      "source": [
        "#!curl -o espectroscopio1.xlsx https://raw.githubusercontent.com/LabFis04/main/Grupos/espectroscopio1.xlsx"
      ]
    },
    {
      "cell_type": "code",
      "execution_count": null,
      "metadata": {
        "id": "1O4Nu9dHT1Wi"
      },
      "outputs": [],
      "source": [
        "#!ls -lah\n",
        "     "
      ]
    },
    {
      "cell_type": "code",
      "execution_count": null,
      "metadata": {
        "id": "tfQAD3ni-ijW"
      },
      "outputs": [],
      "source": [
        "# Fonte - ex.: Mercurio - Hg\n",
        "Theta_ref1 =176 #graus - espectroscopio 1\n",
        "Theta_ref2 =347 #graus - espectroscopio 2\n",
        "Theta_ref3 =256 #graus - espectroscopio 3\n"
      ]
    },
    {
      "cell_type": "code",
      "execution_count": null,
      "metadata": {
        "colab": {
          "base_uri": "https://localhost:8080/"
        },
        "id": "iz5XzrAbAjBL",
        "outputId": "e989e24e-7eeb-485d-c258-02f4a4ff5fd6"
      },
      "outputs": [
        {
          "name": "stdout",
          "output_type": "stream",
          "text": [
            "theta_i_d_1: 7.5 ;  theta_i_e_1: 7.3 ;  Alinhamento do Esp. 1: 0.2 .\n",
            "theta_i_d_2: 7.3 ;  theta_i_e_2: 7.4 ;  Alinhamento do Esp. 2: 0.1 .\n",
            "theta_i_d_3: 7.5 ;  theta_i_e_3: 7.4 ;  Alinhamento do Esp. 3: 0.1 .\n"
          ]
        }
      ],
      "source": [
        "#Alinhamento\n",
        "x_d_1=168.5\n",
        "x_e_1=183.3\n",
        "\n",
        "x_d_2=339.7\n",
        "x_e_2=354.4\n",
        "\n",
        "x_d_3=263.5\n",
        "x_e_3=248.6\n",
        "\n",
        "theta_i_d_1 = abs(Theta_ref1-x_d_1)\n",
        "theta_i_e_1 = abs(Theta_ref1-x_e_1)\n",
        "a_esp1=abs(theta_i_d_1-theta_i_e_1)\n",
        "print(\"theta_i_d_1:\", theta_i_d_1,\"; \",\"theta_i_e_1:\",  np.round(theta_i_e_1,1),\"; \",\"Alinhamento do Esp. 1:\",  np.round(a_esp1, 2 ),\".\")\n",
        "\n",
        "theta_i_d_2 = abs(Theta_ref2-x_d_2)\n",
        "theta_i_e_2 = abs(Theta_ref2-x_e_2)\n",
        "a_esp2=abs(theta_i_d_2-theta_i_e_2)\n",
        "print(\"theta_i_d_2:\", np.round(theta_i_d_2,1),\"; \",\"theta_i_e_2:\",  np.round(theta_i_e_2,1),\"; \",\"Alinhamento do Esp. 2:\",  np.round(a_esp2, 2 ),\".\")\n",
        "\n",
        "theta_i_d_3 = abs(Theta_ref3-x_d_3)\n",
        "theta_i_e_3 = abs(Theta_ref3-x_e_3)\n",
        "a_esp3=abs(theta_i_d_3-theta_i_e_3)\n",
        "print(\"theta_i_d_3:\", theta_i_d_3,\"; \",\"theta_i_e_3:\", np.round(theta_i_e_3,1),\"; \",\"Alinhamento do Esp. 3:\",  np.round(a_esp3, 2 ),\".\")"
      ]
    },
    {
      "cell_type": "code",
      "execution_count": null,
      "metadata": {
        "id": "cRZ8hNKxUGll"
      },
      "outputs": [],
      "source": [
        "#dataset = pd.read_excel(\"espectroscopio1.xlsx\", sheet_name=\"Sheet1\", usecols=[0,1,2], nrows=8, index_col=0, names=[\"Índice\", \"X\", \"Y\"] ) #importação dos dados \n",
        "dataset = pd.read_excel(\"espectroscopio1.xlsx\" ) #importação dos dados \n"
      ]
    },
    {
      "cell_type": "code",
      "execution_count": null,
      "metadata": {
        "id": "0VKBUXalEudv"
      },
      "outputs": [],
      "source": [
        "\n",
        "xdata=dataset['X'] # sen(theta)\n",
        "ydata=dataset['Y'] # Comprimento de onda (Angtrom)"
      ]
    },
    {
      "cell_type": "code",
      "execution_count": null,
      "metadata": {
        "colab": {
          "base_uri": "https://localhost:8080/"
        },
        "id": "Icqub5sbFFR9",
        "outputId": "972510d0-0755-4b12-bc97-26a0f1057d91"
      },
      "outputs": [
        {
          "name": "stdout",
          "output_type": "stream",
          "text": [
            "R_squared = 0.8306952104831069\n",
            "coef. angular (a):  -1156.21\n",
            "coeficiente linear (b):  5662.69\n",
            "Equação da reta: y= -1156.21 *x + 5662.69\n"
          ]
        }
      ],
      "source": [
        "xbar = np.mean(xdata) # cálculo da média de xdata\n",
        "ybar = np.mean(ydata)  # cálculo da média de ydata\n",
        "\n",
        "\n",
        "a = np.sum(xdata*(ydata-ybar))/np.sum(xdata*(xdata-xbar)) #coef. angular estimado\n",
        "b = ybar - a*xbar #coeficiente linear estimado\n",
        "\n",
        "\n",
        "yest = a*xdata + b # função estimada\n",
        "\n",
        "R_squared = np.sum((yest-ybar)**2)/np.sum((ydata-ybar)**2) #coef. de determinação\n",
        "print(\"R_squared =\",R_squared)\n",
        "print(\"coef. angular (a): \", np.round(a,2))\n",
        "print(\"coeficiente linear (b): \", np.round(b,2))\n",
        "print(\"Equação da reta: y=\",np.round(a,2),\"*x +\", np.round(b,2))"
      ]
    },
    {
      "cell_type": "code",
      "execution_count": null,
      "metadata": {
        "colab": {
          "base_uri": "https://localhost:8080/",
          "height": 652
        },
        "id": "Q0XjzbkIFK6H",
        "outputId": "a33cfe22-707e-4ab9-f0fe-75a91fccd012"
      },
      "outputs": [
        {
          "name": "stdout",
          "output_type": "stream",
          "text": [
            "Equação da reta: y= -1156.21 *x + 5662.69\n"
          ]
        },
        {
          "data": {
            "image/png": "[encoded data removed]",
            "text/plain": [
              "<Figure size 864x720 with 1 Axes>"
            ]
          },
          "metadata": {},
          "output_type": "display_data"
        }
      ],
      "source": [
        "print(\"Equação da reta: y=\",np.round(a,2),\"*x +\", np.round(b,2))\n",
        "plt.figure( figsize=(12,10))\n",
        "plt.plot(xdata, yest, 'g', label = \"fitted curve\")\n",
        "plt.scatter(xdata, ydata, label = \"data\")\n",
        "plt.xlabel(r'$sin\\theta$', fontsize=18)#r'$\\sigma_i=23$'\n",
        "plt.ylabel(r'$\\lambda(\\AA)$', fontsize=18 )\n",
        "plt.title('Reta de Calibração - Espectroscopio 1', fontsize=18)\n",
        "\n",
        "plt.show()\n"
      ]
    },
    {
      "cell_type": "markdown",
      "metadata": {
        "id": "YbykXM3RAmuC"
      },
      "source": [
        "Lâmpada de Hidrogênio - espectro visível\n",
        "\n",
        "Determinar a constante de Rydberg\n",
        "\n",
        "d=1e-3/300 m\n",
        "\n",
        "m=1\n",
        "\n",
        "lambda=d/m *sen(theta)"
      ]
    },
    {
      "cell_type": "code",
      "execution_count": null,
      "metadata": {
        "colab": {
          "base_uri": "https://localhost:8080/"
        },
        "id": "DEyPsHTtAxOt",
        "outputId": "bbfffa91-f550-420f-a1c2-840490817f42"
      },
      "outputs": [
        {
          "data": {
            "text/plain": [
              "0.001097"
            ]
          },
          "execution_count": 10,
          "metadata": {},
          "output_type": "execute_result"
        }
      ],
      "source": [
        "R_H=1.097e-3 #A\n",
        "R_H"
      ]
    },
    {
      "cell_type": "code",
      "execution_count": null,
      "metadata": {
        "colab": {
          "base_uri": "https://localhost:8080/"
        },
        "id": "PrsmyxgwBbzi",
        "outputId": "4897e75c-e90e-4921-faab-f59de12831c2"
      },
      "outputs": [
        {
          "data": {
            "text/plain": [
              "3.3333333333333333e-06"
            ]
          },
          "execution_count": 11,
          "metadata": {},
          "output_type": "execute_result"
        }
      ],
      "source": [
        "d=1e-3/300 #m\n",
        "d"
      ]
    },
    {
      "cell_type": "code",
      "execution_count": null,
      "metadata": {
        "colab": {
          "base_uri": "https://localhost:8080/"
        },
        "id": "23ATWQyjBDU-",
        "outputId": "288ca715-fd99-473b-f7c2-a70d434325c0"
      },
      "outputs": [
        {
          "name": "stdout",
          "output_type": "stream",
          "text": [
            "θ_1 = 7.3 °\n",
            "θ_2 = 8.2 °\n",
            "θ_3 = 11.3 °\n"
          ]
        }
      ],
      "source": [
        "thetag_1=7.4 #violeta 2\n",
        "thetag_2=8.2 #azul-esverdeada\n",
        "thetag_3=11.3 #vermelha\n",
        "print(\"\\u03B8_1 =\", thetag_1,\"\\u00B0\")\n",
        "print(\"\\u03B8_2 =\", thetag_2,\"\\u00B0\")\n",
        "print(\"\\u03B8_3 =\", thetag_3,\"\\u00B0\")"
      ]
    },
    {
      "cell_type": "code",
      "execution_count": 30,
      "metadata": {
        "colab": {
          "base_uri": "https://localhost:8080/"
        },
        "id": "nTQg943_jC00",
        "outputId": "bc156a6d-16ea-47c1-f2a9-bcc159b2ee18"
      },
      "outputs": [
        {
          "output_type": "stream",
          "name": "stdout",
          "text": [
            "θ_1 = 0.1291543646475804 rad\n",
            "θ_2 = 0.15009831567151233 rad\n",
            "θ_3 = 0.1954768762233649 rad\n"
          ]
        }
      ],
      "source": [
        "thetar_1= np.deg2rad(thetag_1)#violeta 2\n",
        "thetar_2= np.deg2rad(thetag_2) #azul-esverdeada\n",
        "thetar_3= np.deg2rad(thetag_3) #vermelha\n",
        "print(\"\\u03B8_1 =\", thetar_1,\"rad\")\n",
        "print(\"\\u03B8_2 =\", thetar_2,\"rad\")\n",
        "print(\"\\u03B8_3 =\", thetar_3,\"rad\")"
      ]
    },
    {
      "cell_type": "code",
      "execution_count": 31,
      "metadata": {
        "colab": {
          "base_uri": "https://localhost:8080/"
        },
        "id": "fp9B9TLuDg_H",
        "outputId": "3d671d07-b441-495c-f00f-9556c01dce8e"
      },
      "outputs": [
        {
          "output_type": "stream",
          "name": "stdout",
          "text": [
            "senθ_1 = 0.1287955965775628 rad\n",
            "senθ_2 = 0.14953534344370953 rad\n",
            "senθ_3 = 0.19423435121997196 rad\n",
            "θ_1 = 7.379444103763937 °\n",
            "θ_2 = 8.567744067363822 °\n",
            "θ_3 = 11.128808561366105 °\n"
          ]
        }
      ],
      "source": [
        "or1=((np.sin(thetar_1)) )\n",
        "or2=((np.sin(thetar_2)) )\n",
        "or3=((np.sin(thetar_3)) )\n",
        "print(\"sen\\u03B8_1 =\",or1 ,\"rad\")\n",
        "print(\"sen\\u03B8_2 =\",or2 ,\"rad\")\n",
        "print(\"sen\\u03B8_3 =\",or3 ,\"rad\")\n",
        "o1=np.rad2deg(or1)\n",
        "o2=np.rad2deg(or2)\n",
        "o3=np.rad2deg(or3)\n",
        "print(\"\\u03B8_1 =\", o1,\"\\u00B0\")\n",
        "print(\"\\u03B8_2 =\", o2,\"\\u00B0\")\n",
        "print(\"\\u03B8_3 =\", o3,\"\\u00B0\")\n",
        "\n",
        "\n"
      ]
    },
    {
      "cell_type": "code",
      "execution_count": 32,
      "metadata": {
        "colab": {
          "base_uri": "https://localhost:8080/"
        },
        "id": "mNTX_VfzmFlJ",
        "outputId": "17027955-2031-4325-93f6-ccb6c1d632f8"
      },
      "outputs": [
        {
          "output_type": "execute_result",
          "data": {
            "text/plain": [
              "4.2931865525854265e-07"
            ]
          },
          "metadata": {},
          "execution_count": 32
        }
      ],
      "source": [
        "l_1=(d * or1)\n",
        "l_1"
      ]
    },
    {
      "cell_type": "code",
      "execution_count": 33,
      "metadata": {
        "colab": {
          "base_uri": "https://localhost:8080/"
        },
        "id": "zJOMEf0BIlXv",
        "outputId": "8c4ebf0f-c74e-4649-d4e9-0c6a57391b76"
      },
      "outputs": [
        {
          "output_type": "execute_result",
          "data": {
            "text/plain": [
              "4.984511448123651e-07"
            ]
          },
          "metadata": {},
          "execution_count": 33
        }
      ],
      "source": [
        "l_2=(d * or2)\n",
        "l_2"
      ]
    },
    {
      "cell_type": "code",
      "execution_count": 34,
      "metadata": {
        "colab": {
          "base_uri": "https://localhost:8080/"
        },
        "id": "-78wHzfWImKQ",
        "outputId": "41d6617b-477a-40a2-c3f9-fd3f901192c1"
      },
      "outputs": [
        {
          "output_type": "execute_result",
          "data": {
            "text/plain": [
              "6.474478373999065e-07"
            ]
          },
          "metadata": {},
          "execution_count": 34
        }
      ],
      "source": [
        "l_3=(d * or3)\n",
        "l_3"
      ]
    },
    {
      "cell_type": "code",
      "execution_count": 35,
      "metadata": {
        "colab": {
          "base_uri": "https://localhost:8080/"
        },
        "id": "pX03SL2EIwdL",
        "outputId": "4aef4a83-f798-4121-8c88-66288789e400"
      },
      "outputs": [
        {
          "output_type": "stream",
          "name": "stdout",
          "text": [
            "2329272.179886485 ; 2006214.6720044867 ; 1544525.9714140245 ;\n"
          ]
        }
      ],
      "source": [
        "y1=1/l_1\n",
        "y2=1/l_2\n",
        "y3=1/l_3\n",
        "print(y1,\";\",y2,\";\",y3,\";\")"
      ]
    },
    {
      "cell_type": "code",
      "execution_count": 36,
      "metadata": {
        "colab": {
          "base_uri": "https://localhost:8080/"
        },
        "id": "1vXoVYw4JIFQ",
        "outputId": "a8274945-b9b6-4e7b-95d2-66aa29b34f82"
      },
      "outputs": [
        {
          "output_type": "stream",
          "name": "stdout",
          "text": [
            "0.21 ; 0.1875 ; 0.1388888888888889 ;\n"
          ]
        }
      ],
      "source": [
        "x1=(1/4)-(1/25)\n",
        "x2=(1/4)-(1/16)\n",
        "x3=(1/4)-(1/9)\n",
        "print(x1,\";\",x2,\";\",x3,\";\")"
      ]
    },
    {
      "cell_type": "code",
      "execution_count": 37,
      "metadata": {
        "id": "mrF8qycKJ0EG"
      },
      "outputs": [],
      "source": [
        "x_h=np.array([x1,x2,x3]) # sen(theta)\n",
        "y_h=np.array([y1,y2,y3] )# Comprimento de onda (Angtrom)"
      ]
    },
    {
      "cell_type": "code",
      "execution_count": 38,
      "metadata": {
        "colab": {
          "base_uri": "https://localhost:8080/"
        },
        "id": "I9P0G-kOKE0S",
        "outputId": "b0c65a5a-01eb-4138-a4fc-694f14a3882b"
      },
      "outputs": [
        {
          "output_type": "stream",
          "name": "stdout",
          "text": [
            "coef. angular (a_h):  1.08 1e7/m\n",
            "coeficiente linear (b_h):  30932.92\n",
            "Equação da reta: y_h= 10789213.18 *x_h + 30932.92\n"
          ]
        }
      ],
      "source": [
        "xhbar = np.mean(x_h) # cálculo da média de x_h\n",
        "yhbar = np.mean(y_h)  # cálculo da média de y_h\n",
        "\n",
        "\n",
        "a_h = np.sum(x_h*(y_h-yhbar))/np.sum(x_h*(x_h-xhbar)) #coef. angular estimado\n",
        "b_h = yhbar - a_h*xhbar #coeficiente linear estimado\n",
        "\n",
        "\n",
        "yhest = a_h*x_h + b_h # função estimada\n",
        "\n",
        "Rh_squared = np.sum((yhest-yhbar)**2)/np.sum((y_h-yhbar)**2) #coef. de determinação\n",
        "print(\"coef. angular (a_h): \", np.round(a_h*1e-7,2),\"1e7/m\")\n",
        "print(\"coeficiente linear (b_h): \", np.round(b_h,2))\n",
        "print(\"Equação da reta: y_h=\",np.round(a_h,2),\"*x_h +\", np.round(b_h,2))"
      ]
    },
    {
      "cell_type": "code",
      "execution_count": 39,
      "metadata": {
        "colab": {
          "base_uri": "https://localhost:8080/",
          "height": 667
        },
        "id": "OVBDfFuGMF2A",
        "outputId": "8c31d005-f134-4198-e623-23bcedffd8c1"
      },
      "outputs": [
        {
          "output_type": "stream",
          "name": "stdout",
          "text": [
            "Equação da reta: y_h= 10789213.18 *x_h + 30932.92\n"
          ]
        },
        {
          "output_type": "display_data",
          "data": {
            "text/plain": [
              "<Figure size 864x720 with 1 Axes>"
            ],
            "image/png": "[encoded data removed]"
          },
          "metadata": {
            "needs_background": "light"
          }
        }
      ],
      "source": [
        "print(\"Equação da reta: y_h=\",np.round(a_h,2),\"*x_h +\", np.round(b_h,2))\n",
        "plt.figure(figsize=(12,10))\n",
        "plt.plot(x_h, yhest, 'r', label = \"fitted curve\")\n",
        "plt.scatter(x_h, y_h, label = \"data\")\n",
        "plt.xlabel(r'$(\\frac{1}{4}-\\frac{1}{n_{i}^{2}})$',fontsize=18 )\n",
        "plt.ylabel(r'$\\frac{1}{\\lambda}(m)$',fontsize=18  )\n",
        "plt.title('Reta - Espectrocopio 1',fontsize=18 )\n",
        "plt.show()"
      ]
    }
  ],
  "metadata": {
    "colab": {
      "provenance": [],
      "authorship_tag": "ABX9TyPFziF14bBuyET7/NKeicnm",
      "include_colab_link": true
    },
    "kernelspec": {
      "display_name": "Python 3",
      "name": "python3"
    },
    "language_info": {
      "name": "python"
    }
  },
  "nbformat": 4,
  "nbformat_minor": 0
}