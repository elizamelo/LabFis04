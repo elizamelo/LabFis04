{
  "nbformat": 4,
  "nbformat_minor": 0,
  "metadata": {
    "colab": {
      "provenance": [],
      "include_colab_link": true
    },
    "kernelspec": {
      "name": "python3",
      "display_name": "Python 3"
    }
  },
  "cells": [
    {
      "cell_type": "markdown",
      "metadata": {
        "id": "view-in-github",
        "colab_type": "text"
      },
      "source": [
        "<a href=\"https://colab.research.google.com/github/elizamelo/LabFis04/blob/main/Aula01_Dados_da_Turma_2023_1.ipynb\" target=\"_parent\"><img src=\"https://colab.research.google.com/assets/colab-badge.svg\" alt=\"Open In Colab\"/></a>"
      ]
    },
    {
      "cell_type": "markdown",
      "source": [
        "Baseado na aula do prof. Antonio Vilela"
      ],
      "metadata": {
        "id": "qMOWikZ3hqyb"
      }
    },
    {
      "cell_type": "code",
      "source": [
        "import numpy as np\n",
        "import pandas as pd\n",
        "import matplotlib as mpl\n",
        "import matplotlib.pyplot as plt\n",
        "import statistics\n",
        "from scipy import stats"
      ],
      "metadata": {
        "id": "KMCHHDb8hoMM"
      },
      "execution_count": null,
      "outputs": []
    },
    {
      "cell_type": "markdown",
      "metadata": {
        "id": "1ikM_jc93RdJ"
      },
      "source": [
        "Tabela de idades, pesos e alturas:"
      ]
    },
    {
      "cell_type": "code",
      "metadata": {
        "colab": {
          "base_uri": "https://localhost:8080/"
        },
        "id": "jRyrwB0NJCkT",
        "outputId": "81631cf6-9920-432e-8cce-0759877c076a"
      },
      "source": [
        "!curl -o Dados-alunos-2023-1.csv https://raw.githubusercontent.com/elizamelo/FisicaGeral/main/dados/DadosdaTurma2_2023_1%20-%20Dados%20da%20turma.csv\n",
        "#!curl -o Dados-alunos-2023-1.csv https://raw.githubusercontent.com/elizamelo/FisicaGeral/main/dados/DadosdaTurma2_2023_1_v2%20-%20Dados%20da%20turma.csv"
      ],
      "execution_count": null,
      "outputs": [
        {
          "output_type": "stream",
          "name": "stdout",
          "text": [
            "  % Total    % Received % Xferd  Average Speed   Time    Time     Time  Current\n",
            "                                 Dload  Upload   Total   Spent    Left  Speed\n",
            "\r  0     0    0     0    0     0      0      0 --:--:-- --:--:-- --:--:--     0\r100   753  100   753    0     0   6605      0 --:--:-- --:--:-- --:--:--  6605\n"
          ]
        }
      ]
    },
    {
      "cell_type": "code",
      "metadata": {
        "id": "qql5tOsgb6Jl"
      },
      "source": [
        "# array_Idade = np.array( [  ] )\n",
        "# array_Peso = np.array( [  ] )\n",
        "# array_Altura = np.array( [ ] )"
      ],
      "execution_count": null,
      "outputs": []
    },
    {
      "cell_type": "code",
      "source": [
        "df = pd.read_csv( \"Dados-alunos-2023-1.csv\", usecols=[0,1,2,3], nrows=18, skiprows=1,index_col=0, na_values=[\"0\"],names=[\"Índice\", \"Idade\", \"Peso\", \"Altura\"] )\n",
        "df"
      ],
      "metadata": {
        "colab": {
          "base_uri": "https://localhost:8080/",
          "height": 614
        },
        "id": "-wA7ytc7Gmvz",
        "outputId": "725861dc-1cf7-4ecf-ab1e-9ec547ef3b08"
      },
      "execution_count": null,
      "outputs": [
        {
          "output_type": "execute_result",
          "data": {
            "text/plain": [
              "                                     Idade  Peso  Altura\n",
              "Índice                                                  \n",
              "CARLOS ANDRE ANNECCHINI FERNANDES       37    85    1.75\n",
              "DANILO SANTOS DE FIGUEREDO              18    55    1.70\n",
              "EDUARDO DE SOUZA SILVA JUNIOR           18    78    1.81\n",
              "EDUARDO PEREIRA DOS SANTOS              18    85    1.78\n",
              "FABIO COELHO DIMARI VIEIRA              18    75    1.68\n",
              "FELIPE CARNEIRO DA ROCHA CARVALHO       18    97    1.67\n",
              "GABRIELA SANTOS MORAIS                  20    75    1.69\n",
              "GABRIEL DE MATOS MESIAS                 20    54    1.79\n",
              "GUILHERME FIRMINO DOS SANTOS            18    78    1.79\n",
              "LUIS GABRIEL DE ARAUJO VASCONCELOS      20    61    1.67\n",
              "MANOEL MIGUEL DE LIMA SILVA JUNIOR      31    62    1.72\n",
              "MANUELA CASSIA ANDRADE DE MAGALHAES     19    60    1.66\n",
              "MARIA EDUARDA MELONI DO VALLE           18    44    1.60\n",
              "MARIA EDUARDA NOVO NOVAES               17    83    1.60\n",
              "SAMUEL GOMES DE SOUZA HENRIQUE          20    65    1.70\n",
              "SAMUEL SILVA DE SOUZA                   18    80    1.80\n",
              "WALTER LINHARES DE SIQUEIRA             23    59    1.68"
            ],
            "text/html": [
              "\n",
              "  <div id=\"df-02a55393-6094-4ed2-84f5-8295ff39e52f\">\n",
              "    <div class=\"colab-df-container\">\n",
              "      <div>\n",
              "<style scoped>\n",
              "    .dataframe tbody tr th:only-of-type {\n",
              "        vertical-align: middle;\n",
              "    }\n",
              "\n",
              "    .dataframe tbody tr th {\n",
              "        vertical-align: top;\n",
              "    }\n",
              "\n",
              "    .dataframe thead th {\n",
              "        text-align: right;\n",
              "    }\n",
              "</style>\n",
              "<table border=\"1\" class=\"dataframe\">\n",
              "  <thead>\n",
              "    <tr style=\"text-align: right;\">\n",
              "      <th></th>\n",
              "      <th>Idade</th>\n",
              "      <th>Peso</th>\n",
              "      <th>Altura</th>\n",
              "    </tr>\n",
              "    <tr>\n",
              "      <th>Índice</th>\n",
              "      <th></th>\n",
              "      <th></th>\n",
              "      <th></th>\n",
              "    </tr>\n",
              "  </thead>\n",
              "  <tbody>\n",
              "    <tr>\n",
              "      <th>CARLOS ANDRE ANNECCHINI FERNANDES</th>\n",
              "      <td>37</td>\n",
              "      <td>85</td>\n",
              "      <td>1.75</td>\n",
              "    </tr>\n",
              "    <tr>\n",
              "      <th>DANILO SANTOS DE FIGUEREDO</th>\n",
              "      <td>18</td>\n",
              "      <td>55</td>\n",
              "      <td>1.70</td>\n",
              "    </tr>\n",
              "    <tr>\n",
              "      <th>EDUARDO DE SOUZA SILVA JUNIOR</th>\n",
              "      <td>18</td>\n",
              "      <td>78</td>\n",
              "      <td>1.81</td>\n",
              "    </tr>\n",
              "    <tr>\n",
              "      <th>EDUARDO PEREIRA DOS SANTOS</th>\n",
              "      <td>18</td>\n",
              "      <td>85</td>\n",
              "      <td>1.78</td>\n",
              "    </tr>\n",
              "    <tr>\n",
              "      <th>FABIO COELHO DIMARI VIEIRA</th>\n",
              "      <td>18</td>\n",
              "      <td>75</td>\n",
              "      <td>1.68</td>\n",
              "    </tr>\n",
              "    <tr>\n",
              "      <th>FELIPE CARNEIRO DA ROCHA CARVALHO</th>\n",
              "      <td>18</td>\n",
              "      <td>97</td>\n",
              "      <td>1.67</td>\n",
              "    </tr>\n",
              "    <tr>\n",
              "      <th>GABRIELA SANTOS MORAIS</th>\n",
              "      <td>20</td>\n",
              "      <td>75</td>\n",
              "      <td>1.69</td>\n",
              "    </tr>\n",
              "    <tr>\n",
              "      <th>GABRIEL DE MATOS MESIAS</th>\n",
              "      <td>20</td>\n",
              "      <td>54</td>\n",
              "      <td>1.79</td>\n",
              "    </tr>\n",
              "    <tr>\n",
              "      <th>GUILHERME FIRMINO DOS SANTOS</th>\n",
              "      <td>18</td>\n",
              "      <td>78</td>\n",
              "      <td>1.79</td>\n",
              "    </tr>\n",
              "    <tr>\n",
              "      <th>LUIS GABRIEL DE ARAUJO VASCONCELOS</th>\n",
              "      <td>20</td>\n",
              "      <td>61</td>\n",
              "      <td>1.67</td>\n",
              "    </tr>\n",
              "    <tr>\n",
              "      <th>MANOEL MIGUEL DE LIMA SILVA JUNIOR</th>\n",
              "      <td>31</td>\n",
              "      <td>62</td>\n",
              "      <td>1.72</td>\n",
              "    </tr>\n",
              "    <tr>\n",
              "      <th>MANUELA CASSIA ANDRADE DE MAGALHAES</th>\n",
              "      <td>19</td>\n",
              "      <td>60</td>\n",
              "      <td>1.66</td>\n",
              "    </tr>\n",
              "    <tr>\n",
              "      <th>MARIA EDUARDA MELONI DO VALLE</th>\n",
              "      <td>18</td>\n",
              "      <td>44</td>\n",
              "      <td>1.60</td>\n",
              "    </tr>\n",
              "    <tr>\n",
              "      <th>MARIA EDUARDA NOVO NOVAES</th>\n",
              "      <td>17</td>\n",
              "      <td>83</td>\n",
              "      <td>1.60</td>\n",
              "    </tr>\n",
              "    <tr>\n",
              "      <th>SAMUEL GOMES DE SOUZA HENRIQUE</th>\n",
              "      <td>20</td>\n",
              "      <td>65</td>\n",
              "      <td>1.70</td>\n",
              "    </tr>\n",
              "    <tr>\n",
              "      <th>SAMUEL SILVA DE SOUZA</th>\n",
              "      <td>18</td>\n",
              "      <td>80</td>\n",
              "      <td>1.80</td>\n",
              "    </tr>\n",
              "    <tr>\n",
              "      <th>WALTER LINHARES DE SIQUEIRA</th>\n",
              "      <td>23</td>\n",
              "      <td>59</td>\n",
              "      <td>1.68</td>\n",
              "    </tr>\n",
              "  </tbody>\n",
              "</table>\n",
              "</div>\n",
              "      <button class=\"colab-df-convert\" onclick=\"convertToInteractive('df-02a55393-6094-4ed2-84f5-8295ff39e52f')\"\n",
              "              title=\"Convert this dataframe to an interactive table.\"\n",
              "              style=\"display:none;\">\n",
              "        \n",
              "  <svg xmlns=\"http://www.w3.org/2000/svg\" height=\"24px\"viewBox=\"0 0 24 24\"\n",
              "       width=\"24px\">\n",
              "    <path d=\"M0 0h24v24H0V0z\" fill=\"none\"/>\n",
              "    <path d=\"M18.56 5.44l.94 2.06.94-2.06 2.06-.94-2.06-.94-.94-2.06-.94 2.06-2.06.94zm-11 1L8.5 8.5l.94-2.06 2.06-.94-2.06-.94L8.5 2.5l-.94 2.06-2.06.94zm10 10l.94 2.06.94-2.06 2.06-.94-2.06-.94-.94-2.06-.94 2.06-2.06.94z\"/><path d=\"M17.41 7.96l-1.37-1.37c-.4-.4-.92-.59-1.43-.59-.52 0-1.04.2-1.43.59L10.3 9.45l-7.72 7.72c-.78.78-.78 2.05 0 2.83L4 21.41c.39.39.9.59 1.41.59.51 0 1.02-.2 1.41-.59l7.78-7.78 2.81-2.81c.8-.78.8-2.07 0-2.86zM5.41 20L4 18.59l7.72-7.72 1.47 1.35L5.41 20z\"/>\n",
              "  </svg>\n",
              "      </button>\n",
              "      \n",
              "  <style>\n",
              "    .colab-df-container {\n",
              "      display:flex;\n",
              "      flex-wrap:wrap;\n",
              "      gap: 12px;\n",
              "    }\n",
              "\n",
              "    .colab-df-convert {\n",
              "      background-color: #E8F0FE;\n",
              "      border: none;\n",
              "      border-radius: 50%;\n",
              "      cursor: pointer;\n",
              "      display: none;\n",
              "      fill: #1967D2;\n",
              "      height: 32px;\n",
              "      padding: 0 0 0 0;\n",
              "      width: 32px;\n",
              "    }\n",
              "\n",
              "    .colab-df-convert:hover {\n",
              "      background-color: #E2EBFA;\n",
              "      box-shadow: 0px 1px 2px rgba(60, 64, 67, 0.3), 0px 1px 3px 1px rgba(60, 64, 67, 0.15);\n",
              "      fill: #174EA6;\n",
              "    }\n",
              "\n",
              "    [theme=dark] .colab-df-convert {\n",
              "      background-color: #3B4455;\n",
              "      fill: #D2E3FC;\n",
              "    }\n",
              "\n",
              "    [theme=dark] .colab-df-convert:hover {\n",
              "      background-color: #434B5C;\n",
              "      box-shadow: 0px 1px 3px 1px rgba(0, 0, 0, 0.15);\n",
              "      filter: drop-shadow(0px 1px 2px rgba(0, 0, 0, 0.3));\n",
              "      fill: #FFFFFF;\n",
              "    }\n",
              "  </style>\n",
              "\n",
              "      <script>\n",
              "        const buttonEl =\n",
              "          document.querySelector('#df-02a55393-6094-4ed2-84f5-8295ff39e52f button.colab-df-convert');\n",
              "        buttonEl.style.display =\n",
              "          google.colab.kernel.accessAllowed ? 'block' : 'none';\n",
              "\n",
              "        async function convertToInteractive(key) {\n",
              "          const element = document.querySelector('#df-02a55393-6094-4ed2-84f5-8295ff39e52f');\n",
              "          const dataTable =\n",
              "            await google.colab.kernel.invokeFunction('convertToInteractive',\n",
              "                                                     [key], {});\n",
              "          if (!dataTable) return;\n",
              "\n",
              "          const docLinkHtml = 'Like what you see? Visit the ' +\n",
              "            '<a target=\"_blank\" href=https://colab.research.google.com/notebooks/data_table.ipynb>data table notebook</a>'\n",
              "            + ' to learn more about interactive tables.';\n",
              "          element.innerHTML = '';\n",
              "          dataTable['output_type'] = 'display_data';\n",
              "          await google.colab.output.renderOutput(dataTable, element);\n",
              "          const docLink = document.createElement('div');\n",
              "          docLink.innerHTML = docLinkHtml;\n",
              "          element.appendChild(docLink);\n",
              "        }\n",
              "      </script>\n",
              "    </div>\n",
              "  </div>\n",
              "  "
            ]
          },
          "metadata": {},
          "execution_count": 4
        }
      ]
    },
    {
      "cell_type": "code",
      "source": [
        "df.describe()"
      ],
      "metadata": {
        "colab": {
          "base_uri": "https://localhost:8080/",
          "height": 300
        },
        "id": "9a2_mmHOgxks",
        "outputId": "9ecd2cf7-55d3-481c-c834-bf69daf34369"
      },
      "execution_count": null,
      "outputs": [
        {
          "output_type": "execute_result",
          "data": {
            "text/plain": [
              "           Idade       Peso     Altura\n",
              "count  17.000000  17.000000  17.000000\n",
              "mean   20.647059  70.352941   1.711176\n",
              "std     5.326129  14.079867   0.066038\n",
              "min    17.000000  44.000000   1.600000\n",
              "25%    18.000000  60.000000   1.670000\n",
              "50%    18.000000  75.000000   1.700000\n",
              "75%    20.000000  80.000000   1.780000\n",
              "max    37.000000  97.000000   1.810000"
            ],
            "text/html": [
              "\n",
              "  <div id=\"df-ff72289c-0802-483a-9a7f-eab6cf2c802f\">\n",
              "    <div class=\"colab-df-container\">\n",
              "      <div>\n",
              "<style scoped>\n",
              "    .dataframe tbody tr th:only-of-type {\n",
              "        vertical-align: middle;\n",
              "    }\n",
              "\n",
              "    .dataframe tbody tr th {\n",
              "        vertical-align: top;\n",
              "    }\n",
              "\n",
              "    .dataframe thead th {\n",
              "        text-align: right;\n",
              "    }\n",
              "</style>\n",
              "<table border=\"1\" class=\"dataframe\">\n",
              "  <thead>\n",
              "    <tr style=\"text-align: right;\">\n",
              "      <th></th>\n",
              "      <th>Idade</th>\n",
              "      <th>Peso</th>\n",
              "      <th>Altura</th>\n",
              "    </tr>\n",
              "  </thead>\n",
              "  <tbody>\n",
              "    <tr>\n",
              "      <th>count</th>\n",
              "      <td>17.000000</td>\n",
              "      <td>17.000000</td>\n",
              "      <td>17.000000</td>\n",
              "    </tr>\n",
              "    <tr>\n",
              "      <th>mean</th>\n",
              "      <td>20.647059</td>\n",
              "      <td>70.352941</td>\n",
              "      <td>1.711176</td>\n",
              "    </tr>\n",
              "    <tr>\n",
              "      <th>std</th>\n",
              "      <td>5.326129</td>\n",
              "      <td>14.079867</td>\n",
              "      <td>0.066038</td>\n",
              "    </tr>\n",
              "    <tr>\n",
              "      <th>min</th>\n",
              "      <td>17.000000</td>\n",
              "      <td>44.000000</td>\n",
              "      <td>1.600000</td>\n",
              "    </tr>\n",
              "    <tr>\n",
              "      <th>25%</th>\n",
              "      <td>18.000000</td>\n",
              "      <td>60.000000</td>\n",
              "      <td>1.670000</td>\n",
              "    </tr>\n",
              "    <tr>\n",
              "      <th>50%</th>\n",
              "      <td>18.000000</td>\n",
              "      <td>75.000000</td>\n",
              "      <td>1.700000</td>\n",
              "    </tr>\n",
              "    <tr>\n",
              "      <th>75%</th>\n",
              "      <td>20.000000</td>\n",
              "      <td>80.000000</td>\n",
              "      <td>1.780000</td>\n",
              "    </tr>\n",
              "    <tr>\n",
              "      <th>max</th>\n",
              "      <td>37.000000</td>\n",
              "      <td>97.000000</td>\n",
              "      <td>1.810000</td>\n",
              "    </tr>\n",
              "  </tbody>\n",
              "</table>\n",
              "</div>\n",
              "      <button class=\"colab-df-convert\" onclick=\"convertToInteractive('df-ff72289c-0802-483a-9a7f-eab6cf2c802f')\"\n",
              "              title=\"Convert this dataframe to an interactive table.\"\n",
              "              style=\"display:none;\">\n",
              "        \n",
              "  <svg xmlns=\"http://www.w3.org/2000/svg\" height=\"24px\"viewBox=\"0 0 24 24\"\n",
              "       width=\"24px\">\n",
              "    <path d=\"M0 0h24v24H0V0z\" fill=\"none\"/>\n",
              "    <path d=\"M18.56 5.44l.94 2.06.94-2.06 2.06-.94-2.06-.94-.94-2.06-.94 2.06-2.06.94zm-11 1L8.5 8.5l.94-2.06 2.06-.94-2.06-.94L8.5 2.5l-.94 2.06-2.06.94zm10 10l.94 2.06.94-2.06 2.06-.94-2.06-.94-.94-2.06-.94 2.06-2.06.94z\"/><path d=\"M17.41 7.96l-1.37-1.37c-.4-.4-.92-.59-1.43-.59-.52 0-1.04.2-1.43.59L10.3 9.45l-7.72 7.72c-.78.78-.78 2.05 0 2.83L4 21.41c.39.39.9.59 1.41.59.51 0 1.02-.2 1.41-.59l7.78-7.78 2.81-2.81c.8-.78.8-2.07 0-2.86zM5.41 20L4 18.59l7.72-7.72 1.47 1.35L5.41 20z\"/>\n",
              "  </svg>\n",
              "      </button>\n",
              "      \n",
              "  <style>\n",
              "    .colab-df-container {\n",
              "      display:flex;\n",
              "      flex-wrap:wrap;\n",
              "      gap: 12px;\n",
              "    }\n",
              "\n",
              "    .colab-df-convert {\n",
              "      background-color: #E8F0FE;\n",
              "      border: none;\n",
              "      border-radius: 50%;\n",
              "      cursor: pointer;\n",
              "      display: none;\n",
              "      fill: #1967D2;\n",
              "      height: 32px;\n",
              "      padding: 0 0 0 0;\n",
              "      width: 32px;\n",
              "    }\n",
              "\n",
              "    .colab-df-convert:hover {\n",
              "      background-color: #E2EBFA;\n",
              "      box-shadow: 0px 1px 2px rgba(60, 64, 67, 0.3), 0px 1px 3px 1px rgba(60, 64, 67, 0.15);\n",
              "      fill: #174EA6;\n",
              "    }\n",
              "\n",
              "    [theme=dark] .colab-df-convert {\n",
              "      background-color: #3B4455;\n",
              "      fill: #D2E3FC;\n",
              "    }\n",
              "\n",
              "    [theme=dark] .colab-df-convert:hover {\n",
              "      background-color: #434B5C;\n",
              "      box-shadow: 0px 1px 3px 1px rgba(0, 0, 0, 0.15);\n",
              "      filter: drop-shadow(0px 1px 2px rgba(0, 0, 0, 0.3));\n",
              "      fill: #FFFFFF;\n",
              "    }\n",
              "  </style>\n",
              "\n",
              "      <script>\n",
              "        const buttonEl =\n",
              "          document.querySelector('#df-ff72289c-0802-483a-9a7f-eab6cf2c802f button.colab-df-convert');\n",
              "        buttonEl.style.display =\n",
              "          google.colab.kernel.accessAllowed ? 'block' : 'none';\n",
              "\n",
              "        async function convertToInteractive(key) {\n",
              "          const element = document.querySelector('#df-ff72289c-0802-483a-9a7f-eab6cf2c802f');\n",
              "          const dataTable =\n",
              "            await google.colab.kernel.invokeFunction('convertToInteractive',\n",
              "                                                     [key], {});\n",
              "          if (!dataTable) return;\n",
              "\n",
              "          const docLinkHtml = 'Like what you see? Visit the ' +\n",
              "            '<a target=\"_blank\" href=https://colab.research.google.com/notebooks/data_table.ipynb>data table notebook</a>'\n",
              "            + ' to learn more about interactive tables.';\n",
              "          element.innerHTML = '';\n",
              "          dataTable['output_type'] = 'display_data';\n",
              "          await google.colab.output.renderOutput(dataTable, element);\n",
              "          const docLink = document.createElement('div');\n",
              "          docLink.innerHTML = docLinkHtml;\n",
              "          element.appendChild(docLink);\n",
              "        }\n",
              "      </script>\n",
              "    </div>\n",
              "  </div>\n",
              "  "
            ]
          },
          "metadata": {},
          "execution_count": 5
        }
      ]
    },
    {
      "cell_type": "code",
      "source": [
        "df.dtypes"
      ],
      "metadata": {
        "id": "j0hgnGYWbVWv",
        "outputId": "f967ada5-6843-4036-d6bb-2483006e31c3",
        "colab": {
          "base_uri": "https://localhost:8080/"
        }
      },
      "execution_count": null,
      "outputs": [
        {
          "output_type": "execute_result",
          "data": {
            "text/plain": [
              "Idade       int64\n",
              "Peso        int64\n",
              "Altura    float64\n",
              "dtype: object"
            ]
          },
          "metadata": {},
          "execution_count": 6
        }
      ]
    },
    {
      "cell_type": "code",
      "source": [
        "#df['Idade'] = df['Idade'].astype('int64')\n",
        "#df['Idade'] = pd.to_numeric(df['Idade'], errors='coerce')\n",
        "#df.dtypes\n",
        "#df[\"Peso\"] = pd.to_numeric(df[\"Peso\"], errors='coerce')\n",
        "#df.dtypes\n",
        "#df[\"Altura\"] = pd.to_numeric(df[\"Altura\"], errors='coerce')\n",
        "#df.dtypes"
      ],
      "metadata": {
        "id": "5vtu_2v_bBPZ"
      },
      "execution_count": null,
      "outputs": []
    },
    {
      "cell_type": "markdown",
      "source": [],
      "metadata": {
        "id": "vyEy6bxJGnQ7"
      }
    },
    {
      "cell_type": "markdown",
      "metadata": {
        "id": "f_kxKfb7YftY"
      },
      "source": [
        "Idade:"
      ]
    },
    {
      "cell_type": "code",
      "metadata": {
        "colab": {
          "base_uri": "https://localhost:8080/"
        },
        "id": "FzO6k2jrYGLF",
        "outputId": "84c51802-564b-43fe-c087-9655f9c80ef6"
      },
      "source": [
        "#array_Idade = df.iloc[:, 0]\n",
        "array_Idade = df[ \"Idade\" ]\n",
        "array_Idade.dropna()\n",
        "\n"
      ],
      "execution_count": null,
      "outputs": [
        {
          "output_type": "execute_result",
          "data": {
            "text/plain": [
              "Índice\n",
              "CARLOS ANDRE ANNECCHINI FERNANDES      37\n",
              "DANILO SANTOS DE FIGUEREDO             18\n",
              "EDUARDO DE SOUZA SILVA JUNIOR          18\n",
              "EDUARDO PEREIRA DOS SANTOS             18\n",
              "FABIO COELHO DIMARI VIEIRA             18\n",
              "FELIPE CARNEIRO DA ROCHA CARVALHO      18\n",
              "GABRIELA SANTOS MORAIS                 20\n",
              "GABRIEL DE MATOS MESIAS                20\n",
              "GUILHERME FIRMINO DOS SANTOS           18\n",
              "LUIS GABRIEL DE ARAUJO VASCONCELOS     20\n",
              "MANOEL MIGUEL DE LIMA SILVA JUNIOR     31\n",
              "MANUELA CASSIA ANDRADE DE MAGALHAES    19\n",
              "MARIA EDUARDA MELONI DO VALLE          18\n",
              "MARIA EDUARDA NOVO NOVAES              17\n",
              "SAMUEL GOMES DE SOUZA HENRIQUE         20\n",
              "SAMUEL SILVA DE SOUZA                  18\n",
              "WALTER LINHARES DE SIQUEIRA            23\n",
              "Name: Idade, dtype: int64"
            ]
          },
          "metadata": {},
          "execution_count": 8
        }
      ]
    },
    {
      "cell_type": "code",
      "source": [
        "#valor min\n",
        "np.min(array_Idade)\n",
        "     \n"
      ],
      "metadata": {
        "id": "glVDbje01Xhe",
        "outputId": "f3a13797-2234-48f5-c2a0-25fe4e8e298a",
        "colab": {
          "base_uri": "https://localhost:8080/"
        }
      },
      "execution_count": null,
      "outputs": [
        {
          "output_type": "execute_result",
          "data": {
            "text/plain": [
              "17"
            ]
          },
          "metadata": {},
          "execution_count": 9
        }
      ]
    },
    {
      "cell_type": "code",
      "source": [
        "#valor máx\n",
        "\n",
        "np.max(array_Idade)\n",
        "     \n"
      ],
      "metadata": {
        "id": "j-Ngnnni1kS6",
        "outputId": "12cf021a-574c-4d30-acca-356a9e54b4a5",
        "colab": {
          "base_uri": "https://localhost:8080/"
        }
      },
      "execution_count": null,
      "outputs": [
        {
          "output_type": "execute_result",
          "data": {
            "text/plain": [
              "37"
            ]
          },
          "metadata": {},
          "execution_count": 10
        }
      ]
    },
    {
      "cell_type": "markdown",
      "source": [
        "Amplitude:"
      ],
      "metadata": {
        "id": "mUfmYt-f1vcK"
      }
    },
    {
      "cell_type": "code",
      "source": [
        "amplitude_I=(np.max(array_Idade)-np.min(array_Idade))\n",
        "print ( \"Amplitude: {}\".format( amplitude_I ) )"
      ],
      "metadata": {
        "id": "92nMD3oG1xYk",
        "outputId": "8f39c29e-d82f-494f-abe5-859f2bddc03c",
        "colab": {
          "base_uri": "https://localhost:8080/"
        }
      },
      "execution_count": null,
      "outputs": [
        {
          "output_type": "stream",
          "name": "stdout",
          "text": [
            "Amplitude: 20\n"
          ]
        }
      ]
    },
    {
      "cell_type": "markdown",
      "source": [
        "Média:"
      ],
      "metadata": {
        "id": "XBHRMA4ekoYW"
      }
    },
    {
      "cell_type": "code",
      "source": [
        "np.sum( array_Idade )"
      ],
      "metadata": {
        "id": "R3os_e6zkjj8",
        "outputId": "7c4e6261-f6d7-4f38-db22-d07b9d1e895e",
        "colab": {
          "base_uri": "https://localhost:8080/"
        }
      },
      "execution_count": null,
      "outputs": [
        {
          "output_type": "execute_result",
          "data": {
            "text/plain": [
              "351"
            ]
          },
          "metadata": {},
          "execution_count": 12
        }
      ]
    },
    {
      "cell_type": "code",
      "source": [
        "N= array_Idade.size\n",
        "N"
      ],
      "metadata": {
        "id": "jm1ZR06uku1C",
        "outputId": "757bf6ba-69ef-42b5-b8f4-b290d8c79d8a",
        "colab": {
          "base_uri": "https://localhost:8080/"
        }
      },
      "execution_count": null,
      "outputs": [
        {
          "output_type": "execute_result",
          "data": {
            "text/plain": [
              "17"
            ]
          },
          "metadata": {},
          "execution_count": 13
        }
      ]
    },
    {
      "cell_type": "code",
      "source": [
        "media_I=np.sum( array_Idade )/N\n",
        "print ( \"Média: {}\".format( media_I ) )"
      ],
      "metadata": {
        "id": "05xFvkKck7EW",
        "outputId": "f147074e-6461-4c02-a7c9-a40f6c982e63",
        "colab": {
          "base_uri": "https://localhost:8080/"
        }
      },
      "execution_count": null,
      "outputs": [
        {
          "output_type": "stream",
          "name": "stdout",
          "text": [
            "Média: 20.647058823529413\n"
          ]
        }
      ]
    },
    {
      "cell_type": "markdown",
      "source": [
        "Usando a função NumPy:\n"
      ],
      "metadata": {
        "id": "wCZzutj-lV4w"
      }
    },
    {
      "cell_type": "code",
      "metadata": {
        "id": "GkTCo1pTYxf3",
        "outputId": "58168104-90f8-490e-a7f7-0fd475c4b2dd",
        "colab": {
          "base_uri": "https://localhost:8080/"
        }
      },
      "source": [
        "np.mean( array_Idade )"
      ],
      "execution_count": null,
      "outputs": [
        {
          "output_type": "execute_result",
          "data": {
            "text/plain": [
              "20.647058823529413"
            ]
          },
          "metadata": {},
          "execution_count": 15
        }
      ]
    },
    {
      "cell_type": "code",
      "source": [
        "\n",
        "np.sort( array_Idade.dropna() )"
      ],
      "metadata": {
        "id": "RK1HnrYcY5A2",
        "outputId": "ebf668fc-7bea-4314-8c06-19fc69411d5f",
        "colab": {
          "base_uri": "https://localhost:8080/"
        }
      },
      "execution_count": null,
      "outputs": [
        {
          "output_type": "execute_result",
          "data": {
            "text/plain": [
              "array([17, 18, 18, 18, 18, 18, 18, 18, 18, 19, 20, 20, 20, 20, 23, 31, 37])"
            ]
          },
          "metadata": {},
          "execution_count": 16
        }
      ]
    },
    {
      "cell_type": "code",
      "source": [
        "#Moda\n",
        "statistics.multimode(array_Idade)"
      ],
      "metadata": {
        "id": "JQdAqK3-5JC4",
        "outputId": "09fd2175-6e16-484f-e2e9-ec97eef5b580",
        "colab": {
          "base_uri": "https://localhost:8080/"
        }
      },
      "execution_count": null,
      "outputs": [
        {
          "output_type": "execute_result",
          "data": {
            "text/plain": [
              "[18]"
            ]
          },
          "metadata": {},
          "execution_count": 17
        }
      ]
    },
    {
      "cell_type": "markdown",
      "source": [
        "\n",
        "\n",
        "Histograma usando matplotlib:\n"
      ],
      "metadata": {
        "id": "GfjGtHhslfnG"
      }
    },
    {
      "cell_type": "code",
      "metadata": {
        "id": "n4O-MCDuYxf4",
        "outputId": "cdabd1d8-66d2-48a8-b3c6-690e0089918d",
        "colab": {
          "base_uri": "https://localhost:8080/",
          "height": 569
        }
      },
      "source": [
        "fig = plt.figure( figsize=(8,6) )\n",
        "\n",
        "counts, bins, _ = plt.hist( array_Idade, bins=11, range=(17, 39) )\n",
        "plt.xlim( 17, 40 )\n",
        "plt.xlabel( \"Idade (anos)\", fontsize=18 )\n",
        "plt.ylabel( \"Frequência\", fontsize=18 )"
      ],
      "execution_count": null,
      "outputs": [
        {
          "output_type": "execute_result",
          "data": {
            "text/plain": [
              "Text(0, 0.5, 'Frequência')"
            ]
          },
          "metadata": {},
          "execution_count": 18
        },
        {
          "output_type": "display_data",
          "data": {
            "text/plain": [
              "<Figure size 800x600 with 1 Axes>"
            ],
            "image/png": "[encoded data removed]"
          },
          "metadata": {}
        }
      ]
    },
    {
      "cell_type": "markdown",
      "source": [
        "\n",
        "\n",
        "Frequência para cada intervalo:\n"
      ],
      "metadata": {
        "id": "QPTS7-D6lnAv"
      }
    },
    {
      "cell_type": "code",
      "source": [
        "counts"
      ],
      "metadata": {
        "id": "qN_UfqOEjym9",
        "outputId": "fe94154e-6c18-4c1a-f8fb-58da86010703",
        "colab": {
          "base_uri": "https://localhost:8080/"
        }
      },
      "execution_count": null,
      "outputs": [
        {
          "output_type": "execute_result",
          "data": {
            "text/plain": [
              "array([9., 5., 0., 1., 0., 0., 0., 1., 0., 0., 1.])"
            ]
          },
          "metadata": {},
          "execution_count": 19
        }
      ]
    },
    {
      "cell_type": "markdown",
      "source": [
        "Bordas dos intervalos:"
      ],
      "metadata": {
        "id": "FNx6k0rllqe2"
      }
    },
    {
      "cell_type": "code",
      "source": [
        "bins"
      ],
      "metadata": {
        "id": "HFGp326hj18M",
        "outputId": "9294f207-3cb5-484d-d66b-09eebef9a005",
        "colab": {
          "base_uri": "https://localhost:8080/"
        }
      },
      "execution_count": null,
      "outputs": [
        {
          "output_type": "execute_result",
          "data": {
            "text/plain": [
              "array([17., 19., 21., 23., 25., 27., 29., 31., 33., 35., 37., 39.])"
            ]
          },
          "metadata": {},
          "execution_count": 20
        }
      ]
    },
    {
      "cell_type": "markdown",
      "source": [
        "\n",
        "\n",
        "Cálculo da média quadrática:\n"
      ],
      "metadata": {
        "id": "Ie1ZFLg8lxuF"
      }
    },
    {
      "cell_type": "code",
      "source": [
        "array_Idade**2"
      ],
      "metadata": {
        "id": "Hq2rE4MXl07Z",
        "outputId": "83894984-e15e-4415-c917-64ae9b5ea2c6",
        "colab": {
          "base_uri": "https://localhost:8080/"
        }
      },
      "execution_count": null,
      "outputs": [
        {
          "output_type": "execute_result",
          "data": {
            "text/plain": [
              "Índice\n",
              "CARLOS ANDRE ANNECCHINI FERNANDES      1369\n",
              "DANILO SANTOS DE FIGUEREDO              324\n",
              "EDUARDO DE SOUZA SILVA JUNIOR           324\n",
              "EDUARDO PEREIRA DOS SANTOS              324\n",
              "FABIO COELHO DIMARI VIEIRA              324\n",
              "FELIPE CARNEIRO DA ROCHA CARVALHO       324\n",
              "GABRIELA SANTOS MORAIS                  400\n",
              "GABRIEL DE MATOS MESIAS                 400\n",
              "GUILHERME FIRMINO DOS SANTOS            324\n",
              "LUIS GABRIEL DE ARAUJO VASCONCELOS      400\n",
              "MANOEL MIGUEL DE LIMA SILVA JUNIOR      961\n",
              "MANUELA CASSIA ANDRADE DE MAGALHAES     361\n",
              "MARIA EDUARDA MELONI DO VALLE           324\n",
              "MARIA EDUARDA NOVO NOVAES               289\n",
              "SAMUEL GOMES DE SOUZA HENRIQUE          400\n",
              "SAMUEL SILVA DE SOUZA                   324\n",
              "WALTER LINHARES DE SIQUEIRA             529\n",
              "Name: Idade, dtype: int64"
            ]
          },
          "metadata": {},
          "execution_count": 21
        }
      ]
    },
    {
      "cell_type": "code",
      "source": [
        "print ( \"Média quadrática: {}\".format( np.sqrt( np.mean( array_Idade ** 2 ) ) ) )"
      ],
      "metadata": {
        "id": "pEp7KX2Jl97P",
        "outputId": "e57fd06b-a6d2-4fe6-a6f4-a74d0d73be18",
        "colab": {
          "base_uri": "https://localhost:8080/"
        }
      },
      "execution_count": null,
      "outputs": [
        {
          "output_type": "stream",
          "name": "stdout",
          "text": [
            "Média quadrática: 21.283796653792763\n"
          ]
        }
      ]
    },
    {
      "cell_type": "markdown",
      "source": [
        "\n",
        "\n",
        "Cálculo da mediana:\n"
      ],
      "metadata": {
        "id": "CZvrpqsymGSN"
      }
    },
    {
      "cell_type": "code",
      "source": [
        "array_I_ord = np.sort( array_Idade )\n",
        "array_I_ord"
      ],
      "metadata": {
        "id": "qn5lDeojmHMP",
        "outputId": "f2d20a06-2f7d-425a-e625-7fb1d60b6c8e",
        "colab": {
          "base_uri": "https://localhost:8080/"
        }
      },
      "execution_count": null,
      "outputs": [
        {
          "output_type": "execute_result",
          "data": {
            "text/plain": [
              "array([17, 18, 18, 18, 18, 18, 18, 18, 18, 19, 20, 20, 20, 20, 23, 31, 37])"
            ]
          },
          "metadata": {},
          "execution_count": 23
        }
      ]
    },
    {
      "cell_type": "code",
      "source": [
        "array_I_ord[ int(N/2) - 1 ] # Índices de 0..(N-1)"
      ],
      "metadata": {
        "id": "xBVMf6fNmcb-",
        "outputId": "10b102eb-882f-4860-9ffe-8f09fb2aa404",
        "colab": {
          "base_uri": "https://localhost:8080/"
        }
      },
      "execution_count": null,
      "outputs": [
        {
          "output_type": "execute_result",
          "data": {
            "text/plain": [
              "18"
            ]
          },
          "metadata": {},
          "execution_count": 24
        }
      ]
    },
    {
      "cell_type": "code",
      "source": [
        "array_I_ord[ int(N/2) ] # Índices de 0..(N-1)\n",
        "     "
      ],
      "metadata": {
        "id": "xqx19LfImfbN",
        "outputId": "9219d3bf-65db-4994-f850-bc0903369a03",
        "colab": {
          "base_uri": "https://localhost:8080/"
        }
      },
      "execution_count": null,
      "outputs": [
        {
          "output_type": "execute_result",
          "data": {
            "text/plain": [
              "18"
            ]
          },
          "metadata": {},
          "execution_count": 25
        }
      ]
    },
    {
      "cell_type": "code",
      "source": [
        "np.median( array_Idade )"
      ],
      "metadata": {
        "id": "HeiUnhw7mpYw",
        "outputId": "8e835867-dc86-4bcd-a973-bab51f307a85",
        "colab": {
          "base_uri": "https://localhost:8080/"
        }
      },
      "execution_count": null,
      "outputs": [
        {
          "output_type": "execute_result",
          "data": {
            "text/plain": [
              "18.0"
            ]
          },
          "metadata": {},
          "execution_count": 26
        }
      ]
    },
    {
      "cell_type": "markdown",
      "source": [
        "\n",
        "\n",
        "Cálculo da moda (histograma):\n"
      ],
      "metadata": {
        "id": "ZSD4HfP3mx_2"
      }
    },
    {
      "cell_type": "code",
      "source": [
        "idx_max = np.argmax( counts )\n",
        "print ( \"Valor máximo: {}\".format( counts[ idx_max ] ) )\n",
        "print ( \"Intervalo com valor máximo: ({},{})\".format( bins[ idx_max ], bins[ idx_max+1 ] ) )\n",
        "     \n"
      ],
      "metadata": {
        "id": "1OTA1KAcmw2l",
        "outputId": "f0a75d05-4d10-42b7-fbd1-a3f148a5b97f",
        "colab": {
          "base_uri": "https://localhost:8080/"
        }
      },
      "execution_count": null,
      "outputs": [
        {
          "output_type": "stream",
          "name": "stdout",
          "text": [
            "Valor máximo: 9.0\n",
            "Intervalo com valor máximo: (17.0,19.0)\n"
          ]
        }
      ]
    },
    {
      "cell_type": "markdown",
      "metadata": {
        "id": "3lXjn0sKLSks"
      },
      "source": [
        "Peso:"
      ]
    },
    {
      "cell_type": "code",
      "metadata": {
        "id": "fBT6qGrbLReX",
        "outputId": "5d690275-6c4a-464e-c28f-7985fc5b74c7",
        "colab": {
          "base_uri": "https://localhost:8080/"
        }
      },
      "source": [
        "#array_Peso = df.iloc[:, 1]\n",
        "array_Peso = df[ \"Peso\" ]\n",
        "array_Peso"
      ],
      "execution_count": null,
      "outputs": [
        {
          "output_type": "execute_result",
          "data": {
            "text/plain": [
              "Índice\n",
              "CARLOS ANDRE ANNECCHINI FERNANDES      85\n",
              "DANILO SANTOS DE FIGUEREDO             55\n",
              "EDUARDO DE SOUZA SILVA JUNIOR          78\n",
              "EDUARDO PEREIRA DOS SANTOS             85\n",
              "FABIO COELHO DIMARI VIEIRA             75\n",
              "FELIPE CARNEIRO DA ROCHA CARVALHO      97\n",
              "GABRIELA SANTOS MORAIS                 75\n",
              "GABRIEL DE MATOS MESIAS                54\n",
              "GUILHERME FIRMINO DOS SANTOS           78\n",
              "LUIS GABRIEL DE ARAUJO VASCONCELOS     61\n",
              "MANOEL MIGUEL DE LIMA SILVA JUNIOR     62\n",
              "MANUELA CASSIA ANDRADE DE MAGALHAES    60\n",
              "MARIA EDUARDA MELONI DO VALLE          44\n",
              "MARIA EDUARDA NOVO NOVAES              83\n",
              "SAMUEL GOMES DE SOUZA HENRIQUE         65\n",
              "SAMUEL SILVA DE SOUZA                  80\n",
              "WALTER LINHARES DE SIQUEIRA            59\n",
              "Name: Peso, dtype: int64"
            ]
          },
          "metadata": {},
          "execution_count": 28
        }
      ]
    },
    {
      "cell_type": "code",
      "source": [
        "#Amplitude\n",
        "amplitude_P=(np.max(array_Peso)-np.min(array_Peso))\n",
        "print ( \"Amplitude: {}\".format( amplitude_P ) )"
      ],
      "metadata": {
        "id": "ZSehAVGy3AqD",
        "outputId": "d10c9319-4fd5-44b5-bb6d-2c499d5388cb",
        "colab": {
          "base_uri": "https://localhost:8080/"
        }
      },
      "execution_count": null,
      "outputs": [
        {
          "output_type": "stream",
          "name": "stdout",
          "text": [
            "Amplitude: 53\n"
          ]
        }
      ]
    },
    {
      "cell_type": "code",
      "metadata": {
        "id": "noPnFzXSLRea",
        "outputId": "74db61a3-0e8a-4e75-9ae2-6a98a721a092",
        "colab": {
          "base_uri": "https://localhost:8080/"
        }
      },
      "source": [
        "np.mean( array_Peso )"
      ],
      "execution_count": null,
      "outputs": [
        {
          "output_type": "execute_result",
          "data": {
            "text/plain": [
              "70.3529411764706"
            ]
          },
          "metadata": {},
          "execution_count": 30
        }
      ]
    },
    {
      "cell_type": "code",
      "metadata": {
        "id": "awDIFiKHLRea",
        "outputId": "1e597fac-1cf0-4725-88c7-2de4e3b65078",
        "colab": {
          "base_uri": "https://localhost:8080/"
        }
      },
      "source": [
        "#np.sort( array_Peso.dropna() )\n",
        "np.sort( array_Peso )"
      ],
      "execution_count": null,
      "outputs": [
        {
          "output_type": "execute_result",
          "data": {
            "text/plain": [
              "array([44, 54, 55, 59, 60, 61, 62, 65, 75, 75, 78, 78, 80, 83, 85, 85, 97])"
            ]
          },
          "metadata": {},
          "execution_count": 31
        }
      ]
    },
    {
      "cell_type": "code",
      "source": [
        "#Mediana\n",
        "np.median( array_Peso )"
      ],
      "metadata": {
        "id": "_tIwvKmQ3tPY",
        "outputId": "4af77e7e-5787-4835-882e-7086c1e5ce68",
        "colab": {
          "base_uri": "https://localhost:8080/"
        }
      },
      "execution_count": null,
      "outputs": [
        {
          "output_type": "execute_result",
          "data": {
            "text/plain": [
              "75.0"
            ]
          },
          "metadata": {},
          "execution_count": 32
        }
      ]
    },
    {
      "cell_type": "code",
      "metadata": {
        "id": "7FwJxbkHLReb",
        "outputId": "df127259-6f62-455e-c2bf-d0c9c61a0422",
        "colab": {
          "base_uri": "https://localhost:8080/",
          "height": 569
        }
      },
      "source": [
        "fig = plt.figure( figsize=(8,6) )\n",
        "\n",
        "counts, bins, _ = plt.hist( array_Peso, bins=11, range=(44., 99.) )\n",
        "plt.xlim( 40., 100. )\n",
        "plt.xlabel( \"Peso (kg)\", fontsize=18 )\n",
        "plt.ylabel( \"Frequência\", fontsize=18 )"
      ],
      "execution_count": null,
      "outputs": [
        {
          "output_type": "execute_result",
          "data": {
            "text/plain": [
              "Text(0, 0.5, 'Frequência')"
            ]
          },
          "metadata": {},
          "execution_count": 33
        },
        {
          "output_type": "display_data",
          "data": {
            "text/plain": [
              "<Figure size 800x600 with 1 Axes>"
            ],
            "image/png": "[encoded data removed]"
          },
          "metadata": {}
        }
      ]
    },
    {
      "cell_type": "code",
      "source": [
        "counts"
      ],
      "metadata": {
        "id": "jeSNlXLI4OoY",
        "outputId": "c248921f-8f58-4cb0-82bc-b6d30dea1e6c",
        "colab": {
          "base_uri": "https://localhost:8080/"
        }
      },
      "execution_count": null,
      "outputs": [
        {
          "output_type": "execute_result",
          "data": {
            "text/plain": [
              "array([1., 0., 2., 4., 1., 0., 4., 2., 2., 0., 1.])"
            ]
          },
          "metadata": {},
          "execution_count": 34
        }
      ]
    },
    {
      "cell_type": "code",
      "source": [
        "bins"
      ],
      "metadata": {
        "id": "MwQDSGPq4Rm6",
        "outputId": "5a2c0a09-96c2-4ee2-d163-453279f0ad9f",
        "colab": {
          "base_uri": "https://localhost:8080/"
        }
      },
      "execution_count": null,
      "outputs": [
        {
          "output_type": "execute_result",
          "data": {
            "text/plain": [
              "array([44., 49., 54., 59., 64., 69., 74., 79., 84., 89., 94., 99.])"
            ]
          },
          "metadata": {},
          "execution_count": 35
        }
      ]
    },
    {
      "cell_type": "code",
      "source": [
        "statistics.multimode(array_Peso)"
      ],
      "metadata": {
        "id": "yB7jBmmv4xLf",
        "outputId": "a4fef635-651c-4b0d-c293-5db9a9b97d1c",
        "colab": {
          "base_uri": "https://localhost:8080/"
        }
      },
      "execution_count": null,
      "outputs": [
        {
          "output_type": "execute_result",
          "data": {
            "text/plain": [
              "[85, 78, 75]"
            ]
          },
          "metadata": {},
          "execution_count": 36
        }
      ]
    },
    {
      "cell_type": "code",
      "source": [
        "idx_max = np.argmax( counts )\n",
        "print ( \"Valor máximo: {}\".format( counts[ idx_max ] ) )\n",
        "print ( \"Intervalo com valor máximo: ({},{})\".format( bins[ idx_max ], bins[ idx_max+1 ] ) )"
      ],
      "metadata": {
        "id": "WAhfrEkS4Jti",
        "outputId": "24592939-6a2b-4e4b-ee21-f509f6071186",
        "colab": {
          "base_uri": "https://localhost:8080/"
        }
      },
      "execution_count": null,
      "outputs": [
        {
          "output_type": "stream",
          "name": "stdout",
          "text": [
            "Valor máximo: 4.0\n",
            "Intervalo com valor máximo: (59.0,64.0)\n"
          ]
        }
      ]
    },
    {
      "cell_type": "code",
      "source": [
        "print ( \"Média quadrática: {}\".format( np.sqrt( np.mean( array_Peso ** 2 ) ) ) )"
      ],
      "metadata": {
        "id": "W-qMUwTg55V6",
        "outputId": "a39b9418-32d9-4a16-e0ce-28fa473481d5",
        "colab": {
          "base_uri": "https://localhost:8080/"
        }
      },
      "execution_count": null,
      "outputs": [
        {
          "output_type": "stream",
          "name": "stdout",
          "text": [
            "Média quadrática: 71.66671226628736\n"
          ]
        }
      ]
    },
    {
      "cell_type": "markdown",
      "metadata": {
        "id": "oDRjgBLX6X9A"
      },
      "source": [
        "Altura:"
      ]
    },
    {
      "cell_type": "code",
      "metadata": {
        "id": "mepbn-wQ6X9D",
        "outputId": "9c72fe04-2be5-4f07-880b-c52e9835b6a6",
        "colab": {
          "base_uri": "https://localhost:8080/"
        }
      },
      "source": [
        "#array_Altura = df.iloc[:, 2]\n",
        "array_Altura = df[ \"Altura\" ]\n",
        "array_Altura.dropna()"
      ],
      "execution_count": null,
      "outputs": [
        {
          "output_type": "execute_result",
          "data": {
            "text/plain": [
              "Índice\n",
              "CARLOS ANDRE ANNECCHINI FERNANDES      1.75\n",
              "DANILO SANTOS DE FIGUEREDO             1.70\n",
              "EDUARDO DE SOUZA SILVA JUNIOR          1.81\n",
              "EDUARDO PEREIRA DOS SANTOS             1.78\n",
              "FABIO COELHO DIMARI VIEIRA             1.68\n",
              "FELIPE CARNEIRO DA ROCHA CARVALHO      1.67\n",
              "GABRIELA SANTOS MORAIS                 1.69\n",
              "GABRIEL DE MATOS MESIAS                1.79\n",
              "GUILHERME FIRMINO DOS SANTOS           1.79\n",
              "LUIS GABRIEL DE ARAUJO VASCONCELOS     1.67\n",
              "MANOEL MIGUEL DE LIMA SILVA JUNIOR     1.72\n",
              "MANUELA CASSIA ANDRADE DE MAGALHAES    1.66\n",
              "MARIA EDUARDA MELONI DO VALLE          1.60\n",
              "MARIA EDUARDA NOVO NOVAES              1.60\n",
              "SAMUEL GOMES DE SOUZA HENRIQUE         1.70\n",
              "SAMUEL SILVA DE SOUZA                  1.80\n",
              "WALTER LINHARES DE SIQUEIRA            1.68\n",
              "Name: Altura, dtype: float64"
            ]
          },
          "metadata": {},
          "execution_count": 39
        }
      ]
    },
    {
      "cell_type": "code",
      "source": [
        "#Amplitude\n",
        "amplitude_A=(np.max(array_Altura)-np.min(array_Altura))\n",
        "print ( \"Amplitude: {}\".format( amplitude_A ) )"
      ],
      "metadata": {
        "id": "7ZdbzAJw5S29",
        "outputId": "223daefd-3c32-4e17-addc-d0df5402b516",
        "colab": {
          "base_uri": "https://localhost:8080/"
        }
      },
      "execution_count": null,
      "outputs": [
        {
          "output_type": "stream",
          "name": "stdout",
          "text": [
            "Amplitude: 0.20999999999999996\n"
          ]
        }
      ]
    },
    {
      "cell_type": "code",
      "metadata": {
        "id": "jwbvz9N36X9F",
        "outputId": "93990b36-1a21-464f-9dac-c8a0a0241b43",
        "colab": {
          "base_uri": "https://localhost:8080/"
        }
      },
      "source": [
        "np.mean( array_Altura )"
      ],
      "execution_count": null,
      "outputs": [
        {
          "output_type": "execute_result",
          "data": {
            "text/plain": [
              "1.7111764705882355"
            ]
          },
          "metadata": {},
          "execution_count": 41
        }
      ]
    },
    {
      "cell_type": "code",
      "metadata": {
        "id": "94H7jDKV6X9I",
        "outputId": "fa4e680f-acae-47f9-d3ca-60bdd5c1cf7f",
        "colab": {
          "base_uri": "https://localhost:8080/"
        }
      },
      "source": [
        "np.sort( array_Altura.dropna() )"
      ],
      "execution_count": null,
      "outputs": [
        {
          "output_type": "execute_result",
          "data": {
            "text/plain": [
              "array([1.6 , 1.6 , 1.66, 1.67, 1.67, 1.68, 1.68, 1.69, 1.7 , 1.7 , 1.72,\n",
              "       1.75, 1.78, 1.79, 1.79, 1.8 , 1.81])"
            ]
          },
          "metadata": {},
          "execution_count": 42
        }
      ]
    },
    {
      "cell_type": "code",
      "metadata": {
        "id": "oYPruljm6X9M",
        "outputId": "a86db059-d915-4cd0-9c71-5b4f1a3335b5",
        "colab": {
          "base_uri": "https://localhost:8080/",
          "height": 569
        }
      },
      "source": [
        "fig = plt.figure( figsize=(8,6) )\n",
        "\n",
        "counts, bins, _ = plt.hist( array_Altura, bins=5, range=(1.6, 1.86) )\n",
        "plt.xlim( 1.55, 2.00 )\n",
        "plt.xlabel( \"Altura (m)\", fontsize=18 )\n",
        "plt.ylabel( \"Frequência\", fontsize=18 )"
      ],
      "execution_count": null,
      "outputs": [
        {
          "output_type": "execute_result",
          "data": {
            "text/plain": [
              "Text(0, 0.5, 'Frequência')"
            ]
          },
          "metadata": {},
          "execution_count": 43
        },
        {
          "output_type": "display_data",
          "data": {
            "text/plain": [
              "<Figure size 800x600 with 1 Axes>"
            ],
            "image/png": "[encoded data removed]"
          },
          "metadata": {}
        }
      ]
    },
    {
      "cell_type": "code",
      "source": [
        "#Mediana\n",
        "np.median(array_Altura)"
      ],
      "metadata": {
        "id": "xVowkfDr5g7A",
        "outputId": "8705f365-9195-406d-8fa0-00fbbf1afd33",
        "colab": {
          "base_uri": "https://localhost:8080/"
        }
      },
      "execution_count": null,
      "outputs": [
        {
          "output_type": "execute_result",
          "data": {
            "text/plain": [
              "1.7"
            ]
          },
          "metadata": {},
          "execution_count": 44
        }
      ]
    },
    {
      "cell_type": "code",
      "source": [
        "#Moda\n",
        "statistics.multimode(array_Altura)"
      ],
      "metadata": {
        "id": "2FdCH7JY5m-t",
        "outputId": "04a7217a-e520-4451-8a88-f577a11395cb",
        "colab": {
          "base_uri": "https://localhost:8080/"
        }
      },
      "execution_count": null,
      "outputs": [
        {
          "output_type": "execute_result",
          "data": {
            "text/plain": [
              "[1.7, 1.68, 1.67, 1.79, 1.6]"
            ]
          },
          "metadata": {},
          "execution_count": 45
        }
      ]
    },
    {
      "cell_type": "code",
      "source": [
        "print ( \"Média quadrática: {}\".format( np.sqrt( np.mean( array_Altura ** 2 ) ) ) )"
      ],
      "metadata": {
        "id": "p9yQgiJU6At2",
        "outputId": "3afebb9a-b542-43b1-ec58-398fa49c24de",
        "colab": {
          "base_uri": "https://localhost:8080/"
        }
      },
      "execution_count": null,
      "outputs": [
        {
          "output_type": "stream",
          "name": "stdout",
          "text": [
            "Média quadrática: 1.7123753711627325\n"
          ]
        }
      ]
    },
    {
      "cell_type": "markdown",
      "metadata": {
        "id": "HIiA6cYsLu40"
      },
      "source": [
        "Correlação Idade vs Peso:"
      ]
    },
    {
      "cell_type": "code",
      "metadata": {
        "id": "5ohqUW8jO_9v",
        "outputId": "29d581c3-76ba-4ad7-eb07-5a1602c09662",
        "colab": {
          "base_uri": "https://localhost:8080/",
          "height": 574
        }
      },
      "source": [
        "fig = plt.figure( figsize=(8,6) )\n",
        "\n",
        "plt.plot( array_Idade.dropna(), array_Peso.dropna(), 'o' )\n",
        "plt.xlim( 15, 40 )\n",
        "plt.ylim( 40., 100. )\n",
        "plt.xlabel( \"Idade (anos)\", fontsize=18 )\n",
        "plt.ylabel( \"Peso (kg)\", fontsize=18 )"
      ],
      "execution_count": null,
      "outputs": [
        {
          "output_type": "execute_result",
          "data": {
            "text/plain": [
              "Text(0, 0.5, 'Peso (kg)')"
            ]
          },
          "metadata": {},
          "execution_count": 47
        },
        {
          "output_type": "display_data",
          "data": {
            "text/plain": [
              "<Figure size 800x600 with 1 Axes>"
            ],
            "image/png": "[encoded data removed]"
          },
          "metadata": {}
        }
      ]
    },
    {
      "cell_type": "markdown",
      "metadata": {
        "id": "oElstG7j72ow"
      },
      "source": [
        "Correlação Idade vs Altura:"
      ]
    },
    {
      "cell_type": "code",
      "metadata": {
        "id": "tu60RRsGO-8C",
        "outputId": "4aac9812-b05b-4dd4-8cf8-49e089831b58",
        "colab": {
          "base_uri": "https://localhost:8080/",
          "height": 574
        }
      },
      "source": [
        "fig = plt.figure( figsize=(8,6) )\n",
        "\n",
        "plt.plot( array_Idade.dropna(), array_Altura.dropna(), 'o' )\n",
        "plt.xlim( 15, 55 )\n",
        "plt.ylim( 1.55, 2.00 )\n",
        "plt.xlabel( \"Idade (anos)\", fontsize=18 )\n",
        "plt.ylabel( \"Altura (m)\", fontsize=18 )"
      ],
      "execution_count": null,
      "outputs": [
        {
          "output_type": "execute_result",
          "data": {
            "text/plain": [
              "Text(0, 0.5, 'Altura (m)')"
            ]
          },
          "metadata": {},
          "execution_count": 48
        },
        {
          "output_type": "display_data",
          "data": {
            "text/plain": [
              "<Figure size 800x600 with 1 Axes>"
            ],
            "image/png": "[encoded data removed]"
          },
          "metadata": {}
        }
      ]
    },
    {
      "cell_type": "markdown",
      "metadata": {
        "id": "1mYE-XKC78A5"
      },
      "source": [
        "Correlação Altura vs Peso:"
      ]
    },
    {
      "cell_type": "code",
      "metadata": {
        "id": "Z3BO_y96Oc9X",
        "outputId": "885f214c-3a11-4399-9c2b-99765cdd7a57",
        "colab": {
          "base_uri": "https://localhost:8080/",
          "height": 574
        }
      },
      "source": [
        "fig = plt.figure( figsize=(8,6) )\n",
        "\n",
        "plt.plot( array_Peso.dropna(), array_Altura.dropna(), 'o' )\n",
        "plt.xlim( 40., 100. )\n",
        "plt.ylim( 1.55, 1.85 )\n",
        "plt.xlabel( \"Altura (m)\", fontsize=18 )\n",
        "plt.ylabel( \"Peso (kg)\", fontsize=18 )"
      ],
      "execution_count": null,
      "outputs": [
        {
          "output_type": "execute_result",
          "data": {
            "text/plain": [
              "Text(0, 0.5, 'Peso (kg)')"
            ]
          },
          "metadata": {},
          "execution_count": 49
        },
        {
          "output_type": "display_data",
          "data": {
            "text/plain": [
              "<Figure size 800x600 with 1 Axes>"
            ],
            "image/png": "[encoded data removed]"
          },
          "metadata": {}
        }
      ]
    },
    {
      "cell_type": "markdown",
      "metadata": {
        "id": "PuR39MMf9bve"
      },
      "source": [
        "Cálculo das variâncias:\n"
      ]
    },
    {
      "cell_type": "code",
      "metadata": {
        "id": "3frHMs3X3pue",
        "outputId": "d4c3f7a2-1c7e-453e-ef51-6e3e0d96f491",
        "colab": {
          "base_uri": "https://localhost:8080/"
        }
      },
      "source": [
        "# Diferença entre média dos quadrados e quadrado da média\n",
        "np.mean( array_Idade.dropna() ** 2 ) - np.mean( array_Idade.dropna() ) ** 2"
      ],
      "execution_count": null,
      "outputs": [
        {
          "output_type": "execute_result",
          "data": {
            "text/plain": [
              "26.698961937716206"
            ]
          },
          "metadata": {},
          "execution_count": 50
        }
      ]
    },
    {
      "cell_type": "code",
      "metadata": {
        "id": "JA1pDPD338r-",
        "outputId": "07478a12-2ac4-45e0-cbba-301c1ac2f107",
        "colab": {
          "base_uri": "https://localhost:8080/"
        }
      },
      "source": [
        "np.mean( array_Peso.dropna() ** 2 ) - np.mean( array_Peso.dropna() ) ** 2"
      ],
      "execution_count": null,
      "outputs": [
        {
          "output_type": "execute_result",
          "data": {
            "text/plain": [
              "186.58131487889204"
            ]
          },
          "metadata": {},
          "execution_count": 51
        }
      ]
    },
    {
      "cell_type": "code",
      "metadata": {
        "id": "RbvAcx7l3_ez",
        "outputId": "1ae07a6e-e2fd-4d06-8458-c5278a541ed4",
        "colab": {
          "base_uri": "https://localhost:8080/"
        }
      },
      "source": [
        "np.mean( array_Altura.dropna() ** 2 ) - np.mean( array_Altura.dropna() ) ** 2"
      ],
      "execution_count": null,
      "outputs": [
        {
          "output_type": "execute_result",
          "data": {
            "text/plain": [
              "0.004104498269895451"
            ]
          },
          "metadata": {},
          "execution_count": 52
        }
      ]
    },
    {
      "cell_type": "markdown",
      "metadata": {
        "id": "diQ3GwUO9gKz"
      },
      "source": [
        "Usando NumPy:"
      ]
    },
    {
      "cell_type": "code",
      "metadata": {
        "id": "OEcY4BmYNKk9",
        "outputId": "a30ea78c-7668-4d41-fbd7-f3c48c68d9a6",
        "colab": {
          "base_uri": "https://localhost:8080/"
        }
      },
      "source": [
        "var_Idade = np.var( array_Idade.dropna(), ddof=0 )\n",
        "var_Idade"
      ],
      "execution_count": null,
      "outputs": [
        {
          "output_type": "execute_result",
          "data": {
            "text/plain": [
              "26.698961937716263"
            ]
          },
          "metadata": {},
          "execution_count": 53
        }
      ]
    },
    {
      "cell_type": "code",
      "source": [
        "dp_Idade=np.std( array_Idade.dropna(), ddof=0 )\n",
        "dp_Idade"
      ],
      "metadata": {
        "colab": {
          "base_uri": "https://localhost:8080/"
        },
        "id": "s9iYqTtOW0Pp",
        "outputId": "6f00fe90-92b4-43a3-8d4e-5b91ef0d020c"
      },
      "execution_count": null,
      "outputs": [
        {
          "output_type": "execute_result",
          "data": {
            "text/plain": [
              "5.1671038249406465"
            ]
          },
          "metadata": {},
          "execution_count": 54
        }
      ]
    },
    {
      "cell_type": "code",
      "metadata": {
        "id": "MrsxjlvHNL50",
        "outputId": "016e8fa6-a9de-488d-ff3e-5d177aff8247",
        "colab": {
          "base_uri": "https://localhost:8080/"
        }
      },
      "source": [
        "var_Peso = np.var( array_Peso, ddof=0 )\n",
        "var_Peso"
      ],
      "execution_count": null,
      "outputs": [
        {
          "output_type": "execute_result",
          "data": {
            "text/plain": [
              "186.58131487889273"
            ]
          },
          "metadata": {},
          "execution_count": 55
        }
      ]
    },
    {
      "cell_type": "code",
      "source": [
        "dp_Peso=np.std( array_Peso.dropna(), ddof=0 )\n",
        "dp_Peso"
      ],
      "metadata": {
        "colab": {
          "base_uri": "https://localhost:8080/"
        },
        "id": "n9qMnHIaXZ6O",
        "outputId": "cd8f210d-35ec-4ac5-a3ec-dbb24598e6a3"
      },
      "execution_count": null,
      "outputs": [
        {
          "output_type": "execute_result",
          "data": {
            "text/plain": [
              "13.65947710854602"
            ]
          },
          "metadata": {},
          "execution_count": 56
        }
      ]
    },
    {
      "cell_type": "code",
      "metadata": {
        "id": "MAkHtP6sMda1",
        "outputId": "dccde9ac-26d2-4e64-dee4-07a14cdd4ad6",
        "colab": {
          "base_uri": "https://localhost:8080/"
        }
      },
      "source": [
        "var_Altura = np.var( array_Altura, ddof=0 )\n",
        "var_Altura"
      ],
      "execution_count": null,
      "outputs": [
        {
          "output_type": "execute_result",
          "data": {
            "text/plain": [
              "0.0041044982698961955"
            ]
          },
          "metadata": {},
          "execution_count": 57
        }
      ]
    },
    {
      "cell_type": "code",
      "source": [
        "dp_Altura=np.std( array_Altura.dropna(), ddof=0 )\n",
        "dp_Altura"
      ],
      "metadata": {
        "colab": {
          "base_uri": "https://localhost:8080/"
        },
        "id": "i5itllITXkQ0",
        "outputId": "572b0634-f11e-4d50-f6c7-ce688cf43dd6"
      },
      "execution_count": null,
      "outputs": [
        {
          "output_type": "execute_result",
          "data": {
            "text/plain": [
              "0.06406635833178125"
            ]
          },
          "metadata": {},
          "execution_count": 58
        }
      ]
    },
    {
      "cell_type": "markdown",
      "metadata": {
        "id": "CD-59vvb4T5v"
      },
      "source": [
        "Cálculo das covariâncias:"
      ]
    },
    {
      "cell_type": "code",
      "metadata": {
        "id": "AVpoFaUO4WVO",
        "outputId": "bf40e7eb-928c-456b-cd26-6222a3429b11",
        "colab": {
          "base_uri": "https://localhost:8080/"
        }
      },
      "source": [
        "# Sequência com valores dos produtos dos elementos de mesmo índice dos arrays\n",
        "array_Idade.dropna() * array_Peso.dropna()"
      ],
      "execution_count": null,
      "outputs": [
        {
          "output_type": "execute_result",
          "data": {
            "text/plain": [
              "Índice\n",
              "CARLOS ANDRE ANNECCHINI FERNANDES      3145\n",
              "DANILO SANTOS DE FIGUEREDO              990\n",
              "EDUARDO DE SOUZA SILVA JUNIOR          1404\n",
              "EDUARDO PEREIRA DOS SANTOS             1530\n",
              "FABIO COELHO DIMARI VIEIRA             1350\n",
              "FELIPE CARNEIRO DA ROCHA CARVALHO      1746\n",
              "GABRIELA SANTOS MORAIS                 1500\n",
              "GABRIEL DE MATOS MESIAS                1080\n",
              "GUILHERME FIRMINO DOS SANTOS           1404\n",
              "LUIS GABRIEL DE ARAUJO VASCONCELOS     1220\n",
              "MANOEL MIGUEL DE LIMA SILVA JUNIOR     1922\n",
              "MANUELA CASSIA ANDRADE DE MAGALHAES    1140\n",
              "MARIA EDUARDA MELONI DO VALLE           792\n",
              "MARIA EDUARDA NOVO NOVAES              1411\n",
              "SAMUEL GOMES DE SOUZA HENRIQUE         1300\n",
              "SAMUEL SILVA DE SOUZA                  1440\n",
              "WALTER LINHARES DE SIQUEIRA            1357\n",
              "dtype: int64"
            ]
          },
          "metadata": {},
          "execution_count": 59
        }
      ]
    },
    {
      "cell_type": "code",
      "metadata": {
        "id": "ggLeCV384Wx-",
        "outputId": "8f6f6e6d-77f4-45c5-b695-e3c539b81ea9",
        "colab": {
          "base_uri": "https://localhost:8080/"
        }
      },
      "source": [
        "# Covariância: diferença entre média dos produtos e produto das médias\n",
        "np.mean( array_Idade.dropna() * array_Peso.dropna() ) - np.mean( array_Idade.dropna() ) * np.mean( array_Peso.dropna() )"
      ],
      "execution_count": null,
      "outputs": [
        {
          "output_type": "execute_result",
          "data": {
            "text/plain": [
              "2.183391003459974"
            ]
          },
          "metadata": {},
          "execution_count": 60
        }
      ]
    },
    {
      "cell_type": "code",
      "metadata": {
        "id": "vBWeOKOH5D_x",
        "outputId": "291ea037-60ae-4ada-d1e8-dc6906c19904",
        "colab": {
          "base_uri": "https://localhost:8080/"
        }
      },
      "source": [
        "np.mean( array_Idade.dropna() * array_Altura.dropna() ) - np.mean( array_Idade.dropna() ) * np.mean( array_Altura.dropna() )"
      ],
      "execution_count": null,
      "outputs": [
        {
          "output_type": "execute_result",
          "data": {
            "text/plain": [
              "0.04512110726642504"
            ]
          },
          "metadata": {},
          "execution_count": 61
        }
      ]
    },
    {
      "cell_type": "code",
      "metadata": {
        "id": "yHoapbud5ETx",
        "outputId": "d150ee81-2191-4897-cd6b-be057f4c3149",
        "colab": {
          "base_uri": "https://localhost:8080/"
        }
      },
      "source": [
        "np.mean( array_Peso.dropna() * array_Altura.dropna() ) - np.mean( array_Peso.dropna() ) * np.mean( array_Altura.dropna() )"
      ],
      "execution_count": null,
      "outputs": [
        {
          "output_type": "execute_result",
          "data": {
            "text/plain": [
              "0.24193771626295302"
            ]
          },
          "metadata": {},
          "execution_count": 62
        }
      ]
    },
    {
      "cell_type": "markdown",
      "metadata": {
        "id": "d3S0LWvM5Rlm"
      },
      "source": [
        "Usando NumPy:"
      ]
    },
    {
      "cell_type": "code",
      "metadata": {
        "id": "mSnzM624MR07",
        "outputId": "042f1b4b-56b3-439a-dcbd-2b76e781c724",
        "colab": {
          "base_uri": "https://localhost:8080/"
        }
      },
      "source": [
        "# (Idade, Peso)\n",
        "cov_Idade_Peso = np.cov( array_Idade.dropna(), array_Peso.dropna(), ddof=0 )\n",
        "cov_Idade_Peso"
      ],
      "execution_count": null,
      "outputs": [
        {
          "output_type": "execute_result",
          "data": {
            "text/plain": [
              "array([[ 26.69896194,   2.183391  ],\n",
              "       [  2.183391  , 186.58131488]])"
            ]
          },
          "metadata": {},
          "execution_count": 63
        }
      ]
    },
    {
      "cell_type": "code",
      "metadata": {
        "id": "z3JaVynyOO4V",
        "outputId": "d785e934-4d4b-40e1-e569-ca63f8315641",
        "colab": {
          "base_uri": "https://localhost:8080/"
        }
      },
      "source": [
        "# Variância Idade\n",
        "cov_Idade_Peso[0,0]"
      ],
      "execution_count": null,
      "outputs": [
        {
          "output_type": "execute_result",
          "data": {
            "text/plain": [
              "26.698961937716255"
            ]
          },
          "metadata": {},
          "execution_count": 64
        }
      ]
    },
    {
      "cell_type": "code",
      "metadata": {
        "id": "Iwtl3UZOOO4W",
        "outputId": "03449509-7d84-46db-8029-7ad9ddfca933",
        "colab": {
          "base_uri": "https://localhost:8080/"
        }
      },
      "source": [
        "# Variância Peso\n",
        "cov_Idade_Peso[1,1]"
      ],
      "execution_count": null,
      "outputs": [
        {
          "output_type": "execute_result",
          "data": {
            "text/plain": [
              "186.58131487889273"
            ]
          },
          "metadata": {},
          "execution_count": 65
        }
      ]
    },
    {
      "cell_type": "code",
      "metadata": {
        "id": "pvo-FpbpOO4W",
        "outputId": "150f797e-3477-4bb5-c269-aa1660e5433e",
        "colab": {
          "base_uri": "https://localhost:8080/"
        }
      },
      "source": [
        "# Covariância (Idade,Peso)\n",
        "cov_Idade_Peso[0,1]"
      ],
      "execution_count": null,
      "outputs": [
        {
          "output_type": "execute_result",
          "data": {
            "text/plain": [
              "2.1833910034602066"
            ]
          },
          "metadata": {},
          "execution_count": 66
        }
      ]
    },
    {
      "cell_type": "code",
      "metadata": {
        "id": "_AuoYix9OO4W",
        "outputId": "832b90ec-d0da-47ad-e14e-f4bff7bc3802",
        "colab": {
          "base_uri": "https://localhost:8080/"
        }
      },
      "source": [
        "# Coeficiente de correlação\n",
        "cov_Idade_Peso[0,1] / ( np.sqrt( var_Idade ) * np.sqrt( var_Peso ) )"
      ],
      "execution_count": null,
      "outputs": [
        {
          "output_type": "execute_result",
          "data": {
            "text/plain": [
              "0.030935009499656562"
            ]
          },
          "metadata": {},
          "execution_count": 67
        }
      ]
    },
    {
      "cell_type": "code",
      "metadata": {
        "id": "NCEbDA06JBE_",
        "outputId": "5a6a5354-dfac-4872-dfd2-dc17dbbec2fd",
        "colab": {
          "base_uri": "https://localhost:8080/"
        }
      },
      "source": [
        "# (Idade, Altura)\n",
        "cov_Idade_Altura = np.cov( array_Idade.dropna(), array_Altura.dropna(), ddof=0 )\n",
        "cov_Idade_Altura"
      ],
      "execution_count": null,
      "outputs": [
        {
          "output_type": "execute_result",
          "data": {
            "text/plain": [
              "array([[2.66989619e+01, 4.51211073e-02],\n",
              "       [4.51211073e-02, 4.10449827e-03]])"
            ]
          },
          "metadata": {},
          "execution_count": 68
        }
      ]
    },
    {
      "cell_type": "code",
      "metadata": {
        "id": "U5oMGrxXN-Qi",
        "outputId": "320caddd-7cde-4a42-a2b3-f92d7f094b75",
        "colab": {
          "base_uri": "https://localhost:8080/"
        }
      },
      "source": [
        "# Variância Idade\n",
        "cov_Idade_Altura[0,0]"
      ],
      "execution_count": null,
      "outputs": [
        {
          "output_type": "execute_result",
          "data": {
            "text/plain": [
              "26.698961937716255"
            ]
          },
          "metadata": {},
          "execution_count": 69
        }
      ]
    },
    {
      "cell_type": "code",
      "metadata": {
        "id": "lLNLauhAN-Qq",
        "outputId": "e62afc47-56f7-43c4-aeea-e0c3d225864f",
        "colab": {
          "base_uri": "https://localhost:8080/"
        }
      },
      "source": [
        "# Variância Altura\n",
        "cov_Idade_Altura[1,1]"
      ],
      "execution_count": null,
      "outputs": [
        {
          "output_type": "execute_result",
          "data": {
            "text/plain": [
              "0.0041044982698961955"
            ]
          },
          "metadata": {},
          "execution_count": 70
        }
      ]
    },
    {
      "cell_type": "code",
      "metadata": {
        "id": "-oIr5uPVN-Qq",
        "outputId": "3e2eac10-e7da-4062-a797-8774d5b02d93",
        "colab": {
          "base_uri": "https://localhost:8080/"
        }
      },
      "source": [
        "# Covariância (Idade,Altura)\n",
        "cov_Idade_Altura[0,1]"
      ],
      "execution_count": null,
      "outputs": [
        {
          "output_type": "execute_result",
          "data": {
            "text/plain": [
              "0.045121107266435936"
            ]
          },
          "metadata": {},
          "execution_count": 71
        }
      ]
    },
    {
      "cell_type": "code",
      "metadata": {
        "id": "rhOoYW7FN-Qq",
        "outputId": "41dddae5-7b41-4e05-9384-fd1c986301c4",
        "colab": {
          "base_uri": "https://localhost:8080/"
        }
      },
      "source": [
        "# Coeficiente de correlação\n",
        "cov_Idade_Altura[0,1] / ( np.sqrt( var_Idade ) * np.sqrt( var_Altura ) )"
      ],
      "execution_count": null,
      "outputs": [
        {
          "output_type": "execute_result",
          "data": {
            "text/plain": [
              "0.13630209216028083"
            ]
          },
          "metadata": {},
          "execution_count": 72
        }
      ]
    },
    {
      "cell_type": "code",
      "metadata": {
        "id": "oO8HSqI0I-cW",
        "outputId": "a47f0483-a2ee-4baa-c994-6e5cab1c3dcf",
        "colab": {
          "base_uri": "https://localhost:8080/"
        }
      },
      "source": [
        "# (Peso, Altura)\n",
        "cov_Peso_Altura = np.cov( array_Peso.dropna(), array_Altura.dropna(), ddof=0 )\n",
        "cov_Peso_Altura"
      ],
      "execution_count": null,
      "outputs": [
        {
          "output_type": "execute_result",
          "data": {
            "text/plain": [
              "array([[1.86581315e+02, 2.41937716e-01],\n",
              "       [2.41937716e-01, 4.10449827e-03]])"
            ]
          },
          "metadata": {},
          "execution_count": 73
        }
      ]
    },
    {
      "cell_type": "code",
      "metadata": {
        "id": "cizq8oJDNmc2",
        "outputId": "bba7e559-666e-4f19-f13a-0feb28abc062",
        "colab": {
          "base_uri": "https://localhost:8080/"
        }
      },
      "source": [
        "# Variância Peso\n",
        "cov_Peso_Altura[0,0]"
      ],
      "execution_count": null,
      "outputs": [
        {
          "output_type": "execute_result",
          "data": {
            "text/plain": [
              "186.58131487889273"
            ]
          },
          "metadata": {},
          "execution_count": 74
        }
      ]
    },
    {
      "cell_type": "code",
      "metadata": {
        "id": "FZ79z7OONrXG",
        "outputId": "dc1f5ad3-90ca-413c-c8f1-a258df92ef48",
        "colab": {
          "base_uri": "https://localhost:8080/"
        }
      },
      "source": [
        "# Variância Altura\n",
        "cov_Peso_Altura[1,1]"
      ],
      "execution_count": null,
      "outputs": [
        {
          "output_type": "execute_result",
          "data": {
            "text/plain": [
              "0.0041044982698961955"
            ]
          },
          "metadata": {},
          "execution_count": 75
        }
      ]
    },
    {
      "cell_type": "code",
      "metadata": {
        "id": "dK5TZRaDNr8R",
        "outputId": "5b03b749-1e54-4860-c4dc-538cd0b88dfe",
        "colab": {
          "base_uri": "https://localhost:8080/"
        }
      },
      "source": [
        "# Covariância (Peso,Altura)\n",
        "cov_Peso_Altura[0,1]"
      ],
      "execution_count": null,
      "outputs": [
        {
          "output_type": "execute_result",
          "data": {
            "text/plain": [
              "0.2419377162629758"
            ]
          },
          "metadata": {},
          "execution_count": 76
        }
      ]
    },
    {
      "cell_type": "code",
      "metadata": {
        "id": "7jhndEK8NxiA",
        "outputId": "03884d1f-fae3-4ee9-9a84-938ae4efdc26",
        "colab": {
          "base_uri": "https://localhost:8080/"
        }
      },
      "source": [
        "# Coeficiente de correlação\n",
        "cov_Peso_Altura[0,1] / ( np.sqrt( var_Peso ) * np.sqrt( var_Altura ) )"
      ],
      "execution_count": null,
      "outputs": [
        {
          "output_type": "execute_result",
          "data": {
            "text/plain": [
              "0.2764645579337204"
            ]
          },
          "metadata": {},
          "execution_count": 77
        }
      ]
    },
    {
      "cell_type": "code",
      "metadata": {
        "id": "6L63PcO18qmY"
      },
      "source": [],
      "execution_count": null,
      "outputs": []
    }
  ]
}