{
  "cells": [
    {
      "cell_type": "markdown",
      "metadata": {
        "id": "view-in-github",
        "colab_type": "text"
      },
      "source": [
        "<a href=\"https://colab.research.google.com/github/elizamelo/LabFis04/blob/main/Turma08/LabFis4Espectroscopia_Turma8_g1_2023_2.ipynb\" target=\"_parent\"><img src=\"https://colab.research.google.com/assets/colab-badge.svg\" alt=\"Open In Colab\"/></a>"
      ]
    },
    {
      "cell_type": "code",
      "execution_count": 1,
      "metadata": {
        "id": "eYhZN7qu-fDi"
      },
      "outputs": [],
      "source": [
        "import numpy as np\n",
        "import pandas as pd\n",
        "import math\n",
        "import matplotlib as mpl\n",
        "import matplotlib.pyplot as plt"
      ]
    },
    {
      "cell_type": "markdown",
      "metadata": {
        "id": "wUvzuMB--tNt"
      },
      "source": [
        "Laboratório de Física IV Prática 08 -09 : Espectrocopia I e II"
      ]
    },
    {
      "cell_type": "code",
      "execution_count": 2,
      "metadata": {
        "id": "tfQAD3ni-ijW"
      },
      "outputs": [],
      "source": [
        "# Fonte - ex.: Mercurio - Hg\n",
        "Theta_ref1 =352.0 #graus - espectroscopio 1\n",
        "#Theta_ref2 =347 #graus - espectroscopio 2\n",
        "#Theta_ref3 =256 #graus - espectroscopio 3\n"
      ]
    },
    {
      "cell_type": "code",
      "execution_count": 3,
      "metadata": {
        "colab": {
          "base_uri": "https://localhost:8080/"
        },
        "id": "iz5XzrAbAjBL",
        "outputId": "dc260ee7-4af0-4524-c506-c79670b9c646"
      },
      "outputs": [
        {
          "output_type": "stream",
          "name": "stdout",
          "text": [
            "theta_i_d_1: 7.800000000000011 ;  theta_i_e_1: 7.6 ;  Alinhamento do Esp. 1: 0.2 .\n"
          ]
        }
      ],
      "source": [
        "#Alinhamento\n",
        "x_d_1=359.8\n",
        "x_e_1=344.4\n",
        "\n",
        "#x_d_2=339.7\n",
        "#x_e_2=354.4\n",
        "\n",
        "#x_d_3=263.5\n",
        "#x_e_3=248.6\n",
        "\n",
        "theta_i_d_1 = abs(Theta_ref1-x_d_1)\n",
        "theta_i_e_1 = abs(Theta_ref1-x_e_1)\n",
        "a_esp1=abs(theta_i_d_1-theta_i_e_1)\n",
        "print(\"theta_i_d_1:\", theta_i_d_1,\"; \",\"theta_i_e_1:\",  np.round(theta_i_e_1,1),\"; \",\"Alinhamento do Esp. 1:\",  np.round(a_esp1, 2 ),\".\")\n",
        "\n",
        "#theta_i_d_2 = abs(Theta_ref2-x_d_2)\n",
        "#theta_i_e_2 = abs(Theta_ref2-x_e_2)\n",
        "#a_esp2=abs(theta_i_d_2-theta_i_e_2)\n",
        "#print(\"theta_i_d_2:\", np.round(theta_i_d_2,1),\"; \",\"theta_i_e_2:\",  np.round(theta_i_e_2,1),\"; \",\"Alinhamento do Esp. 2:\",  np.round(a_esp2, 2 ),\".\")\n",
        "\n",
        "#theta_i_d_3 = abs(Theta_ref3-x_d_3)\n",
        "#theta_i_e_3 = abs(Theta_ref3-x_e_3)\n",
        "#a_esp3=abs(theta_i_d_3-theta_i_e_3)\n",
        "#print(\"theta_i_d_3:\", theta_i_d_3,\"; \",\"theta_i_e_3:\", np.round(theta_i_e_3,1),\"; \",\"Alinhamento do Esp. 3:\",  np.round(a_esp3, 2 ),\".\")"
      ]
    },
    {
      "cell_type": "code",
      "execution_count": 4,
      "metadata": {
        "id": "cRZ8hNKxUGll",
        "colab": {
          "base_uri": "https://localhost:8080/"
        },
        "outputId": "5d1f040e-2df8-4dcd-bbb9-f7ef5115c4b3"
      },
      "outputs": [
        {
          "output_type": "stream",
          "name": "stdout",
          "text": [
            "  % Total    % Received % Xferd  Average Speed   Time    Time     Time  Current\n",
            "                                 Dload  Upload   Total   Spent    Left  Speed\n",
            "100   219  100   219    0     0    761      0 --:--:-- --:--:-- --:--:--   763\n"
          ]
        }
      ],
      "source": [
        "!curl -o espectroscopio123turma8-g1.csv https://raw.githubusercontent.com/elizamelo/LabFis04/main/Grupos/espectroscopio123%20-%20turma8-g1.csv\n"
      ]
    },
    {
      "cell_type": "code",
      "source": [
        "\n",
        "\n",
        "dataset = pd.read_csv( \"espectroscopio123turma8-g1.csv\", usecols=[0,1,2], nrows=10,skiprows=1, na_values=[\"0\"],names=[\"A\", \"X\", \"Y\"] )\n",
        "dataset\n",
        "\n"
      ],
      "metadata": {
        "colab": {
          "base_uri": "https://localhost:8080/",
          "height": 332
        },
        "id": "7IrddAMg4r9A",
        "outputId": "11651558-33ba-4ed1-d8ba-4e384602a642"
      },
      "execution_count": 5,
      "outputs": [
        {
          "output_type": "execute_result",
          "data": {
            "text/plain": [
              "      A         X       Y\n",
              "0   7.5  0.130526  4358.3\n",
              "1   7.6  0.132256  4471.0\n",
              "2   8.5  0.147809  5015.0\n",
              "3   9.4  0.163326  5460.7\n",
              "4  10.0  0.173648  5769.6\n",
              "5  10.2  0.177085  5790.7\n",
              "6  10.0  0.173648  5876.0\n",
              "7  11.2  0.194234  6678.0\n",
              "8  12.0  0.207912  7065.0"
            ],
            "text/html": [
              "\n",
              "  <div id=\"df-6da72b89-c679-4352-8ca6-6d6accd369cc\" class=\"colab-df-container\">\n",
              "    <div>\n",
              "<style scoped>\n",
              "    .dataframe tbody tr th:only-of-type {\n",
              "        vertical-align: middle;\n",
              "    }\n",
              "\n",
              "    .dataframe tbody tr th {\n",
              "        vertical-align: top;\n",
              "    }\n",
              "\n",
              "    .dataframe thead th {\n",
              "        text-align: right;\n",
              "    }\n",
              "</style>\n",
              "<table border=\"1\" class=\"dataframe\">\n",
              "  <thead>\n",
              "    <tr style=\"text-align: right;\">\n",
              "      <th></th>\n",
              "      <th>A</th>\n",
              "      <th>X</th>\n",
              "      <th>Y</th>\n",
              "    </tr>\n",
              "  </thead>\n",
              "  <tbody>\n",
              "    <tr>\n",
              "      <th>0</th>\n",
              "      <td>7.5</td>\n",
              "      <td>0.130526</td>\n",
              "      <td>4358.3</td>\n",
              "    </tr>\n",
              "    <tr>\n",
              "      <th>1</th>\n",
              "      <td>7.6</td>\n",
              "      <td>0.132256</td>\n",
              "      <td>4471.0</td>\n",
              "    </tr>\n",
              "    <tr>\n",
              "      <th>2</th>\n",
              "      <td>8.5</td>\n",
              "      <td>0.147809</td>\n",
              "      <td>5015.0</td>\n",
              "    </tr>\n",
              "    <tr>\n",
              "      <th>3</th>\n",
              "      <td>9.4</td>\n",
              "      <td>0.163326</td>\n",
              "      <td>5460.7</td>\n",
              "    </tr>\n",
              "    <tr>\n",
              "      <th>4</th>\n",
              "      <td>10.0</td>\n",
              "      <td>0.173648</td>\n",
              "      <td>5769.6</td>\n",
              "    </tr>\n",
              "    <tr>\n",
              "      <th>5</th>\n",
              "      <td>10.2</td>\n",
              "      <td>0.177085</td>\n",
              "      <td>5790.7</td>\n",
              "    </tr>\n",
              "    <tr>\n",
              "      <th>6</th>\n",
              "      <td>10.0</td>\n",
              "      <td>0.173648</td>\n",
              "      <td>5876.0</td>\n",
              "    </tr>\n",
              "    <tr>\n",
              "      <th>7</th>\n",
              "      <td>11.2</td>\n",
              "      <td>0.194234</td>\n",
              "      <td>6678.0</td>\n",
              "    </tr>\n",
              "    <tr>\n",
              "      <th>8</th>\n",
              "      <td>12.0</td>\n",
              "      <td>0.207912</td>\n",
              "      <td>7065.0</td>\n",
              "    </tr>\n",
              "  </tbody>\n",
              "</table>\n",
              "</div>\n",
              "    <div class=\"colab-df-buttons\">\n",
              "\n",
              "  <div class=\"colab-df-container\">\n",
              "    <button class=\"colab-df-convert\" onclick=\"convertToInteractive('df-6da72b89-c679-4352-8ca6-6d6accd369cc')\"\n",
              "            title=\"Convert this dataframe to an interactive table.\"\n",
              "            style=\"display:none;\">\n",
              "\n",
              "  <svg xmlns=\"http://www.w3.org/2000/svg\" height=\"24px\" viewBox=\"0 -960 960 960\">\n",
              "    <path d=\"M120-120v-720h720v720H120Zm60-500h600v-160H180v160Zm220 220h160v-160H400v160Zm0 220h160v-160H400v160ZM180-400h160v-160H180v160Zm440 0h160v-160H620v160ZM180-180h160v-160H180v160Zm440 0h160v-160H620v160Z\"/>\n",
              "  </svg>\n",
              "    </button>\n",
              "\n",
              "  <style>\n",
              "    .colab-df-container {\n",
              "      display:flex;\n",
              "      gap: 12px;\n",
              "    }\n",
              "\n",
              "    .colab-df-convert {\n",
              "      background-color: #E8F0FE;\n",
              "      border: none;\n",
              "      border-radius: 50%;\n",
              "      cursor: pointer;\n",
              "      display: none;\n",
              "      fill: #1967D2;\n",
              "      height: 32px;\n",
              "      padding: 0 0 0 0;\n",
              "      width: 32px;\n",
              "    }\n",
              "\n",
              "    .colab-df-convert:hover {\n",
              "      background-color: #E2EBFA;\n",
              "      box-shadow: 0px 1px 2px rgba(60, 64, 67, 0.3), 0px 1px 3px 1px rgba(60, 64, 67, 0.15);\n",
              "      fill: #174EA6;\n",
              "    }\n",
              "\n",
              "    .colab-df-buttons div {\n",
              "      margin-bottom: 4px;\n",
              "    }\n",
              "\n",
              "    [theme=dark] .colab-df-convert {\n",
              "      background-color: #3B4455;\n",
              "      fill: #D2E3FC;\n",
              "    }\n",
              "\n",
              "    [theme=dark] .colab-df-convert:hover {\n",
              "      background-color: #434B5C;\n",
              "      box-shadow: 0px 1px 3px 1px rgba(0, 0, 0, 0.15);\n",
              "      filter: drop-shadow(0px 1px 2px rgba(0, 0, 0, 0.3));\n",
              "      fill: #FFFFFF;\n",
              "    }\n",
              "  </style>\n",
              "\n",
              "    <script>\n",
              "      const buttonEl =\n",
              "        document.querySelector('#df-6da72b89-c679-4352-8ca6-6d6accd369cc button.colab-df-convert');\n",
              "      buttonEl.style.display =\n",
              "        google.colab.kernel.accessAllowed ? 'block' : 'none';\n",
              "\n",
              "      async function convertToInteractive(key) {\n",
              "        const element = document.querySelector('#df-6da72b89-c679-4352-8ca6-6d6accd369cc');\n",
              "        const dataTable =\n",
              "          await google.colab.kernel.invokeFunction('convertToInteractive',\n",
              "                                                    [key], {});\n",
              "        if (!dataTable) return;\n",
              "\n",
              "        const docLinkHtml = 'Like what you see? Visit the ' +\n",
              "          '<a target=\"_blank\" href=https://colab.research.google.com/notebooks/data_table.ipynb>data table notebook</a>'\n",
              "          + ' to learn more about interactive tables.';\n",
              "        element.innerHTML = '';\n",
              "        dataTable['output_type'] = 'display_data';\n",
              "        await google.colab.output.renderOutput(dataTable, element);\n",
              "        const docLink = document.createElement('div');\n",
              "        docLink.innerHTML = docLinkHtml;\n",
              "        element.appendChild(docLink);\n",
              "      }\n",
              "    </script>\n",
              "  </div>\n",
              "\n",
              "\n",
              "<div id=\"df-9bbe635b-3f1a-4360-8b73-c8c42b2763a8\">\n",
              "  <button class=\"colab-df-quickchart\" onclick=\"quickchart('df-9bbe635b-3f1a-4360-8b73-c8c42b2763a8')\"\n",
              "            title=\"Suggest charts\"\n",
              "            style=\"display:none;\">\n",
              "\n",
              "<svg xmlns=\"http://www.w3.org/2000/svg\" height=\"24px\"viewBox=\"0 0 24 24\"\n",
              "     width=\"24px\">\n",
              "    <g>\n",
              "        <path d=\"M19 3H5c-1.1 0-2 .9-2 2v14c0 1.1.9 2 2 2h14c1.1 0 2-.9 2-2V5c0-1.1-.9-2-2-2zM9 17H7v-7h2v7zm4 0h-2V7h2v10zm4 0h-2v-4h2v4z\"/>\n",
              "    </g>\n",
              "</svg>\n",
              "  </button>\n",
              "\n",
              "<style>\n",
              "  .colab-df-quickchart {\n",
              "      --bg-color: #E8F0FE;\n",
              "      --fill-color: #1967D2;\n",
              "      --hover-bg-color: #E2EBFA;\n",
              "      --hover-fill-color: #174EA6;\n",
              "      --disabled-fill-color: #AAA;\n",
              "      --disabled-bg-color: #DDD;\n",
              "  }\n",
              "\n",
              "  [theme=dark] .colab-df-quickchart {\n",
              "      --bg-color: #3B4455;\n",
              "      --fill-color: #D2E3FC;\n",
              "      --hover-bg-color: #434B5C;\n",
              "      --hover-fill-color: #FFFFFF;\n",
              "      --disabled-bg-color: #3B4455;\n",
              "      --disabled-fill-color: #666;\n",
              "  }\n",
              "\n",
              "  .colab-df-quickchart {\n",
              "    background-color: var(--bg-color);\n",
              "    border: none;\n",
              "    border-radius: 50%;\n",
              "    cursor: pointer;\n",
              "    display: none;\n",
              "    fill: var(--fill-color);\n",
              "    height: 32px;\n",
              "    padding: 0;\n",
              "    width: 32px;\n",
              "  }\n",
              "\n",
              "  .colab-df-quickchart:hover {\n",
              "    background-color: var(--hover-bg-color);\n",
              "    box-shadow: 0 1px 2px rgba(60, 64, 67, 0.3), 0 1px 3px 1px rgba(60, 64, 67, 0.15);\n",
              "    fill: var(--button-hover-fill-color);\n",
              "  }\n",
              "\n",
              "  .colab-df-quickchart-complete:disabled,\n",
              "  .colab-df-quickchart-complete:disabled:hover {\n",
              "    background-color: var(--disabled-bg-color);\n",
              "    fill: var(--disabled-fill-color);\n",
              "    box-shadow: none;\n",
              "  }\n",
              "\n",
              "  .colab-df-spinner {\n",
              "    border: 2px solid var(--fill-color);\n",
              "    border-color: transparent;\n",
              "    border-bottom-color: var(--fill-color);\n",
              "    animation:\n",
              "      spin 1s steps(1) infinite;\n",
              "  }\n",
              "\n",
              "  @keyframes spin {\n",
              "    0% {\n",
              "      border-color: transparent;\n",
              "      border-bottom-color: var(--fill-color);\n",
              "      border-left-color: var(--fill-color);\n",
              "    }\n",
              "    20% {\n",
              "      border-color: transparent;\n",
              "      border-left-color: var(--fill-color);\n",
              "      border-top-color: var(--fill-color);\n",
              "    }\n",
              "    30% {\n",
              "      border-color: transparent;\n",
              "      border-left-color: var(--fill-color);\n",
              "      border-top-color: var(--fill-color);\n",
              "      border-right-color: var(--fill-color);\n",
              "    }\n",
              "    40% {\n",
              "      border-color: transparent;\n",
              "      border-right-color: var(--fill-color);\n",
              "      border-top-color: var(--fill-color);\n",
              "    }\n",
              "    60% {\n",
              "      border-color: transparent;\n",
              "      border-right-color: var(--fill-color);\n",
              "    }\n",
              "    80% {\n",
              "      border-color: transparent;\n",
              "      border-right-color: var(--fill-color);\n",
              "      border-bottom-color: var(--fill-color);\n",
              "    }\n",
              "    90% {\n",
              "      border-color: transparent;\n",
              "      border-bottom-color: var(--fill-color);\n",
              "    }\n",
              "  }\n",
              "</style>\n",
              "\n",
              "  <script>\n",
              "    async function quickchart(key) {\n",
              "      const quickchartButtonEl =\n",
              "        document.querySelector('#' + key + ' button');\n",
              "      quickchartButtonEl.disabled = true;  // To prevent multiple clicks.\n",
              "      quickchartButtonEl.classList.add('colab-df-spinner');\n",
              "      try {\n",
              "        const charts = await google.colab.kernel.invokeFunction(\n",
              "            'suggestCharts', [key], {});\n",
              "      } catch (error) {\n",
              "        console.error('Error during call to suggestCharts:', error);\n",
              "      }\n",
              "      quickchartButtonEl.classList.remove('colab-df-spinner');\n",
              "      quickchartButtonEl.classList.add('colab-df-quickchart-complete');\n",
              "    }\n",
              "    (() => {\n",
              "      let quickchartButtonEl =\n",
              "        document.querySelector('#df-9bbe635b-3f1a-4360-8b73-c8c42b2763a8 button');\n",
              "      quickchartButtonEl.style.display =\n",
              "        google.colab.kernel.accessAllowed ? 'block' : 'none';\n",
              "    })();\n",
              "  </script>\n",
              "</div>\n",
              "    </div>\n",
              "  </div>\n"
            ]
          },
          "metadata": {},
          "execution_count": 5
        }
      ]
    },
    {
      "cell_type": "code",
      "source": [
        "dataset.dtypes"
      ],
      "metadata": {
        "colab": {
          "base_uri": "https://localhost:8080/"
        },
        "id": "WHjEqhJF9Zov",
        "outputId": "f18e5de0-dbf7-458a-de3a-c8d51942fc5e"
      },
      "execution_count": 6,
      "outputs": [
        {
          "output_type": "execute_result",
          "data": {
            "text/plain": [
              "A    float64\n",
              "X    float64\n",
              "Y    float64\n",
              "dtype: object"
            ]
          },
          "metadata": {},
          "execution_count": 6
        }
      ]
    },
    {
      "cell_type": "code",
      "source": [
        "dataset['X'] = pd.to_numeric(dataset['X'], errors='coerce')\n",
        "dataset['Y'] = pd.to_numeric(dataset['Y'], errors='coerce')\n",
        "\n",
        "dataset.dtypes"
      ],
      "metadata": {
        "colab": {
          "base_uri": "https://localhost:8080/"
        },
        "id": "Smj0UlMz9hDB",
        "outputId": "ad4b6bee-6568-446e-8c31-01e9c9a3daf5"
      },
      "execution_count": 7,
      "outputs": [
        {
          "output_type": "execute_result",
          "data": {
            "text/plain": [
              "A    float64\n",
              "X    float64\n",
              "Y    float64\n",
              "dtype: object"
            ]
          },
          "metadata": {},
          "execution_count": 7
        }
      ]
    },
    {
      "cell_type": "code",
      "execution_count": 8,
      "metadata": {
        "id": "0VKBUXalEudv",
        "colab": {
          "base_uri": "https://localhost:8080/"
        },
        "outputId": "d9624475-8904-49af-bf78-0a8ac5b5df9c"
      },
      "outputs": [
        {
          "output_type": "execute_result",
          "data": {
            "text/plain": [
              "0    0.130526\n",
              "1    0.132256\n",
              "2    0.147809\n",
              "3    0.163326\n",
              "4    0.173648\n",
              "5    0.177085\n",
              "6    0.173648\n",
              "7    0.194234\n",
              "8    0.207912\n",
              "Name: X, dtype: float64"
            ]
          },
          "metadata": {},
          "execution_count": 8
        }
      ],
      "source": [
        "\n",
        "#xdata=dataset['X'] # sen(theta)\n",
        "#ydata=dataset['Y'] # Comprimento de onda (Angtrom)\n",
        "x = dataset[ \"X\" ] # sen(theta)\n",
        "x"
      ]
    },
    {
      "cell_type": "code",
      "source": [
        "y = dataset[ \"Y\" ] #Comprimento de onda em Angstrom\n",
        "y"
      ],
      "metadata": {
        "colab": {
          "base_uri": "https://localhost:8080/"
        },
        "id": "7qjy6xJC5yDP",
        "outputId": "f2f5b433-97c7-42d9-bea9-6e81d06584b2"
      },
      "execution_count": 9,
      "outputs": [
        {
          "output_type": "execute_result",
          "data": {
            "text/plain": [
              "0    4358.3\n",
              "1    4471.0\n",
              "2    5015.0\n",
              "3    5460.7\n",
              "4    5769.6\n",
              "5    5790.7\n",
              "6    5876.0\n",
              "7    6678.0\n",
              "8    7065.0\n",
              "Name: Y, dtype: float64"
            ]
          },
          "metadata": {},
          "execution_count": 9
        }
      ]
    },
    {
      "cell_type": "code",
      "source": [
        "from scipy.optimize import curve_fit\n",
        "\n",
        "def pol1(x, p0, p1):\n",
        "   return p0 + p1*x\n",
        "\n",
        "\n"
      ],
      "metadata": {
        "id": "mrl7d-I067rf"
      },
      "execution_count": 10,
      "outputs": []
    },
    {
      "cell_type": "code",
      "source": [
        "popt_lin, pcov_lin = curve_fit( pol1, x, y, p0=(0.,0.) )\n",
        "print ( popt_lin, pcov_lin )"
      ],
      "metadata": {
        "colab": {
          "base_uri": "https://localhost:8080/"
        },
        "id": "P9x6o7ZB8cFq",
        "outputId": "4bd4679e-5968-4568-aa54-e2f3f2265743"
      },
      "execution_count": 11,
      "outputs": [
        {
          "output_type": "stream",
          "name": "stdout",
          "text": [
            "[ -138.60423799 34477.59492568] [[  44381.759782   -260459.76042494]\n",
            " [-260459.76042494 1562294.90664226]]\n"
          ]
        }
      ]
    },
    {
      "cell_type": "code",
      "source": [
        "print ( \"Coeficiente m' (m): {}\".format( popt_lin[ 1 ] ) )\n",
        "print ( \"Incerteza padrão coeficiente m (m): {}\".format( np.sqrt( pcov_lin[ 1, 1 ] ) ) )\n",
        "print ( \"a = {:.2f} ± {:.2f} (m)\".format( np.round( popt_lin[ 1 ], 2 ), np.round( np.sqrt( pcov_lin[ 1, 1 ] ), 2 ) ) )"
      ],
      "metadata": {
        "colab": {
          "base_uri": "https://localhost:8080/"
        },
        "id": "LSmF4d2GnLOc",
        "outputId": "6308bf37-eeb0-446c-a79a-2a75826d705c"
      },
      "execution_count": 12,
      "outputs": [
        {
          "output_type": "stream",
          "name": "stdout",
          "text": [
            "Coeficiente m' (m): 34477.59492567939\n",
            "Incerteza padrão coeficiente m (m): 1249.9179599646768\n",
            "a = 34477.59 ± 1249.92 (m)\n"
          ]
        }
      ]
    },
    {
      "cell_type": "code",
      "source": [
        "print ( \"Coeficiente b (m): {}\".format( popt_lin[ 0 ] ) )\n",
        "print ( \"Incerteza padrão coeficiente b (m): {}\".format( np.sqrt( pcov_lin[ 0, 0 ] ) ) )\n",
        "print ( \"{} ± {} (m)\".format( np.round( popt_lin[ 0 ], 2 ), np.round( np.sqrt( pcov_lin[ 0, 0 ] ), 2 ) ) )"
      ],
      "metadata": {
        "colab": {
          "base_uri": "https://localhost:8080/"
        },
        "id": "TAi_qWBSnbfA",
        "outputId": "85695399-8e3d-4b19-b61e-f2f72e62a60a"
      },
      "execution_count": 13,
      "outputs": [
        {
          "output_type": "stream",
          "name": "stdout",
          "text": [
            "Coeficiente b (m): -138.60423799068388\n",
            "Incerteza padrão coeficiente b (m): 210.66978848900035\n",
            "-138.6 ± 210.67 (m)\n"
          ]
        }
      ]
    },
    {
      "cell_type": "code",
      "source": [
        "fig = plt.figure( figsize=(12,10) )\n",
        "\n",
        "plt.plot( x, y, 'ko' )\n",
        "plt.plot( x, ( popt_lin[ 0 ]  + popt_lin[ 1 ] * x ), '-g' )\n",
        "plt.xlabel( r\"$sin\\theta$\", fontsize=18)\n",
        "plt.ylabel( r\"$\\lambda(\\AA)$\", fontsize=18 )\n",
        "plt.title('Reta de Calibração - Espectroscopio 1', fontsize=18)\n",
        "\n",
        "plt.text( 0.4, 0.9,\n",
        "          r\"$m' = {} \\pm {}(\\rm{{m}})$\".format( np.round( popt_lin[ 1 ], 2 ), np.round( np.sqrt( pcov_lin[ 1, 1 ] ), 2 ) ),\n",
        "          fontsize=16, transform=plt.gca().transAxes )\n",
        "plt.text( 0.4, 0.85,\n",
        "          r\"$b = {} \\pm {}\\,\\left(\\rm{{m}}\\right)$\".format( np.round( popt_lin[ 0 ], 2 ), np.round( np.sqrt( pcov_lin[ 0, 0 ] ), 2 ) ),\n",
        "          fontsize=16, transform=plt.gca().transAxes )"
      ],
      "metadata": {
        "colab": {
          "base_uri": "https://localhost:8080/",
          "height": 904
        },
        "id": "KA1obezPABeR",
        "outputId": "96088d23-fb43-4f32-c7e6-eb2ebad5ed94"
      },
      "execution_count": 14,
      "outputs": [
        {
          "output_type": "execute_result",
          "data": {
            "text/plain": [
              "Text(0.4, 0.85, '$b = -138.6 \\\\pm 210.67\\\\,\\\\left(\\\\rm{m}\\\\right)$')"
            ]
          },
          "metadata": {},
          "execution_count": 14
        },
        {
          "output_type": "display_data",
          "data": {
            "text/plain": [
              "<Figure size 1200x1000 with 1 Axes>"
            ],
            "image/png": "[encoded data removed]"
          },
          "metadata": {}
        }
      ]
    },
    {
      "cell_type": "code",
      "source": [
        "d=1e-3/300 #m\n",
        "d"
      ],
      "metadata": {
        "colab": {
          "base_uri": "https://localhost:8080/"
        },
        "id": "5AWY0FLVCNNY",
        "outputId": "ce51dbaa-b442-429e-9bc7-3557a1e29adc"
      },
      "execution_count": 15,
      "outputs": [
        {
          "output_type": "execute_result",
          "data": {
            "text/plain": [
              "3.3333333333333333e-06"
            ]
          },
          "metadata": {},
          "execution_count": 15
        }
      ]
    },
    {
      "cell_type": "code",
      "source": [
        "coefa=popt_lin[ 1 ] #Angstrom\n",
        "coefa*1e-10"
      ],
      "metadata": {
        "colab": {
          "base_uri": "https://localhost:8080/"
        },
        "id": "5MjFjnd-Ccqf",
        "outputId": "75b36fd1-ecf9-42c4-8599-9d6763d9c79d"
      },
      "execution_count": 16,
      "outputs": [
        {
          "output_type": "execute_result",
          "data": {
            "text/plain": [
              "3.4477594925679393e-06"
            ]
          },
          "metadata": {},
          "execution_count": 16
        }
      ]
    },
    {
      "cell_type": "code",
      "source": [
        "D= np.abs(d-(coefa*1e-10))/(np.sqrt( pcov_lin[ 1, 1 ]*1e-10))\n",
        "D"
      ],
      "metadata": {
        "colab": {
          "base_uri": "https://localhost:8080/"
        },
        "id": "a-ICSgmaDAIY",
        "outputId": "1acc6575-c7e6-4020-d203-5f0f5dc51697"
      },
      "execution_count": 17,
      "outputs": [
        {
          "output_type": "execute_result",
          "data": {
            "text/plain": [
              "9.154693579876208e-06"
            ]
          },
          "metadata": {},
          "execution_count": 17
        }
      ]
    },
    {
      "cell_type": "markdown",
      "source": [
        "Lâmpada de Hidrogênio - espectro visível\n",
        "\n",
        "Determinar a constante de Rydberg\n",
        "\n",
        "d=1e-3/300 m\n",
        "\n",
        "m=1\n",
        "\n",
        "lambda=d/m *sen(theta)"
      ],
      "metadata": {
        "id": "gq2Budh2_K76"
      }
    },
    {
      "cell_type": "code",
      "source": [
        "R_H=1.097e-3 #A\n",
        "R_H"
      ],
      "metadata": {
        "id": "Hhj4ghK2_Q5O",
        "outputId": "973cfd45-8d75-4cb3-dc9f-a140b19ecf80",
        "colab": {
          "base_uri": "https://localhost:8080/"
        }
      },
      "execution_count": 18,
      "outputs": [
        {
          "output_type": "execute_result",
          "data": {
            "text/plain": [
              "0.001097"
            ]
          },
          "metadata": {},
          "execution_count": 18
        }
      ]
    },
    {
      "cell_type": "code",
      "source": [
        "R_H=1.097e-3 #A\n",
        "R_H"
      ],
      "metadata": {
        "id": "qwIMzTaG_ST4",
        "outputId": "ed296d4c-e243-41dd-9784-5c7e12c2f555",
        "colab": {
          "base_uri": "https://localhost:8080/"
        }
      },
      "execution_count": 19,
      "outputs": [
        {
          "output_type": "execute_result",
          "data": {
            "text/plain": [
              "0.001097"
            ]
          },
          "metadata": {},
          "execution_count": 19
        }
      ]
    },
    {
      "cell_type": "code",
      "execution_count": 45,
      "metadata": {
        "id": "23ATWQyjBDU-",
        "colab": {
          "base_uri": "https://localhost:8080/"
        },
        "outputId": "5240217f-529c-4b36-f06f-e30306baee5c"
      },
      "outputs": [
        {
          "output_type": "stream",
          "name": "stdout",
          "text": [
            "θ_1 = 7.4 °\n",
            "θ_2 = 8.3 °\n",
            "θ_3 = 11.2 °\n"
          ]
        }
      ],
      "source": [
        "thetag_1=7.4 #violeta 2\n",
        "thetag_2=8.3 #azul-esverdeada\n",
        "thetag_3=11.2 #vermelha\n",
        "print(\"\\u03B8_1 =\", thetag_1,\"\\u00B0\")\n",
        "print(\"\\u03B8_2 =\", thetag_2,\"\\u00B0\")\n",
        "print(\"\\u03B8_3 =\", thetag_3,\"\\u00B0\")"
      ]
    },
    {
      "cell_type": "code",
      "source": [
        "thetar_1= np.deg2rad(thetag_1)#violeta 2\n",
        "thetar_2= np.deg2rad(thetag_2) #azul-esverdeada\n",
        "thetar_3= np.deg2rad(thetag_3) #vermelha\n",
        "print(\"\\u03B8_1 =\", thetar_1,\"rad\")\n",
        "print(\"\\u03B8_2 =\", thetar_2,\"rad\")\n",
        "print(\"\\u03B8_3 =\", thetar_3,\"rad\")"
      ],
      "metadata": {
        "id": "YLcOLApB_SC9",
        "outputId": "ad26003d-d7a9-4a20-a89f-e7e7338b5d7c",
        "colab": {
          "base_uri": "https://localhost:8080/"
        }
      },
      "execution_count": 46,
      "outputs": [
        {
          "output_type": "stream",
          "name": "stdout",
          "text": [
            "θ_1 = 0.1291543646475804 rad\n",
            "θ_2 = 0.14486232791552936 rad\n",
            "θ_3 = 0.1954768762233649 rad\n"
          ]
        }
      ]
    },
    {
      "cell_type": "code",
      "source": [
        "or1=((np.sin(thetar_1)) )\n",
        "or2=((np.sin(thetar_2)) )\n",
        "or3=((np.sin(thetar_3)) )\n",
        "print(\"sen\\u03B8_1 =\",or1 ,\"rad\")\n",
        "print(\"sen\\u03B8_2 =\",or2 ,\"rad\")\n",
        "print(\"sen\\u03B8_3 =\",or3 ,\"rad\")\n",
        "o1=np.rad2deg(or1)\n",
        "o2=np.rad2deg(or2)\n",
        "o3=np.rad2deg(or3)\n",
        "print(\"\\u03B8_1 =\", o1,\"\\u00B0\")\n",
        "print(\"\\u03B8_2 =\", o2,\"\\u00B0\")\n",
        "print(\"\\u03B8_3 =\", o3,\"\\u00B0\")"
      ],
      "metadata": {
        "id": "kLCmmEQ6_R3M",
        "outputId": "019b905a-566f-439a-b473-6068fe860b6d",
        "colab": {
          "base_uri": "https://localhost:8080/"
        }
      },
      "execution_count": 47,
      "outputs": [
        {
          "output_type": "stream",
          "name": "stdout",
          "text": [
            "senθ_1 = 0.1287955965775628 rad\n",
            "senθ_2 = 0.1443562010009732 rad\n",
            "senθ_3 = 0.19423435121997196 rad\n",
            "θ_1 = 7.379444103763937 °\n",
            "θ_2 = 8.271001063897955 °\n",
            "θ_3 = 11.128808561366105 °\n"
          ]
        }
      ]
    },
    {
      "cell_type": "code",
      "source": [
        "l_1=(d * or1)\n",
        "l_1"
      ],
      "metadata": {
        "id": "aHxLV7aX_poF",
        "outputId": "45173a5f-7d25-4946-904e-8e3eee6fc490",
        "colab": {
          "base_uri": "https://localhost:8080/"
        }
      },
      "execution_count": 48,
      "outputs": [
        {
          "output_type": "execute_result",
          "data": {
            "text/plain": [
              "4.2931865525854265e-07"
            ]
          },
          "metadata": {},
          "execution_count": 48
        }
      ]
    },
    {
      "cell_type": "code",
      "source": [
        "l_2=(d * or2)\n",
        "l_2"
      ],
      "metadata": {
        "id": "LvmxAkRq_pjp",
        "outputId": "c5a45b04-3880-4dca-836b-e1cb28d26152",
        "colab": {
          "base_uri": "https://localhost:8080/"
        }
      },
      "execution_count": 49,
      "outputs": [
        {
          "output_type": "execute_result",
          "data": {
            "text/plain": [
              "4.811873366699107e-07"
            ]
          },
          "metadata": {},
          "execution_count": 49
        }
      ]
    },
    {
      "cell_type": "code",
      "source": [
        "l_3=(d * or3)\n",
        "l_3"
      ],
      "metadata": {
        "id": "9_vfLoni_pgR",
        "outputId": "21edbafa-ef17-4365-dc1e-a02d5118a7df",
        "colab": {
          "base_uri": "https://localhost:8080/"
        }
      },
      "execution_count": 50,
      "outputs": [
        {
          "output_type": "execute_result",
          "data": {
            "text/plain": [
              "6.474478373999065e-07"
            ]
          },
          "metadata": {},
          "execution_count": 50
        }
      ]
    },
    {
      "cell_type": "code",
      "source": [
        "y1=1/l_1\n",
        "y2=1/l_2\n",
        "y3=1/l_3\n",
        "print(y1,\";\",y2,\";\",y3,\";\")"
      ],
      "metadata": {
        "id": "DcTa0qc8_pcM",
        "outputId": "f2a5472c-15d7-42a2-9b14-e771aa43c6fa",
        "colab": {
          "base_uri": "https://localhost:8080/"
        }
      },
      "execution_count": 51,
      "outputs": [
        {
          "output_type": "stream",
          "name": "stdout",
          "text": [
            "2329272.179886485 ; 2078192.6783871064 ; 1544525.9714140245 ;\n"
          ]
        }
      ]
    },
    {
      "cell_type": "code",
      "source": [
        "x1=(1/4)-(1/25)\n",
        "x2=(1/4)-(1/16)\n",
        "x3=(1/4)-(1/9)\n",
        "print(x1,\";\",x2,\";\",x3,\";\")"
      ],
      "metadata": {
        "id": "cmacRhaA_pWl",
        "outputId": "69308644-4333-4714-d469-5ac0d9553757",
        "colab": {
          "base_uri": "https://localhost:8080/"
        }
      },
      "execution_count": 52,
      "outputs": [
        {
          "output_type": "stream",
          "name": "stdout",
          "text": [
            "0.21 ; 0.1875 ; 0.1388888888888889 ;\n"
          ]
        }
      ]
    },
    {
      "cell_type": "code",
      "source": [
        "x_h=np.array([x1,x2,x3]) # sen(theta)\n",
        "y_h=np.array([y1,y2,y3] )# Comprimento de onda (Angtrom)"
      ],
      "metadata": {
        "id": "Ns55MhPB_pMJ"
      },
      "execution_count": 53,
      "outputs": []
    },
    {
      "cell_type": "code",
      "source": [
        "xhbar = np.mean(x_h) # cálculo da média de x_h\n",
        "yhbar = np.mean(y_h)  # cálculo da média de y_h\n",
        "\n",
        "\n",
        "a_h = np.sum(x_h*(y_h-yhbar))/np.sum(x_h*(x_h-xhbar)) #coef. angular estimado\n",
        "b_h = yhbar - a_h*xhbar #coeficiente linear estimado\n",
        "\n",
        "\n",
        "yhest = a_h*x_h + b_h # função estimada\n",
        "\n",
        "Rh_squared = np.sum((yhest-yhbar)**2)/np.sum((y_h-yhbar)**2) #coef. de determinação\n",
        "print(\"coef. angular (a_h): \", np.round(a_h*1e-7,2),\"1e7/m\")\n",
        "print(\"coeficiente linear (b_h): \", np.round(b_h,2))\n",
        "print(\"Equação da reta: y_h=\",np.round(a_h,2),\"*x_h +\", np.round(b_h,2))"
      ],
      "metadata": {
        "id": "_JFj92_5_ooo",
        "outputId": "abadab3b-f726-4fc3-da0f-9fa243b4ac93",
        "colab": {
          "base_uri": "https://localhost:8080/"
        }
      },
      "execution_count": 54,
      "outputs": [
        {
          "output_type": "stream",
          "name": "stdout",
          "text": [
            "coef. angular (a_h):  1.1 1e7/m\n",
            "coeficiente linear (b_h):  12529.55\n",
            "Equação da reta: y_h= 11026332.37 *x_h + 12529.55\n"
          ]
        }
      ]
    },
    {
      "cell_type": "code",
      "source": [
        "print(\"Equação da reta: y_h=\",np.round(a_h,2),\"*x_h +\", np.round(b_h,2))\n",
        "plt.figure(figsize=(12,10))\n",
        "plt.plot(x_h, yhest, 'r', label = \"fitted curve\")\n",
        "plt.scatter(x_h, y_h, label = \"data\")\n",
        "plt.xlabel(r'$(\\frac{1}{4}-\\frac{1}{n_{i}^{2}})$',fontsize=18 )\n",
        "plt.ylabel(r'$\\frac{1}{\\lambda}(m)$',fontsize=18  )\n",
        "plt.title('Reta - Espectrocopio 1',fontsize=18 )\n",
        "plt.show()"
      ],
      "metadata": {
        "colab": {
          "base_uri": "https://localhost:8080/",
          "height": 926
        },
        "id": "Skvd20FNARgK",
        "outputId": "a5e39057-9a3a-40b4-b0e1-367d0f925915"
      },
      "execution_count": 55,
      "outputs": [
        {
          "output_type": "stream",
          "name": "stdout",
          "text": [
            "Equação da reta: y_h= 11026332.37 *x_h + 12529.55\n"
          ]
        },
        {
          "output_type": "display_data",
          "data": {
            "text/plain": [
              "<Figure size 1200x1000 with 1 Axes>"
            ],
            "image/png": "[encoded data removed]"
          },
          "metadata": {}
        }
      ]
    },
    {
      "cell_type": "code",
      "source": [
        "lambda_1=(3.44e-6*or1-13.86e-9)\n",
        "lambda_1"
      ],
      "metadata": {
        "id": "rcnpM93sARxf",
        "outputId": "b370f6c1-1fe5-4548-b6d2-f9b150f94252",
        "colab": {
          "base_uri": "https://localhost:8080/"
        }
      },
      "execution_count": 56,
      "outputs": [
        {
          "output_type": "execute_result",
          "data": {
            "text/plain": [
              "4.29196852226816e-07"
            ]
          },
          "metadata": {},
          "execution_count": 56
        }
      ]
    },
    {
      "cell_type": "code",
      "source": [
        "lambda_2=(3.44e-6*or2-13.86e-9)\n",
        "lambda_2"
      ],
      "metadata": {
        "id": "-MJnnnbDAR6y",
        "outputId": "f487518a-9c92-4c3a-eec9-b755b39d4a07",
        "colab": {
          "base_uri": "https://localhost:8080/"
        }
      },
      "execution_count": 57,
      "outputs": [
        {
          "output_type": "execute_result",
          "data": {
            "text/plain": [
              "4.827253314433478e-07"
            ]
          },
          "metadata": {},
          "execution_count": 57
        }
      ]
    },
    {
      "cell_type": "code",
      "source": [
        "lambda_3=(3.44e-6*or3-13.86e-9)\n",
        "lambda_3"
      ],
      "metadata": {
        "id": "mcffo3j9Dgch",
        "outputId": "1dcc2285-34a4-4863-a726-27c7efe7175b",
        "colab": {
          "base_uri": "https://localhost:8080/"
        }
      },
      "execution_count": 59,
      "outputs": [
        {
          "output_type": "execute_result",
          "data": {
            "text/plain": [
              "6.543061681967035e-07"
            ]
          },
          "metadata": {},
          "execution_count": 59
        }
      ]
    },
    {
      "cell_type": "code",
      "source": [
        "y_1=1/lambda_1\n",
        "y_2=1/lambda_2\n",
        "y_3=1/lambda_3\n",
        "print(y_1,\";\",y_2,\";\",y_3,\";\")"
      ],
      "metadata": {
        "id": "FmMRgY3fDowG",
        "outputId": "9c26c790-e5bd-4dcc-d345-2f9f067829f6",
        "colab": {
          "base_uri": "https://localhost:8080/"
        }
      },
      "execution_count": 60,
      "outputs": [
        {
          "output_type": "stream",
          "name": "stdout",
          "text": [
            "2329933.2108603953 ; 2071571.4193203866 ; 1528336.5014822402 ;\n"
          ]
        }
      ]
    },
    {
      "cell_type": "code",
      "source": [
        "x_x=np.array([x1,x2,x3]) # sen(theta)\n",
        "y_y=np.array([y_1,y_2,y_3] )# Comprimento de onda (Angtrom)"
      ],
      "metadata": {
        "id": "J5FBbn95Dosp"
      },
      "execution_count": 61,
      "outputs": []
    },
    {
      "cell_type": "code",
      "source": [
        "xxbar = np.mean(x_x) # cálculo da média de x_h\n",
        "yybar = np.mean(y_y)  # cálculo da média de y_h\n",
        "\n",
        "\n",
        "a_r = np.sum(x_h*(y_y-yybar))/np.sum(x_x*(x_x-xxbar)) #coef. angular estimado\n",
        "b_r = yybar - a_r*xxbar #coeficiente linear estimado\n",
        "\n",
        "\n",
        "yrest = a_r*x_x + b_r # função estimada\n",
        "\n",
        "Rr_squared = np.sum((yrest-yybar)**2)/np.sum((y_y-yybar)**2) #coef. de determinação\n",
        "print(\"coef. angular (a_h): \", np.round(a_r*1e-7,2),\"1e7/m\")\n",
        "print(\"coeficiente linear (b_h): \", np.round(b_r,2))\n",
        "print(\"Equação da reta: y_h=\",np.round(a_r,2),\"*x_x +\", np.round(b_r,2))"
      ],
      "metadata": {
        "id": "_ZzndTfKDopF",
        "outputId": "400aae5a-8a61-471b-f8f9-8ae480ec5b5c",
        "colab": {
          "base_uri": "https://localhost:8080/"
        }
      },
      "execution_count": 62,
      "outputs": [
        {
          "output_type": "stream",
          "name": "stdout",
          "text": [
            "coef. angular (a_h):  1.13 1e7/m\n",
            "coeficiente linear (b_h):  -36072.3\n",
            "Equação da reta: y_h= 11256866.34 *x_x + -36072.3\n"
          ]
        }
      ]
    },
    {
      "cell_type": "code",
      "source": [
        "print(\"Equação da reta: y_h=\",np.round(a_r,2),\"*x_h +\", np.round(b_r,2))\n",
        "plt.figure(figsize=(12,10))\n",
        "plt.plot(x_x, yhest, 'r', label = \"fitted curve\")\n",
        "plt.scatter(x_x, y_y, label = \"data\")\n",
        "plt.xlabel(r'$(\\frac{1}{4}-\\frac{1}{n_{i}^{2}})$',fontsize=18 )\n",
        "plt.ylabel(r'$\\frac{1}{\\lambda}(m)$',fontsize=18  )\n",
        "plt.title('Reta - Espectrocopio 1',fontsize=18 )\n",
        "plt.show()"
      ],
      "metadata": {
        "id": "UuuIZNqLDolE",
        "outputId": "e393e066-2391-426f-910b-b35799a6d2be",
        "colab": {
          "base_uri": "https://localhost:8080/",
          "height": 926
        }
      },
      "execution_count": 63,
      "outputs": [
        {
          "output_type": "stream",
          "name": "stdout",
          "text": [
            "Equação da reta: y_h= 11256866.34 *x_h + -36072.3\n"
          ]
        },
        {
          "output_type": "display_data",
          "data": {
            "text/plain": [
              "<Figure size 1200x1000 with 1 Axes>"
            ],
            "image/png": "[encoded data removed]"
          },
          "metadata": {}
        }
      ]
    },
    {
      "cell_type": "code",
      "source": [],
      "metadata": {
        "id": "a-ZFWWQTDoha"
      },
      "execution_count": null,
      "outputs": []
    },
    {
      "cell_type": "code",
      "source": [],
      "metadata": {
        "id": "tMcjRPMGDocs"
      },
      "execution_count": null,
      "outputs": []
    },
    {
      "cell_type": "code",
      "source": [],
      "metadata": {
        "id": "_wGwZXXWDoSx"
      },
      "execution_count": null,
      "outputs": []
    }
  ],
  "metadata": {
    "colab": {
      "provenance": [],
      "authorship_tag": "ABX9TyO7WYPJmAVN3qYMhbwBjMHp",
      "include_colab_link": true
    },
    "kernelspec": {
      "display_name": "Python 3",
      "name": "python3"
    },
    "language_info": {
      "name": "python"
    }
  },
  "nbformat": 4,
  "nbformat_minor": 0
}