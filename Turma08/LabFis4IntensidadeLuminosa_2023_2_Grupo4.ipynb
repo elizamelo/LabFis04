{
  "nbformat": 4,
  "nbformat_minor": 0,
  "metadata": {
    "colab": {
      "provenance": [],
      "authorship_tag": "ABX9TyOJxw6n6ZmqaQ1otvIEEJ8e",
      "include_colab_link": true
    },
    "kernelspec": {
      "name": "python3",
      "display_name": "Python 3"
    },
    "language_info": {
      "name": "python"
    }
  },
  "cells": [
    {
      "cell_type": "markdown",
      "metadata": {
        "id": "view-in-github",
        "colab_type": "text"
      },
      "source": [
        "<a href=\"https://colab.research.google.com/github/elizamelo/LabFis04/blob/main/Turma08/LabFis4IntensidadeLuminosa_2023_2_Grupo4.ipynb\" target=\"_parent\"><img src=\"https://colab.research.google.com/assets/colab-badge.svg\" alt=\"Open In Colab\"/></a>"
      ]
    },
    {
      "cell_type": "code",
      "execution_count": 1,
      "metadata": {
        "id": "ofnSdf-wsbe9"
      },
      "outputs": [],
      "source": [
        "import numpy as np\n",
        "import pandas as pd\n",
        "import math\n",
        "import matplotlib as mpl\n",
        "import matplotlib.pyplot as plt"
      ]
    },
    {
      "cell_type": "markdown",
      "source": [],
      "metadata": {
        "id": "rywg4FTGyAVD"
      }
    },
    {
      "cell_type": "markdown",
      "source": [
        "Laboratório de Física IV\n",
        "\n",
        "Prática 01: Intensidade Luminosa\n",
        "\n",
        "obj.: Verificar a relação: I = C/r^2\n",
        "\n",
        "log (I(r)/I_max) = log(C) - 2.log(r)\n",
        "\n",
        "y=m.x+b\n",
        "\n",
        "y=log (I(r)/I_max); x=log (I(r)/I_max); m_t=-2 e b_t=log(C)\n",
        "\n",
        "Dados do Exemplo: I_max=10 w/m²; I(r)=10,9,8,7,6,5,4,3,2,1; r=?\n",
        "\n",
        "\n",
        "Grupo 01: r=[5.0,5.5,6.0,7.0,8.0,9.0,11.0,13.5,17.9,27.0] turma 3\n",
        "\n",
        "          IR=[1.0,0.9,0.8,0.7,0.6,0.5,0.4,0.3,0.2,0.1]\n",
        "\n",
        "Grupo 02: r=[2.0,2.75,3.2,3.8,4.3,5.15,6.25,7.9,10.4,15.3] turma 3\n",
        "\n",
        "Grupo 03: r=[2.0,2.3,2.9,3.2,4.7,6.10,7.40,9.95,15.05,25.05,63.95] turma 2\n",
        "\n",
        "          IR=[1.0,0.9,0.8,0.7,0.6,0.5,0.4,0.3,0.2,0.1,0,01]\n",
        "\n",
        "Grupo 04: r=[2.0,2.2,2.6,3.0,3.6,4.2,5.2,6.6,8.8,12.6] turma 2\n",
        "\n",
        "          IR=[1.0,0.9,0.8,0.7,0.6,0.5,0.4,0.3,0.2,0.1]\n",
        "\n",
        "Grupo 05: r=[2.0,2.7,3.1,3.4,4.1,4.8,5.8,7.6,9.4,14.2] turma 2\n",
        "\n",
        "          IR=[1.0,0.9,0.8,0.7,0.6,0.5,0.4,0.3,0.2,0.1]"
      ],
      "metadata": {
        "id": "aOVlph-RscLj"
      }
    },
    {
      "cell_type": "code",
      "source": [
        "I_m=10"
      ],
      "metadata": {
        "id": "FqOPNrnjbmtJ"
      },
      "execution_count": 2,
      "outputs": []
    },
    {
      "cell_type": "code",
      "source": [
        "#Distãncia da fonte a fibra óptica\n",
        "#r = [14.0,14.85,16.05,17.55,19.4,21.55,24.8,30.35,37.25,56.9] # cm - grupo 01,\n",
        "#r=[1.9,2.0,2.45,2.51,3.0,3.85,4.5,5.6,7.6,12.9] # cm - grupo 02,\n",
        "r = [0.6,1.5,2.0,3.0,3.8,4.6,5.9,7.9,11.1,16.9] #cm grupo 3,\n",
        "\n"
      ],
      "metadata": {
        "id": "IfyZ3B5Cv1-3"
      },
      "execution_count": 3,
      "outputs": []
    },
    {
      "cell_type": "code",
      "source": [
        "#Intensidades Relativas:\n",
        "\n",
        "IR =[ 1.0,0.9,0.8,0.7,0.6,0.5,0.4,0.3,0.2,0.1]"
      ],
      "metadata": {
        "id": "86GjTtusPE0C"
      },
      "execution_count": 4,
      "outputs": []
    },
    {
      "cell_type": "code",
      "source": [
        "print(r)\n",
        "N_medidas = len(r)\n",
        "print ( \"Número de medidas: {}\".format( N_medidas ) )\n",
        "\n"
      ],
      "metadata": {
        "colab": {
          "base_uri": "https://localhost:8080/"
        },
        "id": "VuDlhoWAb3Si",
        "outputId": "da2405ab-dba1-4ccd-f196-dac583913e2f"
      },
      "execution_count": 5,
      "outputs": [
        {
          "output_type": "stream",
          "name": "stdout",
          "text": [
            "[0.6, 1.5, 2.0, 3.0, 3.8, 4.6, 5.9, 7.9, 11.1, 16.9]\n",
            "Número de medidas: 10\n"
          ]
        }
      ]
    },
    {
      "cell_type": "code",
      "source": [
        "x = np.log10(r)\n",
        "print (\"x=log(r) = \", x)"
      ],
      "metadata": {
        "colab": {
          "base_uri": "https://localhost:8080/"
        },
        "id": "EcxjQqvpdYCX",
        "outputId": "303a1b72-b613-41b5-eb12-2529825dac62"
      },
      "execution_count": 6,
      "outputs": [
        {
          "output_type": "stream",
          "name": "stdout",
          "text": [
            "x=log(r) =  [-0.22184875  0.17609126  0.30103     0.47712125  0.5797836   0.66275783\n",
            "  0.77085201  0.89762709  1.04532298  1.2278867 ]\n"
          ]
        }
      ]
    },
    {
      "cell_type": "code",
      "source": [
        "y=np.log10(IR)\n",
        "print (\"y=log(IR) = \", y)"
      ],
      "metadata": {
        "colab": {
          "base_uri": "https://localhost:8080/"
        },
        "id": "qhKWqp6Sd9F6",
        "outputId": "35054ca6-144b-4949-e9f1-8890c24e1a29"
      },
      "execution_count": 7,
      "outputs": [
        {
          "output_type": "stream",
          "name": "stdout",
          "text": [
            "y=log(IR) =  [ 0.         -0.04575749 -0.09691001 -0.15490196 -0.22184875 -0.30103\n",
            " -0.39794001 -0.52287875 -0.69897    -1.        ]\n"
          ]
        }
      ]
    },
    {
      "cell_type": "code",
      "source": [
        "media_X = x.mean()\n",
        "media_X2 = ( x** 2 ).mean()\n",
        "var_X_populacional = ( x ** 2 ).mean() - ( media_X ** 2 )\n",
        "dp_X_populacional = np.sqrt( var_X_populacional )\n",
        "print ( \"Média (cm): {}\".format( media_X ) )\n",
        "print ( \"Média quadrados(cm²): {}\".format( media_X2 ) )\n",
        "print ( \"Variância (cm²): {}\".format( var_X_populacional ) )\n",
        "print ( \"Desvio padrão (cm): {}\".format( dp_X_populacional ) )\n",
        "\n"
      ],
      "metadata": {
        "colab": {
          "base_uri": "https://localhost:8080/"
        },
        "id": "vhP2Xa4WeTY6",
        "outputId": "891c6f3f-6295-4892-8893-d8a646767e6b"
      },
      "execution_count": 8,
      "outputs": [
        {
          "output_type": "stream",
          "name": "stdout",
          "text": [
            "Média (cm): 0.5916623974454269\n",
            "Média quadrados(cm²): 0.5174238819795779\n",
            "Variância (cm²): 0.16735948942870754\n",
            "Desvio padrão (cm): 0.4090959415940319\n"
          ]
        }
      ]
    },
    {
      "cell_type": "code",
      "source": [
        "media_Y = y.mean()\n",
        "media_Y2 = ( y** 2 ).mean()\n",
        "var_Y_populacional = ( y ** 2 ).mean() - ( media_Y ** 2 )\n",
        "dp_Y_populacional = np.sqrt( var_Y_populacional )\n",
        "print ( \"Média : {}\".format( media_Y ) )\n",
        "print ( \"Média quadrados: {}\".format( media_Y2 ) )\n",
        "print ( \"Variância : {}\".format( var_Y_populacional ) )\n",
        "print ( \"Desvio padrão : {}\".format( dp_Y_populacional ) )"
      ],
      "metadata": {
        "colab": {
          "base_uri": "https://localhost:8080/"
        },
        "id": "ZOTEXRtMf5mm",
        "outputId": "435a042c-7eed-4b60-c7cf-f65be912f758"
      },
      "execution_count": 9,
      "outputs": [
        {
          "output_type": "stream",
          "name": "stdout",
          "text": [
            "Média : -0.3440236967123206\n",
            "Média quadrados: 0.20956333414961897\n",
            "Variância : 0.09121103025000823\n",
            "Desvio padrão : 0.3020116392624765\n"
          ]
        }
      ]
    },
    {
      "cell_type": "code",
      "source": [
        "x_X_y = ( x * y ).mean()\n",
        "cov_populacional = x_X_y - ( media_X * media_Y )\n",
        "coeficiente_correlacao = cov_populacional / ( dp_X_populacional * dp_Y_populacional )\n",
        "print ( \"Covariância (logr × logIr): {}\".format( cov_populacional ) )\n",
        "print ( \"Coeficiente de correlação: {}\".format( coeficiente_correlacao ) )\n"
      ],
      "metadata": {
        "colab": {
          "base_uri": "https://localhost:8080/"
        },
        "id": "Hlnlc-3bgfV7",
        "outputId": "a7511a7f-7117-491b-9a4d-534de3bc83b7"
      },
      "execution_count": 10,
      "outputs": [
        {
          "output_type": "stream",
          "name": "stdout",
          "text": [
            "Covariância (logr × logIr): -0.11384518288830295\n",
            "Coeficiente de correlação: -0.9214373397948014\n"
          ]
        }
      ]
    },
    {
      "cell_type": "markdown",
      "source": [
        "Coeficientes:\n"
      ],
      "metadata": {
        "id": "nXii6u3fhejG"
      }
    },
    {
      "cell_type": "code",
      "source": [
        "coeficiente_m = cov_populacional / var_X_populacional\n",
        "print ( \"Coeficiente m (cm): {}\".format( coeficiente_m ) )\n"
      ],
      "metadata": {
        "colab": {
          "base_uri": "https://localhost:8080/"
        },
        "id": "GHX5jQ4rhOyr",
        "outputId": "a48cb91a-8335-4c30-b6e8-0f34f657cc7e"
      },
      "execution_count": 11,
      "outputs": [
        {
          "output_type": "stream",
          "name": "stdout",
          "text": [
            "Coeficiente m (cm): -0.6802433687920587\n"
          ]
        }
      ]
    },
    {
      "cell_type": "code",
      "source": [
        "\n",
        "coeficiente_b = media_Y - coeficiente_m * media_X # cm\n",
        "print ( \"Coeficiente b (cm): {}\".format( coeficiente_b ) )"
      ],
      "metadata": {
        "colab": {
          "base_uri": "https://localhost:8080/"
        },
        "id": "ObHDPHnCh6Yx",
        "outputId": "554604fc-1ff0-4841-ed1b-01926e7f1c87"
      },
      "execution_count": 12,
      "outputs": [
        {
          "output_type": "stream",
          "name": "stdout",
          "text": [
            "Coeficiente b (cm): 0.058450725713542595\n"
          ]
        }
      ]
    },
    {
      "cell_type": "markdown",
      "source": [
        "Incertezas:"
      ],
      "metadata": {
        "id": "ReIvfc4diKR6"
      }
    },
    {
      "cell_type": "code",
      "source": [
        "arr_desvios_ajuste = ( y - ( coeficiente_m * x + coeficiente_b ) )\n",
        "arr_desvios_ajuste"
      ],
      "metadata": {
        "colab": {
          "base_uri": "https://localhost:8080/"
        },
        "id": "4NQfJBENiH7R",
        "outputId": "da087a22-7262-4c3e-e8c9-ccde70b844eb"
      },
      "execution_count": 13,
      "outputs": [
        {
          "output_type": "execute_result",
          "data": {
            "text/plain": [
              "array([-0.20936187,  0.0155767 ,  0.04941292,  0.11120588,  0.11409447,\n",
              "        0.0913559 ,  0.06797623,  0.02927541, -0.04634671, -0.22318894])"
            ]
          },
          "metadata": {},
          "execution_count": 13
        }
      ]
    },
    {
      "cell_type": "code",
      "source": [
        "print ( arr_desvios_ajuste ** 2 )\n",
        "print ( \"Soma quadrado desvios (cm): {}\".format( ( arr_desvios_ajuste ** 2 ).sum() ) )\n",
        "\n"
      ],
      "metadata": {
        "colab": {
          "base_uri": "https://localhost:8080/"
        },
        "id": "S9SG7RAYiVOC",
        "outputId": "4084d024-8ab8-420b-b089-cf84c8c11ec3"
      },
      "execution_count": 14,
      "outputs": [
        {
          "output_type": "stream",
          "name": "stdout",
          "text": [
            "[0.04383239 0.00024263 0.00244164 0.01236675 0.01301755 0.0083459\n",
            " 0.00462077 0.00085705 0.00214802 0.0498133 ]\n",
            "Soma quadrado desvios (cm): 0.13768599521320976\n"
          ]
        }
      ]
    },
    {
      "cell_type": "code",
      "source": [
        "ep_y_1 = np.sqrt( ( arr_desvios_ajuste ** 2 ).sum() / ( N_medidas - 2 ) )\n",
        "print ( \"epsilon_y = {}\".format( ep_y_1 ) )\n",
        "\n"
      ],
      "metadata": {
        "colab": {
          "base_uri": "https://localhost:8080/"
        },
        "id": "MMFMjDPjinNm",
        "outputId": "a3e1091a-7188-400e-be6c-8be6fdb03f12"
      },
      "execution_count": 15,
      "outputs": [
        {
          "output_type": "stream",
          "name": "stdout",
          "text": [
            "epsilon_y = 0.1311897457945979\n"
          ]
        }
      ]
    },
    {
      "cell_type": "code",
      "source": [
        "ep_y_2 = dp_Y_populacional * np.sqrt( ( N_medidas / ( N_medidas - 2 ) ) * ( 1. - coeficiente_correlacao ** 2 ) )\n",
        "print ( \"epsilon_y = {}\".format( ep_y_2 ) )"
      ],
      "metadata": {
        "colab": {
          "base_uri": "https://localhost:8080/"
        },
        "id": "bP_a0JMdi2-_",
        "outputId": "ccb3d0c0-54f1-49e1-bd7f-58e1316649a1"
      },
      "execution_count": 16,
      "outputs": [
        {
          "output_type": "stream",
          "name": "stdout",
          "text": [
            "epsilon_y = 0.13118974579459805\n"
          ]
        }
      ]
    },
    {
      "cell_type": "code",
      "source": [
        "ep_y = ep_y_2\n",
        "sigma_m = ep_y / ( dp_X_populacional * np.sqrt( N_medidas ) )\n",
        "print ( \"Incerteza padrão coeficiente m (cm): {}\".format( sigma_m ) )\n"
      ],
      "metadata": {
        "colab": {
          "base_uri": "https://localhost:8080/"
        },
        "id": "vBsEY2wii9KB",
        "outputId": "7e45e7b9-6a02-4abe-c708-46a49f61e82d"
      },
      "execution_count": 17,
      "outputs": [
        {
          "output_type": "stream",
          "name": "stdout",
          "text": [
            "Incerteza padrão coeficiente m (cm): 0.10140858419493012\n"
          ]
        }
      ]
    },
    {
      "cell_type": "code",
      "source": [
        "sigma_b = sigma_m * np.sqrt( media_X2 )\n",
        "print ( \"Incerteza padrão coeficiente b (cm): {}\".format( sigma_b ) )"
      ],
      "metadata": {
        "colab": {
          "base_uri": "https://localhost:8080/"
        },
        "id": "uoB0fol_jP0A",
        "outputId": "84c6a611-c7ed-4c89-a7ce-3470977c6d06"
      },
      "execution_count": 18,
      "outputs": [
        {
          "output_type": "stream",
          "name": "stdout",
          "text": [
            "Incerteza padrão coeficiente b (cm): 0.07294540743493495\n"
          ]
        }
      ]
    },
    {
      "cell_type": "markdown",
      "source": [
        "Estimativas para os coeficientes:"
      ],
      "metadata": {
        "id": "mFjAW4NlkJMN"
      }
    },
    {
      "cell_type": "code",
      "source": [
        "print ( \"m = {:.2f} ± {:.2f} (cm)\".format( np.round( coeficiente_m, 2 ), np.round( sigma_m, 2 ) ) )"
      ],
      "metadata": {
        "colab": {
          "base_uri": "https://localhost:8080/"
        },
        "id": "ZQTcRMCzjXu-",
        "outputId": "476288e1-9f96-41c5-a085-55f4c048aae6"
      },
      "execution_count": 19,
      "outputs": [
        {
          "output_type": "stream",
          "name": "stdout",
          "text": [
            "m = -0.68 ± 0.10 (cm)\n"
          ]
        }
      ]
    },
    {
      "cell_type": "code",
      "source": [
        "print ( \"b = {} ± {} (cm)\".format( np.round( coeficiente_b, 2 ), np.round( sigma_b, 2 ) ) )"
      ],
      "metadata": {
        "colab": {
          "base_uri": "https://localhost:8080/"
        },
        "id": "kWetR3UqkPlB",
        "outputId": "a7ab124f-4aa8-47f8-8536-4b1307fbfff7"
      },
      "execution_count": 20,
      "outputs": [
        {
          "output_type": "stream",
          "name": "stdout",
          "text": [
            "b = 0.06 ± 0.07 (cm)\n"
          ]
        }
      ]
    },
    {
      "cell_type": "code",
      "source": [
        "fig = plt.figure( figsize=(12,10) )\n",
        "\n",
        "plt.plot( x, y, 'ko' )\n",
        "plt.plot( x, ( coeficiente_m * x + coeficiente_b ), '-r' )\n",
        "plt.xlabel( r\"$log(r) (\\rm{cm})$\", fontsize=18)\n",
        "plt.ylabel( r\"$log(I/I_{máx})$\", fontsize=18 )\n",
        "\n",
        "plt.text( 0.4, 0.9,\n",
        "          r\"$m = {} \\pm {}\\,\\left(\\rm{{cm}}\\right)$\".format( np.round( coeficiente_m, 2 ), np.round( sigma_m, 2 ) ),\n",
        "          fontsize=14, transform=plt.gca().transAxes )\n",
        "plt.text( 0.4, 0.85,\n",
        "          r\"$b = {} \\pm {}\\,\\left(\\rm{{cm}}\\right)$\".format( np.round( coeficiente_b, 2 ), np.round( sigma_b, 2 ) ),\n",
        "          fontsize=16, transform=plt.gca().transAxes )"
      ],
      "metadata": {
        "colab": {
          "base_uri": "https://localhost:8080/",
          "height": 881
        },
        "id": "D1LfwwYxkbrz",
        "outputId": "06e45684-817b-45b1-ae7b-5e5c649698d2"
      },
      "execution_count": 21,
      "outputs": [
        {
          "output_type": "execute_result",
          "data": {
            "text/plain": [
              "Text(0.4, 0.85, '$b = 0.06 \\\\pm 0.07\\\\,\\\\left(\\\\rm{cm}\\\\right)$')"
            ]
          },
          "metadata": {},
          "execution_count": 21
        },
        {
          "output_type": "display_data",
          "data": {
            "text/plain": [
              "<Figure size 1200x1000 with 1 Axes>"
            ],
            "image/png": "[encoded data removed]"
          },
          "metadata": {}
        }
      ]
    },
    {
      "cell_type": "markdown",
      "source": [
        "Usando um pacote:"
      ],
      "metadata": {
        "id": "-uLhsC2em4kJ"
      }
    },
    {
      "cell_type": "code",
      "source": [
        "from scipy.optimize import curve_fit\n",
        "\n",
        "def pol1(x, p0, p1):\n",
        "   return p0 + p1*x\n",
        "\n",
        "popt_lin, pcov_lin = curve_fit( pol1, x, y, p0=(0.,0.) )\n",
        "print ( popt_lin, pcov_lin )"
      ],
      "metadata": {
        "colab": {
          "base_uri": "https://localhost:8080/"
        },
        "id": "wZsV9rzOm6bM",
        "outputId": "7320c05d-373f-48e0-f261-9ee0c7db8130"
      },
      "execution_count": 22,
      "outputs": [
        {
          "output_type": "stream",
          "name": "stdout",
          "text": [
            "[ 0.05845073 -0.68024337] [[ 0.00532103 -0.00608448]\n",
            " [-0.00608448  0.0102837 ]]\n"
          ]
        }
      ]
    },
    {
      "cell_type": "code",
      "source": [
        "print ( \"Coeficiente m (cm): {}\".format( popt_lin[ 1 ] ) )\n",
        "print ( \"Incerteza padrão coeficiente m (cm): {}\".format( np.sqrt( pcov_lin[ 1, 1 ] ) ) )\n",
        "print ( \"a = {:.2f} ± {:.2f} (cm)\".format( np.round( popt_lin[ 1 ], 2 ), np.round( np.sqrt( pcov_lin[ 1, 1 ] ), 2 ) ) )"
      ],
      "metadata": {
        "colab": {
          "base_uri": "https://localhost:8080/"
        },
        "id": "LSmF4d2GnLOc",
        "outputId": "883afcfe-f404-4796-82e7-29ce12f8f3b3"
      },
      "execution_count": 23,
      "outputs": [
        {
          "output_type": "stream",
          "name": "stdout",
          "text": [
            "Coeficiente m (cm): -0.6802433686722229\n",
            "Incerteza padrão coeficiente m (cm): 0.10140858021427725\n",
            "a = -0.68 ± 0.10 (cm)\n"
          ]
        }
      ]
    },
    {
      "cell_type": "code",
      "source": [
        "print ( \"Coeficiente b (cm): {}\".format( popt_lin[ 0 ] ) )\n",
        "print ( \"Incerteza padrão coeficiente b (cm): {}\".format( np.sqrt( pcov_lin[ 0, 0 ] ) ) )\n",
        "print ( \"{} ± {} (cm)\".format( np.round( popt_lin[ 0 ], 2 ), np.round( np.sqrt( pcov_lin[ 0, 0 ] ), 2 ) ) )"
      ],
      "metadata": {
        "colab": {
          "base_uri": "https://localhost:8080/"
        },
        "id": "TAi_qWBSnbfA",
        "outputId": "2836def8-bd97-49f1-e585-ffa822584eb1"
      },
      "execution_count": 24,
      "outputs": [
        {
          "output_type": "stream",
          "name": "stdout",
          "text": [
            "Coeficiente b (cm): 0.05845072571669126\n",
            "Incerteza padrão coeficiente b (cm): 0.0729454056875346\n",
            "0.06 ± 0.07 (cm)\n"
          ]
        }
      ]
    },
    {
      "cell_type": "code",
      "source": [
        "fig = plt.figure( figsize=(12,10) )\n",
        "\n",
        "plt.plot( x, y, 'ko' )\n",
        "plt.plot( x, ( popt_lin[ 0 ]  + popt_lin[ 1 ] * x ), '-r' )\n",
        "plt.xlabel( r\"$log(r)~(\\rm{{cm}}$\", fontsize=18)\n",
        "plt.ylabel( r\"$log(I/I_{máx})$\", fontsize=18 )\n",
        "\n",
        "plt.text( 0.4, 0.9,\n",
        "          r\"$m = {} \\pm {}(\\rm{{cm}})$\".format( np.round( popt_lin[ 1 ], 2 ), np.round( np.sqrt( pcov_lin[ 1, 1 ] ), 2 ) ),\n",
        "          fontsize=16, transform=plt.gca().transAxes )\n",
        "plt.text( 0.4, 0.85,\n",
        "          r\"$b = {} \\pm {}\\,\\left(\\rm{{cm}}\\right)$\".format( np.round( popt_lin[ 0 ], 2 ), np.round( np.sqrt( pcov_lin[ 0, 0 ] ), 2 ) ),\n",
        "          fontsize=16, transform=plt.gca().transAxes )"
      ],
      "metadata": {
        "colab": {
          "base_uri": "https://localhost:8080/",
          "height": 881
        },
        "id": "YX3VdsGInl0Q",
        "outputId": "6e95269e-882c-421c-c64c-28dbd751f7a9"
      },
      "execution_count": 25,
      "outputs": [
        {
          "output_type": "execute_result",
          "data": {
            "text/plain": [
              "Text(0.4, 0.85, '$b = 0.06 \\\\pm 0.07\\\\,\\\\left(\\\\rm{cm}\\\\right)$')"
            ]
          },
          "metadata": {},
          "execution_count": 25
        },
        {
          "output_type": "display_data",
          "data": {
            "text/plain": [
              "<Figure size 1200x1000 with 1 Axes>"
            ],
            "image/png": "[encoded data removed]"
          },
          "metadata": {}
        }
      ]
    }
  ]
}