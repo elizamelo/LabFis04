{
  "nbformat": 4,
  "nbformat_minor": 0,
  "metadata": {
    "colab": {
      "provenance": [],
      "authorship_tag": "ABX9TyOYYvxa4gLZEbfsVb1vyxcH",
      "include_colab_link": true
    },
    "kernelspec": {
      "name": "python3",
      "display_name": "Python 3"
    },
    "language_info": {
      "name": "python"
    }
  },
  "cells": [
    {
      "cell_type": "markdown",
      "metadata": {
        "id": "view-in-github",
        "colab_type": "text"
      },
      "source": [
        "<a href=\"https://colab.research.google.com/github/elizamelo/LabFis04/blob/main/Turma08/LabFis4Difracao_Turma08_gr01.ipynb\" target=\"_parent\"><img src=\"https://colab.research.google.com/assets/colab-badge.svg\" alt=\"Open In Colab\"/></a>"
      ]
    },
    {
      "cell_type": "code",
      "execution_count": 1,
      "metadata": {
        "id": "ofnSdf-wsbe9"
      },
      "outputs": [],
      "source": [
        "import numpy as np\n",
        "import pandas as pd\n",
        "import math\n",
        "import matplotlib as mpl\n",
        "import matplotlib.pyplot as plt"
      ]
    },
    {
      "cell_type": "markdown",
      "source": [
        "Laboratório de Física IV\n",
        "Prática 06: Difração A\n",
        "pontos de min: asen(theta)= lambda_L_R para m=1,2,3,...\n",
        "\n",
        "a_i=lambda_L_R*D/Dy_i\n",
        "\n",
        "Dados do Exemplo: D=670 (mm); n_i=4; Y_A= 96,Y_B= 44,Y_C= 22,Y_D= 11 (mm);lambda_L_R = 632.8 (nm)\n",
        "\n",
        "Grupo 01: D=1200 (mm); n_A=5,n_B=n_C=n_D=4;Y_A=190 ,Y_B=95 ,Y_C=40 ,Y_D=20 (mm);n_fio=4;Y_fio=45(mm)\n",
        "\n",
        "Grupo 02: D=1010 (mm); n_A=4,n_B=6,n_C=7,n_D=8,n_fio=4;Y_A=155 ,Y_B=105 ,Y_C=59 ,Y_D=33, Y_fio=40(mm).\n",
        "\n",
        "Grupo 03:\n",
        "\n",
        "Grupo 04:\n",
        "\n"
      ],
      "metadata": {
        "id": "aOVlph-RscLj"
      }
    },
    {
      "cell_type": "code",
      "source": [
        "#Comprimento de onda da fonte laser\n",
        "lambda_L_R = 632.8*1e-9 # m"
      ],
      "metadata": {
        "id": "IfyZ3B5Cv1-3"
      },
      "execution_count": 2,
      "outputs": []
    },
    {
      "cell_type": "markdown",
      "source": [
        "Grupo 01 - Turma 08 : Mariana\n",
        "\n",
        "> Indented block\n",
        "\n",
        "\n",
        "\n",
        "\n",
        "---\n",
        "\n",
        "\n",
        "\n"
      ],
      "metadata": {
        "id": "-g6zgJLBucYE"
      }
    },
    {
      "cell_type": "code",
      "source": [
        "#Dinstância entre as fendas e a folha de observação D(mm):\n",
        "\n",
        "D = 1090.0"
      ],
      "metadata": {
        "id": "86GjTtusPE0C"
      },
      "execution_count": 3,
      "outputs": []
    },
    {
      "cell_type": "code",
      "source": [
        "#Dinstância entre as fendas \"d\"(mm):\n",
        "#a_A = 0.02\n",
        "#a_B = 0.04\n",
        "#a_C = 0.08\n",
        "#a_D = 0.16\n"
      ],
      "metadata": {
        "id": "W37Zu2AKyC_X"
      },
      "execution_count": 4,
      "outputs": []
    },
    {
      "cell_type": "code",
      "source": [
        "#Número de configurões da Lâmina \"N\":\n",
        "#N = 4\n",
        "#Número de intervalos de Máximos :\n",
        "n_A = 5\n",
        "n_B = 5\n",
        "n_C = 5\n",
        "n_D = 5\n",
        "n_fio = 5\n",
        "print(\"n_A:\", n_A,\";\"\"n_B:\", n_B,\";\"\"n_C:\", n_C,\";\"\"n_D:\", n_D,\"n_fio:\",n_fio,\".\")"
      ],
      "metadata": {
        "colab": {
          "base_uri": "https://localhost:8080/"
        },
        "id": "tsRDNQiDsl5B",
        "outputId": "3b57ccc4-e664-4d45-c47d-410d4d2fffb0"
      },
      "execution_count": 5,
      "outputs": [
        {
          "output_type": "stream",
          "name": "stdout",
          "text": [
            "n_A: 5 ;n_B: 5 ;n_C: 5 ;n_D: 5 n_fio: 5 .\n"
          ]
        }
      ]
    },
    {
      "cell_type": "code",
      "source": [
        "#Distâncias entre máximos medidos com a régua para cada Configuração (mm):\n",
        "Y_A= 142.0\n",
        "Y_B= 66.0\n",
        "Y_C= 55.0\n",
        "Y_D= 18.0\n",
        "Y_fio = 40.0\n",
        "print(\"Y_A:\", Y_A,\";\"\"Y_B:\", Y_B,\";\"\"Y_C:\", Y_C,\";\"\"Y_D:\", Y_D,\"Y_fio:\",Y_fio,\".\")"
      ],
      "metadata": {
        "colab": {
          "base_uri": "https://localhost:8080/"
        },
        "id": "Hzo7KZ1_tPic",
        "outputId": "46d1e30b-ad65-4940-f30d-0dad1bcaffc5"
      },
      "execution_count": 6,
      "outputs": [
        {
          "output_type": "stream",
          "name": "stdout",
          "text": [
            "Y_A: 142.0 ;Y_B: 66.0 ;Y_C: 55.0 ;Y_D: 18.0 Y_fio: 40.0 .\n"
          ]
        }
      ]
    },
    {
      "cell_type": "code",
      "source": [
        "#Deta_Y para cada Configuração (mm):\n",
        "Dy_A= Y_A/n_A\n",
        "Dy_B= Y_B/n_B\n",
        "Dy_C= Y_C/n_C\n",
        "Dy_D= Y_D/n_D\n",
        "Dy_fio= Y_fio/n_fio\n",
        "print(\"Dy_A:\", Dy_A,\";\"\"Dy_B:\", Dy_B,\";\"\"Dy_C:\", Dy_C,\";\"\"Dy_D:\", Dy_D,\"Dy_fio:\",Dy_fio,\".\")"
      ],
      "metadata": {
        "colab": {
          "base_uri": "https://localhost:8080/"
        },
        "id": "cftwSlMmt193",
        "outputId": "6fb40d1b-022c-4f78-aea4-a764888d412c"
      },
      "execution_count": 7,
      "outputs": [
        {
          "output_type": "stream",
          "name": "stdout",
          "text": [
            "Dy_A: 28.4 ;Dy_B: 13.2 ;Dy_C: 11.0 ;Dy_D: 3.6 Dy_fio: 8.0 .\n"
          ]
        }
      ]
    },
    {
      "cell_type": "code",
      "source": [
        "#largura para cada configuração das fendas(mm)\n",
        "\n",
        "a_A= (lambda_L_R*D/Dy_A)\n",
        "a_B= (lambda_L_R*D/Dy_B)\n",
        "a_C= (lambda_L_R*D/Dy_C)\n",
        "a_D= (lambda_L_R*D/Dy_D)\n",
        "a_fio=(lambda_L_R*D/Dy_fio)\n",
        "print(\"a_A:\", a_A,\";\"\"a_B:\", a_B,\";\"\"a_C:\", a_C,\";\"\"a_D:\", a_D,\"a_fio:\",a_fio,\".\")"
      ],
      "metadata": {
        "colab": {
          "base_uri": "https://localhost:8080/"
        },
        "id": "2OKq2GrcuxWZ",
        "outputId": "6999ca43-e52b-4cbc-93a7-5fee572859a4"
      },
      "execution_count": 8,
      "outputs": [
        {
          "output_type": "stream",
          "name": "stdout",
          "text": [
            "a_A: 2.4287042253521126e-05 ;a_B: 5.2253939393939396e-05 ;a_C: 6.270472727272727e-05 ;a_D: 0.00019159777777777776 a_fio: 8.6219e-05 .\n"
          ]
        }
      ]
    },
    {
      "cell_type": "code",
      "source": [
        "#Passar para mm\n",
        "print(\"a_A:\", np.round(a_A*1e3, 2 ),\"(mm);\"\"a_B:\", np.round(a_B*1e3, 2 ),\"(mm);\"\"a_C:\", np.round(a_C*1e3, 2 ),\"(mm);\"\"a_D:\", np.round(a_D*1e3, 2 ),\"(mm)\",\"a_fio:\",np.round(a_fio*1e3, 2 ),\"(mm).\")\n"
      ],
      "metadata": {
        "colab": {
          "base_uri": "https://localhost:8080/"
        },
        "id": "uFiFCZ3PwoDi",
        "outputId": "dcd0df64-d743-4ac1-e0ab-b64f45396227"
      },
      "execution_count": 9,
      "outputs": [
        {
          "output_type": "stream",
          "name": "stdout",
          "text": [
            "a_A: 0.02 (mm);a_B: 0.05 (mm);a_C: 0.06 (mm);a_D: 0.19 (mm) a_fio: 0.09 (mm).\n"
          ]
        }
      ]
    },
    {
      "cell_type": "markdown",
      "source": [
        "Grupo 02 - Turma 08 : Christian\n"
      ],
      "metadata": {
        "id": "HFiSbol4yib0"
      }
    },
    {
      "cell_type": "code",
      "source": [
        "#Dinstância entre as fendas e a folha de observação D(mm):\n",
        "\n",
        "D = 900.0"
      ],
      "metadata": {
        "id": "HtMAo0NLytZY"
      },
      "execution_count": 10,
      "outputs": []
    },
    {
      "cell_type": "code",
      "source": [
        "#Dinstância entre as fendas \"d\"(mm):\n",
        "#a_A = 0.02\n",
        "#a_B = 0.04\n",
        "#a_C = 0.08\n",
        "#a_D = 0.16"
      ],
      "metadata": {
        "id": "GyAbPkhhyzen"
      },
      "execution_count": 11,
      "outputs": []
    },
    {
      "cell_type": "code",
      "source": [
        "#Número de configurões da Lâmina \"N\":\n",
        "#N = 4\n",
        "#Número de intervalos de Máximos :\n",
        "n_A = 6\n",
        "n_B = 6\n",
        "n_C = 8\n",
        "n_D = 10\n",
        "n_fio = 6\n",
        "print(\"n_A:\", n_A,\";\"\"n_B:\", n_B,\";\"\"n_C:\", n_C,\";\"\"n_D:\", n_D,\"n_fio:\",n_fio,\".\")"
      ],
      "metadata": {
        "colab": {
          "base_uri": "https://localhost:8080/"
        },
        "id": "lgqnZ9cFy3jb",
        "outputId": "dcfd42b4-38e3-4801-a589-bd6051952b4f"
      },
      "execution_count": 12,
      "outputs": [
        {
          "output_type": "stream",
          "name": "stdout",
          "text": [
            "n_A: 6 ;n_B: 6 ;n_C: 8 ;n_D: 10 n_fio: 6 .\n"
          ]
        }
      ]
    },
    {
      "cell_type": "code",
      "source": [
        "#Distâncias entre máximos medidos com a régua para cada Configuração (mm):\n",
        "Y_A= 193.0\n",
        "Y_B= 91.0\n",
        "Y_C= 58.0\n",
        "Y_D= 47.0\n",
        "Y_fio = 42.0\n",
        "print(\"Y_A:\", Y_A,\";\"\"Y_B:\", Y_B,\";\"\"Y_C:\", Y_C,\";\"\"Y_D:\", Y_D,\"Y_fio:\",Y_fio,\".\")"
      ],
      "metadata": {
        "colab": {
          "base_uri": "https://localhost:8080/"
        },
        "id": "h3aPaXVDzAMV",
        "outputId": "3c808f68-7464-47c3-eaa6-9bd9c6645ebb"
      },
      "execution_count": 13,
      "outputs": [
        {
          "output_type": "stream",
          "name": "stdout",
          "text": [
            "Y_A: 193.0 ;Y_B: 91.0 ;Y_C: 58.0 ;Y_D: 47.0 Y_fio: 42.0 .\n"
          ]
        }
      ]
    },
    {
      "cell_type": "code",
      "source": [
        "#Deta_Y para cada Configuração (mm):\n",
        "Dy_A= Y_A/n_A\n",
        "Dy_B= Y_B/n_B\n",
        "Dy_C= Y_C/n_C\n",
        "Dy_D= Y_D/n_D\n",
        "Dy_fio= Y_fio/n_fio\n",
        "print(\"Dy_A:\", Dy_A,\";\"\"Dy_B:\", Dy_B,\";\"\"Dy_C:\", Dy_C,\";\"\"Dy_D:\", Dy_D,\"Dy_fio:\",Dy_fio,\".\")"
      ],
      "metadata": {
        "colab": {
          "base_uri": "https://localhost:8080/"
        },
        "id": "Qs7_PSlhzDTQ",
        "outputId": "43a0bc32-f06c-46f9-f0a3-1e2ebd5663c8"
      },
      "execution_count": 14,
      "outputs": [
        {
          "output_type": "stream",
          "name": "stdout",
          "text": [
            "Dy_A: 32.166666666666664 ;Dy_B: 15.166666666666666 ;Dy_C: 7.25 ;Dy_D: 4.7 Dy_fio: 7.0 .\n"
          ]
        }
      ]
    },
    {
      "cell_type": "code",
      "source": [
        "#largura para cada configuração das fendas(mm)\n",
        "\n",
        "a_A= (lambda_L_R*D/Dy_A)\n",
        "a_B= (lambda_L_R*D/Dy_B)\n",
        "a_C= (lambda_L_R*D/Dy_C)\n",
        "a_D= (lambda_L_R*D/Dy_D)\n",
        "a_fio=(lambda_L_R*D/Dy_fio)\n",
        "print(\"a_A:\", a_A,\";\"\"a_B:\", a_B,\";\"\"a_C:\", a_C,\";\"\"a_D:\", a_D,\"a_fio:\",a_fio,\".\")"
      ],
      "metadata": {
        "colab": {
          "base_uri": "https://localhost:8080/"
        },
        "id": "NV21gJaCzDb1",
        "outputId": "3730f845-d74d-4386-d402-334ba7aa9a2a"
      },
      "execution_count": 15,
      "outputs": [
        {
          "output_type": "stream",
          "name": "stdout",
          "text": [
            "a_A: 1.7705284974093267e-05 ;a_B: 3.7550769230769236e-05 ;a_C: 7.85544827586207e-05 ;a_D: 0.00012117446808510638 a_fio: 8.136000000000001e-05 .\n"
          ]
        }
      ]
    },
    {
      "cell_type": "code",
      "source": [
        "#Passar para mm\n",
        "print(\"a_A:\", np.round(a_A*1e3, 2 ),\"(mm);\"\"a_B:\", np.round(a_B*1e3, 2 ),\"(mm);\"\"a_C:\", np.round(a_C*1e3, 2 ),\"(mm);\"\"a_D:\", np.round(a_D*1e3, 2 ),\"(mm)\",\"a_fio:\",np.round(a_fio*1e3, 2 ),\"(mm).\")\n"
      ],
      "metadata": {
        "colab": {
          "base_uri": "https://localhost:8080/"
        },
        "id": "7eNUmRSazDj6",
        "outputId": "b0922d4e-7586-449a-cb2f-ed59e74ff2b1"
      },
      "execution_count": 16,
      "outputs": [
        {
          "output_type": "stream",
          "name": "stdout",
          "text": [
            "a_A: 0.02 (mm);a_B: 0.04 (mm);a_C: 0.08 (mm);a_D: 0.12 (mm) a_fio: 0.08 (mm).\n"
          ]
        }
      ]
    },
    {
      "cell_type": "markdown",
      "source": [
        "Laboratório de Física IV\n",
        "\n",
        "Prática 07: Difração B - Rede de Difração - Rede de 600linhas/mm\n",
        "\n",
        "-Medir os lambdas observados, pelo menos 4.\n",
        "\n",
        "a=N.d\n",
        "\n",
        "pontos de máx: dsen(theta)= mlambda_i para m=0,1,2,3,...\n",
        "\n",
        "Para m=1\n",
        "\n",
        "d=1,67*1e-6 m\n",
        "\n",
        "Dados do Exemplo: D=94(mm); Y_vip= 21,Y_vin= 22.\n",
        "\n",
        "x = 0.5 #radians\n",
        "\n",
        "result = math.tan(x)\n",
        "\n",
        "print('tan(x) :', result)"
      ],
      "metadata": {
        "id": "TyzwAANAxx40"
      }
    },
    {
      "cell_type": "markdown",
      "source": [
        "Grupo 01 - Turma 08: Brendon, Mariana e Chistian\n",
        "\n",
        "Dados: D= 45 (mm); Y_verp=21,Y_vern=20; Y_lap=17, Y_lan=13, Y_viop=12,Y_vion=10 (mm);"
      ],
      "metadata": {
        "id": "19DBnOQW0nzg"
      }
    },
    {
      "cell_type": "code",
      "source": [
        "d=1e-3/600\n",
        "d"
      ],
      "metadata": {
        "colab": {
          "base_uri": "https://localhost:8080/"
        },
        "id": "39kvUitS2cYG",
        "outputId": "3172e6cc-360b-4d08-cde4-4c10cd6767d3"
      },
      "execution_count": 17,
      "outputs": [
        {
          "output_type": "execute_result",
          "data": {
            "text/plain": [
              "1.6666666666666667e-06"
            ]
          },
          "metadata": {},
          "execution_count": 17
        }
      ]
    },
    {
      "cell_type": "code",
      "source": [
        "#Dinstância entre as fendas e a folha de observação D(mm):\n",
        "\n",
        "D=75 #(mm)\n",
        "D\n",
        "\n"
      ],
      "metadata": {
        "colab": {
          "base_uri": "https://localhost:8080/"
        },
        "id": "bvTpmQlN1mZ2",
        "outputId": "22abbc6c-386d-4866-cf30-8c81f5af643a"
      },
      "execution_count": 18,
      "outputs": [
        {
          "output_type": "execute_result",
          "data": {
            "text/plain": [
              "75"
            ]
          },
          "metadata": {},
          "execution_count": 18
        }
      ]
    },
    {
      "cell_type": "code",
      "source": [
        "  Y_vemp= 18.5 #(mm)\n",
        "  Y_vemn= 17.5 #(mm)\n",
        "  Y_lap= 25  #(mm)\n",
        "  Y_lan= 23.5  #(mm)\n",
        "  Y_azp= 29  #(mm)\n",
        "  Y_azn= 28  #(mm)\n",
        "  Y_viop= 36 #(mm)\n",
        "  Y_vion= 33 #(mm)\n"
      ],
      "metadata": {
        "id": "LH6lUagU1sky"
      },
      "execution_count": 19,
      "outputs": []
    },
    {
      "cell_type": "code",
      "source": [
        "Y_vermelho = (Y_vemp+Y_vemn)/2\n",
        "Y_vermelho #(mm)"
      ],
      "metadata": {
        "colab": {
          "base_uri": "https://localhost:8080/"
        },
        "id": "tABgZUgc0cXx",
        "outputId": "554be508-d187-4c82-bc94-895eff733338"
      },
      "execution_count": 20,
      "outputs": [
        {
          "output_type": "execute_result",
          "data": {
            "text/plain": [
              "18.0"
            ]
          },
          "metadata": {},
          "execution_count": 20
        }
      ]
    },
    {
      "cell_type": "code",
      "source": [
        "Y_laranja = (Y_lap+Y_lan)/2\n",
        "Y_laranja #(mm)"
      ],
      "metadata": {
        "colab": {
          "base_uri": "https://localhost:8080/"
        },
        "id": "W6-BZbnMfh1P",
        "outputId": "a88ac204-8b5e-4b86-d4a1-1b28406f6879"
      },
      "execution_count": 21,
      "outputs": [
        {
          "output_type": "execute_result",
          "data": {
            "text/plain": [
              "24.25"
            ]
          },
          "metadata": {},
          "execution_count": 21
        }
      ]
    },
    {
      "cell_type": "code",
      "source": [
        "Y_azul = (Y_azp+Y_azn)/2\n",
        "Y_azul #(mm"
      ],
      "metadata": {
        "colab": {
          "base_uri": "https://localhost:8080/"
        },
        "id": "OAeKZpwSfieJ",
        "outputId": "d5fb9952-dfd3-46cb-905a-8b4f80f30103"
      },
      "execution_count": 22,
      "outputs": [
        {
          "output_type": "execute_result",
          "data": {
            "text/plain": [
              "28.5"
            ]
          },
          "metadata": {},
          "execution_count": 22
        }
      ]
    },
    {
      "cell_type": "code",
      "source": [
        "Y_violeta=(Y_viop+Y_vion)/2\n",
        "Y_violeta"
      ],
      "metadata": {
        "colab": {
          "base_uri": "https://localhost:8080/"
        },
        "id": "KnNhyAnl2qhS",
        "outputId": "5f013b64-1b2e-41e1-af39-a9d21faf471b"
      },
      "execution_count": 23,
      "outputs": [
        {
          "output_type": "execute_result",
          "data": {
            "text/plain": [
              "34.5"
            ]
          },
          "metadata": {},
          "execution_count": 23
        }
      ]
    },
    {
      "cell_type": "code",
      "source": [
        "x1= Y_vermelho/D\n",
        "x2= Y_laranja/D\n",
        "x3= Y_azul/D\n",
        "x4= Y_violeta/D\n",
        "print(x1,x2,x3,x4)"
      ],
      "metadata": {
        "colab": {
          "base_uri": "https://localhost:8080/"
        },
        "id": "WYToQ6_v0to1",
        "outputId": "9000a528-2d82-4860-ac9d-e6e8d055f173"
      },
      "execution_count": 24,
      "outputs": [
        {
          "output_type": "stream",
          "name": "stdout",
          "text": [
            "0.24 0.3233333333333333 0.38 0.46\n"
          ]
        }
      ]
    },
    {
      "cell_type": "code",
      "source": [
        "theta1=np.arctan(x1)\n",
        "theta2=np.arctan(x2)\n",
        "theta3=np.arctan(x3)\n",
        "theta4=np.arctan(x4)\n",
        "print(theta1,theta2,theta3,theta4)"
      ],
      "metadata": {
        "colab": {
          "base_uri": "https://localhost:8080/"
        },
        "id": "qbg5Nyqw578V",
        "outputId": "dfa7c238-d5e6-40da-cb36-49c6755ec84d"
      },
      "execution_count": 25,
      "outputs": [
        {
          "output_type": "stream",
          "name": "stdout",
          "text": [
            "0.23554498072086333 0.312723718341111 0.36314700994617627 0.4311387407187822\n"
          ]
        }
      ]
    },
    {
      "cell_type": "code",
      "source": [
        "thetag_1= np.rad2deg(theta1)\n",
        "thetag_2= np.rad2deg(theta2)\n",
        "thetag_3= np.rad2deg(theta3)\n",
        "thetag_4= np.rad2deg(theta4)\n",
        "\n",
        "print(\"\\u03B8_1 =\", thetag_1,\"\\u00B0\")\n",
        "print(\"\\u03B8_2 =\", thetag_2,\"\\u00B0\")\n",
        "print(\"\\u03B8_3 =\", thetag_3,\"\\u00B0\")\n",
        "print(\"\\u03B8_4 =\", thetag_4,\"\\u00B0\")"
      ],
      "metadata": {
        "colab": {
          "base_uri": "https://localhost:8080/"
        },
        "id": "RAnmRrLE5e6B",
        "outputId": "75bd1a5a-457d-4821-b1f3-02ef32aadbeb"
      },
      "execution_count": 26,
      "outputs": [
        {
          "output_type": "stream",
          "name": "stdout",
          "text": [
            "θ_1 = 13.495733280795811 °\n",
            "θ_2 = 17.917749214583555 °\n",
            "θ_3 = 20.80679101271123 °\n",
            "θ_4 = 24.702430227771313 °\n"
          ]
        }
      ]
    },
    {
      "cell_type": "code",
      "source": [
        "or1=((np.sin(theta1)) )\n",
        "or2=((np.sin(theta2)) )\n",
        "or3=((np.sin(theta3)) )\n",
        "or4=((np.sin(theta4)) )\n",
        "print(\"sen\\u03B8_1 =\",or1 ,\"rad\")\n",
        "print(\"sen\\u03B8_2 =\",or2 ,\"rad\")\n",
        "print(\"sen\\u03B8_3 =\",or3 ,\"rad\")\n",
        "print(\"sen\\u03B8_4 =\",or4 ,\"rad\")\n",
        "o1=np.rad2deg(or1)\n",
        "o2=np.rad2deg(or2)\n",
        "o3=np.rad2deg(or3)\n",
        "o4=np.rad2deg(or4)\n",
        "print(\"\\u03B8_1 =\", o1,\"\\u00B0\")\n",
        "print(\"\\u03B8_2 =\", o2,\"\\u00B0\")\n",
        "print(\"\\u03B8_3 =\", o3,\"\\u00B0\")\n",
        "print(\"\\u03B8_4 =\", o4,\"\\u00B0\")"
      ],
      "metadata": {
        "colab": {
          "base_uri": "https://localhost:8080/"
        },
        "id": "XkkewR0ngvJO",
        "outputId": "4227d329-e573-45de-bb2d-e257f41c10f8"
      },
      "execution_count": 27,
      "outputs": [
        {
          "output_type": "stream",
          "name": "stdout",
          "text": [
            "senθ_1 = 0.2333729524753242 rad\n",
            "senθ_2 = 0.307651390087764 rad\n",
            "senθ_3 = 0.3552177606235726 rad\n",
            "senθ_4 = 0.4179056082321444 rad\n",
            "θ_1 = 13.371285229343215 °\n",
            "θ_2 = 17.627126213361805 °\n",
            "θ_3 = 20.35247849181907 °\n",
            "θ_4 = 23.944227586549506 °\n"
          ]
        }
      ]
    },
    {
      "cell_type": "code",
      "source": [
        "lambda_Verm = d*(np.sin(theta1))\n",
        "lambda_La = d*(np.sin(theta2))\n",
        "lambda_Az = d*(np.sin(theta3))\n",
        "lambda_Vio = d*(np.sin(theta4))\n",
        "print(lambda_Verm, lambda_La, lambda_Az,lambda_Vio)"
      ],
      "metadata": {
        "colab": {
          "base_uri": "https://localhost:8080/"
        },
        "id": "IHUCZ5LR2JC8",
        "outputId": "cfd515ad-f39d-42ba-a8b6-e7561f82eab1"
      },
      "execution_count": 28,
      "outputs": [
        {
          "output_type": "stream",
          "name": "stdout",
          "text": [
            "3.88954920792207e-07 5.1275231681294e-07 5.920296010392876e-07 6.96509347053574e-07\n"
          ]
        }
      ]
    },
    {
      "cell_type": "code",
      "source": [
        "lambda_Vermelho = d*(or1)\n",
        "lambda_Laranja = d*(or2)\n",
        "lambda_Azul = d*(or3)\n",
        "lambda_Violeta = d*(or4)\n",
        "print(lambda_Vermelho, lambda_Laranja, lambda_Azul,lambda_Violeta)"
      ],
      "metadata": {
        "colab": {
          "base_uri": "https://localhost:8080/"
        },
        "id": "Mzs5E2096RM5",
        "outputId": "094251f0-cfa6-4960-b381-aa1765600637"
      },
      "execution_count": 29,
      "outputs": [
        {
          "output_type": "stream",
          "name": "stdout",
          "text": [
            "3.88954920792207e-07 5.1275231681294e-07 5.920296010392876e-07 6.96509347053574e-07\n"
          ]
        }
      ]
    },
    {
      "cell_type": "code",
      "source": [
        "print(\"lambda_Vermelho:\", np.round(lambda_Vermelho*1e9, 2),\"nm\")\n",
        "print(\"lambda_Laranja:\", np.round(lambda_Laranja*1e9, 2),\"nm\")\n",
        "print(\"lambda_Azul:\", np.round(lambda_Azul*1e9, 2),\"nm\")\n",
        "print(\"lambda_Violeta:\", np.round(lambda_Violeta*1e9, 2),\"nm\")"
      ],
      "metadata": {
        "colab": {
          "base_uri": "https://localhost:8080/"
        },
        "id": "XpO-a5g12w49",
        "outputId": "5b983305-ed47-4b6b-e452-7c194c7d64af"
      },
      "execution_count": 30,
      "outputs": [
        {
          "output_type": "stream",
          "name": "stdout",
          "text": [
            "lambda_Vermelho: 388.95 nm\n",
            "lambda_Laranja: 512.75 nm\n",
            "lambda_Azul: 592.03 nm\n",
            "lambda_Violeta: 696.51 nm\n"
          ]
        }
      ]
    },
    {
      "cell_type": "markdown",
      "source": [
        "Grupo 02 - Turma 08: Cleber, Mateus e Heitor\n",
        "\n",
        "Dados: D= 128 (mm); Y_viop=29,Y_vion=27; Y_azp=39, Y_azn=35, Y_amp=43,Y_amn=43, Y_vermp=53, Y_vermn=51 (mm);"
      ],
      "metadata": {
        "id": "pLKanzyFCAY8"
      }
    },
    {
      "cell_type": "code",
      "source": [
        "d=1e-3/600\n",
        "d"
      ],
      "metadata": {
        "colab": {
          "base_uri": "https://localhost:8080/"
        },
        "outputId": "9fec65ef-f111-4a33-c462-8653edff91a3",
        "id": "V_4QD5bJCAZE"
      },
      "execution_count": 31,
      "outputs": [
        {
          "output_type": "execute_result",
          "data": {
            "text/plain": [
              "1.6666666666666667e-06"
            ]
          },
          "metadata": {},
          "execution_count": 31
        }
      ]
    },
    {
      "cell_type": "code",
      "source": [
        "#Dinstância entre as fendas e a folha de observação D(mm):\n",
        "\n",
        "D=111 #(mm)\n",
        "D\n",
        "\n"
      ],
      "metadata": {
        "colab": {
          "base_uri": "https://localhost:8080/"
        },
        "outputId": "9d167652-6eb9-434e-96b1-3ffd139c6dd2",
        "id": "ojHZ0hpuCAZG"
      },
      "execution_count": 32,
      "outputs": [
        {
          "output_type": "execute_result",
          "data": {
            "text/plain": [
              "111"
            ]
          },
          "metadata": {},
          "execution_count": 32
        }
      ]
    },
    {
      "cell_type": "code",
      "source": [
        "  Y_viop= 32 #(mm)\n",
        "  Y_vion= 30 #(mm)\n",
        "  Y_azp= 43  #(mm)\n",
        "  Y_azn= 38  #(mm)\n",
        "  Y_amp= 47  #(mm)\n",
        "  Y_amn= 38  #(mm)\n",
        "  Y_vemp= 55 #(mm)\n",
        "  Y_vemn= 48 #(mm)\n"
      ],
      "metadata": {
        "id": "rMXqe0ahCAZH"
      },
      "execution_count": 33,
      "outputs": []
    },
    {
      "cell_type": "code",
      "source": [
        "Y_vermelho = (Y_vemp+Y_vemn)/2\n",
        "Y_vermelho #(mm)"
      ],
      "metadata": {
        "colab": {
          "base_uri": "https://localhost:8080/"
        },
        "outputId": "821e2939-5b37-4c66-ea0b-5368b61d6d3e",
        "id": "MWu4HZn-CAZH"
      },
      "execution_count": 34,
      "outputs": [
        {
          "output_type": "execute_result",
          "data": {
            "text/plain": [
              "51.5"
            ]
          },
          "metadata": {},
          "execution_count": 34
        }
      ]
    },
    {
      "cell_type": "code",
      "source": [
        "Y_amarelo = (Y_amp+Y_amn)/2\n",
        "Y_amarelo #(mm)"
      ],
      "metadata": {
        "colab": {
          "base_uri": "https://localhost:8080/"
        },
        "outputId": "9f7ceb3c-0c3f-4e93-fc61-ff0861e3ad27",
        "id": "s0arUQqLCAZJ"
      },
      "execution_count": 35,
      "outputs": [
        {
          "output_type": "execute_result",
          "data": {
            "text/plain": [
              "42.5"
            ]
          },
          "metadata": {},
          "execution_count": 35
        }
      ]
    },
    {
      "cell_type": "code",
      "source": [
        "Y_azul = (Y_azp+Y_azn)/2\n",
        "Y_azul #(mm"
      ],
      "metadata": {
        "colab": {
          "base_uri": "https://localhost:8080/"
        },
        "outputId": "2ff183ea-50b2-4ba0-f978-7971c7ca5423",
        "id": "4m3hcBbXCAZJ"
      },
      "execution_count": 36,
      "outputs": [
        {
          "output_type": "execute_result",
          "data": {
            "text/plain": [
              "40.5"
            ]
          },
          "metadata": {},
          "execution_count": 36
        }
      ]
    },
    {
      "cell_type": "code",
      "source": [
        "Y_violeta=(Y_viop+Y_vion)/2\n",
        "Y_violeta"
      ],
      "metadata": {
        "colab": {
          "base_uri": "https://localhost:8080/"
        },
        "outputId": "3b92e53f-4fdc-482b-96b4-c273ecbbcc31",
        "id": "CjS0ktghCAZM"
      },
      "execution_count": 37,
      "outputs": [
        {
          "output_type": "execute_result",
          "data": {
            "text/plain": [
              "31.0"
            ]
          },
          "metadata": {},
          "execution_count": 37
        }
      ]
    },
    {
      "cell_type": "code",
      "source": [
        "x1= Y_vermelho/D\n",
        "x2= Y_amarelo/D\n",
        "x3= Y_azul/D\n",
        "x4= Y_violeta/D\n",
        "print(x1,x2,x3,x4)"
      ],
      "metadata": {
        "colab": {
          "base_uri": "https://localhost:8080/"
        },
        "outputId": "339169be-53c7-4e8a-9892-34bfca6e8d24",
        "id": "LAbAyNNGCAZM"
      },
      "execution_count": 38,
      "outputs": [
        {
          "output_type": "stream",
          "name": "stdout",
          "text": [
            "0.46396396396396394 0.38288288288288286 0.36486486486486486 0.27927927927927926\n"
          ]
        }
      ]
    },
    {
      "cell_type": "code",
      "source": [
        "theta1=np.arctan(x1)\n",
        "theta2=np.arctan(x2)\n",
        "theta3=np.arctan(x3)\n",
        "theta4=np.arctan(x4)\n",
        "print(theta1,theta2,theta3,theta4)"
      ],
      "metadata": {
        "colab": {
          "base_uri": "https://localhost:8080/"
        },
        "outputId": "48c6e3b8-6b3c-4983-e406-a826c5e3ac98",
        "id": "JWWnHuVCCAZN"
      },
      "execution_count": 39,
      "outputs": [
        {
          "output_type": "stream",
          "name": "stdout",
          "text": [
            "0.43440548980797666 0.365663717176949 0.349855601857098 0.2723402539884094\n"
          ]
        }
      ]
    },
    {
      "cell_type": "code",
      "source": [
        "thetag_1= np.rad2deg(theta1)\n",
        "thetag_2= np.rad2deg(theta2)\n",
        "thetag_3= np.rad2deg(theta3)\n",
        "thetag_4= np.rad2deg(theta4)\n",
        "\n",
        "print(\"\\u03B8_1 =\", thetag_1,\"\\u00B0\")\n",
        "print(\"\\u03B8_2 =\", thetag_2,\"\\u00B0\")\n",
        "print(\"\\u03B8_3 =\", thetag_3,\"\\u00B0\")\n",
        "print(\"\\u03B8_4 =\", thetag_4,\"\\u00B0\")"
      ],
      "metadata": {
        "colab": {
          "base_uri": "https://localhost:8080/"
        },
        "outputId": "8dff7cbb-6993-4b30-8edd-08e231607807",
        "id": "YFHjzMUNCAZO"
      },
      "execution_count": 40,
      "outputs": [
        {
          "output_type": "stream",
          "name": "stdout",
          "text": [
            "θ_1 = 24.88960116331036 °\n",
            "θ_2 = 20.950987715304564 °\n",
            "θ_3 = 20.045249425421 °\n",
            "θ_4 = 15.603947145056743 °\n"
          ]
        }
      ]
    },
    {
      "cell_type": "code",
      "source": [
        "or1=((np.sin(theta1)) )\n",
        "or2=((np.sin(theta2)) )\n",
        "or3=((np.sin(theta3)) )\n",
        "or4=((np.sin(theta4)) )\n",
        "print(\"sen\\u03B8_1 =\",or1 ,\"rad\")\n",
        "print(\"sen\\u03B8_2 =\",or2 ,\"rad\")\n",
        "print(\"sen\\u03B8_3 =\",or3 ,\"rad\")\n",
        "print(\"sen\\u03B8_4 =\",or4 ,\"rad\")\n",
        "o1=np.rad2deg(or1)\n",
        "o2=np.rad2deg(or2)\n",
        "o3=np.rad2deg(or3)\n",
        "o4=np.rad2deg(or4)\n",
        "print(\"\\u03B8_1 =\", o1,\"\\u00B0\")\n",
        "print(\"\\u03B8_2 =\", o2,\"\\u00B0\")\n",
        "print(\"\\u03B8_3 =\", o3,\"\\u00B0\")\n",
        "print(\"\\u03B8_4 =\", o4,\"\\u00B0\")"
      ],
      "metadata": {
        "colab": {
          "base_uri": "https://localhost:8080/"
        },
        "outputId": "d429e2ac-80d2-4301-d6b4-3ebd8bd2354c",
        "id": "tl31nyl5CAZP"
      },
      "execution_count": 41,
      "outputs": [
        {
          "output_type": "stream",
          "name": "stdout",
          "text": [
            "senθ_1 = 0.42087118344327684 rad\n",
            "senθ_2 = 0.35756920979533624 rad\n",
            "senθ_3 = 0.34276216020584394 rad\n",
            "senθ_4 = 0.2689861728986474 rad\n",
            "θ_1 = 24.114142529976014 °\n",
            "θ_2 = 20.48720660510066 °\n",
            "θ_3 = 19.638825156581834 °\n",
            "θ_4 = 15.411772454468741 °\n"
          ]
        }
      ]
    },
    {
      "cell_type": "code",
      "source": [
        "lambda_Verm = d*(np.sin(theta1))\n",
        "lambda_Am = d*(np.sin(theta2))\n",
        "lambda_Az = d*(np.sin(theta3))\n",
        "lambda_Vio = d*(np.sin(theta4))\n",
        "print(lambda_Verm, lambda_Am, lambda_Az,lambda_Vio)"
      ],
      "metadata": {
        "colab": {
          "base_uri": "https://localhost:8080/"
        },
        "outputId": "f6c95692-6023-4aad-b71e-e29e71bd0051",
        "id": "JN5HyggRCAZQ"
      },
      "execution_count": 42,
      "outputs": [
        {
          "output_type": "stream",
          "name": "stdout",
          "text": [
            "7.014519724054614e-07 5.959486829922271e-07 5.712702670097399e-07 4.4831028816441233e-07\n"
          ]
        }
      ]
    },
    {
      "cell_type": "code",
      "source": [
        "lambda_Vermelho = d*(or1)\n",
        "lambda_Amarelo = d*(or2)\n",
        "lambda_Azul = d*(or3)\n",
        "lambda_Violeta = d*(or4)\n",
        "print(lambda_Vermelho, lambda_Amarelo, lambda_Azul,lambda_Violeta)"
      ],
      "metadata": {
        "colab": {
          "base_uri": "https://localhost:8080/"
        },
        "outputId": "5622322c-c690-4011-8902-13d126f51d71",
        "id": "2nZw-HFeCAZR"
      },
      "execution_count": 43,
      "outputs": [
        {
          "output_type": "stream",
          "name": "stdout",
          "text": [
            "7.014519724054614e-07 5.959486829922271e-07 5.712702670097399e-07 4.4831028816441233e-07\n"
          ]
        }
      ]
    },
    {
      "cell_type": "code",
      "source": [
        "print(\"lambda_Vermelho:\", np.round(lambda_Vermelho*1e9, 2),\"nm\")\n",
        "print(\"lambda_Amarelo:\", np.round(lambda_Amarelo*1e9, 2),\"nm\")\n",
        "print(\"lambda_Azul:\", np.round(lambda_Azul*1e9, 2),\"nm\")\n",
        "print(\"lambda_Violeta:\", np.round(lambda_Violeta*1e9, 2),\"nm\")"
      ],
      "metadata": {
        "colab": {
          "base_uri": "https://localhost:8080/"
        },
        "outputId": "582f5104-4ff6-4533-b47b-5741a03b40f0",
        "id": "5EzNj66cCAZR"
      },
      "execution_count": 44,
      "outputs": [
        {
          "output_type": "stream",
          "name": "stdout",
          "text": [
            "lambda_Vermelho: 701.45 nm\n",
            "lambda_Amarelo: 595.95 nm\n",
            "lambda_Azul: 571.27 nm\n",
            "lambda_Violeta: 448.31 nm\n"
          ]
        }
      ]
    },
    {
      "cell_type": "markdown",
      "source": [
        "Difração em fenda Circular\n",
        "\n",
        "Determinação de orifícios circulares\n",
        "\n",
        "*  Coloque um dos orifícios circulares no caminho do feixe laser, e observe a figura de difração formada;\n",
        "*  Meça o diametro do primeiro anel de mínimo, e com isto determine o diâmetro do orifício, através da expressão d*sen(theta)=1.22*lambda.\n",
        "\n",
        "theta= arctg(r/D)\n",
        "y=2*r\n",
        "\n",
        "\n",
        "\n"
      ],
      "metadata": {
        "id": "iJ2ySpYv3pWM"
      }
    },
    {
      "cell_type": "code",
      "source": [
        "#Dinstância entre as fendas e a folha de observação D(mm):\n",
        "D=2680.0"
      ],
      "metadata": {
        "id": "FnKkC_nf8Mdq"
      },
      "execution_count": 45,
      "outputs": []
    },
    {
      "cell_type": "code",
      "source": [
        "#diâmetro do primeiro anel de minimo para o segundo orificio da lâmina (mm)\n",
        "y=3\n",
        "r=y/2\n",
        "r"
      ],
      "metadata": {
        "colab": {
          "base_uri": "https://localhost:8080/"
        },
        "id": "4bMixXOJ7slv",
        "outputId": "5a1e5ff0-4949-4f9f-c310-984078d86d21"
      },
      "execution_count": 46,
      "outputs": [
        {
          "output_type": "execute_result",
          "data": {
            "text/plain": [
              "1.5"
            ]
          },
          "metadata": {},
          "execution_count": 46
        }
      ]
    },
    {
      "cell_type": "code",
      "source": [
        "theta = (np.arctan(r/D))\n",
        "theta"
      ],
      "metadata": {
        "colab": {
          "base_uri": "https://localhost:8080/"
        },
        "id": "f4OmB0WQ8CCY",
        "outputId": "e94e81fb-1caf-4d44-c864-90c4ec680690"
      },
      "execution_count": 47,
      "outputs": [
        {
          "output_type": "execute_result",
          "data": {
            "text/plain": [
              "0.0005597014340922199"
            ]
          },
          "metadata": {},
          "execution_count": 47
        }
      ]
    },
    {
      "cell_type": "code",
      "source": [
        "diametro=(1.22*lambda_L_R)/(np.sin(theta)) #primeiro min\n",
        "diametro"
      ],
      "metadata": {
        "colab": {
          "base_uri": "https://localhost:8080/"
        },
        "id": "4_vZbmda8clj",
        "outputId": "30ae36b4-60bd-46a4-9746-584c12c66120"
      },
      "execution_count": 48,
      "outputs": [
        {
          "output_type": "execute_result",
          "data": {
            "text/plain": [
              "0.00137933546938257"
            ]
          },
          "metadata": {},
          "execution_count": 48
        }
      ]
    },
    {
      "cell_type": "code",
      "source": [
        "diametro2=(2.23*lambda_L_R)/(np.sin(theta)) #segundo min\n",
        "diametro2"
      ],
      "metadata": {
        "colab": {
          "base_uri": "https://localhost:8080/"
        },
        "id": "aVFDyB7C9Ahd",
        "outputId": "4cac703c-84d2-4300-bf30-7a11dedba73c"
      },
      "execution_count": 49,
      "outputs": [
        {
          "output_type": "execute_result",
          "data": {
            "text/plain": [
              "0.002521244341576337"
            ]
          },
          "metadata": {},
          "execution_count": 49
        }
      ]
    },
    {
      "cell_type": "code",
      "source": [
        "diametro3=(3.24*lambda_L_R)/(np.sin(theta)) #terceiro min\n",
        "diametro3"
      ],
      "metadata": {
        "colab": {
          "base_uri": "https://localhost:8080/"
        },
        "id": "zao-Vu3LM8Uu",
        "outputId": "ea012c2d-999a-4caf-e912-0a98e2548214"
      },
      "execution_count": 50,
      "outputs": [
        {
          "output_type": "execute_result",
          "data": {
            "text/plain": [
              "0.003663153213770104"
            ]
          },
          "metadata": {},
          "execution_count": 50
        }
      ]
    },
    {
      "cell_type": "code",
      "source": [
        "t1=(1.22*lambda_L_R)/(0.5*1e-3)\n",
        "t1"
      ],
      "metadata": {
        "colab": {
          "base_uri": "https://localhost:8080/"
        },
        "id": "Sc9uOk_9HdCc",
        "outputId": "4c011487-0613-4945-b879-3e051a6799b9"
      },
      "execution_count": 51,
      "outputs": [
        {
          "output_type": "execute_result",
          "data": {
            "text/plain": [
              "0.0015440319999999999"
            ]
          },
          "metadata": {},
          "execution_count": 51
        }
      ]
    },
    {
      "cell_type": "code",
      "source": [],
      "metadata": {
        "id": "Gn1H55FIM4ZZ"
      },
      "execution_count": 51,
      "outputs": []
    }
  ]
}