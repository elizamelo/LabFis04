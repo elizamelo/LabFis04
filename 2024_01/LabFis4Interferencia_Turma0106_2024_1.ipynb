{
  "nbformat": 4,
  "nbformat_minor": 0,
  "metadata": {
    "colab": {
      "provenance": [],
      "authorship_tag": "ABX9TyNM3fuGk3eygZyMoMxh/xwY",
      "include_colab_link": true
    },
    "kernelspec": {
      "name": "python3",
      "display_name": "Python 3"
    },
    "language_info": {
      "name": "python"
    }
  },
  "cells": [
    {
      "cell_type": "markdown",
      "metadata": {
        "id": "view-in-github",
        "colab_type": "text"
      },
      "source": [
        "<a href=\"https://colab.research.google.com/github/elizamelo/LabFis04/blob/main/2024_01/LabFis4Interferencia_Turma0106_2024_1.ipynb\" target=\"_parent\"><img src=\"https://colab.research.google.com/assets/colab-badge.svg\" alt=\"Open In Colab\"/></a>"
      ]
    },
    {
      "cell_type": "code",
      "execution_count": 1,
      "metadata": {
        "id": "ofnSdf-wsbe9"
      },
      "outputs": [],
      "source": [
        "import numpy as np\n",
        "import pandas as pd\n",
        "import matplotlib as mpl\n",
        "import matplotlib.pyplot as plt"
      ]
    },
    {
      "cell_type": "markdown",
      "source": [],
      "metadata": {
        "id": "rywg4FTGyAVD"
      }
    },
    {
      "cell_type": "markdown",
      "source": [
        "Laboratório de Física IV\n",
        "Prática 05 : Interferência\n",
        "\n",
        "\n",
        "\n",
        "Grupo 01: D=2700 (mm); n_i=5; Y_A= 35,Y_B= 17,Y_C=26,Y_D=16 (mm);lambda_L_R = 632.8 (nm)\n",
        "\n",
        "Grupo 02: D=2720 (mm); n_i=5; Y_A= 17,Y_B= 33,Y_C=16.5,Y_D=34 (mm);lambda_L_R = 632.8 (nm)\n",
        "\n",
        "Grupo 03: D=2762 (mm); n_A=5; n_B=5;n_C=4;n_D=5; Y_A: 36.0 ;Y_B: 16.0 ;Y_C: 28.0 ;Y_D: 17.0 (mm);\n",
        "\n",
        "\n"
      ],
      "metadata": {
        "id": "aOVlph-RscLj"
      }
    },
    {
      "cell_type": "markdown",
      "source": [
        "# Grupo 01 -\n",
        "\n",
        "\n"
      ],
      "metadata": {
        "id": "Jum_F4I--Q9d"
      }
    },
    {
      "cell_type": "code",
      "source": [
        "#Dinstância entre as fendas e a folha de observação D(mm):\n",
        "\n",
        "D = 1900 # mm"
      ],
      "metadata": {
        "id": "86GjTtusPE0C"
      },
      "execution_count": 2,
      "outputs": []
    },
    {
      "cell_type": "code",
      "source": [
        "#Dinstância entre as fendas \"d\"(mm):\n",
        "d_A = 0.250\n",
        "d_B = 0.500\n",
        "d_C = 0.250\n",
        "d_D = 0.500\n"
      ],
      "metadata": {
        "id": "W37Zu2AKyC_X"
      },
      "execution_count": 3,
      "outputs": []
    },
    {
      "cell_type": "code",
      "source": [
        "#Número de configurões da Lâmina \"N\":\n",
        "#N = 4\n",
        "#Número de intervalos de Máximos :\n",
        "n_A = 4\n",
        "n_B = 4\n",
        "n_C = 5\n",
        "n_D = 4\n",
        "print(\"n_A:\", n_A,\";\"\"n_B:\", n_B,\";\"\"n_C:\", n_C,\";\"\"n_D:\", n_D,\".\")"
      ],
      "metadata": {
        "colab": {
          "base_uri": "https://localhost:8080/"
        },
        "id": "tsRDNQiDsl5B",
        "outputId": "1cd60c89-2232-46d5-b352-6ec5bb7afa27"
      },
      "execution_count": 4,
      "outputs": [
        {
          "output_type": "stream",
          "name": "stdout",
          "text": [
            "n_A: 4 ;n_B: 4 ;n_C: 5 ;n_D: 4 .\n"
          ]
        }
      ]
    },
    {
      "cell_type": "code",
      "source": [
        "#Distâncias entre máximos medidos com a régua para cada Configuração (mm):\n",
        "Y_A= 19.0\n",
        "Y_B= 9.0\n",
        "Y_C= 24.0\n",
        "Y_D= 12.0\n",
        "print(\"Y_A:\", Y_A,\";\"\"Y_B:\", Y_B,\";\"\"Y_C:\", Y_C,\";\"\"Y_D:\", Y_D,\".\")"
      ],
      "metadata": {
        "colab": {
          "base_uri": "https://localhost:8080/"
        },
        "id": "Hzo7KZ1_tPic",
        "outputId": "c4eaba96-53ee-48c9-90b4-8ec1d9d534ba"
      },
      "execution_count": 5,
      "outputs": [
        {
          "output_type": "stream",
          "name": "stdout",
          "text": [
            "Y_A: 19.0 ;Y_B: 9.0 ;Y_C: 24.0 ;Y_D: 12.0 .\n"
          ]
        }
      ]
    },
    {
      "cell_type": "code",
      "source": [
        "#Deta_Y para cada Configuração (mm):\n",
        "Dy_A= Y_A/n_A\n",
        "Dy_B= Y_B/n_B\n",
        "Dy_C= Y_C/n_C\n",
        "Dy_D= Y_D/n_D\n",
        "print(\"Dy_A:\", Dy_A,\";\"\"Dy_B:\", Dy_B,\";\"\"Dy_C:\", Dy_C,\";\"\"Dy_D:\", Dy_D,\".\")"
      ],
      "metadata": {
        "colab": {
          "base_uri": "https://localhost:8080/"
        },
        "id": "cftwSlMmt193",
        "outputId": "6678476d-5ad0-44ed-b81f-e30a571140ab"
      },
      "execution_count": 6,
      "outputs": [
        {
          "output_type": "stream",
          "name": "stdout",
          "text": [
            "Dy_A: 4.75 ;Dy_B: 2.25 ;Dy_C: 4.8 ;Dy_D: 3.0 .\n"
          ]
        }
      ]
    },
    {
      "cell_type": "code",
      "source": [
        "#Lambda para cada configuração (nm)\n",
        "\n",
        "l_A= (d_A*Dy_A/D)\n",
        "l_B= (d_B*Dy_B/D)\n",
        "l_C= (d_C*Dy_C/D)\n",
        "l_D= (d_D*Dy_D/D)\n",
        "print(\"l_A:\", l_A,\";\"\"l_B:\", l_B,\";\"\"l_C:\", l_C,\";\"\"l_D:\", l_D,\".\")"
      ],
      "metadata": {
        "colab": {
          "base_uri": "https://localhost:8080/"
        },
        "id": "2OKq2GrcuxWZ",
        "outputId": "82e79ee5-4c11-4d46-a7f4-14aa9fcbc542"
      },
      "execution_count": 7,
      "outputs": [
        {
          "output_type": "stream",
          "name": "stdout",
          "text": [
            "l_A: 0.000625 ;l_B: 0.0005921052631578948 ;l_C: 0.0006315789473684211 ;l_D: 0.0007894736842105263 .\n"
          ]
        }
      ]
    },
    {
      "cell_type": "code",
      "source": [
        "#Passar para nm\n",
        "print(\"l_A:\", l_A*1e6,\"(nm);\"\"l_B:\", l_B*1e6,\"(nm);\"\"l_C:\", l_C*1e6,\"(nm);\"\"l_D:\", l_D*1e6,\"(nm).\")"
      ],
      "metadata": {
        "colab": {
          "base_uri": "https://localhost:8080/"
        },
        "id": "uFiFCZ3PwoDi",
        "outputId": "9fbd9724-d755-4f61-c3a2-e5174259178e"
      },
      "execution_count": 8,
      "outputs": [
        {
          "output_type": "stream",
          "name": "stdout",
          "text": [
            "l_A: 625.0 (nm);l_B: 592.1052631578948 (nm);l_C: 631.578947368421 (nm);l_D: 789.4736842105262 (nm).\n"
          ]
        }
      ]
    },
    {
      "cell_type": "code",
      "source": [
        "array_L = np.array( [ l_A*1e6, l_B*1e6 , l_C*1e6 , l_D*1e6])\n",
        "\n",
        "\n",
        "array_L"
      ],
      "metadata": {
        "colab": {
          "base_uri": "https://localhost:8080/"
        },
        "id": "qy1gADjYxZc0",
        "outputId": "08d7860e-fd9e-46a3-f6af-d670df3161e7"
      },
      "execution_count": 9,
      "outputs": [
        {
          "output_type": "execute_result",
          "data": {
            "text/plain": [
              "array([625.        , 592.10526316, 631.57894737, 789.47368421])"
            ]
          },
          "metadata": {},
          "execution_count": 9
        }
      ]
    },
    {
      "cell_type": "code",
      "source": [
        "media_L = np.mean( array_L )\n",
        "print ( \"Média (mm) = {}\".format( media_L ) )\n",
        "var_L_p = np.mean( array_L ** 2 ) - np.mean( array_L ) ** 2\n",
        "print ( \"Variância populacional (mm²) = {}\".format( var_L_p ) )"
      ],
      "metadata": {
        "colab": {
          "base_uri": "https://localhost:8080/"
        },
        "id": "IJP08hohyaJK",
        "outputId": "a86981b8-050a-400e-8198-50f5c2d92002"
      },
      "execution_count": 10,
      "outputs": [
        {
          "output_type": "stream",
          "name": "stdout",
          "text": [
            "Média (mm) = 659.5394736842105\n",
            "Variância populacional (mm²) = 5851.259522160748\n"
          ]
        }
      ]
    },
    {
      "cell_type": "markdown",
      "source": [
        "Desvio padrão populacional:\n"
      ],
      "metadata": {
        "id": "X4rXshcazaRk"
      }
    },
    {
      "cell_type": "code",
      "source": [
        "sigma_L_p = np.sqrt( var_L_p )\n",
        "print ( \"Desvio padrão populacional (nm) = {}\".format( sigma_L_p ) )"
      ],
      "metadata": {
        "colab": {
          "base_uri": "https://localhost:8080/"
        },
        "id": "ibVifyxdzWCQ",
        "outputId": "bdda24f0-0969-4030-f957-433b2ad4404d"
      },
      "execution_count": 11,
      "outputs": [
        {
          "output_type": "stream",
          "name": "stdout",
          "text": [
            "Desvio padrão populacional (nm) = 76.49352601469452\n"
          ]
        }
      ]
    },
    {
      "cell_type": "code",
      "source": [
        "np.std( array_L, ddof=1 )"
      ],
      "metadata": {
        "colab": {
          "base_uri": "https://localhost:8080/"
        },
        "id": "6XufC_7cG2Bq",
        "outputId": "042b5dd8-1ac8-4b30-a42c-6b300aae4d4f"
      },
      "execution_count": 12,
      "outputs": [
        {
          "output_type": "execute_result",
          "data": {
            "text/plain": [
              "88.32711567169437"
            ]
          },
          "metadata": {},
          "execution_count": 12
        }
      ]
    },
    {
      "cell_type": "markdown",
      "source": [
        "Desvio padrão amostral:\n"
      ],
      "metadata": {
        "id": "vd6aEiqoyqQJ"
      }
    },
    {
      "cell_type": "code",
      "source": [
        "N = array_L.size # tamanho da sequência L\n",
        "print ( \"N = {}\".format( N ) )\n",
        "\n",
        "sigma_L_a = np.sqrt( N / (N - 1) ) * sigma_L_p\n",
        "\n",
        "print ( \"Desvio padrão amostral (nm) = {}\".format( sigma_L_a ) )"
      ],
      "metadata": {
        "colab": {
          "base_uri": "https://localhost:8080/"
        },
        "id": "eFxwDmMTyj-J",
        "outputId": "6656b0d3-8f7b-43e7-d2eb-47d3e89c20c1"
      },
      "execution_count": 13,
      "outputs": [
        {
          "output_type": "stream",
          "name": "stdout",
          "text": [
            "N = 4\n",
            "Desvio padrão amostral (nm) = 88.32711567169504\n"
          ]
        }
      ]
    },
    {
      "cell_type": "code",
      "source": [
        "np.std( array_L, ddof=1 )"
      ],
      "metadata": {
        "colab": {
          "base_uri": "https://localhost:8080/"
        },
        "id": "NHFX0eP7zlY0",
        "outputId": "618bdd20-2f93-49d9-e502-fb41a651ed31"
      },
      "execution_count": 14,
      "outputs": [
        {
          "output_type": "execute_result",
          "data": {
            "text/plain": [
              "88.32711567169437"
            ]
          },
          "metadata": {},
          "execution_count": 14
        }
      ]
    },
    {
      "cell_type": "markdown",
      "source": [
        "Erro da média:"
      ],
      "metadata": {
        "id": "juxBB5vEzyWd"
      }
    },
    {
      "cell_type": "code",
      "source": [
        "erro_media_L = sigma_L_a / np.sqrt( N )\n",
        "print ( \"Erro da média (nm) = {}\".format( erro_media_L ) )"
      ],
      "metadata": {
        "colab": {
          "base_uri": "https://localhost:8080/"
        },
        "id": "a3KQNw_-zzqY",
        "outputId": "9b1682ac-70eb-4c22-da89-14a7b20ce490"
      },
      "execution_count": 15,
      "outputs": [
        {
          "output_type": "stream",
          "name": "stdout",
          "text": [
            "Erro da média (nm) = 44.16355783584752\n"
          ]
        }
      ]
    },
    {
      "cell_type": "code",
      "source": [
        "epsilon_media_L = np.sqrt( var_L_p/(N-1) )\n",
        "print ( \"Erro da média (nm) = {}\".format( epsilon_media_L ) )"
      ],
      "metadata": {
        "colab": {
          "base_uri": "https://localhost:8080/"
        },
        "id": "kvTGQ3NNHe5t",
        "outputId": "90ea7f66-d6bd-45e8-c72e-a8c1495f565f"
      },
      "execution_count": 16,
      "outputs": [
        {
          "output_type": "stream",
          "name": "stdout",
          "text": [
            "Erro da média (nm) = 44.16355783584753\n"
          ]
        }
      ]
    },
    {
      "cell_type": "markdown",
      "source": [
        "Estimativa do comprimento de onda da fonte:\n"
      ],
      "metadata": {
        "id": "JhrJFzJK0AgP"
      }
    },
    {
      "cell_type": "code",
      "source": [
        "print ( \"L = {:.2f} ± {:.2f} (nm)\".format( np.round( media_L, 2), np.round( erro_media_L, 2 ) ) )"
      ],
      "metadata": {
        "colab": {
          "base_uri": "https://localhost:8080/"
        },
        "id": "f7pFXqr2z_xt",
        "outputId": "9dd16153-31fc-4139-b30b-ce89dfaed879"
      },
      "execution_count": 17,
      "outputs": [
        {
          "output_type": "stream",
          "name": "stdout",
          "text": [
            "L = 659.54 ± 44.16 (nm)\n"
          ]
        }
      ]
    },
    {
      "cell_type": "markdown",
      "source": [
        "Discrepância: L_ref=632.8nm"
      ],
      "metadata": {
        "id": "Y9jbHMyp0Rcb"
      }
    },
    {
      "cell_type": "code",
      "source": [
        "l = media_L\n",
        "l\n"
      ],
      "metadata": {
        "colab": {
          "base_uri": "https://localhost:8080/"
        },
        "id": "pGpjki9G0_N-",
        "outputId": "c7384742-b9a7-46f1-ddf3-d0420615a05e"
      },
      "execution_count": 18,
      "outputs": [
        {
          "output_type": "execute_result",
          "data": {
            "text/plain": [
              "659.5394736842105"
            ]
          },
          "metadata": {},
          "execution_count": 18
        }
      ]
    },
    {
      "cell_type": "code",
      "source": [
        "#Comprimento de onda da fonte laser\n",
        "lambda_L_R = 632.8 # nm\n"
      ],
      "metadata": {
        "id": "8rDISpjSy2x7"
      },
      "execution_count": 19,
      "outputs": []
    },
    {
      "cell_type": "code",
      "source": [
        "dis = abs( media_L-(lambda_L_R))/erro_media_L\n",
        "np.round(dis,2)"
      ],
      "metadata": {
        "colab": {
          "base_uri": "https://localhost:8080/"
        },
        "id": "-XXl2a3D2oEM",
        "outputId": "8b1f7b33-b8dc-442e-88b4-547b8c0a48b9"
      },
      "execution_count": 20,
      "outputs": [
        {
          "output_type": "execute_result",
          "data": {
            "text/plain": [
              "0.61"
            ]
          },
          "metadata": {},
          "execution_count": 20
        }
      ]
    },
    {
      "cell_type": "code",
      "source": [
        "if dis < 2.0:\n",
        "  print(\"Compatível\")\n",
        "else:\n",
        "  print(\"Incompatível\")"
      ],
      "metadata": {
        "colab": {
          "base_uri": "https://localhost:8080/"
        },
        "id": "so7o5Pb63H9l",
        "outputId": "38b5e869-07a6-4647-93be-58d27fa24b08"
      },
      "execution_count": 21,
      "outputs": [
        {
          "output_type": "stream",
          "name": "stdout",
          "text": [
            "Compatível\n"
          ]
        }
      ]
    },
    {
      "cell_type": "markdown",
      "source": [
        "#Grupo 03 -"
      ],
      "metadata": {
        "id": "C3tZkd8Q-9_f"
      }
    },
    {
      "cell_type": "code",
      "source": [],
      "metadata": {
        "id": "ny8vhTUJ_EgI"
      },
      "execution_count": 21,
      "outputs": []
    },
    {
      "cell_type": "code",
      "source": [
        "#Dinstância entre as fendas e a folha de observação D(mm):\n",
        "\n",
        "D = 2080# mm"
      ],
      "metadata": {
        "id": "nZJNDvWR_E75"
      },
      "execution_count": 22,
      "outputs": []
    },
    {
      "cell_type": "code",
      "source": [
        "#Dinstância entre as fendas \"d\"(mm):\n",
        "d_A = 0.250\n",
        "d_B = 0.500\n",
        "d_C = 0.250\n",
        "d_D = 0.500\n"
      ],
      "metadata": {
        "id": "H8VjNI9H_E77"
      },
      "execution_count": 23,
      "outputs": []
    },
    {
      "cell_type": "code",
      "source": [
        "#Número de configurões da Lâmina \"N\":\n",
        "#N = 4\n",
        "#Número de intervalos de Máximos :\n",
        "n_A = 5\n",
        "n_B = 7\n",
        "n_C = 4\n",
        "n_D = 5\n",
        "print(\"n_A:\", n_A,\";\"\"n_B:\", n_B,\";\"\"n_C:\", n_C,\";\"\"n_D:\", n_D,\".\")"
      ],
      "metadata": {
        "colab": {
          "base_uri": "https://localhost:8080/"
        },
        "outputId": "35392f66-8c20-412a-f3b1-cfaebba60442",
        "id": "aZ6X3tC9_E77"
      },
      "execution_count": 24,
      "outputs": [
        {
          "output_type": "stream",
          "name": "stdout",
          "text": [
            "n_A: 5 ;n_B: 7 ;n_C: 4 ;n_D: 5 .\n"
          ]
        }
      ]
    },
    {
      "cell_type": "code",
      "source": [
        "#Distâncias entre máximos medidos com a régua para cada Configuração (mm):\n",
        "Y_A= 27.0\n",
        "Y_B= 17.0\n",
        "Y_C= 20.0\n",
        "Y_D= 13.0\n",
        "print(\"Y_A:\", Y_A,\";\"\"Y_B:\", Y_B,\";\"\"Y_C:\", Y_C,\";\"\"Y_D:\", Y_D,\".\")"
      ],
      "metadata": {
        "colab": {
          "base_uri": "https://localhost:8080/"
        },
        "outputId": "fbba969e-9b21-4b6e-c706-5699164892ac",
        "id": "cpKRUZ13_E79"
      },
      "execution_count": 25,
      "outputs": [
        {
          "output_type": "stream",
          "name": "stdout",
          "text": [
            "Y_A: 27.0 ;Y_B: 17.0 ;Y_C: 20.0 ;Y_D: 13.0 .\n"
          ]
        }
      ]
    },
    {
      "cell_type": "code",
      "source": [
        "#Deta_Y para cada Configuração (mm):\n",
        "Dy_A= Y_A/n_A\n",
        "Dy_B= Y_B/n_B\n",
        "Dy_C= Y_C/n_C\n",
        "Dy_D= Y_D/n_D\n",
        "print(\"Dy_A:\", Dy_A,\";\"\"Dy_B:\", Dy_B,\";\"\"Dy_C:\", Dy_C,\";\"\"Dy_D:\", Dy_D,\".\")"
      ],
      "metadata": {
        "colab": {
          "base_uri": "https://localhost:8080/"
        },
        "outputId": "5df306d2-9bb1-4d09-8eea-f0a200253135",
        "id": "91Hre83p_E7-"
      },
      "execution_count": 26,
      "outputs": [
        {
          "output_type": "stream",
          "name": "stdout",
          "text": [
            "Dy_A: 5.4 ;Dy_B: 2.4285714285714284 ;Dy_C: 5.0 ;Dy_D: 2.6 .\n"
          ]
        }
      ]
    },
    {
      "cell_type": "code",
      "source": [
        "#Lambda para cada configuração (nm)\n",
        "\n",
        "l_A= (d_A*Dy_A/D)\n",
        "l_B= (d_B*Dy_B/D)\n",
        "l_C= (d_C*Dy_C/D)\n",
        "l_D= (d_D*Dy_D/D)\n",
        "print(\"l_A:\", l_A,\";\"\"l_B:\", l_B,\";\"\"l_C:\", l_C,\";\"\"l_D:\", l_D,\".\")"
      ],
      "metadata": {
        "colab": {
          "base_uri": "https://localhost:8080/"
        },
        "outputId": "f49823e4-f98d-4f12-ab61-dba83d00776a",
        "id": "AVtkgl5r_E7_"
      },
      "execution_count": 27,
      "outputs": [
        {
          "output_type": "stream",
          "name": "stdout",
          "text": [
            "l_A: 0.0006490384615384615 ;l_B: 0.0005837912087912088 ;l_C: 0.0006009615384615385 ;l_D: 0.000625 .\n"
          ]
        }
      ]
    },
    {
      "cell_type": "code",
      "source": [
        "#Passar para nm\n",
        "print(\"l_A:\", l_A*1e6,\"(nm);\"\"l_B:\", l_B*1e6,\"(nm);\"\"l_C:\", l_C*1e6,\"(nm);\"\"l_D:\", l_D*1e6,\"(nm).\")"
      ],
      "metadata": {
        "colab": {
          "base_uri": "https://localhost:8080/"
        },
        "outputId": "26071519-0ded-4304-d9fa-3d67634d73d6",
        "id": "CbLzyXzk_E8A"
      },
      "execution_count": 28,
      "outputs": [
        {
          "output_type": "stream",
          "name": "stdout",
          "text": [
            "l_A: 649.0384615384615 (nm);l_B: 583.7912087912088 (nm);l_C: 600.9615384615385 (nm);l_D: 625.0 (nm).\n"
          ]
        }
      ]
    },
    {
      "cell_type": "code",
      "source": [
        "array_L = np.array( [ l_A*1e6, l_B*1e6 , l_C*1e6 , l_D*1e6])\n",
        "\n",
        "\n",
        "array_L"
      ],
      "metadata": {
        "colab": {
          "base_uri": "https://localhost:8080/"
        },
        "outputId": "d9e47a93-810a-4820-a8c4-94169af1d2db",
        "id": "fl5AQYLl_E8B"
      },
      "execution_count": 29,
      "outputs": [
        {
          "output_type": "execute_result",
          "data": {
            "text/plain": [
              "array([649.03846154, 583.79120879, 600.96153846, 625.        ])"
            ]
          },
          "metadata": {},
          "execution_count": 29
        }
      ]
    },
    {
      "cell_type": "code",
      "source": [
        "media_L = np.mean( array_L )\n",
        "print ( \"Média (mm) = {}\".format( media_L ) )\n",
        "var_L_p = np.mean( array_L ** 2 ) - np.mean( array_L ) ** 2\n",
        "print ( \"Variância populacional (mm²) = {}\".format( var_L_p ) )"
      ],
      "metadata": {
        "colab": {
          "base_uri": "https://localhost:8080/"
        },
        "outputId": "c9a315a1-6500-4971-ccaa-e465aac72fa1",
        "id": "SiUlijNd_E8D"
      },
      "execution_count": 30,
      "outputs": [
        {
          "output_type": "stream",
          "name": "stdout",
          "text": [
            "Média (mm) = 614.6978021978022\n",
            "Variância populacional (mm²) = 607.3296552348766\n"
          ]
        }
      ]
    },
    {
      "cell_type": "markdown",
      "source": [
        "Desvio padrão populacional:\n"
      ],
      "metadata": {
        "id": "llorCoDT_E8D"
      }
    },
    {
      "cell_type": "code",
      "source": [
        "sigma_L_p = np.sqrt( var_L_p )\n",
        "print ( \"Desvio padrão populacional (nm) = {}\".format( sigma_L_p ) )"
      ],
      "metadata": {
        "colab": {
          "base_uri": "https://localhost:8080/"
        },
        "outputId": "46b8f43b-6662-4c66-8b1b-a845bedc90e5",
        "id": "7LMUHUJp_E8D"
      },
      "execution_count": 31,
      "outputs": [
        {
          "output_type": "stream",
          "name": "stdout",
          "text": [
            "Desvio padrão populacional (nm) = 24.644059228034585\n"
          ]
        }
      ]
    },
    {
      "cell_type": "code",
      "source": [
        "np.std( array_L, ddof=0 )"
      ],
      "metadata": {
        "colab": {
          "base_uri": "https://localhost:8080/"
        },
        "outputId": "67ae6c61-7b48-4a5f-e40a-79d0414848e9",
        "id": "cwZGMbk1_E8E"
      },
      "execution_count": 32,
      "outputs": [
        {
          "output_type": "execute_result",
          "data": {
            "text/plain": [
              "24.644059228034568"
            ]
          },
          "metadata": {},
          "execution_count": 32
        }
      ]
    },
    {
      "cell_type": "markdown",
      "source": [
        "Desvio padrão amostral:\n"
      ],
      "metadata": {
        "id": "TppBt2YY_E8E"
      }
    },
    {
      "cell_type": "code",
      "source": [
        "N = array_L.size # tamanho da sequência L\n",
        "print ( \"N = {}\".format( N ) )\n",
        "\n",
        "sigma_L_a = np.sqrt( N / (N - 1) ) * sigma_L_p\n",
        "\n",
        "print ( \"Desvio padrão amostral (nm) = {}\".format( sigma_L_a ) )"
      ],
      "metadata": {
        "colab": {
          "base_uri": "https://localhost:8080/"
        },
        "outputId": "1af63934-abd6-44ac-fb80-aaf5dbbc99d9",
        "id": "AqDcNlBG_E8F"
      },
      "execution_count": 33,
      "outputs": [
        {
          "output_type": "stream",
          "name": "stdout",
          "text": [
            "N = 4\n",
            "Desvio padrão amostral (nm) = 28.456508458461695\n"
          ]
        }
      ]
    },
    {
      "cell_type": "code",
      "source": [
        "np.std( array_L, ddof=1 )"
      ],
      "metadata": {
        "colab": {
          "base_uri": "https://localhost:8080/"
        },
        "outputId": "67e184fd-8024-44db-aae6-6ae37bd1eb34",
        "id": "b-AAowKY_E8F"
      },
      "execution_count": 34,
      "outputs": [
        {
          "output_type": "execute_result",
          "data": {
            "text/plain": [
              "28.456508458461677"
            ]
          },
          "metadata": {},
          "execution_count": 34
        }
      ]
    },
    {
      "cell_type": "markdown",
      "source": [
        "Erro da média:"
      ],
      "metadata": {
        "id": "kFZD8TfN_E8F"
      }
    },
    {
      "cell_type": "code",
      "source": [
        "erro_media_L = sigma_L_a / np.sqrt( N )\n",
        "print ( \"Erro da média (nm) = {}\".format( erro_media_L ) )"
      ],
      "metadata": {
        "colab": {
          "base_uri": "https://localhost:8080/"
        },
        "outputId": "5602060c-0602-4586-d711-17f0233d166b",
        "id": "wD_nS8N4_E8G"
      },
      "execution_count": 35,
      "outputs": [
        {
          "output_type": "stream",
          "name": "stdout",
          "text": [
            "Erro da média (nm) = 14.228254229230847\n"
          ]
        }
      ]
    },
    {
      "cell_type": "code",
      "source": [
        "epsilon_media_L = np.sqrt( var_L_p/(N-1) )\n",
        "print ( \"Erro da média (nm) = {}\".format( epsilon_media_L ) )"
      ],
      "metadata": {
        "colab": {
          "base_uri": "https://localhost:8080/"
        },
        "outputId": "c3910a2b-a4c6-4ef4-ec8d-de40e3578759",
        "id": "IrGc4q9H_E8G"
      },
      "execution_count": 36,
      "outputs": [
        {
          "output_type": "stream",
          "name": "stdout",
          "text": [
            "Erro da média (nm) = 14.228254229230847\n"
          ]
        }
      ]
    },
    {
      "cell_type": "markdown",
      "source": [
        "Estimativa do comprimento de onda da fonte:\n"
      ],
      "metadata": {
        "id": "SBmq9thW_E8H"
      }
    },
    {
      "cell_type": "code",
      "source": [
        "print ( \"L = {:.2f} ± {:.2f} (nm)\".format( np.round( media_L, 2), np.round( erro_media_L, 2 ) ) )"
      ],
      "metadata": {
        "colab": {
          "base_uri": "https://localhost:8080/"
        },
        "outputId": "3957cc7e-788d-4cf7-e679-ee03ce5bca48",
        "id": "L3Y8DY5q_E8H"
      },
      "execution_count": 37,
      "outputs": [
        {
          "output_type": "stream",
          "name": "stdout",
          "text": [
            "L = 614.70 ± 14.23 (nm)\n"
          ]
        }
      ]
    },
    {
      "cell_type": "markdown",
      "source": [
        "Discrepância: L_ref=632.8nm"
      ],
      "metadata": {
        "id": "lO7H_0J0_E8H"
      }
    },
    {
      "cell_type": "code",
      "source": [
        "l = media_L\n",
        "l\n"
      ],
      "metadata": {
        "colab": {
          "base_uri": "https://localhost:8080/"
        },
        "outputId": "e8518c32-dd6b-4745-e015-a6c415a52181",
        "id": "DPKWuCEl_E8I"
      },
      "execution_count": 38,
      "outputs": [
        {
          "output_type": "execute_result",
          "data": {
            "text/plain": [
              "614.6978021978022"
            ]
          },
          "metadata": {},
          "execution_count": 38
        }
      ]
    },
    {
      "cell_type": "code",
      "source": [
        "#Comprimento de onda da fonte laser\n",
        "lambda_L_R = 632.8 # nm\n"
      ],
      "metadata": {
        "id": "PaG_QWPM_E8I"
      },
      "execution_count": 39,
      "outputs": []
    },
    {
      "cell_type": "code",
      "source": [
        "dis = abs( media_L-(lambda_L_R))/erro_media_L\n",
        "np.round(dis,2)"
      ],
      "metadata": {
        "colab": {
          "base_uri": "https://localhost:8080/"
        },
        "outputId": "fa772269-5aa2-4b9e-ec1b-addebd6febad",
        "id": "bQfhbheE_E8I"
      },
      "execution_count": 40,
      "outputs": [
        {
          "output_type": "execute_result",
          "data": {
            "text/plain": [
              "1.27"
            ]
          },
          "metadata": {},
          "execution_count": 40
        }
      ]
    },
    {
      "cell_type": "code",
      "source": [
        "if dis < 2.0:\n",
        "  print(\"Compatível\")\n",
        "else:\n",
        "  print(\"Incompatível\")"
      ],
      "metadata": {
        "colab": {
          "base_uri": "https://localhost:8080/"
        },
        "outputId": "eec58fd7-7ab0-4c5a-afa9-a0b8b1a39359",
        "id": "UgzU8Pya_E8I"
      },
      "execution_count": 41,
      "outputs": [
        {
          "output_type": "stream",
          "name": "stdout",
          "text": [
            "Compatível\n"
          ]
        }
      ]
    },
    {
      "cell_type": "markdown",
      "source": [
        "#Grupo 02 turma 6 - Caio, João e Patricia  \n"
      ],
      "metadata": {
        "id": "zt4bYK03-2rb"
      }
    },
    {
      "cell_type": "markdown",
      "source": [
        "\n",
        "\n",
        "\n",
        "\n",
        "\n"
      ],
      "metadata": {
        "id": "luFqBw-C--kI"
      }
    },
    {
      "cell_type": "code",
      "source": [
        "#Dinstância entre as fendas e a folha de observação D(mm):\n",
        "\n",
        "D = 1815# mm"
      ],
      "metadata": {
        "id": "7n-Vv4m9_OdD"
      },
      "execution_count": 42,
      "outputs": []
    },
    {
      "cell_type": "code",
      "source": [
        "#Dinstância entre as fendas \"d\"(mm):\n",
        "d_A = 0.250\n",
        "d_B = 0.500\n",
        "d_C = 0.250\n",
        "d_D = 0.500\n"
      ],
      "metadata": {
        "id": "YitE6fv2_OdI"
      },
      "execution_count": 43,
      "outputs": []
    },
    {
      "cell_type": "code",
      "source": [
        "#Número de configurões da Lâmina \"N\":\n",
        "#N = 4\n",
        "#Número de intervalos de Máximos :\n",
        "n_A = 5\n",
        "n_B = 5\n",
        "n_C = 5\n",
        "n_D = 5\n",
        "print(\"n_A:\", n_A,\";\"\"n_B:\", n_B,\";\"\"n_C:\", n_C,\";\"\"n_D:\", n_D,\".\")"
      ],
      "metadata": {
        "colab": {
          "base_uri": "https://localhost:8080/"
        },
        "outputId": "eca30de5-cd25-4e3c-a2c5-2d83bde19f36",
        "id": "TEKn6V12_OdK"
      },
      "execution_count": 44,
      "outputs": [
        {
          "output_type": "stream",
          "name": "stdout",
          "text": [
            "n_A: 5 ;n_B: 5 ;n_C: 5 ;n_D: 5 .\n"
          ]
        }
      ]
    },
    {
      "cell_type": "code",
      "source": [
        "#Distâncias entre máximos medidos com a régua para cada Configuração (mm):\n",
        "Y_A= 19.0\n",
        "Y_B= 10.0\n",
        "Y_C= 17.5\n",
        "Y_D= 11.0\n",
        "print(\"Y_A:\", Y_A,\";\"\"Y_B:\", Y_B,\";\"\"Y_C:\", Y_C,\";\"\"Y_D:\", Y_D,\".\")"
      ],
      "metadata": {
        "colab": {
          "base_uri": "https://localhost:8080/"
        },
        "outputId": "0f349a0d-c0e9-417b-a903-6ed23f09ad9b",
        "id": "BCVN9KP5_OdL"
      },
      "execution_count": 45,
      "outputs": [
        {
          "output_type": "stream",
          "name": "stdout",
          "text": [
            "Y_A: 19.0 ;Y_B: 10.0 ;Y_C: 17.5 ;Y_D: 11.0 .\n"
          ]
        }
      ]
    },
    {
      "cell_type": "code",
      "source": [
        "#Deta_Y para cada Configuração (mm):\n",
        "Dy_A= Y_A/n_A\n",
        "Dy_B= Y_B/n_B\n",
        "Dy_C= Y_C/n_C\n",
        "Dy_D= Y_D/n_D\n",
        "print(\"Dy_A:\", Dy_A,\";\"\"Dy_B:\", Dy_B,\";\"\"Dy_C:\", Dy_C,\";\"\"Dy_D:\", Dy_D,\".\")"
      ],
      "metadata": {
        "colab": {
          "base_uri": "https://localhost:8080/"
        },
        "outputId": "63b1ff3b-e85d-41db-f6b4-e1f27f153b97",
        "id": "NFSA4Mmu_OdM"
      },
      "execution_count": 46,
      "outputs": [
        {
          "output_type": "stream",
          "name": "stdout",
          "text": [
            "Dy_A: 3.8 ;Dy_B: 2.0 ;Dy_C: 3.5 ;Dy_D: 2.2 .\n"
          ]
        }
      ]
    },
    {
      "cell_type": "code",
      "source": [
        "#Lambda para cada configuração (nm)\n",
        "\n",
        "l_A= (d_A*Dy_A/D)\n",
        "l_B= (d_B*Dy_B/D)\n",
        "l_C= (d_C*Dy_C/D)\n",
        "l_D= (d_D*Dy_D/D)\n",
        "print(\"l_A:\", l_A,\";\"\"l_B:\", l_B,\";\"\"l_C:\", l_C,\";\"\"l_D:\", l_D,\".\")"
      ],
      "metadata": {
        "colab": {
          "base_uri": "https://localhost:8080/"
        },
        "outputId": "0db2281e-a9f5-4416-b817-74443a77ff8d",
        "id": "xwDPgxYF_OdM"
      },
      "execution_count": 47,
      "outputs": [
        {
          "output_type": "stream",
          "name": "stdout",
          "text": [
            "l_A: 0.0005234159779614325 ;l_B: 0.0005509641873278236 ;l_C: 0.00048209366391184575 ;l_D: 0.0006060606060606061 .\n"
          ]
        }
      ]
    },
    {
      "cell_type": "code",
      "source": [
        "#Passar para nm\n",
        "print(\"l_A:\", l_A*1e6,\"(nm);\"\"l_B:\", l_B*1e6,\"(nm);\"\"l_C:\", l_C*1e6,\"(nm);\"\"l_D:\", l_D*1e6,\"(nm).\")"
      ],
      "metadata": {
        "colab": {
          "base_uri": "https://localhost:8080/"
        },
        "outputId": "f15f0515-c58c-49c7-a7de-d87cd4f6bbf9",
        "id": "0C7Uv1Ul_OdN"
      },
      "execution_count": 48,
      "outputs": [
        {
          "output_type": "stream",
          "name": "stdout",
          "text": [
            "l_A: 523.4159779614325 (nm);l_B: 550.9641873278237 (nm);l_C: 482.09366391184574 (nm);l_D: 606.060606060606 (nm).\n"
          ]
        }
      ]
    },
    {
      "cell_type": "code",
      "source": [
        "array_L = np.array( [ l_A*1e6, l_B*1e6 , l_C*1e6 , l_D*1e6])\n",
        "\n",
        "\n",
        "array_L"
      ],
      "metadata": {
        "colab": {
          "base_uri": "https://localhost:8080/"
        },
        "outputId": "fdc8165e-2456-4b8f-a96a-2cf5c0894685",
        "id": "M8dEzroq_OdO"
      },
      "execution_count": 49,
      "outputs": [
        {
          "output_type": "execute_result",
          "data": {
            "text/plain": [
              "array([523.41597796, 550.96418733, 482.09366391, 606.06060606])"
            ]
          },
          "metadata": {},
          "execution_count": 49
        }
      ]
    },
    {
      "cell_type": "code",
      "source": [
        "media_L = np.mean( array_L )\n",
        "print ( \"Média (mm) = {}\".format( media_L ) )\n",
        "var_L_p = np.mean( array_L ** 2 ) - np.mean( array_L ) ** 2\n",
        "print ( \"Variância populacional (mm²) = {}\".format( var_L_p ) )"
      ],
      "metadata": {
        "colab": {
          "base_uri": "https://localhost:8080/"
        },
        "outputId": "2c7319f2-0d2c-472f-f390-2de009687e6d",
        "id": "-8UrYpEN_OdP"
      },
      "execution_count": 50,
      "outputs": [
        {
          "output_type": "stream",
          "name": "stdout",
          "text": [
            "Média (mm) = 540.633608815427\n",
            "Variância populacional (mm²) = 2027.696195615048\n"
          ]
        }
      ]
    },
    {
      "cell_type": "markdown",
      "source": [
        "Desvio padrão populacional:\n"
      ],
      "metadata": {
        "id": "DPvaWZ7N_OdQ"
      }
    },
    {
      "cell_type": "code",
      "source": [
        "sigma_L_p = np.sqrt( var_L_p )\n",
        "print ( \"Desvio padrão populacional (nm) = {}\".format( sigma_L_p ) )"
      ],
      "metadata": {
        "colab": {
          "base_uri": "https://localhost:8080/"
        },
        "outputId": "8891dd78-c50b-44a8-cdcb-e840483ff357",
        "id": "Moom8zSh_OdQ"
      },
      "execution_count": 51,
      "outputs": [
        {
          "output_type": "stream",
          "name": "stdout",
          "text": [
            "Desvio padrão populacional (nm) = 45.02994776384987\n"
          ]
        }
      ]
    },
    {
      "cell_type": "code",
      "source": [
        "np.std( array_L, ddof=1 )"
      ],
      "metadata": {
        "colab": {
          "base_uri": "https://localhost:8080/"
        },
        "outputId": "e1253908-3c90-4b34-c4cb-422ea0124aa7",
        "id": "FJZj4Twh_OdR"
      },
      "execution_count": 52,
      "outputs": [
        {
          "output_type": "execute_result",
          "data": {
            "text/plain": [
              "51.99610492610706"
            ]
          },
          "metadata": {},
          "execution_count": 52
        }
      ]
    },
    {
      "cell_type": "markdown",
      "source": [
        "Desvio padrão amostral:\n"
      ],
      "metadata": {
        "id": "obYob5OZ_OdR"
      }
    },
    {
      "cell_type": "code",
      "source": [
        "N = array_L.size # tamanho da sequência L\n",
        "print ( \"N = {}\".format( N ) )\n",
        "\n",
        "sigma_L_a = np.sqrt( N / (N - 1) ) * sigma_L_p\n",
        "\n",
        "print ( \"Desvio padrão amostral (nm) = {}\".format( sigma_L_a ) )"
      ],
      "metadata": {
        "colab": {
          "base_uri": "https://localhost:8080/"
        },
        "outputId": "77d5e4ae-ef0e-4283-cd0a-606c6ae472cf",
        "id": "d85eR_rC_OdS"
      },
      "execution_count": 53,
      "outputs": [
        {
          "output_type": "stream",
          "name": "stdout",
          "text": [
            "N = 4\n",
            "Desvio padrão amostral (nm) = 51.996104926107016\n"
          ]
        }
      ]
    },
    {
      "cell_type": "code",
      "source": [
        "np.std( array_L, ddof=1 )"
      ],
      "metadata": {
        "colab": {
          "base_uri": "https://localhost:8080/"
        },
        "outputId": "9eaebcb7-508e-42f7-a7ac-6785bca04c82",
        "id": "WFEsYAUl_OdS"
      },
      "execution_count": 54,
      "outputs": [
        {
          "output_type": "execute_result",
          "data": {
            "text/plain": [
              "51.99610492610706"
            ]
          },
          "metadata": {},
          "execution_count": 54
        }
      ]
    },
    {
      "cell_type": "markdown",
      "source": [
        "Erro da média:"
      ],
      "metadata": {
        "id": "tCq6ZJi5_OdT"
      }
    },
    {
      "cell_type": "code",
      "source": [
        "erro_media_L = sigma_L_a / np.sqrt( N )\n",
        "print ( \"Erro da média (nm) = {}\".format( erro_media_L ) )"
      ],
      "metadata": {
        "colab": {
          "base_uri": "https://localhost:8080/"
        },
        "outputId": "fc234637-4a4b-479a-cf4d-8199dd6eb729",
        "id": "gwSr6yCw_OdT"
      },
      "execution_count": 55,
      "outputs": [
        {
          "output_type": "stream",
          "name": "stdout",
          "text": [
            "Erro da média (nm) = 25.998052463053508\n"
          ]
        }
      ]
    },
    {
      "cell_type": "code",
      "source": [
        "epsilon_media_L = np.sqrt( var_L_p/(N-1) )\n",
        "print ( \"Erro da média (nm) = {}\".format( epsilon_media_L ) )"
      ],
      "metadata": {
        "colab": {
          "base_uri": "https://localhost:8080/"
        },
        "outputId": "0d311a29-1e4e-4cff-8599-83fe137c62f1",
        "id": "hmjjZhIy_OdT"
      },
      "execution_count": 56,
      "outputs": [
        {
          "output_type": "stream",
          "name": "stdout",
          "text": [
            "Erro da média (nm) = 25.99805246305351\n"
          ]
        }
      ]
    },
    {
      "cell_type": "markdown",
      "source": [
        "Estimativa do comprimento de onda da fonte:\n"
      ],
      "metadata": {
        "id": "4va8CZ7d_OdU"
      }
    },
    {
      "cell_type": "code",
      "source": [
        "print ( \"L = {:.2f} ± {:.2f} (nm)\".format( np.round( media_L, 2), np.round( erro_media_L, 2 ) ) )"
      ],
      "metadata": {
        "colab": {
          "base_uri": "https://localhost:8080/"
        },
        "outputId": "c656caa8-6262-4b67-a36e-e47b929f127d",
        "id": "dsgHAk-L_OdV"
      },
      "execution_count": 57,
      "outputs": [
        {
          "output_type": "stream",
          "name": "stdout",
          "text": [
            "L = 540.63 ± 26.00 (nm)\n"
          ]
        }
      ]
    },
    {
      "cell_type": "markdown",
      "source": [
        "Discrepância: L_ref=632.8nm"
      ],
      "metadata": {
        "id": "-Sx3E0p2_OdV"
      }
    },
    {
      "cell_type": "code",
      "source": [
        "l = media_L\n",
        "l\n"
      ],
      "metadata": {
        "colab": {
          "base_uri": "https://localhost:8080/"
        },
        "outputId": "af30aed5-5a92-437e-aac0-f9e398b932bc",
        "id": "Pb88FNn-_OdV"
      },
      "execution_count": 58,
      "outputs": [
        {
          "output_type": "execute_result",
          "data": {
            "text/plain": [
              "540.633608815427"
            ]
          },
          "metadata": {},
          "execution_count": 58
        }
      ]
    },
    {
      "cell_type": "code",
      "source": [
        "#Comprimento de onda da fonte laser\n",
        "lambda_L_R = 632.8 # nm\n"
      ],
      "metadata": {
        "id": "WmwQ-jbj_OdW"
      },
      "execution_count": 59,
      "outputs": []
    },
    {
      "cell_type": "code",
      "source": [
        "dis = abs( media_L-(lambda_L_R))/erro_media_L\n",
        "np.round(dis,2)"
      ],
      "metadata": {
        "colab": {
          "base_uri": "https://localhost:8080/"
        },
        "outputId": "daed4db5-cce2-4cbb-a423-0c49b926d8e6",
        "id": "v0wVLQlo_OdW"
      },
      "execution_count": 60,
      "outputs": [
        {
          "output_type": "execute_result",
          "data": {
            "text/plain": [
              "3.55"
            ]
          },
          "metadata": {},
          "execution_count": 60
        }
      ]
    },
    {
      "cell_type": "code",
      "source": [
        "if dis < 2.0:\n",
        "  print(\"Compatível\")\n",
        "else:\n",
        "  print(\"Incompatível\")"
      ],
      "metadata": {
        "colab": {
          "base_uri": "https://localhost:8080/"
        },
        "outputId": "9d96317e-434a-4fdb-c843-1f9958d36356",
        "id": "jHU2QdXh_OdX"
      },
      "execution_count": 61,
      "outputs": [
        {
          "output_type": "stream",
          "name": "stdout",
          "text": [
            "Incompatível\n"
          ]
        }
      ]
    }
  ]
}