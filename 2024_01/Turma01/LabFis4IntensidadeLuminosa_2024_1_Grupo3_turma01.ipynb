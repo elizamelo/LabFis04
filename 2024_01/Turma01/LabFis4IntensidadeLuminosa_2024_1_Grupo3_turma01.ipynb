{
  "nbformat": 4,
  "nbformat_minor": 0,
  "metadata": {
    "colab": {
      "provenance": [],
      "authorship_tag": "ABX9TyOgcvgrGHzZlNysXVF5Emw8",
      "include_colab_link": true
    },
    "kernelspec": {
      "name": "python3",
      "display_name": "Python 3"
    },
    "language_info": {
      "name": "python"
    }
  },
  "cells": [
    {
      "cell_type": "markdown",
      "metadata": {
        "id": "view-in-github",
        "colab_type": "text"
      },
      "source": [
        "<a href=\"https://colab.research.google.com/github/elizamelo/LabFis04/blob/main/2024_01/Turma01/LabFis4IntensidadeLuminosa_2024_1_Grupo3_turma01.ipynb\" target=\"_parent\"><img src=\"https://colab.research.google.com/assets/colab-badge.svg\" alt=\"Open In Colab\"/></a>"
      ]
    },
    {
      "cell_type": "code",
      "execution_count": 1,
      "metadata": {
        "id": "ofnSdf-wsbe9"
      },
      "outputs": [],
      "source": [
        "import numpy as np\n",
        "import pandas as pd\n",
        "import math\n",
        "import matplotlib as mpl\n",
        "import matplotlib.pyplot as plt"
      ]
    },
    {
      "cell_type": "markdown",
      "source": [],
      "metadata": {
        "id": "rywg4FTGyAVD"
      }
    },
    {
      "cell_type": "markdown",
      "source": [
        "Laboratório de Física IV\n",
        "\n",
        "Prática 01: Intensidade Luminosa\n",
        "\n",
        "obj.: Verificar a relação: I = C/r^2\n",
        "\n",
        "log (I(r)/I_max) = log(C) - 2.log(r)\n",
        "\n",
        "y=m.x+b\n",
        "\n",
        "y=log (I(r)/I_max); x=log (I(r)/I_max); m_t=-2 e b_t=log(C)\n",
        "\n",
        "Dados do Exemplo: I_max=10 w/m²; I(r)=10,9,8,7,6,5,4,3,2,1; r=?\n",
        "\n",
        "\n"
      ],
      "metadata": {
        "id": "aOVlph-RscLj"
      }
    },
    {
      "cell_type": "code",
      "source": [
        "I_m=10"
      ],
      "metadata": {
        "id": "FqOPNrnjbmtJ"
      },
      "execution_count": 2,
      "outputs": []
    },
    {
      "cell_type": "code",
      "source": [
        "#Distãncia da fonte a fibra óptica\n",
        "#r = [14.0,14.85,16.05,17.55,19.4,21.55,24.8,30.35,37.25,56.9] # cm - grupo 01,\n",
        "#r=[1.9,2.0,2.45,2.51,3.0,3.85,4.5,5.6,7.6,12.9] # cm - grupo 02,\n",
        "r = [5,7,9,11,13,15,17,19,21,23] #cm grupo 3,\n",
        "\n"
      ],
      "metadata": {
        "id": "IfyZ3B5Cv1-3"
      },
      "execution_count": 3,
      "outputs": []
    },
    {
      "cell_type": "code",
      "source": [
        "#Intensidades Relativas:\n",
        "\n",
        "IR =[ 1.0,0.6,0.44,0.34,0.26,0.2,0.16,0.14,0.12,0.1]"
      ],
      "metadata": {
        "id": "86GjTtusPE0C"
      },
      "execution_count": 4,
      "outputs": []
    },
    {
      "cell_type": "code",
      "source": [
        "print(r)\n",
        "N_medidas = len(r)\n",
        "print ( \"Número de medidas: {}\".format( N_medidas ) )\n",
        "\n"
      ],
      "metadata": {
        "colab": {
          "base_uri": "https://localhost:8080/"
        },
        "id": "VuDlhoWAb3Si",
        "outputId": "2d2ff2fb-8077-4efc-89b4-a745e19307c4"
      },
      "execution_count": 5,
      "outputs": [
        {
          "output_type": "stream",
          "name": "stdout",
          "text": [
            "[5, 7, 9, 11, 13, 15, 17, 19, 21, 23]\n",
            "Número de medidas: 10\n"
          ]
        }
      ]
    },
    {
      "cell_type": "code",
      "source": [
        "x = np.log10(r)\n",
        "print (\"x=log(r) = \", x)"
      ],
      "metadata": {
        "colab": {
          "base_uri": "https://localhost:8080/"
        },
        "id": "EcxjQqvpdYCX",
        "outputId": "ff4261b3-86f8-40fc-e910-87a174bdcd5f"
      },
      "execution_count": 6,
      "outputs": [
        {
          "output_type": "stream",
          "name": "stdout",
          "text": [
            "x=log(r) =  [0.69897    0.84509804 0.95424251 1.04139269 1.11394335 1.17609126\n",
            " 1.23044892 1.2787536  1.32221929 1.36172784]\n"
          ]
        }
      ]
    },
    {
      "cell_type": "code",
      "source": [
        "y=np.log10(IR)\n",
        "print (\"y=log(IR) = \", y)"
      ],
      "metadata": {
        "colab": {
          "base_uri": "https://localhost:8080/"
        },
        "id": "qhKWqp6Sd9F6",
        "outputId": "7fc84f6d-db65-461c-a68b-356405d9adc5"
      },
      "execution_count": 7,
      "outputs": [
        {
          "output_type": "stream",
          "name": "stdout",
          "text": [
            "y=log(IR) =  [ 0.         -0.22184875 -0.35654732 -0.46852108 -0.58502665 -0.69897\n",
            " -0.79588002 -0.85387196 -0.92081875 -1.        ]\n"
          ]
        }
      ]
    },
    {
      "cell_type": "code",
      "source": [
        "media_X = x.mean()\n",
        "media_X2 = ( x** 2 ).mean()\n",
        "var_X_populacional = ( x ** 2 ).mean() - ( media_X ** 2 )\n",
        "dp_X_populacional = np.sqrt( var_X_populacional )\n",
        "print ( \"Média (cm): {}\".format( media_X ) )\n",
        "print ( \"Média quadrados(cm²): {}\".format( media_X2 ) )\n",
        "print ( \"Variância (cm²): {}\".format( var_X_populacional ) )\n",
        "print ( \"Desvio padrão (cm): {}\".format( dp_X_populacional ) )\n",
        "\n"
      ],
      "metadata": {
        "colab": {
          "base_uri": "https://localhost:8080/"
        },
        "id": "vhP2Xa4WeTY6",
        "outputId": "e98aa4e8-599f-445d-9624-817496075549"
      },
      "execution_count": 8,
      "outputs": [
        {
          "output_type": "stream",
          "name": "stdout",
          "text": [
            "Média (cm): 1.1022887503392957\n",
            "Média quadrados(cm²): 1.2573669580317925\n",
            "Variância (cm²): 0.042326468907226245\n",
            "Desvio padrão (cm): 0.2057339760643007\n"
          ]
        }
      ]
    },
    {
      "cell_type": "code",
      "source": [
        "media_Y = y.mean()\n",
        "media_Y2 = ( y** 2 ).mean()\n",
        "var_Y_populacional = ( y ** 2 ).mean() - ( media_Y ** 2 )\n",
        "dp_Y_populacional = np.sqrt( var_Y_populacional )\n",
        "print ( \"Média : {}\".format( media_Y ) )\n",
        "print ( \"Média quadrados: {}\".format( media_Y2 ) )\n",
        "print ( \"Variância : {}\".format( var_Y_populacional ) )\n",
        "print ( \"Desvio padrão : {}\".format( dp_Y_populacional ) )"
      ],
      "metadata": {
        "colab": {
          "base_uri": "https://localhost:8080/"
        },
        "id": "ZOTEXRtMf5mm",
        "outputId": "d7a28c7d-9e2f-40b2-acb4-e0105a389b88"
      },
      "execution_count": 9,
      "outputs": [
        {
          "output_type": "stream",
          "name": "stdout",
          "text": [
            "Média : -0.5901484548071327\n",
            "Média quadrados: 0.4437099628425784\n",
            "Variância : 0.095434764131332\n",
            "Desvio padrão : 0.3089251756191651\n"
          ]
        }
      ]
    },
    {
      "cell_type": "code",
      "source": [
        "x_X_y = ( x * y ).mean()\n",
        "cov_populacional = x_X_y - ( media_X * media_Y )\n",
        "coeficiente_correlacao = cov_populacional / ( dp_X_populacional * dp_Y_populacional )\n",
        "print ( \"Covariância (logr × logIr): {}\".format( cov_populacional ) )\n",
        "print ( \"Coeficiente de correlação: {}\".format( coeficiente_correlacao ) )\n"
      ],
      "metadata": {
        "colab": {
          "base_uri": "https://localhost:8080/"
        },
        "id": "Hlnlc-3bgfV7",
        "outputId": "62a7a6af-ef9b-450b-a8b9-c3b754f3b317"
      },
      "execution_count": 10,
      "outputs": [
        {
          "output_type": "stream",
          "name": "stdout",
          "text": [
            "Covariância (logr × logIr): -0.06346637370533526\n",
            "Coeficiente de correlação: -0.9985834475439249\n"
          ]
        }
      ]
    },
    {
      "cell_type": "markdown",
      "source": [
        "Coeficientes:\n"
      ],
      "metadata": {
        "id": "nXii6u3fhejG"
      }
    },
    {
      "cell_type": "code",
      "source": [
        "coeficiente_m = cov_populacional / var_X_populacional\n",
        "print ( \"Coeficiente m (cm): {}\".format( coeficiente_m ) )\n"
      ],
      "metadata": {
        "colab": {
          "base_uri": "https://localhost:8080/"
        },
        "id": "GHX5jQ4rhOyr",
        "outputId": "b90e5f26-1a42-489a-e7d2-ea2f7ed51a0c"
      },
      "execution_count": 11,
      "outputs": [
        {
          "output_type": "stream",
          "name": "stdout",
          "text": [
            "Coeficiente m (cm): -1.4994488164000819\n"
          ]
        }
      ]
    },
    {
      "cell_type": "code",
      "source": [
        "\n",
        "coeficiente_b = media_Y - coeficiente_m * media_X # cm\n",
        "print ( \"Coeficiente b (cm): {}\".format( coeficiente_b ) )"
      ],
      "metadata": {
        "colab": {
          "base_uri": "https://localhost:8080/"
        },
        "id": "ObHDPHnCh6Yx",
        "outputId": "03cda98e-0701-46ec-e1cc-4a92cb66a6ae"
      },
      "execution_count": 12,
      "outputs": [
        {
          "output_type": "stream",
          "name": "stdout",
          "text": [
            "Coeficiente b (cm): 1.0626771072202497\n"
          ]
        }
      ]
    },
    {
      "cell_type": "markdown",
      "source": [
        "Incertezas:"
      ],
      "metadata": {
        "id": "ReIvfc4diKR6"
      }
    },
    {
      "cell_type": "code",
      "source": [
        "arr_desvios_ajuste = ( y - ( coeficiente_m * x + coeficiente_b ) )\n",
        "arr_desvios_ajuste"
      ],
      "metadata": {
        "colab": {
          "base_uri": "https://localhost:8080/"
        },
        "id": "4NQfJBENiH7R",
        "outputId": "ad787a52-708e-4f93-9709-27d1246408e8"
      },
      "execution_count": 13,
      "outputs": [
        {
          "output_type": "execute_result",
          "data": {
            "text/plain": [
              "array([-0.01460736, -0.0173446 ,  0.01161337,  0.03031684,  0.02259728,\n",
              "        0.00184153, -0.01356195,  0.0008765 , -0.0008957 , -0.02083592])"
            ]
          },
          "metadata": {},
          "execution_count": 13
        }
      ]
    },
    {
      "cell_type": "code",
      "source": [
        "print ( arr_desvios_ajuste ** 2 )\n",
        "print ( \"Soma quadrado desvios (cm): {}\".format( ( arr_desvios_ajuste ** 2 ).sum() ) )\n",
        "\n"
      ],
      "metadata": {
        "colab": {
          "base_uri": "https://localhost:8080/"
        },
        "id": "S9SG7RAYiVOC",
        "outputId": "4aaa8f86-905c-4b7a-a398-d4ecf91126be"
      },
      "execution_count": 14,
      "outputs": [
        {
          "output_type": "stream",
          "name": "stdout",
          "text": [
            "[2.13375011e-04 3.00835184e-04 1.34870377e-04 9.19110726e-04\n",
            " 5.10637149e-04 3.39125047e-06 1.83926373e-04 7.68255535e-07\n",
            " 8.02286842e-07 4.34135364e-04]\n",
            "Soma quadrado desvios (cm): 0.00270185197661516\n"
          ]
        }
      ]
    },
    {
      "cell_type": "code",
      "source": [
        "ep_y_1 = np.sqrt( ( arr_desvios_ajuste ** 2 ).sum() / ( N_medidas - 2 ) )\n",
        "print ( \"epsilon_y = {}\".format( ep_y_1 ) )\n",
        "\n"
      ],
      "metadata": {
        "colab": {
          "base_uri": "https://localhost:8080/"
        },
        "id": "MMFMjDPjinNm",
        "outputId": "a7c869c2-4af4-4375-b712-7e909f38ca61"
      },
      "execution_count": 15,
      "outputs": [
        {
          "output_type": "stream",
          "name": "stdout",
          "text": [
            "epsilon_y = 0.01837747254322245\n"
          ]
        }
      ]
    },
    {
      "cell_type": "code",
      "source": [
        "ep_y_2 = dp_Y_populacional * np.sqrt( ( N_medidas / ( N_medidas - 2 ) ) * ( 1. - coeficiente_correlacao ** 2 ) )\n",
        "print ( \"epsilon_y = {}\".format( ep_y_2 ) )"
      ],
      "metadata": {
        "colab": {
          "base_uri": "https://localhost:8080/"
        },
        "id": "bP_a0JMdi2-_",
        "outputId": "b97eb9ab-db54-4f69-b23e-2e857cd90c43"
      },
      "execution_count": 16,
      "outputs": [
        {
          "output_type": "stream",
          "name": "stdout",
          "text": [
            "epsilon_y = 0.018377472543232683\n"
          ]
        }
      ]
    },
    {
      "cell_type": "code",
      "source": [
        "ep_y = ep_y_2\n",
        "sigma_m = ep_y / ( dp_X_populacional * np.sqrt( N_medidas ) )\n",
        "print ( \"Incerteza padrão coeficiente m (cm): {}\".format( sigma_m ) )\n"
      ],
      "metadata": {
        "colab": {
          "base_uri": "https://localhost:8080/"
        },
        "id": "vBsEY2wii9KB",
        "outputId": "12b6787a-a8bc-46c8-b0ba-3b34421d3a9c"
      },
      "execution_count": 17,
      "outputs": [
        {
          "output_type": "stream",
          "name": "stdout",
          "text": [
            "Incerteza padrão coeficiente m (cm): 0.02824748346654184\n"
          ]
        }
      ]
    },
    {
      "cell_type": "code",
      "source": [
        "sigma_b = sigma_m * np.sqrt( media_X2 )\n",
        "print ( \"Incerteza padrão coeficiente b (cm): {}\".format( sigma_b ) )"
      ],
      "metadata": {
        "colab": {
          "base_uri": "https://localhost:8080/"
        },
        "id": "uoB0fol_jP0A",
        "outputId": "ab300aad-81cb-4631-e415-49c3bf2da5aa"
      },
      "execution_count": 18,
      "outputs": [
        {
          "output_type": "stream",
          "name": "stdout",
          "text": [
            "Incerteza padrão coeficiente b (cm): 0.03167457416078392\n"
          ]
        }
      ]
    },
    {
      "cell_type": "markdown",
      "source": [
        "Estimativas para os coeficientes:"
      ],
      "metadata": {
        "id": "mFjAW4NlkJMN"
      }
    },
    {
      "cell_type": "code",
      "source": [
        "print ( \"m = {:.2f} ± {:.2f} (cm)\".format( np.round( coeficiente_m, 2 ), np.round( sigma_m, 2 ) ) )"
      ],
      "metadata": {
        "colab": {
          "base_uri": "https://localhost:8080/"
        },
        "id": "ZQTcRMCzjXu-",
        "outputId": "c8645dea-21ec-4e72-99e1-a0491331cb5a"
      },
      "execution_count": 19,
      "outputs": [
        {
          "output_type": "stream",
          "name": "stdout",
          "text": [
            "m = -1.50 ± 0.03 (cm)\n"
          ]
        }
      ]
    },
    {
      "cell_type": "code",
      "source": [
        "print ( \"b = {} ± {} (cm)\".format( np.round( coeficiente_b, 2 ), np.round( sigma_b, 2 ) ) )"
      ],
      "metadata": {
        "colab": {
          "base_uri": "https://localhost:8080/"
        },
        "id": "kWetR3UqkPlB",
        "outputId": "1d92e2d8-c234-40e6-9f8f-1878bb8aee69"
      },
      "execution_count": 20,
      "outputs": [
        {
          "output_type": "stream",
          "name": "stdout",
          "text": [
            "b = 1.06 ± 0.03 (cm)\n"
          ]
        }
      ]
    },
    {
      "cell_type": "code",
      "source": [
        "fig = plt.figure( figsize=(12,10) )\n",
        "\n",
        "plt.plot( x, y, 'ko' )\n",
        "plt.plot( x, ( coeficiente_m * x + coeficiente_b ), '-r' )\n",
        "plt.xlabel( r\"$log(r) (\\rm{cm})$\", fontsize=18)\n",
        "plt.ylabel( r\"$log(I/I_{máx})$\", fontsize=18 )\n",
        "\n",
        "plt.text( 0.4, 0.9,\n",
        "          r\"$m = {} \\pm {}\\,\\left(\\rm{{cm}}\\right)$\".format( np.round( coeficiente_m, 2 ), np.round( sigma_m, 2 ) ),\n",
        "          fontsize=14, transform=plt.gca().transAxes )\n",
        "plt.text( 0.4, 0.85,\n",
        "          r\"$b = {} \\pm {}\\,\\left(\\rm{{cm}}\\right)$\".format( np.round( coeficiente_b, 2 ), np.round( sigma_b, 2 ) ),\n",
        "          fontsize=16, transform=plt.gca().transAxes )"
      ],
      "metadata": {
        "colab": {
          "base_uri": "https://localhost:8080/",
          "height": 881
        },
        "id": "D1LfwwYxkbrz",
        "outputId": "3ff3e94c-a27f-4e8f-e3f7-abb49d66729c"
      },
      "execution_count": 21,
      "outputs": [
        {
          "output_type": "execute_result",
          "data": {
            "text/plain": [
              "Text(0.4, 0.85, '$b = 1.06 \\\\pm 0.03\\\\,\\\\left(\\\\rm{cm}\\\\right)$')"
            ]
          },
          "metadata": {},
          "execution_count": 21
        },
        {
          "output_type": "display_data",
          "data": {
            "text/plain": [
              "<Figure size 1200x1000 with 1 Axes>"
            ],
            "image/png": "[encoded data removed]"
          },
          "metadata": {}
        }
      ]
    },
    {
      "cell_type": "markdown",
      "source": [
        "Usando um pacote:"
      ],
      "metadata": {
        "id": "-uLhsC2em4kJ"
      }
    },
    {
      "cell_type": "code",
      "source": [
        "from scipy.optimize import curve_fit\n",
        "\n",
        "def pol1(x, p0, p1):\n",
        "   return p0 + p1*x\n",
        "\n",
        "popt_lin, pcov_lin = curve_fit( pol1, x, y, p0=(0.,0.) )\n",
        "print ( popt_lin, pcov_lin )"
      ],
      "metadata": {
        "colab": {
          "base_uri": "https://localhost:8080/"
        },
        "id": "wZsV9rzOm6bM",
        "outputId": "01a1eebc-5ecd-434a-e6c5-86ed556fc316"
      },
      "execution_count": 22,
      "outputs": [
        {
          "output_type": "stream",
          "name": "stdout",
          "text": [
            "[ 1.0626771  -1.49944881] [[ 0.00100328 -0.00087954]\n",
            " [-0.00087954  0.00079792]]\n"
          ]
        }
      ]
    },
    {
      "cell_type": "code",
      "source": [
        "print ( \"Coeficiente m (cm): {}\".format( popt_lin[ 1 ] ) )\n",
        "print ( \"Incerteza padrão coeficiente m (cm): {}\".format( np.sqrt( pcov_lin[ 1, 1 ] ) ) )\n",
        "print ( \"a = {:.2f} ± {:.2f} (cm)\".format( np.round( popt_lin[ 1 ], 2 ), np.round( np.sqrt( pcov_lin[ 1, 1 ] ), 2 ) ) )"
      ],
      "metadata": {
        "colab": {
          "base_uri": "https://localhost:8080/"
        },
        "id": "LSmF4d2GnLOc",
        "outputId": "6405df14-6dc9-49ba-c451-5324daf9db99"
      },
      "execution_count": 23,
      "outputs": [
        {
          "output_type": "stream",
          "name": "stdout",
          "text": [
            "Coeficiente m (cm): -1.4994488132838861\n",
            "Incerteza padrão coeficiente m (cm): 0.02824748362827373\n",
            "a = -1.50 ± 0.03 (cm)\n"
          ]
        }
      ]
    },
    {
      "cell_type": "code",
      "source": [
        "print ( \"Coeficiente b (cm): {}\".format( popt_lin[ 0 ] ) )\n",
        "print ( \"Incerteza padrão coeficiente b (cm): {}\".format( np.sqrt( pcov_lin[ 0, 0 ] ) ) )\n",
        "print ( \"{} ± {} (cm)\".format( np.round( popt_lin[ 0 ], 2 ), np.round( np.sqrt( pcov_lin[ 0, 0 ] ), 2 ) ) )"
      ],
      "metadata": {
        "colab": {
          "base_uri": "https://localhost:8080/"
        },
        "id": "TAi_qWBSnbfA",
        "outputId": "22495123-244d-4181-fb22-7c6407aaebe8"
      },
      "execution_count": 24,
      "outputs": [
        {
          "output_type": "stream",
          "name": "stdout",
          "text": [
            "Coeficiente b (cm): 1.0626771043058814\n",
            "Incerteza padrão coeficiente b (cm): 0.03167457436509204\n",
            "1.06 ± 0.03 (cm)\n"
          ]
        }
      ]
    },
    {
      "cell_type": "code",
      "source": [
        "fig = plt.figure( figsize=(12,10) )\n",
        "\n",
        "plt.plot( x, y, 'ko' )\n",
        "plt.plot( x, ( popt_lin[ 0 ]  + popt_lin[ 1 ] * x ), '-r' )\n",
        "plt.xlabel( r\"$log(r)~(\\rm{{cm}}$\", fontsize=18)\n",
        "plt.ylabel( r\"$log(I/I_{máx})$\", fontsize=18 )\n",
        "\n",
        "plt.text( 0.4, 0.9,\n",
        "          r\"$m = {} \\pm {}(\\rm{{cm}})$\".format( np.round( popt_lin[ 1 ], 2 ), np.round( np.sqrt( pcov_lin[ 1, 1 ] ), 2 ) ),\n",
        "          fontsize=16, transform=plt.gca().transAxes )\n",
        "plt.text( 0.4, 0.85,\n",
        "          r\"$b = {} \\pm {}\\,\\left(\\rm{{cm}}\\right)$\".format( np.round( popt_lin[ 0 ], 2 ), np.round( np.sqrt( pcov_lin[ 0, 0 ] ), 2 ) ),\n",
        "          fontsize=16, transform=plt.gca().transAxes )"
      ],
      "metadata": {
        "colab": {
          "base_uri": "https://localhost:8080/",
          "height": 881
        },
        "id": "YX3VdsGInl0Q",
        "outputId": "9c6db680-3048-4647-d22a-0fb44b83f6c7"
      },
      "execution_count": 25,
      "outputs": [
        {
          "output_type": "execute_result",
          "data": {
            "text/plain": [
              "Text(0.4, 0.85, '$b = 1.06 \\\\pm 0.03\\\\,\\\\left(\\\\rm{cm}\\\\right)$')"
            ]
          },
          "metadata": {},
          "execution_count": 25
        },
        {
          "output_type": "display_data",
          "data": {
            "text/plain": [
              "<Figure size 1200x1000 with 1 Axes>"
            ],
            "image/png": "[encoded data removed]"
          },
          "metadata": {}
        }
      ]
    }
  ]
}