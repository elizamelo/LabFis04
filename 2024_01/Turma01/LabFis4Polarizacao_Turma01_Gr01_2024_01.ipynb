{
  "nbformat": 4,
  "nbformat_minor": 0,
  "metadata": {
    "colab": {
      "provenance": [],
      "authorship_tag": "ABX9TyMU0xHoAP8blfapEpbUJEPO",
      "include_colab_link": true
    },
    "kernelspec": {
      "name": "python3",
      "display_name": "Python 3"
    },
    "language_info": {
      "name": "python"
    }
  },
  "cells": [
    {
      "cell_type": "markdown",
      "metadata": {
        "id": "view-in-github",
        "colab_type": "text"
      },
      "source": [
        "<a href=\"https://colab.research.google.com/github/elizamelo/LabFis04/blob/main/2024_01/Turma01/LabFis4Polarizacao_Turma01_Gr01_2024_01.ipynb\" target=\"_parent\"><img src=\"https://colab.research.google.com/assets/colab-badge.svg\" alt=\"Open In Colab\"/></a>"
      ]
    },
    {
      "cell_type": "code",
      "execution_count": 1,
      "metadata": {
        "id": "ofnSdf-wsbe9"
      },
      "outputs": [],
      "source": [
        "import numpy as np\n",
        "import pandas as pd\n",
        "import math\n",
        "import matplotlib as mpl\n",
        "import matplotlib.pyplot as plt"
      ]
    },
    {
      "cell_type": "markdown",
      "source": [],
      "metadata": {
        "id": "rywg4FTGyAVD"
      }
    },
    {
      "cell_type": "markdown",
      "source": [
        "Laboratório de Física IV\n",
        "\n",
        "Prática 01: Intensidade Luminosa\n",
        "\n",
        "obj.: Verificar a relação:  \n",
        "\n",
        "I(r)/I_max = cos^2 (theta)\n",
        "\n",
        "y=m.x+b\n",
        "\n",
        "y=I(r)/I_max; x= cos^2 (theta); m_t=1 e b_t=0\n",
        "\n",
        "Dados do Exemplo: I_max=10 w/m²;\n",
        "\n",
        "\n",
        "Grupo 01: turma 3\n",
        "\n",
        " theta=[0.0,10.0,20.0,30.0,40.0,50.0,60.0,70.0,80.0]\n",
        "\n",
        " IR=[1.0,0.9,0.8,0.7,0.6,0.5,0.4,0.3,0.2,0.1,0.0]\n",
        "\n",
        "Grupo 02: turma 3\n",
        "\n",
        " theta=[0.0,10.0,20.0,30.0,40.0,50.0,60.0,70.0,80.0, 90.0]\n",
        "\n",
        " IR=[1.0,0.91,0.8,0.67,0.44,0.28,0.14,0.05,0.0,0.0]\n",
        "\n",
        "\n",
        "Grupo 03: turma 2\n",
        "\n",
        " theta=[0.0,10.0,20.0,30.0,40.0,50.0,60.0,70.0,80.0, 90.0]\n",
        "\n",
        " IR=[1.0,0.88,0.84,0.68,0.54,0.41,0.23,0.1,0.02,0.0]\n",
        "\n",
        " Grupo 04: turma 2\n",
        "\n",
        " theta=[0.0,10.0,20.0,30.0,40.0,50.0,60.0,70.0,80.0, 90.0]\n",
        "\n",
        " IR=[1.0,0.96,0.86,0.74,0.56,0.39,0.23,0.8,0.1,0.0]\n",
        "\n",
        "  Grupo 05: turma 2\n",
        "\n",
        " theta=[0.0,10.0,20.0,30.0,40.0,50.0,60.0,70.0,80.0, 90.0]\n",
        "\n",
        " IR=[1.0,0.84,0.82,0.66,0.51,0.34,0.18,0.07,0.01,0.0]"
      ],
      "metadata": {
        "id": "aOVlph-RscLj"
      }
    },
    {
      "cell_type": "code",
      "source": [
        "I_m=10"
      ],
      "metadata": {
        "id": "FqOPNrnjbmtJ"
      },
      "execution_count": 2,
      "outputs": []
    },
    {
      "cell_type": "code",
      "source": [
        "#ângulo\n",
        "\n",
        "#[1.0,0.97,0.883,0.750,0.587,0.413,0.250,0.117,0.030]\n",
        "ang=[0,10,20,30,40,50,60,70,80,90]\n",
        "\n"
      ],
      "metadata": {
        "id": "IfyZ3B5Cv1-3"
      },
      "execution_count": 3,
      "outputs": []
    },
    {
      "cell_type": "code",
      "source": [
        "#Intensidades Relativas:\n",
        "I=[10.0,9.7,9.0,7.8,6.0,4.2,2.7,1.2,0.4,0.0] #g5\n",
        "#I=[10.0,9.6,8.6,7.4,5.6,3.9,2.3,0.8,0.1,0.0] #g4\n",
        "#I=[10.0,8.8,8.4,6.8,5.4,4.1,2.3,1.0,0.2,0.0] #g3\n",
        "#I =[10.0,9.1,8.0,6.1,4.4,2.8,1.4,0.5,0.0,0.0] #g2"
      ],
      "metadata": {
        "id": "86GjTtusPE0C"
      },
      "execution_count": 4,
      "outputs": []
    },
    {
      "cell_type": "code",
      "source": [
        "x=(np.cos(np.deg2rad(ang))*np.cos(np.deg2rad(ang)))\n",
        "print(x)\n",
        "N_medidas = len(x)\n",
        "print ( \"Número de medidas: {}\".format( N_medidas ) )\n",
        "\n"
      ],
      "metadata": {
        "colab": {
          "base_uri": "https://localhost:8080/"
        },
        "id": "VuDlhoWAb3Si",
        "outputId": "010fe442-821d-4609-da8f-52ebe2b22b0d"
      },
      "execution_count": 5,
      "outputs": [
        {
          "output_type": "stream",
          "name": "stdout",
          "text": [
            "[1.00000000e+00 9.69846310e-01 8.83022222e-01 7.50000000e-01\n",
            " 5.86824089e-01 4.13175911e-01 2.50000000e-01 1.16977778e-01\n",
            " 3.01536896e-02 3.74939946e-33]\n",
            "Número de medidas: 10\n"
          ]
        }
      ]
    },
    {
      "cell_type": "code",
      "source": [
        "y=np.divide(I,I_m)\n",
        "print(y)"
      ],
      "metadata": {
        "colab": {
          "base_uri": "https://localhost:8080/"
        },
        "id": "Z94-MlNPTnK7",
        "outputId": "4390689e-b56e-4775-bd2f-b8feceba05d5"
      },
      "execution_count": 6,
      "outputs": [
        {
          "output_type": "stream",
          "name": "stdout",
          "text": [
            "[1.   0.97 0.9  0.78 0.6  0.42 0.27 0.12 0.04 0.  ]\n"
          ]
        }
      ]
    },
    {
      "cell_type": "code",
      "source": [
        "media_X = x.mean()\n",
        "media_X2 = (x**2).mean( )\n",
        "var_X_populacional = ( x ** 2 ).mean() - ( media_X ** 2 )\n",
        "dp_X_populacional = np.sqrt( var_X_populacional )\n",
        "print ( \"Média (cm): {}\".format( media_X ) )\n",
        "print ( \"Média quadrados(cm²): {}\".format( media_X2 ) )\n",
        "print ( \"Variância (cm²): {}\".format( var_X_populacional ) )\n",
        "print ( \"Desvio padrão (cm): {}\".format( dp_X_populacional ) )\n",
        "\n"
      ],
      "metadata": {
        "colab": {
          "base_uri": "https://localhost:8080/"
        },
        "id": "vhP2Xa4WeTY6",
        "outputId": "41c8b633-c27c-40e5-8e08-0b9d16800243"
      },
      "execution_count": 7,
      "outputs": [
        {
          "output_type": "stream",
          "name": "stdout",
          "text": [
            "Média (cm): 0.5\n",
            "Média quadrados(cm²): 0.3875\n",
            "Variância (cm²): 0.1375\n",
            "Desvio padrão (cm): 0.37080992435478316\n"
          ]
        }
      ]
    },
    {
      "cell_type": "code",
      "source": [
        "media_Y = y.mean()\n",
        "media_Y2 = ( y** 2 ).mean()\n",
        "var_Y_populacional = ( y ** 2 ).mean() - ( media_Y ** 2 )\n",
        "dp_Y_populacional = np.sqrt( var_Y_populacional )\n",
        "print ( \"Média : {}\".format( media_Y ) )\n",
        "print ( \"Média quadrados: {}\".format( media_Y2 ) )\n",
        "print ( \"Variância : {}\".format( var_Y_populacional ) )\n",
        "print ( \"Desvio padrão : {}\".format( dp_Y_populacional ) )"
      ],
      "metadata": {
        "colab": {
          "base_uri": "https://localhost:8080/"
        },
        "id": "ZOTEXRtMf5mm",
        "outputId": "c79a0130-3679-4315-ef18-77f14efa86fc"
      },
      "execution_count": 8,
      "outputs": [
        {
          "output_type": "stream",
          "name": "stdout",
          "text": [
            "Média : 0.51\n",
            "Média quadrados: 0.39846\n",
            "Variância : 0.13835999999999998\n",
            "Desvio padrão : 0.3719677405367299\n"
          ]
        }
      ]
    },
    {
      "cell_type": "code",
      "source": [
        "x_X_y = ( x * y ).mean()\n",
        "cov_populacional = x_X_y - ( media_X * media_Y )\n",
        "coeficiente_correlacao = cov_populacional / ( dp_X_populacional * dp_Y_populacional )\n",
        "print ( \"Covariância (logr × logIr): {}\".format( cov_populacional ) )\n",
        "print ( \"Coeficiente de correlação: {}\".format( coeficiente_correlacao ) )\n"
      ],
      "metadata": {
        "colab": {
          "base_uri": "https://localhost:8080/"
        },
        "id": "Hlnlc-3bgfV7",
        "outputId": "70fdfccc-3eb5-4841-9c0a-bb8c11896736"
      },
      "execution_count": 9,
      "outputs": [
        {
          "output_type": "stream",
          "name": "stdout",
          "text": [
            "Covariância (logr × logIr): 0.13788427374718726\n",
            "Coeficiente de correlação: 0.9996733400811483\n"
          ]
        }
      ]
    },
    {
      "cell_type": "markdown",
      "source": [
        "Coeficientes:\n"
      ],
      "metadata": {
        "id": "nXii6u3fhejG"
      }
    },
    {
      "cell_type": "code",
      "source": [
        "coeficiente_m = cov_populacional / var_X_populacional\n",
        "print ( \"Coeficiente m (cm): {}\".format( coeficiente_m ) )\n"
      ],
      "metadata": {
        "colab": {
          "base_uri": "https://localhost:8080/"
        },
        "id": "GHX5jQ4rhOyr",
        "outputId": "acbab375-7e24-40db-f9f4-1608096ab6ad"
      },
      "execution_count": 10,
      "outputs": [
        {
          "output_type": "stream",
          "name": "stdout",
          "text": [
            "Coeficiente m (cm): 1.002794718161362\n"
          ]
        }
      ]
    },
    {
      "cell_type": "code",
      "source": [
        "\n",
        "coeficiente_b = media_Y - coeficiente_m * media_X # cm\n",
        "print ( \"Coeficiente b (cm): {}\".format( coeficiente_b ) )"
      ],
      "metadata": {
        "colab": {
          "base_uri": "https://localhost:8080/"
        },
        "id": "ObHDPHnCh6Yx",
        "outputId": "093af714-6582-451b-d92e-fb4a4b6c175f"
      },
      "execution_count": 11,
      "outputs": [
        {
          "output_type": "stream",
          "name": "stdout",
          "text": [
            "Coeficiente b (cm): 0.00860264091931906\n"
          ]
        }
      ]
    },
    {
      "cell_type": "markdown",
      "source": [
        "Incertezas:"
      ],
      "metadata": {
        "id": "ReIvfc4diKR6"
      }
    },
    {
      "cell_type": "code",
      "source": [
        "arr_desvios_ajuste = ( y - ( coeficiente_m * x + coeficiente_b ) )\n",
        "arr_desvios_ajuste"
      ],
      "metadata": {
        "colab": {
          "base_uri": "https://localhost:8080/"
        },
        "id": "4NQfJBENiH7R",
        "outputId": "461d7f4f-859a-4bb3-d857-a4212c9fc931"
      },
      "execution_count": 12,
      "outputs": [
        {
          "output_type": "execute_result",
          "data": {
            "text/plain": [
              "array([-0.01139736, -0.0111594 ,  0.00590734,  0.01930132,  0.00293326,\n",
              "       -0.00293326,  0.01069868, -0.00590734,  0.0011594 , -0.00860264])"
            ]
          },
          "metadata": {},
          "execution_count": 12
        }
      ]
    },
    {
      "cell_type": "code",
      "source": [
        "print ( arr_desvios_ajuste ** 2 )\n",
        "print ( \"Soma quadrado desvios (cm): {}\".format( ( arr_desvios_ajuste ** 2 ).sum() ) )\n",
        "\n"
      ],
      "metadata": {
        "colab": {
          "base_uri": "https://localhost:8080/"
        },
        "id": "S9SG7RAYiVOC",
        "outputId": "32543060-a109-4990-8807-d733b88489a4"
      },
      "execution_count": 13,
      "outputs": [
        {
          "output_type": "stream",
          "name": "stdout",
          "text": [
            "[1.29899794e-04 1.24532173e-04 3.48966574e-05 3.72540971e-04\n",
            " 8.60402777e-06 8.60402777e-06 1.14461744e-04 3.48966574e-05\n",
            " 1.34420467e-06 7.40054308e-05]\n",
            "Soma quadrado desvios (cm): 0.0009037856880528734\n"
          ]
        }
      ]
    },
    {
      "cell_type": "code",
      "source": [
        "ep_y_1 = np.sqrt( ( arr_desvios_ajuste ** 2 ).sum() / ( N_medidas - 2 ) )\n",
        "print ( \"epsilon_y = {}\".format( ep_y_1 ) )\n",
        "\n"
      ],
      "metadata": {
        "colab": {
          "base_uri": "https://localhost:8080/"
        },
        "id": "MMFMjDPjinNm",
        "outputId": "42266180-44ed-4128-ad22-dc7de652a079"
      },
      "execution_count": 14,
      "outputs": [
        {
          "output_type": "stream",
          "name": "stdout",
          "text": [
            "epsilon_y = 0.010628885689789366\n"
          ]
        }
      ]
    },
    {
      "cell_type": "code",
      "source": [
        "ep_y_2 = dp_Y_populacional * np.sqrt( ( N_medidas / ( N_medidas - 2 ) ) * ( 1. - coeficiente_correlacao ** 2 ) )\n",
        "print ( \"epsilon_y = {}\".format( ep_y_2 ) )"
      ],
      "metadata": {
        "colab": {
          "base_uri": "https://localhost:8080/"
        },
        "id": "bP_a0JMdi2-_",
        "outputId": "744d5b7d-3f46-4ffe-aa0d-9ab5a9d46bdc"
      },
      "execution_count": 15,
      "outputs": [
        {
          "output_type": "stream",
          "name": "stdout",
          "text": [
            "epsilon_y = 0.010628885689788897\n"
          ]
        }
      ]
    },
    {
      "cell_type": "code",
      "source": [
        "ep_y = ep_y_2\n",
        "sigma_m = ep_y / ( dp_X_populacional * np.sqrt( N_medidas ) )\n",
        "print ( \"Incerteza padrão coeficiente m (cm): {}\".format( sigma_m ) )\n"
      ],
      "metadata": {
        "colab": {
          "base_uri": "https://localhost:8080/"
        },
        "id": "vBsEY2wii9KB",
        "outputId": "4638584c-54ce-4de5-9818-2da89308dcb0"
      },
      "execution_count": 16,
      "outputs": [
        {
          "output_type": "stream",
          "name": "stdout",
          "text": [
            "Incerteza padrão coeficiente m (cm): 0.009064344172499558\n"
          ]
        }
      ]
    },
    {
      "cell_type": "code",
      "source": [
        "sigma_b = sigma_m * np.sqrt( media_X2 )\n",
        "print ( \"Incerteza padrão coeficiente b (cm): {}\".format( sigma_b ) )"
      ],
      "metadata": {
        "colab": {
          "base_uri": "https://localhost:8080/"
        },
        "id": "uoB0fol_jP0A",
        "outputId": "fd4f22d0-1b9d-4024-9d7f-1087364526fd"
      },
      "execution_count": 17,
      "outputs": [
        {
          "output_type": "stream",
          "name": "stdout",
          "text": [
            "Incerteza padrão coeficiente b (cm): 0.005642508743461687\n"
          ]
        }
      ]
    },
    {
      "cell_type": "markdown",
      "source": [
        "Estimativas para os coeficientes:"
      ],
      "metadata": {
        "id": "mFjAW4NlkJMN"
      }
    },
    {
      "cell_type": "code",
      "source": [
        "print ( \"m = {:.2f} ± {:.2f} (cm)\".format( np.round( coeficiente_m, 2 ), np.round( sigma_m, 2 ) ) )"
      ],
      "metadata": {
        "colab": {
          "base_uri": "https://localhost:8080/"
        },
        "id": "ZQTcRMCzjXu-",
        "outputId": "e25ad6a5-58ad-4476-dad3-8ca7b9a61fc4"
      },
      "execution_count": 18,
      "outputs": [
        {
          "output_type": "stream",
          "name": "stdout",
          "text": [
            "m = 1.00 ± 0.01 (cm)\n"
          ]
        }
      ]
    },
    {
      "cell_type": "code",
      "source": [
        "print ( \"b = {} ± {} (cm)\".format( np.round( coeficiente_b, 2 ), np.round( sigma_b, 2 ) ) )"
      ],
      "metadata": {
        "colab": {
          "base_uri": "https://localhost:8080/"
        },
        "id": "kWetR3UqkPlB",
        "outputId": "aea688f9-0edb-49ae-fa97-4b0ebb735900"
      },
      "execution_count": 19,
      "outputs": [
        {
          "output_type": "stream",
          "name": "stdout",
          "text": [
            "b = 0.01 ± 0.01 (cm)\n"
          ]
        }
      ]
    },
    {
      "cell_type": "code",
      "source": [
        "fig = plt.figure( figsize=(12,10) )\n",
        "\n",
        "plt.plot( x, y, 'ko' )\n",
        "plt.plot( x, ( coeficiente_m * x + coeficiente_b ), '-r' )\n",
        "plt.xlabel( r\"$cos^{2}\\theta $\", fontsize=18)\n",
        "plt.ylabel( r\"$I/I_{máx}$\", fontsize=18 )\n",
        "\n",
        "plt.text( 0.4, 0.9,\n",
        "          r\"$m = {} \\pm {}\\,$\".format( np.round( coeficiente_m, 2 ), np.round( sigma_m, 2 ) ),\n",
        "          fontsize=14, transform=plt.gca().transAxes )\n",
        "plt.text( 0.4, 0.85,\n",
        "          r\"$b = {} \\pm {}\\,$\".format( np.round( coeficiente_b, 2 ), np.round( sigma_b, 2 ) ),\n",
        "          fontsize=16, transform=plt.gca().transAxes )"
      ],
      "metadata": {
        "colab": {
          "base_uri": "https://localhost:8080/",
          "height": 609
        },
        "id": "D1LfwwYxkbrz",
        "outputId": "4965b1d1-21aa-4f72-ce5e-df1eb4f60fd1"
      },
      "execution_count": 20,
      "outputs": [
        {
          "output_type": "execute_result",
          "data": {
            "text/plain": [
              "Text(0.4, 0.85, '$b = 0.01 \\\\pm 0.01\\\\,$')"
            ]
          },
          "metadata": {},
          "execution_count": 20
        },
        {
          "output_type": "display_data",
          "data": {
            "text/plain": [
              "<Figure size 1200x1000 with 1 Axes>"
            ],
            "image/png": "[encoded data removed]"
          },
          "metadata": {}
        }
      ]
    },
    {
      "cell_type": "markdown",
      "source": [
        "Usando um pacote:"
      ],
      "metadata": {
        "id": "-uLhsC2em4kJ"
      }
    },
    {
      "cell_type": "code",
      "source": [
        "from scipy.optimize import curve_fit\n",
        "\n",
        "def pol1(x, p0, p1):\n",
        "   return p0 + p1*x\n",
        "\n",
        "popt_lin, pcov_lin = curve_fit( pol1, x, y, p0=(0.,0.) )\n",
        "print ( popt_lin, pcov_lin )"
      ],
      "metadata": {
        "colab": {
          "base_uri": "https://localhost:8080/"
        },
        "id": "wZsV9rzOm6bM",
        "outputId": "ca55e421-cc6b-4b2c-f6ed-1d291e8d7478"
      },
      "execution_count": 21,
      "outputs": [
        {
          "output_type": "stream",
          "name": "stdout",
          "text": [
            "[0.00860264 1.00279472] [[ 3.18379087e-05 -4.10811605e-05]\n",
            " [-4.10811605e-05  8.21623109e-05]]\n"
          ]
        }
      ]
    },
    {
      "cell_type": "code",
      "source": [
        "print ( \"Coeficiente m (cm): {}\".format( popt_lin[ 1 ] ) )\n",
        "print ( \"Incerteza padrão coeficiente m (cm): {}\".format( np.sqrt( pcov_lin[ 1, 1 ] ) ) )\n",
        "print ( \"a = {:.2f} ± {:.2f} (cm)\".format( np.round( popt_lin[ 1 ], 2 ), np.round( np.sqrt( pcov_lin[ 1, 1 ] ), 2 ) ) )"
      ],
      "metadata": {
        "colab": {
          "base_uri": "https://localhost:8080/"
        },
        "id": "LSmF4d2GnLOc",
        "outputId": "933b450f-d173-45cf-9990-d830f42106d3"
      },
      "execution_count": 22,
      "outputs": [
        {
          "output_type": "stream",
          "name": "stdout",
          "text": [
            "Coeficiente m (cm): 1.0027947194798592\n",
            "Incerteza padrão coeficiente m (cm): 0.009064342829813749\n",
            "a = 1.00 ± 0.01 (cm)\n"
          ]
        }
      ]
    },
    {
      "cell_type": "code",
      "source": [
        "print ( \"Coeficiente b (cm): {}\".format( popt_lin[ 0 ] ) )\n",
        "print ( \"Incerteza padrão coeficiente b (cm): {}\".format( np.sqrt( pcov_lin[ 0, 0 ] ) ) )\n",
        "print ( \"{} ± {} (cm)\".format( np.round( popt_lin[ 0 ], 2 ), np.round( np.sqrt( pcov_lin[ 0, 0 ] ), 2 ) ) )"
      ],
      "metadata": {
        "colab": {
          "base_uri": "https://localhost:8080/"
        },
        "id": "TAi_qWBSnbfA",
        "outputId": "cd7cd3af-9866-4cb9-80b0-710d0a91cc9d"
      },
      "execution_count": 23,
      "outputs": [
        {
          "output_type": "stream",
          "name": "stdout",
          "text": [
            "Coeficiente b (cm): 0.00860264077483814\n",
            "Incerteza padrão coeficiente b (cm): 0.005642509081209287\n",
            "0.01 ± 0.01 (cm)\n"
          ]
        }
      ]
    },
    {
      "cell_type": "code",
      "source": [
        "fig = plt.figure( figsize=(12,10) )\n",
        "\n",
        "plt.plot( x, y, 'ko' )\n",
        "plt.plot( x, ( popt_lin[ 0 ]  + popt_lin[ 1 ] * x ), '-r' )\n",
        "plt.xlabel( r\"$cos^{2}\\theta $\", fontsize=18)\n",
        "plt.ylabel( r\"$I/I_{máx}$\", fontsize=18 )\n",
        "\n",
        "plt.text( 0.4, 0.9,\n",
        "          r\"$m = {} \\pm {}$\".format( np.round( popt_lin[ 1 ], 2 ), np.round( np.sqrt( pcov_lin[ 1, 1 ] ), 2 ) ),\n",
        "          fontsize=16, transform=plt.gca().transAxes )\n",
        "plt.text( 0.4, 0.85,\n",
        "          r\"$b = {} \\pm {}\\,$\".format( np.round( popt_lin[ 0 ], 2 ), np.round( np.sqrt( pcov_lin[ 0, 0 ] ), 2 ) ),\n",
        "          fontsize=16, transform=plt.gca().transAxes )"
      ],
      "metadata": {
        "colab": {
          "base_uri": "https://localhost:8080/",
          "height": 609
        },
        "id": "YX3VdsGInl0Q",
        "outputId": "f0512670-0b56-42f0-eefa-f3dd335810b1"
      },
      "execution_count": 24,
      "outputs": [
        {
          "output_type": "execute_result",
          "data": {
            "text/plain": [
              "Text(0.4, 0.85, '$b = 0.01 \\\\pm 0.01\\\\,$')"
            ]
          },
          "metadata": {},
          "execution_count": 24
        },
        {
          "output_type": "display_data",
          "data": {
            "text/plain": [
              "<Figure size 1200x1000 with 1 Axes>"
            ],
            "image/png": "[encoded data removed]"
          },
          "metadata": {}
        }
      ]
    }
  ]
}