{
  "nbformat": 4,
  "nbformat_minor": 0,
  "metadata": {
    "colab": {
      "provenance": [],
      "authorship_tag": "ABX9TyMjectqcd5HwvhkRBSJc8Ck",
      "include_colab_link": true
    },
    "kernelspec": {
      "name": "python3",
      "display_name": "Python 3"
    },
    "language_info": {
      "name": "python"
    }
  },
  "cells": [
    {
      "cell_type": "markdown",
      "metadata": {
        "id": "view-in-github",
        "colab_type": "text"
      },
      "source": [
        "<a href=\"https://colab.research.google.com/github/elizamelo/LabFis04/blob/main/2024_01/Turma01/LabFis4IntensidadeLuminosa_2024_1_Grupo1_turma01.ipynb\" target=\"_parent\"><img src=\"https://colab.research.google.com/assets/colab-badge.svg\" alt=\"Open In Colab\"/></a>"
      ]
    },
    {
      "cell_type": "code",
      "execution_count": 1,
      "metadata": {
        "id": "ofnSdf-wsbe9"
      },
      "outputs": [],
      "source": [
        "import numpy as np\n",
        "import pandas as pd\n",
        "import math\n",
        "import matplotlib as mpl\n",
        "import matplotlib.pyplot as plt"
      ]
    },
    {
      "cell_type": "markdown",
      "source": [],
      "metadata": {
        "id": "rywg4FTGyAVD"
      }
    },
    {
      "cell_type": "markdown",
      "source": [
        "Laboratório de Física IV\n",
        "\n",
        "Prática 01: Intensidade Luminosa\n",
        "\n",
        "obj.: Verificar a relação: I = C/r^2\n",
        "\n",
        "log (I(r)/I_max) = log(C) - 2.log(r)\n",
        "\n",
        "y=m.x+b\n",
        "\n",
        "y=log (I(r)/I_max); x=log (I(r)/I_max); m_t=-2 e b_t=log(C)\n",
        "\n",
        "Dados do Exemplo: I_max=10 w/m²; I(r)=10,9,8,7,6,5,4,3,2,1; r=?\n",
        "\n",
        "\n"
      ],
      "metadata": {
        "id": "aOVlph-RscLj"
      }
    },
    {
      "cell_type": "code",
      "source": [
        "I_m=10"
      ],
      "metadata": {
        "id": "FqOPNrnjbmtJ"
      },
      "execution_count": 2,
      "outputs": []
    },
    {
      "cell_type": "code",
      "source": [
        "#Distãncia da fonte a fibra óptica\n",
        "#r = [14.0,14.85,16.05,17.55,19.4,21.55,24.8,30.35,37.25,56.9] # cm - grupo 01,\n",
        "#r=[1.9,2.0,2.45,2.51,3.0,3.85,4.5,5.6,7.6,12.9] # cm - grupo 02,\n",
        "r = [5,7,9,11,13,15,17,19,21,23] #cm grupo 3,\n",
        "\n"
      ],
      "metadata": {
        "id": "IfyZ3B5Cv1-3"
      },
      "execution_count": 3,
      "outputs": []
    },
    {
      "cell_type": "code",
      "source": [
        "#Intensidades Relativas:\n",
        "\n",
        "IR =[ 1.0,0.65,0.45,0.35,0.26,0.22,0.17,0.14,0.12,0.1]"
      ],
      "metadata": {
        "id": "86GjTtusPE0C"
      },
      "execution_count": 4,
      "outputs": []
    },
    {
      "cell_type": "code",
      "source": [
        "print(r)\n",
        "N_medidas = len(r)\n",
        "print ( \"Número de medidas: {}\".format( N_medidas ) )\n",
        "\n"
      ],
      "metadata": {
        "colab": {
          "base_uri": "https://localhost:8080/"
        },
        "id": "VuDlhoWAb3Si",
        "outputId": "285f2695-db3b-4421-d9db-e9c39242006f"
      },
      "execution_count": 5,
      "outputs": [
        {
          "output_type": "stream",
          "name": "stdout",
          "text": [
            "[5, 7, 9, 11, 13, 15, 17, 19, 21, 23]\n",
            "Número de medidas: 10\n"
          ]
        }
      ]
    },
    {
      "cell_type": "code",
      "source": [
        "x = np.log10(r)\n",
        "print (\"x=log(r) = \", x)"
      ],
      "metadata": {
        "colab": {
          "base_uri": "https://localhost:8080/"
        },
        "id": "EcxjQqvpdYCX",
        "outputId": "6dfce9e9-4513-4cbf-b83c-ec73cef968cb"
      },
      "execution_count": 6,
      "outputs": [
        {
          "output_type": "stream",
          "name": "stdout",
          "text": [
            "x=log(r) =  [0.69897    0.84509804 0.95424251 1.04139269 1.11394335 1.17609126\n",
            " 1.23044892 1.2787536  1.32221929 1.36172784]\n"
          ]
        }
      ]
    },
    {
      "cell_type": "code",
      "source": [
        "y=np.log10(IR)\n",
        "print (\"y=log(IR) = \", y)"
      ],
      "metadata": {
        "colab": {
          "base_uri": "https://localhost:8080/"
        },
        "id": "qhKWqp6Sd9F6",
        "outputId": "afcd7c9d-5324-4a08-e515-e99809ac6e25"
      },
      "execution_count": 7,
      "outputs": [
        {
          "output_type": "stream",
          "name": "stdout",
          "text": [
            "y=log(IR) =  [ 0.         -0.18708664 -0.34678749 -0.45593196 -0.58502665 -0.65757732\n",
            " -0.76955108 -0.85387196 -0.92081875 -1.        ]\n"
          ]
        }
      ]
    },
    {
      "cell_type": "code",
      "source": [
        "media_X = x.mean()\n",
        "media_X2 = ( x** 2 ).mean()\n",
        "var_X_populacional = ( x ** 2 ).mean() - ( media_X ** 2 )\n",
        "dp_X_populacional = np.sqrt( var_X_populacional )\n",
        "print ( \"Média (cm): {}\".format( media_X ) )\n",
        "print ( \"Média quadrados(cm²): {}\".format( media_X2 ) )\n",
        "print ( \"Variância (cm²): {}\".format( var_X_populacional ) )\n",
        "print ( \"Desvio padrão (cm): {}\".format( dp_X_populacional ) )\n",
        "\n"
      ],
      "metadata": {
        "colab": {
          "base_uri": "https://localhost:8080/"
        },
        "id": "vhP2Xa4WeTY6",
        "outputId": "ad155092-4cdd-44bf-cede-e32677611731"
      },
      "execution_count": 8,
      "outputs": [
        {
          "output_type": "stream",
          "name": "stdout",
          "text": [
            "Média (cm): 1.1022887503392957\n",
            "Média quadrados(cm²): 1.2573669580317925\n",
            "Variância (cm²): 0.042326468907226245\n",
            "Desvio padrão (cm): 0.2057339760643007\n"
          ]
        }
      ]
    },
    {
      "cell_type": "code",
      "source": [
        "media_Y = y.mean()\n",
        "media_Y2 = ( y** 2 ).mean()\n",
        "var_Y_populacional = ( y ** 2 ).mean() - ( media_Y ** 2 )\n",
        "dp_Y_populacional = np.sqrt( var_Y_populacional )\n",
        "print ( \"Média : {}\".format( media_Y ) )\n",
        "print ( \"Média quadrados: {}\".format( media_Y2 ) )\n",
        "print ( \"Variância : {}\".format( var_Y_populacional ) )\n",
        "print ( \"Desvio padrão : {}\".format( dp_Y_populacional ) )"
      ],
      "metadata": {
        "colab": {
          "base_uri": "https://localhost:8080/"
        },
        "id": "ZOTEXRtMf5mm",
        "outputId": "6a29b72f-f2a7-46ff-c3a4-7670216b1995"
      },
      "execution_count": 9,
      "outputs": [
        {
          "output_type": "stream",
          "name": "stdout",
          "text": [
            "Média : -0.5776651853334365\n",
            "Média quadrados: 0.43070144068817406\n",
            "Variância : 0.09700437434186054\n",
            "Desvio padrão : 0.3114552525514067\n"
          ]
        }
      ]
    },
    {
      "cell_type": "code",
      "source": [
        "x_X_y = ( x * y ).mean()\n",
        "cov_populacional = x_X_y - ( media_X * media_Y )\n",
        "coeficiente_correlacao = cov_populacional / ( dp_X_populacional * dp_Y_populacional )\n",
        "print ( \"Covariância (logr × logIr): {}\".format( cov_populacional ) )\n",
        "print ( \"Coeficiente de correlação: {}\".format( coeficiente_correlacao ) )\n"
      ],
      "metadata": {
        "colab": {
          "base_uri": "https://localhost:8080/"
        },
        "id": "Hlnlc-3bgfV7",
        "outputId": "0a6fbb06-ad50-49e2-b19a-15aae51435c8"
      },
      "execution_count": 10,
      "outputs": [
        {
          "output_type": "stream",
          "name": "stdout",
          "text": [
            "Covariância (logr × logIr): -0.06393865580970148\n",
            "Coeficiente de correlação: -0.9978420990321749\n"
          ]
        }
      ]
    },
    {
      "cell_type": "markdown",
      "source": [
        "Coeficientes:\n"
      ],
      "metadata": {
        "id": "nXii6u3fhejG"
      }
    },
    {
      "cell_type": "code",
      "source": [
        "coeficiente_m = cov_populacional / var_X_populacional\n",
        "print ( \"Coeficiente m (cm): {}\".format( coeficiente_m ) )\n"
      ],
      "metadata": {
        "colab": {
          "base_uri": "https://localhost:8080/"
        },
        "id": "GHX5jQ4rhOyr",
        "outputId": "2b116eff-32ad-46c2-d72f-351fd3c7b237"
      },
      "execution_count": 11,
      "outputs": [
        {
          "output_type": "stream",
          "name": "stdout",
          "text": [
            "Coeficiente m (cm): -1.5106068958846097\n"
          ]
        }
      ]
    },
    {
      "cell_type": "code",
      "source": [
        "\n",
        "coeficiente_b = media_Y - coeficiente_m * media_X # cm\n",
        "print ( \"Coeficiente b (cm): {}\".format( coeficiente_b ) )"
      ],
      "metadata": {
        "colab": {
          "base_uri": "https://localhost:8080/"
        },
        "id": "ObHDPHnCh6Yx",
        "outputId": "4e3eafe8-e160-4063-cb97-445c7d286d3f"
      },
      "execution_count": 12,
      "outputs": [
        {
          "output_type": "stream",
          "name": "stdout",
          "text": [
            "Coeficiente b (cm): 1.0874598021851327\n"
          ]
        }
      ]
    },
    {
      "cell_type": "markdown",
      "source": [
        "Incertezas:"
      ],
      "metadata": {
        "id": "ReIvfc4diKR6"
      }
    },
    {
      "cell_type": "code",
      "source": [
        "arr_desvios_ajuste = ( y - ( coeficiente_m * x + coeficiente_b ) )\n",
        "arr_desvios_ajuste"
      ],
      "metadata": {
        "colab": {
          "base_uri": "https://localhost:8080/"
        },
        "id": "4NQfJBENiH7R",
        "outputId": "62299b16-3f2d-4b83-d959-ea0fec1f9b17"
      },
      "execution_count": 13,
      "outputs": [
        {
          "output_type": "execute_result",
          "data": {
            "text/plain": [
              "array([-0.03159089,  0.00206448,  0.00723803,  0.02974321,  0.01024406,\n",
              "        0.03157444,  0.00171374, -0.00963776, -0.01092497, -0.03042434])"
            ]
          },
          "metadata": {},
          "execution_count": 13
        }
      ]
    },
    {
      "cell_type": "code",
      "source": [
        "print ( arr_desvios_ajuste ** 2 )\n",
        "print ( \"Soma quadrado desvios (cm): {}\".format( ( arr_desvios_ajuste ** 2 ).sum() ) )\n",
        "\n"
      ],
      "metadata": {
        "colab": {
          "base_uri": "https://localhost:8080/"
        },
        "id": "S9SG7RAYiVOC",
        "outputId": "14221b07-1095-4fbc-d270-f8722484de62"
      },
      "execution_count": 14,
      "outputs": [
        {
          "output_type": "stream",
          "name": "stdout",
          "text": [
            "[9.97984560e-04 4.26208346e-06 5.23890304e-05 8.84658761e-04\n",
            " 1.04940671e-04 9.96945562e-04 2.93692145e-06 9.28863941e-05\n",
            " 1.19355005e-04 9.25640634e-04]\n",
            "Soma quadrado desvios (cm): 0.004181999621325243\n"
          ]
        }
      ]
    },
    {
      "cell_type": "code",
      "source": [
        "ep_y_1 = np.sqrt( ( arr_desvios_ajuste ** 2 ).sum() / ( N_medidas - 2 ) )\n",
        "print ( \"epsilon_y = {}\".format( ep_y_1 ) )\n",
        "\n"
      ],
      "metadata": {
        "colab": {
          "base_uri": "https://localhost:8080/"
        },
        "id": "MMFMjDPjinNm",
        "outputId": "dc823bdc-29a8-41f1-ae8d-a9354685e258"
      },
      "execution_count": 15,
      "outputs": [
        {
          "output_type": "stream",
          "name": "stdout",
          "text": [
            "epsilon_y = 0.022863725695206706\n"
          ]
        }
      ]
    },
    {
      "cell_type": "code",
      "source": [
        "ep_y_2 = dp_Y_populacional * np.sqrt( ( N_medidas / ( N_medidas - 2 ) ) * ( 1. - coeficiente_correlacao ** 2 ) )\n",
        "print ( \"epsilon_y = {}\".format( ep_y_2 ) )"
      ],
      "metadata": {
        "colab": {
          "base_uri": "https://localhost:8080/"
        },
        "id": "bP_a0JMdi2-_",
        "outputId": "b9d9f70f-6f5a-4c85-e238-46cb986bcb36"
      },
      "execution_count": 16,
      "outputs": [
        {
          "output_type": "stream",
          "name": "stdout",
          "text": [
            "epsilon_y = 0.022863725695217392\n"
          ]
        }
      ]
    },
    {
      "cell_type": "code",
      "source": [
        "ep_y = ep_y_2\n",
        "sigma_m = ep_y / ( dp_X_populacional * np.sqrt( N_medidas ) )\n",
        "print ( \"Incerteza padrão coeficiente m (cm): {}\".format( sigma_m ) )\n"
      ],
      "metadata": {
        "colab": {
          "base_uri": "https://localhost:8080/"
        },
        "id": "vBsEY2wii9KB",
        "outputId": "0741dbc4-6958-4390-a254-cffb333707f2"
      },
      "execution_count": 17,
      "outputs": [
        {
          "output_type": "stream",
          "name": "stdout",
          "text": [
            "Incerteza padrão coeficiente m (cm): 0.03514317390706842\n"
          ]
        }
      ]
    },
    {
      "cell_type": "code",
      "source": [
        "sigma_b = sigma_m * np.sqrt( media_X2 )\n",
        "print ( \"Incerteza padrão coeficiente b (cm): {}\".format( sigma_b ) )"
      ],
      "metadata": {
        "colab": {
          "base_uri": "https://localhost:8080/"
        },
        "id": "uoB0fol_jP0A",
        "outputId": "0373466a-ea23-4588-9add-e495d8030ca8"
      },
      "execution_count": 18,
      "outputs": [
        {
          "output_type": "stream",
          "name": "stdout",
          "text": [
            "Incerteza padrão coeficiente b (cm): 0.03940687564197521\n"
          ]
        }
      ]
    },
    {
      "cell_type": "markdown",
      "source": [
        "Estimativas para os coeficientes:"
      ],
      "metadata": {
        "id": "mFjAW4NlkJMN"
      }
    },
    {
      "cell_type": "code",
      "source": [
        "print ( \"m = {:.2f} ± {:.2f} (cm)\".format( np.round( coeficiente_m, 2 ), np.round( sigma_m, 2 ) ) )"
      ],
      "metadata": {
        "colab": {
          "base_uri": "https://localhost:8080/"
        },
        "id": "ZQTcRMCzjXu-",
        "outputId": "0b6c52f5-5e43-4eb6-af70-a7c26173ac6e"
      },
      "execution_count": 19,
      "outputs": [
        {
          "output_type": "stream",
          "name": "stdout",
          "text": [
            "m = -1.51 ± 0.04 (cm)\n"
          ]
        }
      ]
    },
    {
      "cell_type": "code",
      "source": [
        "print ( \"b = {} ± {} (cm)\".format( np.round( coeficiente_b, 2 ), np.round( sigma_b, 2 ) ) )"
      ],
      "metadata": {
        "colab": {
          "base_uri": "https://localhost:8080/"
        },
        "id": "kWetR3UqkPlB",
        "outputId": "4983de18-7749-4209-efdc-48e062a7f81f"
      },
      "execution_count": 20,
      "outputs": [
        {
          "output_type": "stream",
          "name": "stdout",
          "text": [
            "b = 1.09 ± 0.04 (cm)\n"
          ]
        }
      ]
    },
    {
      "cell_type": "code",
      "source": [
        "fig = plt.figure( figsize=(12,10) )\n",
        "\n",
        "plt.plot( x, y, 'ko' )\n",
        "plt.plot( x, ( coeficiente_m * x + coeficiente_b ), '-r' )\n",
        "plt.xlabel( r\"$log(r) (\\rm{cm})$\", fontsize=18)\n",
        "plt.ylabel( r\"$log(I/I_{máx})$\", fontsize=18 )\n",
        "\n",
        "plt.text( 0.4, 0.9,\n",
        "          r\"$m = {} \\pm {}\\,\\left(\\rm{{cm}}\\right)$\".format( np.round( coeficiente_m, 2 ), np.round( sigma_m, 2 ) ),\n",
        "          fontsize=14, transform=plt.gca().transAxes )\n",
        "plt.text( 0.4, 0.85,\n",
        "          r\"$b = {} \\pm {}\\,\\left(\\rm{{cm}}\\right)$\".format( np.round( coeficiente_b, 2 ), np.round( sigma_b, 2 ) ),\n",
        "          fontsize=16, transform=plt.gca().transAxes )"
      ],
      "metadata": {
        "colab": {
          "base_uri": "https://localhost:8080/",
          "height": 881
        },
        "id": "D1LfwwYxkbrz",
        "outputId": "4d7da61b-f8e0-4386-9deb-e6f2a64c19bc"
      },
      "execution_count": 21,
      "outputs": [
        {
          "output_type": "execute_result",
          "data": {
            "text/plain": [
              "Text(0.4, 0.85, '$b = 1.09 \\\\pm 0.04\\\\,\\\\left(\\\\rm{cm}\\\\right)$')"
            ]
          },
          "metadata": {},
          "execution_count": 21
        },
        {
          "output_type": "display_data",
          "data": {
            "text/plain": [
              "<Figure size 1200x1000 with 1 Axes>"
            ],
            "image/png": "[encoded data removed]"
          },
          "metadata": {}
        }
      ]
    },
    {
      "cell_type": "markdown",
      "source": [
        "Usando um pacote:"
      ],
      "metadata": {
        "id": "-uLhsC2em4kJ"
      }
    },
    {
      "cell_type": "code",
      "source": [
        "from scipy.optimize import curve_fit\n",
        "\n",
        "def pol1(x, p0, p1):\n",
        "   return p0 + p1*x\n",
        "\n",
        "popt_lin, pcov_lin = curve_fit( pol1, x, y, p0=(0.,0.) )\n",
        "print ( popt_lin, pcov_lin )"
      ],
      "metadata": {
        "colab": {
          "base_uri": "https://localhost:8080/"
        },
        "id": "wZsV9rzOm6bM",
        "outputId": "3bdd96c3-56a7-4727-bb63-d020bc926d4c"
      },
      "execution_count": 22,
      "outputs": [
        {
          "output_type": "stream",
          "name": "stdout",
          "text": [
            "[ 1.0874598  -1.51060689] [[ 0.0015529  -0.00136137]\n",
            " [-0.00136137  0.00123504]]\n"
          ]
        }
      ]
    },
    {
      "cell_type": "code",
      "source": [
        "print ( \"Coeficiente m (cm): {}\".format( popt_lin[ 1 ] ) )\n",
        "print ( \"Incerteza padrão coeficiente m (cm): {}\".format( np.sqrt( pcov_lin[ 1, 1 ] ) ) )\n",
        "print ( \"a = {:.2f} ± {:.2f} (cm)\".format( np.round( popt_lin[ 1 ], 2 ), np.round( np.sqrt( pcov_lin[ 1, 1 ] ), 2 ) ) )"
      ],
      "metadata": {
        "colab": {
          "base_uri": "https://localhost:8080/"
        },
        "id": "LSmF4d2GnLOc",
        "outputId": "612f1199-9097-4851-dcf0-551e38811a24"
      },
      "execution_count": 23,
      "outputs": [
        {
          "output_type": "stream",
          "name": "stdout",
          "text": [
            "Coeficiente m (cm): -1.510606892571546\n",
            "Incerteza padrão coeficiente m (cm): 0.035143173761881856\n",
            "a = -1.51 ± 0.04 (cm)\n"
          ]
        }
      ]
    },
    {
      "cell_type": "code",
      "source": [
        "print ( \"Coeficiente b (cm): {}\".format( popt_lin[ 0 ] ) )\n",
        "print ( \"Incerteza padrão coeficiente b (cm): {}\".format( np.sqrt( pcov_lin[ 0, 0 ] ) ) )\n",
        "print ( \"{} ± {} (cm)\".format( np.round( popt_lin[ 0 ], 2 ), np.round( np.sqrt( pcov_lin[ 0, 0 ] ), 2 ) ) )"
      ],
      "metadata": {
        "colab": {
          "base_uri": "https://localhost:8080/"
        },
        "id": "TAi_qWBSnbfA",
        "outputId": "f49b7c6e-b890-4ad5-a661-f3a7d7f81429"
      },
      "execution_count": 24,
      "outputs": [
        {
          "output_type": "stream",
          "name": "stdout",
          "text": [
            "Coeficiente b (cm): 1.087459799057662\n",
            "Incerteza padrão coeficiente b (cm): 0.03940687559884522\n",
            "1.09 ± 0.04 (cm)\n"
          ]
        }
      ]
    },
    {
      "cell_type": "code",
      "source": [
        "fig = plt.figure( figsize=(12,10) )\n",
        "\n",
        "plt.plot( x, y, 'ko' )\n",
        "plt.plot( x, ( popt_lin[ 0 ]  + popt_lin[ 1 ] * x ), '-r' )\n",
        "plt.xlabel( r\"$log(r)~(\\rm{{cm}}$\", fontsize=18)\n",
        "plt.ylabel( r\"$log(I/I_{máx})$\", fontsize=18 )\n",
        "\n",
        "plt.text( 0.4, 0.9,\n",
        "          r\"$m = {} \\pm {}(\\rm{{cm}})$\".format( np.round( popt_lin[ 1 ], 2 ), np.round( np.sqrt( pcov_lin[ 1, 1 ] ), 2 ) ),\n",
        "          fontsize=16, transform=plt.gca().transAxes )\n",
        "plt.text( 0.4, 0.85,\n",
        "          r\"$b = {} \\pm {}\\,\\left(\\rm{{cm}}\\right)$\".format( np.round( popt_lin[ 0 ], 2 ), np.round( np.sqrt( pcov_lin[ 0, 0 ] ), 2 ) ),\n",
        "          fontsize=16, transform=plt.gca().transAxes )"
      ],
      "metadata": {
        "colab": {
          "base_uri": "https://localhost:8080/",
          "height": 881
        },
        "id": "YX3VdsGInl0Q",
        "outputId": "e80d748c-f6b9-4141-a3cd-f3239fda64e6"
      },
      "execution_count": 25,
      "outputs": [
        {
          "output_type": "execute_result",
          "data": {
            "text/plain": [
              "Text(0.4, 0.85, '$b = 1.09 \\\\pm 0.04\\\\,\\\\left(\\\\rm{cm}\\\\right)$')"
            ]
          },
          "metadata": {},
          "execution_count": 25
        },
        {
          "output_type": "display_data",
          "data": {
            "text/plain": [
              "<Figure size 1200x1000 with 1 Axes>"
            ],
            "image/png": "[encoded data removed]"
          },
          "metadata": {}
        }
      ]
    }
  ]
}