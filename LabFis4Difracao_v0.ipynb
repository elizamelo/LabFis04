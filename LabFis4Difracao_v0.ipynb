{
  "nbformat": 4,
  "nbformat_minor": 0,
  "metadata": {
    "colab": {
      "provenance": [],
      "authorship_tag": "ABX9TyPJ4TE5ZQhwZVf7GhV6DjBY",
      "include_colab_link": true
    },
    "kernelspec": {
      "name": "python3",
      "display_name": "Python 3"
    },
    "language_info": {
      "name": "python"
    }
  },
  "cells": [
    {
      "cell_type": "markdown",
      "metadata": {
        "id": "view-in-github",
        "colab_type": "text"
      },
      "source": [
        "<a href=\"https://colab.research.google.com/github/elizamelo/LabFis04/blob/main/LabFis4Difracao_v0.ipynb\" target=\"_parent\"><img src=\"https://colab.research.google.com/assets/colab-badge.svg\" alt=\"Open In Colab\"/></a>"
      ]
    },
    {
      "cell_type": "code",
      "execution_count": null,
      "metadata": {
        "id": "ofnSdf-wsbe9"
      },
      "outputs": [],
      "source": [
        "import numpy as np\n",
        "import pandas as pd\n",
        "import math\n",
        "import matplotlib as mpl\n",
        "import matplotlib.pyplot as plt"
      ]
    },
    {
      "cell_type": "markdown",
      "source": [],
      "metadata": {
        "id": "rywg4FTGyAVD"
      }
    },
    {
      "cell_type": "markdown",
      "source": [
        "Laboratório de Física IV \n",
        "Prática 06: Difração A\n",
        "pontos de min: asen(theta)= lambda_L_R para m=1,2,3,...\n",
        "\n",
        "a_i=lambda_L_R*D/Dy_i\n",
        "\n",
        "Dados do Exemplo: D=670 (mm); n_i=4; Y_A= 96,Y_B= 44,Y_C= 22,Y_D= 11 (mm);lambda_L_R = 632.8 (nm)\n",
        "\n",
        "Grupo 01:\n",
        "\n",
        "Grupo 02:\n",
        "\n",
        "Grupo 03:\n",
        "\n",
        "Grupo 04:\n",
        "\n"
      ],
      "metadata": {
        "id": "aOVlph-RscLj"
      }
    },
    {
      "cell_type": "code",
      "source": [
        "#Comprimento de onda da fonte laser\n",
        "lambda_L_R = 632.8*1e-9 # m"
      ],
      "metadata": {
        "id": "IfyZ3B5Cv1-3"
      },
      "execution_count": null,
      "outputs": []
    },
    {
      "cell_type": "code",
      "source": [
        "#Dinstância entre as fendas e a folha de observação D(mm):\n",
        "\n",
        "D = 670.0"
      ],
      "metadata": {
        "id": "86GjTtusPE0C"
      },
      "execution_count": null,
      "outputs": []
    },
    {
      "cell_type": "code",
      "source": [
        "#Dinstância entre as fendas \"d\"(mm):\n",
        "#a_A = 0.02\n",
        "#a_B = 0.04\n",
        "#a_C = 0.08\n",
        "#a_D = 0.16\n"
      ],
      "metadata": {
        "id": "W37Zu2AKyC_X"
      },
      "execution_count": null,
      "outputs": []
    },
    {
      "cell_type": "code",
      "source": [
        "#Número de configurões da Lâmina \"N\":\n",
        "#N = 4\n",
        "#Número de intervalos de Máximos :\n",
        "n_A = 4\n",
        "n_B = 4\n",
        "n_C = 4\n",
        "n_D = 4\n",
        "print(\"n_A:\", n_A,\";\"\"n_B:\", n_B,\";\"\"n_C:\", n_C,\";\"\"n_D:\", n_D,\".\")"
      ],
      "metadata": {
        "colab": {
          "base_uri": "https://localhost:8080/"
        },
        "id": "tsRDNQiDsl5B",
        "outputId": "0ee326ed-ad1a-4367-cb0b-3d158f459526"
      },
      "execution_count": null,
      "outputs": [
        {
          "output_type": "stream",
          "name": "stdout",
          "text": [
            "n_A: 4 ;n_B: 4 ;n_C: 4 ;n_D: 4 .\n"
          ]
        }
      ]
    },
    {
      "cell_type": "code",
      "source": [
        "#Distâncias entre máximos medidos com a régua para cada Configuração (mm):\n",
        "Y_A= 92.0\n",
        "Y_B= 44.0\n",
        "Y_C= 22.0\n",
        "Y_D= 11.0\n",
        "print(\"Y_A:\", Y_A,\";\"\"Y_B:\", Y_B,\";\"\"Y_C:\", Y_C,\";\"\"Y_D:\", Y_D,\".\")"
      ],
      "metadata": {
        "colab": {
          "base_uri": "https://localhost:8080/"
        },
        "id": "Hzo7KZ1_tPic",
        "outputId": "89d9f76c-bff2-4073-b3d7-cfbc0a7fdb2a"
      },
      "execution_count": null,
      "outputs": [
        {
          "output_type": "stream",
          "name": "stdout",
          "text": [
            "Y_A: 92.0 ;Y_B: 44.0 ;Y_C: 22.0 ;Y_D: 11.0 .\n"
          ]
        }
      ]
    },
    {
      "cell_type": "code",
      "source": [
        "#Deta_Y para cada Configuração (mm):\n",
        "Dy_A= Y_A/n_A\n",
        "Dy_B= Y_B/n_B\n",
        "Dy_C= Y_C/n_C\n",
        "Dy_D= Y_D/n_D\n",
        "print(\"Dy_A:\", Dy_A,\";\"\"Dy_B:\", Dy_B,\";\"\"Dy_C:\", Dy_C,\";\"\"Dy_D:\", Dy_D,\".\")"
      ],
      "metadata": {
        "colab": {
          "base_uri": "https://localhost:8080/"
        },
        "id": "cftwSlMmt193",
        "outputId": "41a9f281-aec9-4163-9bbd-ff53457b476c"
      },
      "execution_count": null,
      "outputs": [
        {
          "output_type": "stream",
          "name": "stdout",
          "text": [
            "Dy_A: 23.0 ;Dy_B: 11.0 ;Dy_C: 5.5 ;Dy_D: 2.75 .\n"
          ]
        }
      ]
    },
    {
      "cell_type": "code",
      "source": [
        "#largura para cada configuração das fendas(mm)\n",
        "\n",
        "a_A= (lambda_L_R*D/Dy_A) \n",
        "a_B= (lambda_L_R*D/Dy_B) \n",
        "a_C= (lambda_L_R*D/Dy_C) \n",
        "a_D= (lambda_L_R*D/Dy_D) \n",
        "print(\"a_A:\", a_A,\";\"\"a_B:\", a_B,\";\"\"a_C:\", a_C,\";\"\"a_D:\", a_D,\".\")"
      ],
      "metadata": {
        "colab": {
          "base_uri": "https://localhost:8080/"
        },
        "id": "2OKq2GrcuxWZ",
        "outputId": "ebf04ea9-e4a2-4cac-a7aa-a74d2a60438c"
      },
      "execution_count": null,
      "outputs": [
        {
          "output_type": "stream",
          "name": "stdout",
          "text": [
            "a_A: 1.8433739130434783e-05 ;a_B: 3.8543272727272725e-05 ;a_C: 7.708654545454545e-05 ;a_D: 0.0001541730909090909 .\n"
          ]
        }
      ]
    },
    {
      "cell_type": "code",
      "source": [
        "#Passar para mm\n",
        "print(\"a_A:\", np.round(a_A*1e3, 2 ),\"(mm);\"\"a_B:\", np.round(a_B*1e3, 2 ),\"(mm);\"\"a_C:\", np.round(a_C*1e3, 2 ),\"(mm);\"\"a_D:\", np.round(a_D*1e3, 2 ),\"(mm).\")\n",
        " "
      ],
      "metadata": {
        "colab": {
          "base_uri": "https://localhost:8080/"
        },
        "id": "uFiFCZ3PwoDi",
        "outputId": "5b1ca3a5-6fb6-419c-a369-f91f3ea47c17"
      },
      "execution_count": null,
      "outputs": [
        {
          "output_type": "stream",
          "name": "stdout",
          "text": [
            "a_A: 0.02 (mm);a_B: 0.04 (mm);a_C: 0.08 (mm);a_D: 0.15 (mm).\n"
          ]
        }
      ]
    },
    {
      "cell_type": "markdown",
      "source": [
        "Laboratório de Física IV \n",
        "\n",
        "Prática 07: Difração B - Rede de Difração - Rede de 600linhas/mm\n",
        "\n",
        "-Medir os lambdas observados, pelo menos 4.\n",
        "\n",
        "a=N.d\n",
        "\n",
        "pontos de máx: dsen(theta)= mlambda_i para m=0,1,2,3,...\n",
        "\n",
        "Para m=1\n",
        "\n",
        "d=1,67*1e-6 m\n",
        "\n",
        "Dados do Exemplo: D=94(mm); Y_vip= 21,Y_vin= 22.\n",
        "\n",
        "x = 0.5 #radians\n",
        "\n",
        "result = math.tan(x)\n",
        "\n",
        "print('tan(x) :', result)"
      ],
      "metadata": {
        "id": "TyzwAANAxx40"
      }
    },
    {
      "cell_type": "code",
      "source": [
        "d=1e-3/600\n",
        "d"
      ],
      "metadata": {
        "colab": {
          "base_uri": "https://localhost:8080/"
        },
        "id": "39kvUitS2cYG",
        "outputId": "8eaaedb9-6500-44e8-8906-26d2ed3892c9"
      },
      "execution_count": null,
      "outputs": [
        {
          "output_type": "execute_result",
          "data": {
            "text/plain": [
              "1.6666666666666667e-06"
            ]
          },
          "metadata": {},
          "execution_count": 10
        }
      ]
    },
    {
      "cell_type": "code",
      "source": [
        "#Dinstância entre as fendas e a folha de observação D(mm):\n",
        "\n",
        "D=180 #(mm)\n",
        "D\n",
        "\n"
      ],
      "metadata": {
        "colab": {
          "base_uri": "https://localhost:8080/"
        },
        "id": "bvTpmQlN1mZ2",
        "outputId": "76ff92aa-188b-499e-a238-5ebdaafd1141"
      },
      "execution_count": null,
      "outputs": [
        {
          "output_type": "execute_result",
          "data": {
            "text/plain": [
              "180"
            ]
          },
          "metadata": {},
          "execution_count": 25
        }
      ]
    },
    {
      "cell_type": "code",
      "source": [
        "  Y_vip= 50 #(mm)\n",
        "  Y_vin= 50 #(mm)\n",
        "  Y_vedp= 59 #(mm)\n",
        "  Y_vedn= 58 #(mm)\n",
        "  Y_vemp= 77 #(mm)\n",
        "  Y_vemn= 77 #(mm)"
      ],
      "metadata": {
        "id": "LH6lUagU1sky"
      },
      "execution_count": null,
      "outputs": []
    },
    {
      "cell_type": "code",
      "source": [
        "Y_verde = (Y_vedp+Y_vedn)/2\n",
        "Y_verde #(mm)"
      ],
      "metadata": {
        "colab": {
          "base_uri": "https://localhost:8080/"
        },
        "id": "tABgZUgc0cXx",
        "outputId": "9b9935f8-345d-4582-a764-5f94058d709f"
      },
      "execution_count": null,
      "outputs": [
        {
          "output_type": "execute_result",
          "data": {
            "text/plain": [
              "58.5"
            ]
          },
          "metadata": {},
          "execution_count": 27
        }
      ]
    },
    {
      "cell_type": "code",
      "source": [
        "Y_vermelho = (Y_vemp+Y_vemn)/2\n",
        "Y_vermelho #(mm"
      ],
      "metadata": {
        "colab": {
          "base_uri": "https://localhost:8080/"
        },
        "id": "W6-BZbnMfh1P",
        "outputId": "58432264-b91c-4c3b-b8d4-a8e431588b93"
      },
      "execution_count": null,
      "outputs": [
        {
          "output_type": "execute_result",
          "data": {
            "text/plain": [
              "77.0"
            ]
          },
          "metadata": {},
          "execution_count": 28
        }
      ]
    },
    {
      "cell_type": "code",
      "source": [
        "Y_violeta = (Y_vip+Y_vin)/2\n",
        "Y_violeta #(mm"
      ],
      "metadata": {
        "colab": {
          "base_uri": "https://localhost:8080/"
        },
        "id": "OAeKZpwSfieJ",
        "outputId": "2eb677b7-6792-47cf-bdc9-ab9401f91e34"
      },
      "execution_count": null,
      "outputs": [
        {
          "output_type": "execute_result",
          "data": {
            "text/plain": [
              "50.0"
            ]
          },
          "metadata": {},
          "execution_count": 29
        }
      ]
    },
    {
      "cell_type": "code",
      "source": [
        "x= Y_violeta/D\n",
        "x"
      ],
      "metadata": {
        "colab": {
          "base_uri": "https://localhost:8080/"
        },
        "id": "WYToQ6_v0to1",
        "outputId": "19d6ffee-9948-42c0-c958-78b23e960000"
      },
      "execution_count": null,
      "outputs": [
        {
          "output_type": "execute_result",
          "data": {
            "text/plain": [
              "0.2777777777777778"
            ]
          },
          "metadata": {},
          "execution_count": 50
        }
      ]
    },
    {
      "cell_type": "code",
      "source": [
        "theta=np.arctan(x)\n",
        "theta"
      ],
      "metadata": {
        "colab": {
          "base_uri": "https://localhost:8080/"
        },
        "id": "qbg5Nyqw578V",
        "outputId": "da3d52d4-ed26-4693-c2e2-fdf67ce3988e"
      },
      "execution_count": null,
      "outputs": [
        {
          "output_type": "execute_result",
          "data": {
            "text/plain": [
              "0.27094685033842053"
            ]
          },
          "metadata": {},
          "execution_count": 51
        }
      ]
    },
    {
      "cell_type": "code",
      "source": [
        "np.sin(theta)"
      ],
      "metadata": {
        "colab": {
          "base_uri": "https://localhost:8080/"
        },
        "id": "XkkewR0ngvJO",
        "outputId": "79e65912-a422-4ae0-b410-8ad6578c3175"
      },
      "execution_count": null,
      "outputs": [
        {
          "output_type": "execute_result",
          "data": {
            "text/plain": [
              "0.30908607233755814"
            ]
          },
          "metadata": {},
          "execution_count": 47
        }
      ]
    },
    {
      "cell_type": "code",
      "source": [
        "lambda_Violeta = d*(np.sin(theta))\n",
        "lambda_Violeta"
      ],
      "metadata": {
        "colab": {
          "base_uri": "https://localhost:8080/"
        },
        "id": "IHUCZ5LR2JC8",
        "outputId": "4bc925cc-9d7f-4233-9c91-ffa731d12cfc"
      },
      "execution_count": null,
      "outputs": [
        {
          "output_type": "execute_result",
          "data": {
            "text/plain": [
              "5.151434538959303e-07"
            ]
          },
          "metadata": {},
          "execution_count": 48
        }
      ]
    },
    {
      "cell_type": "code",
      "source": [
        "print(\"lambda_Violeta:\", np.round(lambda_Violeta*1e9, 2),\"nm\")"
      ],
      "metadata": {
        "colab": {
          "base_uri": "https://localhost:8080/"
        },
        "id": "XpO-a5g12w49",
        "outputId": "a5017bca-d61f-4e2b-f717-f888c16f389b"
      },
      "execution_count": null,
      "outputs": [
        {
          "output_type": "stream",
          "name": "stdout",
          "text": [
            "lambda_Violeta: 515.14 nm\n"
          ]
        }
      ]
    },
    {
      "cell_type": "markdown",
      "source": [
        "Difração em fenda Circular\n",
        "\n",
        "Determinação de orifícios circulares\n",
        "\n",
        "*  Coloque um dos orifícios circulares no caminho do feixe laser, e observe a figura de difração formada;\n",
        "*  Meça o diametro do primeiro anel de mínimo, e com isto determine o diâmetro do orifício, através da expressão d*sen(theta)=1.22*lambda.\n",
        "\n",
        "theta= arctg(r/D)\n",
        "y=2*r\n",
        "\n",
        "\n",
        "\n"
      ],
      "metadata": {
        "id": "iJ2ySpYv3pWM"
      }
    },
    {
      "cell_type": "code",
      "source": [
        "#Dinstância entre as fendas e a folha de observação D(mm):\n",
        "D=2680.0"
      ],
      "metadata": {
        "id": "FnKkC_nf8Mdq"
      },
      "execution_count": null,
      "outputs": []
    },
    {
      "cell_type": "code",
      "source": [
        "#diâmetro do primeiro anel de minimo para o segundo orificio da lâmina (mm)\n",
        "y=3\n",
        "r=y/2\n",
        "r"
      ],
      "metadata": {
        "colab": {
          "base_uri": "https://localhost:8080/"
        },
        "id": "4bMixXOJ7slv",
        "outputId": "2e586c1d-30a1-4c76-e523-4fc0982cf531"
      },
      "execution_count": null,
      "outputs": [
        {
          "output_type": "execute_result",
          "data": {
            "text/plain": [
              "1.5"
            ]
          },
          "metadata": {},
          "execution_count": 19
        }
      ]
    },
    {
      "cell_type": "code",
      "source": [
        "theta = (np.arctan(r/D))\n",
        "theta"
      ],
      "metadata": {
        "colab": {
          "base_uri": "https://localhost:8080/"
        },
        "id": "f4OmB0WQ8CCY",
        "outputId": "031cf6e6-fbba-4cb6-c8fa-9fb8c126cca9"
      },
      "execution_count": null,
      "outputs": [
        {
          "output_type": "execute_result",
          "data": {
            "text/plain": [
              "0.0005597014340922199"
            ]
          },
          "metadata": {},
          "execution_count": 20
        }
      ]
    },
    {
      "cell_type": "code",
      "source": [
        "diametro=(1.22*lambda_L_R)/(np.sin(theta)) #primeiro min\n",
        "diametro"
      ],
      "metadata": {
        "colab": {
          "base_uri": "https://localhost:8080/"
        },
        "id": "4_vZbmda8clj",
        "outputId": "3d13ad2e-0424-4cf2-ef4a-151450ecd46c"
      },
      "execution_count": null,
      "outputs": [
        {
          "output_type": "execute_result",
          "data": {
            "text/plain": [
              "0.00137933546938257"
            ]
          },
          "metadata": {},
          "execution_count": 21
        }
      ]
    },
    {
      "cell_type": "code",
      "source": [
        "diametro2=(2.23*lambda_L_R)/(np.sin(theta)) #segundo min\n",
        "diametro2"
      ],
      "metadata": {
        "colab": {
          "base_uri": "https://localhost:8080/"
        },
        "id": "aVFDyB7C9Ahd",
        "outputId": "f95c1634-0c90-4909-c9f5-0d18e1067f37"
      },
      "execution_count": null,
      "outputs": [
        {
          "output_type": "execute_result",
          "data": {
            "text/plain": [
              "0.002521244341576337"
            ]
          },
          "metadata": {},
          "execution_count": 22
        }
      ]
    },
    {
      "cell_type": "code",
      "source": [
        "diametro3=(3.24*lambda_L_R)/(np.sin(theta)) #terceiro min\n",
        "diametro3"
      ],
      "metadata": {
        "colab": {
          "base_uri": "https://localhost:8080/"
        },
        "id": "zao-Vu3LM8Uu",
        "outputId": "77cd8565-aae0-45e0-e19c-5cfc8677a7ac"
      },
      "execution_count": null,
      "outputs": [
        {
          "output_type": "execute_result",
          "data": {
            "text/plain": [
              "0.003663153213770104"
            ]
          },
          "metadata": {},
          "execution_count": 23
        }
      ]
    },
    {
      "cell_type": "code",
      "source": [
        "t1=(1.22*lambda_L_R)/(0.5*1e-3)\n",
        "t1"
      ],
      "metadata": {
        "colab": {
          "base_uri": "https://localhost:8080/"
        },
        "id": "Sc9uOk_9HdCc",
        "outputId": "fbe20a69-6319-468a-ed27-923b4d509752"
      },
      "execution_count": null,
      "outputs": [
        {
          "output_type": "execute_result",
          "data": {
            "text/plain": [
              "0.0015440319999999999"
            ]
          },
          "metadata": {},
          "execution_count": 24
        }
      ]
    },
    {
      "cell_type": "code",
      "source": [],
      "metadata": {
        "id": "Gn1H55FIM4ZZ"
      },
      "execution_count": null,
      "outputs": []
    }
  ]
}