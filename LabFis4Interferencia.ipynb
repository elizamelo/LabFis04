{
  "nbformat": 4,
  "nbformat_minor": 0,
  "metadata": {
    "colab": {
      "provenance": []
    },
    "kernelspec": {
      "name": "python3",
      "display_name": "Python 3"
    },
    "language_info": {
      "name": "python"
    }
  },
  "cells": [
    {
      "cell_type": "code",
      "execution_count": 1,
      "metadata": {
        "id": "ofnSdf-wsbe9"
      },
      "outputs": [],
      "source": [
        "import numpy as np\n",
        "import pandas as pd\n",
        "import matplotlib as mpl\n",
        "import matplotlib.pyplot as plt"
      ]
    },
    {
      "cell_type": "markdown",
      "source": [],
      "metadata": {
        "id": "rywg4FTGyAVD"
      }
    },
    {
      "cell_type": "markdown",
      "source": [
        "Laboratório de Física IV \n",
        "Prática 05 : Interferência\n",
        "lambda_L_R = 632.8 # nm\n",
        "\n",
        "Exemplo: D=2223 (mm); n_i=4; Y_A= 22,Y_B= 12.5,Y_C= 16,Y_D= 12. (mm)\n",
        "\n",
        "Grupo 01:\n",
        "\n",
        "Grupo 02:\n",
        "\n",
        "Grupo 03:\n",
        "\n",
        "Grupo 04:\n"
      ],
      "metadata": {
        "id": "aOVlph-RscLj"
      }
    },
    {
      "cell_type": "code",
      "source": [
        "#Dinstância entre as fendas \"d\"(mm) e D(mm):\n",
        "d_A = 0.250\n",
        "d_B = 0.500\n",
        "d_C = 0.250\n",
        "d_D = 0.500\n",
        "D = 2223.0"
      ],
      "metadata": {
        "id": "W37Zu2AKyC_X"
      },
      "execution_count": 2,
      "outputs": []
    },
    {
      "cell_type": "code",
      "source": [
        "#Número de configurões da Lâmina \"N\":\n",
        "#N = 4\n",
        "#Número de intervalos de Máximos :\n",
        "n_A = 4\n",
        "n_B = 4\n",
        "n_C = 4\n",
        "n_D = 4\n",
        "print(\"n_A:\", n_A,\";\"\"n_B:\", n_B,\";\"\"n_C:\", n_C,\";\"\"n_D:\", n_D,\".\")"
      ],
      "metadata": {
        "colab": {
          "base_uri": "https://localhost:8080/"
        },
        "id": "tsRDNQiDsl5B",
        "outputId": "df04d1ae-696e-4316-cb68-caf473c32887"
      },
      "execution_count": 3,
      "outputs": [
        {
          "output_type": "stream",
          "name": "stdout",
          "text": [
            "n_A: 4 ;n_B: 4 ;n_C: 4 ;n_D: 4 .\n"
          ]
        }
      ]
    },
    {
      "cell_type": "code",
      "source": [
        "#Distâncias entre máximos medidos com a régua para cada Configuração (mm):\n",
        "Y_A= 22.0\n",
        "Y_B= 12.5\n",
        "Y_C= 16.0\n",
        "Y_D= 12.0\n",
        "print(\"Y_A:\", Y_A,\";\"\"Y_B:\", Y_B,\";\"\"Y_C:\", Y_C,\";\"\"Y_D:\", Y_D,\".\")"
      ],
      "metadata": {
        "colab": {
          "base_uri": "https://localhost:8080/"
        },
        "id": "Hzo7KZ1_tPic",
        "outputId": "052be4db-cf19-4611-f0b4-fc9af1a5fa9d"
      },
      "execution_count": 4,
      "outputs": [
        {
          "output_type": "stream",
          "name": "stdout",
          "text": [
            "Y_A: 22.0 ;Y_B: 12.5 ;Y_C: 16.0 ;Y_D: 12.0 .\n"
          ]
        }
      ]
    },
    {
      "cell_type": "code",
      "source": [
        "#Deta_Y para cada Configuração (mm):\n",
        "Dy_A= Y_A/n_A\n",
        "Dy_B= Y_B/n_B\n",
        "Dy_C= Y_C/n_C\n",
        "Dy_D= Y_D/n_D\n",
        "print(\"Dy_A:\", Dy_A,\";\"\"Dy_B:\", Dy_B,\";\"\"Dy_C:\", Dy_C,\";\"\"Dy_D:\", Dy_D,\".\")"
      ],
      "metadata": {
        "colab": {
          "base_uri": "https://localhost:8080/"
        },
        "id": "cftwSlMmt193",
        "outputId": "0521b1b7-4923-4df2-86e1-2c48e0347abb"
      },
      "execution_count": 5,
      "outputs": [
        {
          "output_type": "stream",
          "name": "stdout",
          "text": [
            "Dy_A: 5.5 ;Dy_B: 3.125 ;Dy_C: 4.0 ;Dy_D: 3.0 .\n"
          ]
        }
      ]
    },
    {
      "cell_type": "code",
      "source": [
        "#Lambda para cada configuração (nm)\n",
        "\n",
        "l_A= (d_A*Dy_A/D) \n",
        "l_B= (d_B*Dy_B/D) \n",
        "l_C= (d_C*Dy_C/D) \n",
        "l_D= (d_D*Dy_D/D) \n",
        "print(\"l_A:\", l_A,\";\"\"l_B:\", l_B,\";\"\"l_C:\", l_C,\";\"\"l_D:\", l_D,\".\")"
      ],
      "metadata": {
        "colab": {
          "base_uri": "https://localhost:8080/"
        },
        "id": "2OKq2GrcuxWZ",
        "outputId": "d7fb0cee-1ae3-423d-b77d-ecec929793b3"
      },
      "execution_count": 6,
      "outputs": [
        {
          "output_type": "stream",
          "name": "stdout",
          "text": [
            "l_A: 0.0006185335132703554 ;l_B: 0.0007028789923526766 ;l_C: 0.000449842555105713 ;l_D: 0.0006747638326585695 .\n"
          ]
        }
      ]
    },
    {
      "cell_type": "code",
      "source": [
        "print(\"l_A:\", l_A*1e6,\"(nm);\"\"l_B:\", l_B*1e6,\"(nm);\"\"l_C:\", l_C*1e6,\"(nm);\"\"l_D:\", l_D*1e6,\"(nm).\")"
      ],
      "metadata": {
        "colab": {
          "base_uri": "https://localhost:8080/"
        },
        "id": "uFiFCZ3PwoDi",
        "outputId": "69417f07-b9fe-4c74-dfe9-1f55262166ec"
      },
      "execution_count": 7,
      "outputs": [
        {
          "output_type": "stream",
          "name": "stdout",
          "text": [
            "l_A: 618.5335132703553 (nm);l_B: 702.8789923526766 (nm);l_C: 449.842555105713 (nm);l_D: 674.7638326585695 (nm).\n"
          ]
        }
      ]
    },
    {
      "cell_type": "code",
      "source": [
        "array_L = np.array( [ l_A*1e6, l_B*1e6 , l_C*1e6 , l_D*1e6])\n",
        "\n",
        "\n",
        "array_L"
      ],
      "metadata": {
        "colab": {
          "base_uri": "https://localhost:8080/"
        },
        "id": "qy1gADjYxZc0",
        "outputId": "84947ec1-3096-42c8-8954-79d6a1a05d53"
      },
      "execution_count": 8,
      "outputs": [
        {
          "output_type": "execute_result",
          "data": {
            "text/plain": [
              "array([618.53351327, 702.87899235, 449.84255511, 674.76383266])"
            ]
          },
          "metadata": {},
          "execution_count": 8
        }
      ]
    },
    {
      "cell_type": "code",
      "source": [
        "media_L = np.mean( array_L )\n",
        "print ( \"Média (mm) = {}\".format( media_L ) )\n",
        "var_L_p = np.mean( array_L ** 2 ) - np.mean( array_L ) ** 2\n",
        "print ( \"Variância populacional (mm²) = {}\".format( var_L_p ) ) "
      ],
      "metadata": {
        "colab": {
          "base_uri": "https://localhost:8080/"
        },
        "id": "IJP08hohyaJK",
        "outputId": "8cfef6af-b470-4853-e63d-3da2cb8b4eb9"
      },
      "execution_count": 9,
      "outputs": [
        {
          "output_type": "stream",
          "name": "stdout",
          "text": [
            "Média (mm) = 611.5047233468285\n",
            "Variância populacional (mm²) = 9633.758118869038\n"
          ]
        }
      ]
    },
    {
      "cell_type": "markdown",
      "source": [
        "Desvio padrão populacional:\n"
      ],
      "metadata": {
        "id": "X4rXshcazaRk"
      }
    },
    {
      "cell_type": "code",
      "source": [
        "sigma_L_p = np.sqrt( var_L_p )\n",
        "print ( \"Desvio padrão populacional (mm) = {}\".format( sigma_L_p ) )"
      ],
      "metadata": {
        "colab": {
          "base_uri": "https://localhost:8080/"
        },
        "id": "ibVifyxdzWCQ",
        "outputId": "71cbda22-c537-4688-fbfd-de5dbf77e07a"
      },
      "execution_count": 10,
      "outputs": [
        {
          "output_type": "stream",
          "name": "stdout",
          "text": [
            "Desvio padrão populacional (mm) = 98.15170970935269\n"
          ]
        }
      ]
    },
    {
      "cell_type": "markdown",
      "source": [
        "Desvio padrão amostral:\n"
      ],
      "metadata": {
        "id": "vd6aEiqoyqQJ"
      }
    },
    {
      "cell_type": "code",
      "source": [
        "N = array_L.size # tamanho da sequência L\n",
        "print ( \"N = {}\".format( N ) )\n",
        "\n",
        "sigma_L_a = np.sqrt( N / (N - 1) ) * sigma_L_p\n",
        "\n",
        "print ( \"Desvio padrão amostral (mm) = {}\".format( sigma_L_a ) )"
      ],
      "metadata": {
        "colab": {
          "base_uri": "https://localhost:8080/"
        },
        "id": "eFxwDmMTyj-J",
        "outputId": "037c06bd-f583-4135-b481-89aef01fe846"
      },
      "execution_count": 11,
      "outputs": [
        {
          "output_type": "stream",
          "name": "stdout",
          "text": [
            "N = 4\n",
            "Desvio padrão amostral (mm) = 113.33583204423356\n"
          ]
        }
      ]
    },
    {
      "cell_type": "code",
      "source": [
        "np.std( array_L, ddof=1 )"
      ],
      "metadata": {
        "colab": {
          "base_uri": "https://localhost:8080/"
        },
        "id": "NHFX0eP7zlY0",
        "outputId": "3434d7cd-7b9c-4068-8110-b1b0b0a5e1f5"
      },
      "execution_count": 12,
      "outputs": [
        {
          "output_type": "execute_result",
          "data": {
            "text/plain": [
              "113.33583204423287"
            ]
          },
          "metadata": {},
          "execution_count": 12
        }
      ]
    },
    {
      "cell_type": "markdown",
      "source": [
        "Erro da média:"
      ],
      "metadata": {
        "id": "juxBB5vEzyWd"
      }
    },
    {
      "cell_type": "code",
      "source": [
        "erro_media_L = sigma_L_a / np.sqrt( N )\n",
        "print ( \"Erro da média (mm) = {}\".format( erro_media_L ) )"
      ],
      "metadata": {
        "colab": {
          "base_uri": "https://localhost:8080/"
        },
        "id": "a3KQNw_-zzqY",
        "outputId": "963b6f47-e05b-44ae-b21f-5a70f7564a9b"
      },
      "execution_count": 13,
      "outputs": [
        {
          "output_type": "stream",
          "name": "stdout",
          "text": [
            "Erro da média (mm) = 56.66791602211678\n"
          ]
        }
      ]
    },
    {
      "cell_type": "markdown",
      "source": [
        "Estimativa do comprimento de onda da fonte:\n"
      ],
      "metadata": {
        "id": "JhrJFzJK0AgP"
      }
    },
    {
      "cell_type": "code",
      "source": [
        "print ( \"L = {:.2f} ± {:.2f} (nm)\".format( np.round( media_L, 2), np.round( erro_media_L, 2 ) ) )"
      ],
      "metadata": {
        "colab": {
          "base_uri": "https://localhost:8080/"
        },
        "id": "f7pFXqr2z_xt",
        "outputId": "e7f2932f-a070-447d-b155-23e223e7efe5"
      },
      "execution_count": 14,
      "outputs": [
        {
          "output_type": "stream",
          "name": "stdout",
          "text": [
            "L = 611.50 ± 56.67 (nm)\n"
          ]
        }
      ]
    },
    {
      "cell_type": "markdown",
      "source": [
        "Discrepância: L_ref=632.8nm"
      ],
      "metadata": {
        "id": "Y9jbHMyp0Rcb"
      }
    },
    {
      "cell_type": "code",
      "source": [
        "l = media_L \n",
        "l\n"
      ],
      "metadata": {
        "colab": {
          "base_uri": "https://localhost:8080/"
        },
        "id": "pGpjki9G0_N-",
        "outputId": "3a654f88-df68-4b7e-9c2d-1f725297f187"
      },
      "execution_count": 15,
      "outputs": [
        {
          "output_type": "execute_result",
          "data": {
            "text/plain": [
              "611.5047233468285"
            ]
          },
          "metadata": {},
          "execution_count": 15
        }
      ]
    },
    {
      "cell_type": "code",
      "source": [
        "#Comprimento de onda da fonte laser\n",
        "lambda_L_R = 632.8 # nm\n"
      ],
      "metadata": {
        "id": "8rDISpjSy2x7"
      },
      "execution_count": 16,
      "outputs": []
    },
    {
      "cell_type": "code",
      "source": [
        "dis = abs( media_L-(lambda_L_R))/erro_media_L\n",
        "np.round(dis,2)"
      ],
      "metadata": {
        "colab": {
          "base_uri": "https://localhost:8080/"
        },
        "id": "-XXl2a3D2oEM",
        "outputId": "e5c64b74-dced-4a2d-f15e-9923efecdbd5"
      },
      "execution_count": 17,
      "outputs": [
        {
          "output_type": "execute_result",
          "data": {
            "text/plain": [
              "0.38"
            ]
          },
          "metadata": {},
          "execution_count": 17
        }
      ]
    },
    {
      "cell_type": "code",
      "source": [
        "if dis < 2.0:\n",
        "  print(\"Compatível\")\n",
        "else:\n",
        "  print(\"deu ruim\")  "
      ],
      "metadata": {
        "colab": {
          "base_uri": "https://localhost:8080/"
        },
        "id": "so7o5Pb63H9l",
        "outputId": "b07f6615-e4ba-46e6-9323-f151bc318534"
      },
      "execution_count": 18,
      "outputs": [
        {
          "output_type": "stream",
          "name": "stdout",
          "text": [
            "Compatível\n"
          ]
        }
      ]
    }
  ]
}