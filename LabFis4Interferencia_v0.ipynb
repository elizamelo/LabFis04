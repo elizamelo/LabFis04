{
  "nbformat": 4,
  "nbformat_minor": 0,
  "metadata": {
    "colab": {
      "provenance": [],
      "authorship_tag": "ABX9TyOkG4Cwe7AtC0RQtXtM1xJD",
      "include_colab_link": true
    },
    "kernelspec": {
      "name": "python3",
      "display_name": "Python 3"
    },
    "language_info": {
      "name": "python"
    }
  },
  "cells": [
    {
      "cell_type": "markdown",
      "metadata": {
        "id": "view-in-github",
        "colab_type": "text"
      },
      "source": [
        "<a href=\"https://colab.research.google.com/github/elizamelo/LabFis04/blob/main/LabFis4Interferencia_v0.ipynb\" target=\"_parent\"><img src=\"https://colab.research.google.com/assets/colab-badge.svg\" alt=\"Open In Colab\"/></a>"
      ]
    },
    {
      "cell_type": "code",
      "execution_count": 1,
      "metadata": {
        "id": "ofnSdf-wsbe9"
      },
      "outputs": [],
      "source": [
        "import numpy as np\n",
        "import pandas as pd\n",
        "import matplotlib as mpl\n",
        "import matplotlib.pyplot as plt"
      ]
    },
    {
      "cell_type": "markdown",
      "source": [],
      "metadata": {
        "id": "rywg4FTGyAVD"
      }
    },
    {
      "cell_type": "markdown",
      "source": [
        "Laboratório de Física IV \n",
        "Prática 05 : Interferência\n",
        "\n",
        "\n",
        "Dados do Exemplo: D=2223 (mm); n_i=4; Y_A= 22,Y_B= 12.5,Y_C= 16,Y_D= 12 (mm);lambda_L_R = 632.8 (nm)\n",
        "\n",
        "Grupo 01:\n",
        "\n",
        "Grupo 02:\n",
        "\n",
        "Grupo 03:\n",
        "\n",
        "Grupo 04:\n"
      ],
      "metadata": {
        "id": "aOVlph-RscLj"
      }
    },
    {
      "cell_type": "code",
      "source": [
        "#Dinstância entre as fendas \"d\"(mm) e D(mm):\n",
        "d_A = 0.250\n",
        "d_B = 0.500\n",
        "d_C = 0.250\n",
        "d_D = 0.500\n",
        "D = 2223.0"
      ],
      "metadata": {
        "id": "W37Zu2AKyC_X"
      },
      "execution_count": 2,
      "outputs": []
    },
    {
      "cell_type": "code",
      "source": [
        "#Número de configurões da Lâmina \"N\":\n",
        "#N = 4\n",
        "#Número de intervalos de Máximos :\n",
        "n_A = 4\n",
        "n_B = 4\n",
        "n_C = 4\n",
        "n_D = 4\n",
        "print(\"n_A:\", n_A,\";\"\"n_B:\", n_B,\";\"\"n_C:\", n_C,\";\"\"n_D:\", n_D,\".\")"
      ],
      "metadata": {
        "colab": {
          "base_uri": "https://localhost:8080/"
        },
        "id": "tsRDNQiDsl5B",
        "outputId": "b02a4577-d484-41ad-ffff-8de3e946fc84"
      },
      "execution_count": 3,
      "outputs": [
        {
          "output_type": "stream",
          "name": "stdout",
          "text": [
            "n_A: 4 ;n_B: 4 ;n_C: 4 ;n_D: 4 .\n"
          ]
        }
      ]
    },
    {
      "cell_type": "code",
      "source": [
        "#Distâncias entre máximos medidos com a régua para cada Configuração (mm):\n",
        "Y_A= 22.0\n",
        "Y_B= 12.5\n",
        "Y_C= 16.0\n",
        "Y_D= 12.0\n",
        "print(\"Y_A:\", Y_A,\";\"\"Y_B:\", Y_B,\";\"\"Y_C:\", Y_C,\";\"\"Y_D:\", Y_D,\".\")"
      ],
      "metadata": {
        "colab": {
          "base_uri": "https://localhost:8080/"
        },
        "id": "Hzo7KZ1_tPic",
        "outputId": "81ff4fd8-2223-4f62-e45d-94ada168f437"
      },
      "execution_count": 4,
      "outputs": [
        {
          "output_type": "stream",
          "name": "stdout",
          "text": [
            "Y_A: 22.0 ;Y_B: 12.5 ;Y_C: 16.0 ;Y_D: 12.0 .\n"
          ]
        }
      ]
    },
    {
      "cell_type": "code",
      "source": [
        "#Deta_Y para cada Configuração (mm):\n",
        "Dy_A= Y_A/n_A\n",
        "Dy_B= Y_B/n_B\n",
        "Dy_C= Y_C/n_C\n",
        "Dy_D= Y_D/n_D\n",
        "print(\"Dy_A:\", Dy_A,\";\"\"Dy_B:\", Dy_B,\";\"\"Dy_C:\", Dy_C,\";\"\"Dy_D:\", Dy_D,\".\")"
      ],
      "metadata": {
        "colab": {
          "base_uri": "https://localhost:8080/"
        },
        "id": "cftwSlMmt193",
        "outputId": "44d62994-6bf2-44b4-da98-d9adfcb002e2"
      },
      "execution_count": 5,
      "outputs": [
        {
          "output_type": "stream",
          "name": "stdout",
          "text": [
            "Dy_A: 5.5 ;Dy_B: 3.125 ;Dy_C: 4.0 ;Dy_D: 3.0 .\n"
          ]
        }
      ]
    },
    {
      "cell_type": "code",
      "source": [
        "#Lambda para cada configuração (nm)\n",
        "\n",
        "l_A= (d_A*Dy_A/D) \n",
        "l_B= (d_B*Dy_B/D) \n",
        "l_C= (d_C*Dy_C/D) \n",
        "l_D= (d_D*Dy_D/D) \n",
        "print(\"l_A:\", l_A,\";\"\"l_B:\", l_B,\";\"\"l_C:\", l_C,\";\"\"l_D:\", l_D,\".\")"
      ],
      "metadata": {
        "colab": {
          "base_uri": "https://localhost:8080/"
        },
        "id": "2OKq2GrcuxWZ",
        "outputId": "e2af2e34-6678-4577-daf2-97de84746727"
      },
      "execution_count": 6,
      "outputs": [
        {
          "output_type": "stream",
          "name": "stdout",
          "text": [
            "l_A: 0.0006185335132703554 ;l_B: 0.0007028789923526766 ;l_C: 0.000449842555105713 ;l_D: 0.0006747638326585695 .\n"
          ]
        }
      ]
    },
    {
      "cell_type": "code",
      "source": [
        "#Passar para nm\n",
        "print(\"l_A:\", l_A*1e6,\"(nm);\"\"l_B:\", l_B*1e6,\"(nm);\"\"l_C:\", l_C*1e6,\"(nm);\"\"l_D:\", l_D*1e6,\"(nm).\")"
      ],
      "metadata": {
        "colab": {
          "base_uri": "https://localhost:8080/"
        },
        "id": "uFiFCZ3PwoDi",
        "outputId": "a0f08b47-2788-451f-9b9e-424a9c63312f"
      },
      "execution_count": 7,
      "outputs": [
        {
          "output_type": "stream",
          "name": "stdout",
          "text": [
            "l_A: 618.5335132703553 (nm);l_B: 702.8789923526766 (nm);l_C: 449.842555105713 (nm);l_D: 674.7638326585695 (nm).\n"
          ]
        }
      ]
    },
    {
      "cell_type": "code",
      "source": [
        "array_L = np.array( [ l_A*1e6, l_B*1e6 , l_C*1e6 , l_D*1e6])\n",
        "\n",
        "\n",
        "array_L"
      ],
      "metadata": {
        "colab": {
          "base_uri": "https://localhost:8080/"
        },
        "id": "qy1gADjYxZc0",
        "outputId": "37b5797a-08f9-44f0-c235-db577dd7b042"
      },
      "execution_count": 8,
      "outputs": [
        {
          "output_type": "execute_result",
          "data": {
            "text/plain": [
              "array([618.53351327, 702.87899235, 449.84255511, 674.76383266])"
            ]
          },
          "metadata": {},
          "execution_count": 8
        }
      ]
    },
    {
      "cell_type": "code",
      "source": [
        "media_L = np.mean( array_L )\n",
        "print ( \"Média (mm) = {}\".format( media_L ) )\n",
        "var_L_p = np.mean( array_L ** 2 ) - np.mean( array_L ) ** 2\n",
        "print ( \"Variância populacional (mm²) = {}\".format( var_L_p ) ) "
      ],
      "metadata": {
        "colab": {
          "base_uri": "https://localhost:8080/"
        },
        "id": "IJP08hohyaJK",
        "outputId": "6faa0dc4-a480-4089-d44e-c00137ed52fa"
      },
      "execution_count": 9,
      "outputs": [
        {
          "output_type": "stream",
          "name": "stdout",
          "text": [
            "Média (mm) = 611.5047233468285\n",
            "Variância populacional (mm²) = 9633.758118869038\n"
          ]
        }
      ]
    },
    {
      "cell_type": "markdown",
      "source": [
        "Desvio padrão populacional:\n"
      ],
      "metadata": {
        "id": "X4rXshcazaRk"
      }
    },
    {
      "cell_type": "code",
      "source": [
        "sigma_L_p = np.sqrt( var_L_p )\n",
        "print ( \"Desvio padrão populacional (nm) = {}\".format( sigma_L_p ) )"
      ],
      "metadata": {
        "colab": {
          "base_uri": "https://localhost:8080/"
        },
        "id": "ibVifyxdzWCQ",
        "outputId": "853f0f15-b3b7-48e9-dc4c-507e562bf82c"
      },
      "execution_count": 10,
      "outputs": [
        {
          "output_type": "stream",
          "name": "stdout",
          "text": [
            "Desvio padrão populacional (nm) = 98.15170970935269\n"
          ]
        }
      ]
    },
    {
      "cell_type": "markdown",
      "source": [
        "Desvio padrão amostral:\n"
      ],
      "metadata": {
        "id": "vd6aEiqoyqQJ"
      }
    },
    {
      "cell_type": "code",
      "source": [
        "N = array_L.size # tamanho da sequência L\n",
        "print ( \"N = {}\".format( N ) )\n",
        "\n",
        "sigma_L_a = np.sqrt( N / (N - 1) ) * sigma_L_p\n",
        "\n",
        "print ( \"Desvio padrão amostral (nm) = {}\".format( sigma_L_a ) )"
      ],
      "metadata": {
        "colab": {
          "base_uri": "https://localhost:8080/"
        },
        "id": "eFxwDmMTyj-J",
        "outputId": "45a32261-8788-4b69-c903-0837eb7ac8d5"
      },
      "execution_count": 11,
      "outputs": [
        {
          "output_type": "stream",
          "name": "stdout",
          "text": [
            "N = 4\n",
            "Desvio padrão amostral (nm) = 113.33583204423356\n"
          ]
        }
      ]
    },
    {
      "cell_type": "code",
      "source": [
        "np.std( array_L, ddof=1 )"
      ],
      "metadata": {
        "colab": {
          "base_uri": "https://localhost:8080/"
        },
        "id": "NHFX0eP7zlY0",
        "outputId": "73c7ed78-d99f-490b-d670-7c7580f5d3a0"
      },
      "execution_count": 12,
      "outputs": [
        {
          "output_type": "execute_result",
          "data": {
            "text/plain": [
              "113.33583204423287"
            ]
          },
          "metadata": {},
          "execution_count": 12
        }
      ]
    },
    {
      "cell_type": "markdown",
      "source": [
        "Erro da média:"
      ],
      "metadata": {
        "id": "juxBB5vEzyWd"
      }
    },
    {
      "cell_type": "code",
      "source": [
        "erro_media_L = sigma_L_a / np.sqrt( N )\n",
        "print ( \"Erro da média (nm) = {}\".format( erro_media_L ) )"
      ],
      "metadata": {
        "colab": {
          "base_uri": "https://localhost:8080/"
        },
        "id": "a3KQNw_-zzqY",
        "outputId": "960a56bd-fefd-42fc-fa7b-87efdab48803"
      },
      "execution_count": 13,
      "outputs": [
        {
          "output_type": "stream",
          "name": "stdout",
          "text": [
            "Erro da média (nm) = 56.66791602211678\n"
          ]
        }
      ]
    },
    {
      "cell_type": "markdown",
      "source": [
        "Estimativa do comprimento de onda da fonte:\n"
      ],
      "metadata": {
        "id": "JhrJFzJK0AgP"
      }
    },
    {
      "cell_type": "code",
      "source": [
        "print ( \"L = {:.2f} ± {:.2f} (nm)\".format( np.round( media_L, 2), np.round( erro_media_L, 2 ) ) )"
      ],
      "metadata": {
        "colab": {
          "base_uri": "https://localhost:8080/"
        },
        "id": "f7pFXqr2z_xt",
        "outputId": "5b5d2bf4-a9af-4a48-bb62-245a301a9e51"
      },
      "execution_count": 14,
      "outputs": [
        {
          "output_type": "stream",
          "name": "stdout",
          "text": [
            "L = 611.50 ± 56.67 (nm)\n"
          ]
        }
      ]
    },
    {
      "cell_type": "markdown",
      "source": [
        "Discrepância: L_ref=632.8nm"
      ],
      "metadata": {
        "id": "Y9jbHMyp0Rcb"
      }
    },
    {
      "cell_type": "code",
      "source": [
        "l = media_L \n",
        "l\n"
      ],
      "metadata": {
        "colab": {
          "base_uri": "https://localhost:8080/"
        },
        "id": "pGpjki9G0_N-",
        "outputId": "11df01e0-ca4a-49b2-ccf4-c12a9cfd80a4"
      },
      "execution_count": 15,
      "outputs": [
        {
          "output_type": "execute_result",
          "data": {
            "text/plain": [
              "611.5047233468285"
            ]
          },
          "metadata": {},
          "execution_count": 15
        }
      ]
    },
    {
      "cell_type": "code",
      "source": [
        "#Comprimento de onda da fonte laser\n",
        "lambda_L_R = 632.8 # nm\n"
      ],
      "metadata": {
        "id": "8rDISpjSy2x7"
      },
      "execution_count": 16,
      "outputs": []
    },
    {
      "cell_type": "code",
      "source": [
        "dis = abs( media_L-(lambda_L_R))/erro_media_L\n",
        "np.round(dis,2)"
      ],
      "metadata": {
        "colab": {
          "base_uri": "https://localhost:8080/"
        },
        "id": "-XXl2a3D2oEM",
        "outputId": "d702bc55-d33b-4e5c-9dae-c2feeefbec70"
      },
      "execution_count": 17,
      "outputs": [
        {
          "output_type": "execute_result",
          "data": {
            "text/plain": [
              "0.38"
            ]
          },
          "metadata": {},
          "execution_count": 17
        }
      ]
    },
    {
      "cell_type": "code",
      "source": [
        "if dis < 2.0:\n",
        "  print(\"Compatível\")\n",
        "else:\n",
        "  print(\"Incompatível\")  "
      ],
      "metadata": {
        "colab": {
          "base_uri": "https://localhost:8080/"
        },
        "id": "so7o5Pb63H9l",
        "outputId": "d723d780-9318-4bdf-9517-27e38777fccb"
      },
      "execution_count": 19,
      "outputs": [
        {
          "output_type": "stream",
          "name": "stdout",
          "text": [
            "Compatível\n"
          ]
        }
      ]
    }
  ]
}