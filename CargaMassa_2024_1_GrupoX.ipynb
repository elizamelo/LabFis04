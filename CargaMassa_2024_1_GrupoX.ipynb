{
  "nbformat": 4,
  "nbformat_minor": 0,
  "metadata": {
    "colab": {
      "provenance": [],
      "authorship_tag": "ABX9TyMP4pEOvJTwPbJOvZW/+3FD",
      "include_colab_link": true
    },
    "kernelspec": {
      "name": "python3",
      "display_name": "Python 3"
    },
    "language_info": {
      "name": "python"
    }
  },
  "cells": [
    {
      "cell_type": "markdown",
      "metadata": {
        "id": "view-in-github",
        "colab_type": "text"
      },
      "source": [
        "<a href=\"https://colab.research.google.com/github/elizamelo/LabFis04/blob/main/CargaMassa_2024_1_GrupoX.ipynb\" target=\"_parent\"><img src=\"https://colab.research.google.com/assets/colab-badge.svg\" alt=\"Open In Colab\"/></a>"
      ]
    },
    {
      "cell_type": "code",
      "execution_count": null,
      "metadata": {
        "id": "ofnSdf-wsbe9"
      },
      "outputs": [],
      "source": [
        "import numpy as np\n",
        "import pandas as pd\n",
        "import math\n",
        "import matplotlib as mpl\n",
        "import matplotlib.pyplot as plt"
      ]
    },
    {
      "cell_type": "markdown",
      "source": [],
      "metadata": {
        "id": "rywg4FTGyAVD"
      }
    },
    {
      "cell_type": "code",
      "source": [
        "R = 0.15 #m\n",
        "A = 0.15 #m\n",
        "N= 130\n",
        "mu_0=0.00000126 #H/m\n",
        "#k=(125*R*A)/(32*N*N*mu_0*mu_0)\n",
        "k=3.28e+6\n",
        "k"
      ],
      "metadata": {
        "id": "FqOPNrnjbmtJ",
        "colab": {
          "base_uri": "https://localhost:8080/"
        },
        "outputId": "c1da21d5-b157-48ad-f64c-6aa414399679"
      },
      "execution_count": null,
      "outputs": [
        {
          "output_type": "execute_result",
          "data": {
            "text/plain": [
              "3280000.0"
            ]
          },
          "metadata": {},
          "execution_count": 53
        }
      ]
    },
    {
      "cell_type": "code",
      "source": [
        "I_1 = 0.81 #A\n",
        "I_2 = 1.18 #A\n",
        "I_3 = 1.35 #A\n",
        "r_1 = 0.0545 #m\n",
        "r_2 = 0.0565 #m\n",
        "r_3 = 0.0545 #m\n",
        "V_1 = 194 #V\n",
        "V_2 = 260 #V\n",
        "V_3 = 283 #V"
      ],
      "metadata": {
        "id": "fr-cAQ2QdzpP"
      },
      "execution_count": null,
      "outputs": []
    },
    {
      "cell_type": "code",
      "source": [
        "X=[0,((np.power(I_1,2))*(np.power(r_1,2))),((np.power(I_2,2))*(np.power(r_2,2))),((np.power(I_3,2))*(np.power(r_3,2)))]\n",
        "Y=[0,(k*V_1),(k*V_2),(k*V_3)]"
      ],
      "metadata": {
        "id": "_-LX-wdXd2p9"
      },
      "execution_count": null,
      "outputs": []
    },
    {
      "cell_type": "code",
      "source": [
        "print(X)\n",
        "N_medidas = len(X)\n",
        "print ( \"Número de medidas: {}\".format( N_medidas ) )\n",
        "\n"
      ],
      "metadata": {
        "colab": {
          "base_uri": "https://localhost:8080/"
        },
        "id": "VuDlhoWAb3Si",
        "outputId": "fbed9351-b9eb-4282-a992-221b5e1588c8"
      },
      "execution_count": null,
      "outputs": [
        {
          "output_type": "stream",
          "name": "stdout",
          "text": [
            "[0, 0.0019487810250000002, 0.0044448889, 0.005413280625]\n",
            "Número de medidas: 4\n"
          ]
        }
      ]
    },
    {
      "cell_type": "code",
      "source": [
        "x = np.array(X)\n",
        "print (\"I^2r^2 = \", x)"
      ],
      "metadata": {
        "colab": {
          "base_uri": "https://localhost:8080/"
        },
        "id": "EcxjQqvpdYCX",
        "outputId": "9ff5d394-0cdd-4a7b-d54f-ebfb0212c8fb"
      },
      "execution_count": null,
      "outputs": [
        {
          "output_type": "stream",
          "name": "stdout",
          "text": [
            "I^2r^2 =  [0.         0.00194878 0.00444489 0.00541328]\n"
          ]
        }
      ]
    },
    {
      "cell_type": "code",
      "source": [
        "y= np.array(Y)\n",
        "print (\"kV = \", y)"
      ],
      "metadata": {
        "colab": {
          "base_uri": "https://localhost:8080/"
        },
        "id": "qhKWqp6Sd9F6",
        "outputId": "bb1c0fd3-c51e-4ff7-df85-2886c8d6ddca"
      },
      "execution_count": null,
      "outputs": [
        {
          "output_type": "stream",
          "name": "stdout",
          "text": [
            "kV =  [0.0000e+00 6.3632e+08 8.5280e+08 9.2824e+08]\n"
          ]
        }
      ]
    },
    {
      "cell_type": "code",
      "source": [
        "media_X = x.mean()\n",
        "media_X2 = ( x** 2 ).mean()\n",
        "var_X_populacional = ( x ** 2 ).mean() - ( media_X ** 2 )\n",
        "dp_X_populacional = np.sqrt( var_X_populacional )\n",
        "print ( \"Média (A^2m^2): {}\".format( media_X ) )\n",
        "print ( \"Média quadrados(²): {}\".format( media_X2 ) )\n",
        "print ( \"Variância (²): {}\".format( var_X_populacional ) )\n",
        "print ( \"Desvio padrão (A^2m^2): {}\".format( dp_X_populacional ) )\n",
        "\n"
      ],
      "metadata": {
        "colab": {
          "base_uri": "https://localhost:8080/"
        },
        "id": "vhP2Xa4WeTY6",
        "outputId": "53ed7112-e9a9-41b5-9642-44927d6e9d7a"
      },
      "execution_count": null,
      "outputs": [
        {
          "output_type": "stream",
          "name": "stdout",
          "text": [
            "Média (A^2m^2): 0.0029517376375\n",
            "Média quadrados(²): 1.3214597985435914e-05\n",
            "Variância (²): 4.501842904801832e-06\n",
            "Desvio padrão (A^2m^2): 0.002121754675923169\n"
          ]
        }
      ]
    },
    {
      "cell_type": "code",
      "source": [
        "media_Y = y.mean()\n",
        "media_Y2 = ( y** 2 ).mean()\n",
        "var_Y_populacional = ( y ** 2 ).mean() - ( media_Y ** 2 )\n",
        "dp_Y_populacional = np.sqrt( var_Y_populacional )\n",
        "print ( \"Média : {}\".format( media_Y ) )\n",
        "print ( \"Média quadrados: {}\".format( media_Y2 ) )\n",
        "print ( \"Variância : {}\".format( var_Y_populacional ) )\n",
        "print ( \"Desvio padrão : {}\".format( dp_Y_populacional ) )"
      ],
      "metadata": {
        "colab": {
          "base_uri": "https://localhost:8080/"
        },
        "id": "ZOTEXRtMf5mm",
        "outputId": "8faf8c29-720b-425d-f1d0-5eb8751dda70"
      },
      "execution_count": null,
      "outputs": [
        {
          "output_type": "stream",
          "name": "stdout",
          "text": [
            "Média : 604340000.0\n",
            "Média quadrados: 4.9845012e+17\n",
            "Variância : 1.332232844e+17\n",
            "Desvio padrão : 364997649.8554477\n"
          ]
        }
      ]
    },
    {
      "cell_type": "code",
      "source": [
        "x_X_y = ( x * y ).mean()\n",
        "cov_populacional = x_X_y - ( media_X * media_Y )\n",
        "coeficiente_correlacao = cov_populacional / ( dp_X_populacional * dp_Y_populacional )\n",
        "print ( \"Covariância (X × Y): {}\".format( cov_populacional ) )\n",
        "print ( \"Coeficiente de correlação: {}\".format( coeficiente_correlacao ) )\n"
      ],
      "metadata": {
        "colab": {
          "base_uri": "https://localhost:8080/"
        },
        "id": "Hlnlc-3bgfV7",
        "outputId": "0df40ca7-10a4-4c38-f5dd-f7cb33cb3c73"
      },
      "execution_count": null,
      "outputs": [
        {
          "output_type": "stream",
          "name": "stdout",
          "text": [
            "Covariância (X × Y): 730015.1769277498\n",
            "Coeficiente de correlação: 0.9426417112095181\n"
          ]
        }
      ]
    },
    {
      "cell_type": "markdown",
      "source": [
        "Coeficientes:\n"
      ],
      "metadata": {
        "id": "nXii6u3fhejG"
      }
    },
    {
      "cell_type": "code",
      "source": [
        "coeficiente_m = cov_populacional / var_X_populacional\n",
        "print ( \"Coeficiente m (C/g): {}\".format( coeficiente_m ) )\n"
      ],
      "metadata": {
        "colab": {
          "base_uri": "https://localhost:8080/"
        },
        "id": "GHX5jQ4rhOyr",
        "outputId": "d0cffdaa-3dd7-4480-93b7-71bf7b7d5241"
      },
      "execution_count": null,
      "outputs": [
        {
          "output_type": "stream",
          "name": "stdout",
          "text": [
            "Coeficiente m (C/g): 162159185108.18948\n"
          ]
        }
      ]
    },
    {
      "cell_type": "code",
      "source": [
        "\n",
        "coeficiente_b = media_Y - coeficiente_m * media_X # cm\n",
        "print ( \"Coeficiente b (): {}\".format( coeficiente_b ) )"
      ],
      "metadata": {
        "colab": {
          "base_uri": "https://localhost:8080/"
        },
        "id": "ObHDPHnCh6Yx",
        "outputId": "2c76e689-529e-4c94-c468-861076c4963c"
      },
      "execution_count": null,
      "outputs": [
        {
          "output_type": "stream",
          "name": "stdout",
          "text": [
            "Coeficiente b (): 125688630.04982758\n"
          ]
        }
      ]
    },
    {
      "cell_type": "markdown",
      "source": [
        "Incertezas:"
      ],
      "metadata": {
        "id": "ReIvfc4diKR6"
      }
    },
    {
      "cell_type": "code",
      "source": [
        "arr_desvios_ajuste = ( y - ( coeficiente_m * x + coeficiente_b ) )\n",
        "arr_desvios_ajuste"
      ],
      "metadata": {
        "colab": {
          "base_uri": "https://localhost:8080/"
        },
        "id": "4NQfJBENiH7R",
        "outputId": "7472b9a5-d5ac-4aa5-a33e-bbcf85224516"
      },
      "execution_count": null,
      "outputs": [
        {
          "output_type": "execute_result",
          "data": {
            "text/plain": [
              "array([-1.25688630e+08,  1.94618627e+08,  6.33180803e+06, -7.52618050e+07])"
            ]
          },
          "metadata": {},
          "execution_count": 64
        }
      ]
    },
    {
      "cell_type": "code",
      "source": [
        "print ( arr_desvios_ajuste ** 2 )\n",
        "print ( \"Soma quadrado desvios (): {}\".format( ( arr_desvios_ajuste ** 2 ).sum() ) )\n",
        "\n"
      ],
      "metadata": {
        "colab": {
          "base_uri": "https://localhost:8080/"
        },
        "id": "S9SG7RAYiVOC",
        "outputId": "2de02aa3-fc7d-44c2-8843-a70991286cb8"
      },
      "execution_count": null,
      "outputs": [
        {
          "output_type": "stream",
          "name": "stdout",
          "text": [
            "[1.57976317e+16 3.78764100e+16 4.00917929e+13 5.66433929e+15]\n",
            "Soma quadrado desvios (): 5.937847277114093e+16\n"
          ]
        }
      ]
    },
    {
      "cell_type": "code",
      "source": [
        "ep_y_1 = np.sqrt( ( arr_desvios_ajuste ** 2 ).sum() / ( N_medidas - 2 ) )\n",
        "print ( \"epsilon_y = {}\".format( ep_y_1 ) )\n",
        "\n"
      ],
      "metadata": {
        "colab": {
          "base_uri": "https://localhost:8080/"
        },
        "id": "MMFMjDPjinNm",
        "outputId": "69deb0d7-51a5-4255-dbad-1b0c8403a1df"
      },
      "execution_count": null,
      "outputs": [
        {
          "output_type": "stream",
          "name": "stdout",
          "text": [
            "epsilon_y = 172305648.15342087\n"
          ]
        }
      ]
    },
    {
      "cell_type": "code",
      "source": [
        "ep_y_2 = dp_Y_populacional * np.sqrt( ( N_medidas / ( N_medidas - 2 ) ) * ( 1. - coeficiente_correlacao ** 2 ) )\n",
        "print ( \"epsilon_y = {}\".format( ep_y_2 ) )"
      ],
      "metadata": {
        "colab": {
          "base_uri": "https://localhost:8080/"
        },
        "id": "bP_a0JMdi2-_",
        "outputId": "822f399e-21f0-4a55-c94f-7b7e86131700"
      },
      "execution_count": null,
      "outputs": [
        {
          "output_type": "stream",
          "name": "stdout",
          "text": [
            "epsilon_y = 172305648.1534215\n"
          ]
        }
      ]
    },
    {
      "cell_type": "code",
      "source": [
        "ep_y = ep_y_2\n",
        "sigma_m = ep_y / ( dp_X_populacional * np.sqrt( N_medidas ) )\n",
        "print ( \"Incerteza padrão coeficiente m (C/g): {}\".format( sigma_m ) )\n"
      ],
      "metadata": {
        "colab": {
          "base_uri": "https://localhost:8080/"
        },
        "id": "vBsEY2wii9KB",
        "outputId": "bf1fcb5a-31a9-4a27-8343-eb19eb00f2d5"
      },
      "execution_count": null,
      "outputs": [
        {
          "output_type": "stream",
          "name": "stdout",
          "text": [
            "Incerteza padrão coeficiente m (C/g): 40604517126.47972\n"
          ]
        }
      ]
    },
    {
      "cell_type": "code",
      "source": [
        "sigma_b = sigma_m * np.sqrt( media_X2 )\n",
        "print ( \"Incerteza padrão coeficiente b (): {}\".format( sigma_b ) )"
      ],
      "metadata": {
        "colab": {
          "base_uri": "https://localhost:8080/"
        },
        "id": "uoB0fol_jP0A",
        "outputId": "4a577b51-465b-4094-f900-ee28620864fa"
      },
      "execution_count": null,
      "outputs": [
        {
          "output_type": "stream",
          "name": "stdout",
          "text": [
            "Incerteza padrão coeficiente b (): 147605087.9751792\n"
          ]
        }
      ]
    },
    {
      "cell_type": "markdown",
      "source": [
        "Estimativas para os coeficientes:"
      ],
      "metadata": {
        "id": "mFjAW4NlkJMN"
      }
    },
    {
      "cell_type": "code",
      "source": [
        "print ( \"m = {:.2f} ± {:.2f} (C/g)\".format( np.round( coeficiente_m*0.001, 2 ), np.round( sigma_m*0.001, 2 ) ) )"
      ],
      "metadata": {
        "colab": {
          "base_uri": "https://localhost:8080/"
        },
        "id": "ZQTcRMCzjXu-",
        "outputId": "a5dcc94a-5768-416c-a8c7-7badd53f055a"
      },
      "execution_count": null,
      "outputs": [
        {
          "output_type": "stream",
          "name": "stdout",
          "text": [
            "m = 162159185.11 ± 40604517.13 (C/g)\n"
          ]
        }
      ]
    },
    {
      "cell_type": "code",
      "source": [
        "print ( \"b = {} ± {} ()\".format( np.round( coeficiente_b, 2 ), np.round( sigma_b, 2 ) ) )"
      ],
      "metadata": {
        "colab": {
          "base_uri": "https://localhost:8080/"
        },
        "id": "kWetR3UqkPlB",
        "outputId": "74742359-c5f6-4530-c1c8-458be34f91f9"
      },
      "execution_count": null,
      "outputs": [
        {
          "output_type": "stream",
          "name": "stdout",
          "text": [
            "b = 125688630.05 ± 147605087.98 ()\n"
          ]
        }
      ]
    },
    {
      "cell_type": "code",
      "source": [
        "fig = plt.figure( figsize=(12,10) )\n",
        "\n",
        "plt.plot( x, y, 'ko' )\n",
        "plt.plot( x, ( coeficiente_m * x + coeficiente_b ), '-r' )\n",
        "plt.xlabel( r\"$I^{2}r^{2} (\\rm{(Am)^{2}})$\", fontsize=18)\n",
        "plt.ylabel( r\"$kV((Am)^{2}C/g)$\", fontsize=18 )\n",
        "\n",
        "plt.text( 0.4, 0.9,\n",
        "          r\"$m = {} \\pm {}\\,\\left(\\rm{{C/g}}\\right)$\".format( np.round( coeficiente_m*0.001, 2 ), np.round( sigma_m*0.001, 2 ) ),\n",
        "          fontsize=14, transform=plt.gca().transAxes )\n",
        "plt.text( 0.4, 0.85,\n",
        "          r\"$b = {} \\pm {}\\,\\left(\\rm{{}}\\right)$\".format( np.round( coeficiente_b, 2 ), np.round( sigma_b, 2 ) ),\n",
        "          fontsize=16, transform=plt.gca().transAxes )"
      ],
      "metadata": {
        "colab": {
          "base_uri": "https://localhost:8080/",
          "height": 898
        },
        "id": "D1LfwwYxkbrz",
        "outputId": "a4ee7ce0-721b-4e5b-fc22-a19e2db5dae6"
      },
      "execution_count": null,
      "outputs": [
        {
          "output_type": "execute_result",
          "data": {
            "text/plain": [
              "Text(0.4, 0.85, '$b = 125688630.05 \\\\pm 147605087.98\\\\,\\\\left(\\\\rm{}\\\\right)$')"
            ]
          },
          "metadata": {},
          "execution_count": 80
        },
        {
          "output_type": "display_data",
          "data": {
            "text/plain": [
              "<Figure size 1200x1000 with 1 Axes>"
            ],
            "image/png": "[encoded data removed]"
          },
          "metadata": {}
        }
      ]
    },
    {
      "cell_type": "markdown",
      "source": [
        "Usando um pacote:"
      ],
      "metadata": {
        "id": "-uLhsC2em4kJ"
      }
    },
    {
      "cell_type": "code",
      "source": [
        "import numpy as np\n",
        "import matplotlib.pyplot as plt\n",
        "from scipy.optimize import curve_fit\n",
        "\n",
        "# Dados fornecidos\n",
        "x = np.array([0,0.0019487810250000002, 0.0044448889, 0.005413280625])\n",
        "y = np.array([0,6.3632e+08, 8.5280e+08, 9.2824e+08])\n",
        "\n",
        "def pol1(x, p0, p1):\n",
        "   return p0 + p1*x\n",
        "\n",
        "popt_lin, pcov_lin = curve_fit( pol1, x, y/1e9, p0=(0.,0.) )\n",
        "print ( popt_lin, pcov_lin )"
      ],
      "metadata": {
        "colab": {
          "base_uri": "https://localhost:8080/"
        },
        "id": "wZsV9rzOm6bM",
        "outputId": "fd5ee1af-12f5-4aab-f404-ea0c35b360fa"
      },
      "execution_count": 6,
      "outputs": [
        {
          "output_type": "stream",
          "name": "stdout",
          "text": [
            "[1.25688630e-01 1.62159185e+02] [[ 2.17872618e-02 -4.86660898e+00]\n",
            " [-4.86660898e+00  1.64872683e+03]]\n"
          ]
        }
      ]
    },
    {
      "cell_type": "code",
      "source": [
        "# Coeficientes e incertezas\n",
        "m = popt_lin[1] * 1e9\n",
        "m_err = np.sqrt(pcov_lin[1, 1]) * 1e9\n",
        "b = popt_lin[0]\n",
        "b_err = np.sqrt(pcov_lin[0, 0])\n",
        "\n",
        "print(f\"Coeficiente m (C/kg): {m}\")\n",
        "print(f\"Incerteza padrão coeficiente m (): {m_err}\")\n",
        "print(f\"m = {m:.2f} ± {m_err:.2f} ()\")\n",
        "\n",
        "print(f\"Coeficiente b (): {b}\")\n",
        "print(f\"Incerteza padrão coeficiente b (): {b_err}\")\n",
        "print(f\"{b:.2f} ± {b_err:.2f} ()\")"
      ],
      "metadata": {
        "colab": {
          "base_uri": "https://localhost:8080/"
        },
        "id": "m1HgaNRCIHMY",
        "outputId": "8c9a8878-49dd-4cd2-e4e0-d658da606420"
      },
      "execution_count": 9,
      "outputs": [
        {
          "output_type": "stream",
          "name": "stdout",
          "text": [
            "Coeficiente m (C/kg): 162159185114.47183\n",
            "Incerteza padrão coeficiente m (): 40604517349.23273\n",
            "m = 162159185114.47 ± 40604517349.23 ()\n",
            "Coeficiente b (): 0.12568863003128267\n",
            "Incerteza padrão coeficiente b (): 0.14760508718529153\n",
            "0.13 ± 0.15 ()\n"
          ]
        }
      ]
    },
    {
      "cell_type": "code",
      "source": [
        "# Gráfico\n",
        "fig = plt.figure(figsize=(12, 10))\n",
        "\n",
        "plt.plot(x, y, 'ko', label='Dados experimentais')\n",
        "plt.plot(x, (popt_lin[0] + popt_lin[1] * x) * 1e9, '-r', label='Ajuste linear')\n",
        "plt.xlabel(\"x (unidades)\", fontsize=18)\n",
        "plt.ylabel(\"y (unidades)\", fontsize=18)\n",
        "\n",
        "plt.text(0.4, 0.9,\n",
        "         r\"$m = {:.2f} \\pm {:.2f}\\,(\\rm{{C/kg}})$\".format(m, m_err),\n",
        "         fontsize=16, transform=plt.gca().transAxes)\n",
        "plt.text(0.4, 0.85,\n",
        "         r\"$b = {:.2f} \\pm {:.2f}\\,(\\rm{{}})$\".format(b, b_err),\n",
        "         fontsize=16, transform=plt.gca().transAxes)\n",
        "\n",
        "plt.legend()\n",
        "plt.show()"
      ],
      "metadata": {
        "colab": {
          "base_uri": "https://localhost:8080/",
          "height": 875
        },
        "id": "kRhiiMywIXpY",
        "outputId": "772cb287-6345-486c-f3e1-1a53e9143ff3"
      },
      "execution_count": 10,
      "outputs": [
        {
          "output_type": "display_data",
          "data": {
            "text/plain": [
              "<Figure size 1200x1000 with 1 Axes>"
            ],
            "image/png": "[encoded data removed]"
          },
          "metadata": {}
        }
      ]
    },
    {
      "cell_type": "code",
      "source": [
        "#print ( \"Coeficiente m (cm): {}\".format( popt_lin[ 1 ]*1e9 ) )\n",
        "#print ( \"Incerteza padrão coeficiente m (cm): {}\".format( np.sqrt( pcov_lin[ 1, 1 ]*1e9 ) ) )\n",
        "#print ( \"a = {:.2f} ± {:.2f} (cm)\".format( np.round( popt_lin[ 1 ]*1e9, 2 ), np.round( np.sqrt( pcov_lin[ 1, 1 ]*1e9 ), 2 ) ) )"
      ],
      "metadata": {
        "id": "LSmF4d2GnLOc"
      },
      "execution_count": 11,
      "outputs": []
    },
    {
      "cell_type": "code",
      "source": [
        "#print ( \"Coeficiente b (cm): {}\".format( popt_lin[ 0 ] ) )\n",
        "#print ( \"Incerteza padrão coeficiente b (cm): {}\".format( np.sqrt( pcov_lin[ 0, 0 ] ) ) )\n",
        "#print ( \"{} ± {} (cm)\".format( np.round( popt_lin[ 0 ], 2 ), np.round( np.sqrt( pcov_lin[ 0, 0 ] ), 2 ) ) )"
      ],
      "metadata": {
        "id": "TAi_qWBSnbfA"
      },
      "execution_count": 12,
      "outputs": []
    },
    {
      "cell_type": "code",
      "source": [
        "#fig = plt.figure( figsize=(12,10) )\n",
        "\n",
        "#plt.plot( x, y, 'ko' )\n",
        "#plt.plot( x, ( popt_lin[ 0 ]  + popt_lin[ 1 ] * x ), '-r' )\n",
        "#plt.xlabel( r\"$log(r)~(\\rm{{cm}}$\", fontsize=18)\n",
        "#plt.ylabel( r\"$log(I/I_{máx})$\", fontsize=18 )\n",
        "\n",
        "#plt.text( 0.4, 0.9,\n",
        "#          r\"$m = {} \\pm {}(\\rm{{cm}})$\".format( np.round( popt_lin[ 1 ], 2 ), np.round( np.sqrt( pcov_lin[ 1, 1 ] ), 2 ) ),\n",
        "#          fontsize=16, transform=plt.gca().transAxes )\n",
        "#plt.text( 0.4, 0.85,\n",
        "#          r\"$b = {} \\pm {}\\,\\left(\\rm{{cm}}\\right)$\".format( np.round( popt_lin[ 0 ], 2 ), np.round( np.sqrt( pcov_lin[ 0, 0 ] ), 2 ) ),\n",
        "#          fontsize=16, transform=plt.gca().transAxes )"
      ],
      "metadata": {
        "id": "YX3VdsGInl0Q"
      },
      "execution_count": 13,
      "outputs": []
    }
  ]
}