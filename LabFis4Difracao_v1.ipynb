{
  "nbformat": 4,
  "nbformat_minor": 0,
  "metadata": {
    "colab": {
      "provenance": [],
      "authorship_tag": "ABX9TyNJrhaEYKpm1a4knrO1DmOs",
      "include_colab_link": true
    },
    "kernelspec": {
      "name": "python3",
      "display_name": "Python 3"
    },
    "language_info": {
      "name": "python"
    }
  },
  "cells": [
    {
      "cell_type": "markdown",
      "metadata": {
        "id": "view-in-github",
        "colab_type": "text"
      },
      "source": [
        "<a href=\"https://colab.research.google.com/github/elizamelo/LabFis04/blob/main/LabFis4Difracao_v1.ipynb\" target=\"_parent\"><img src=\"https://colab.research.google.com/assets/colab-badge.svg\" alt=\"Open In Colab\"/></a>"
      ]
    },
    {
      "cell_type": "code",
      "execution_count": 428,
      "metadata": {
        "id": "ofnSdf-wsbe9"
      },
      "outputs": [],
      "source": [
        "import numpy as np\n",
        "import pandas as pd\n",
        "import math\n",
        "import matplotlib as mpl\n",
        "import matplotlib.pyplot as plt"
      ]
    },
    {
      "cell_type": "markdown",
      "source": [
        "Laboratório de Física IV \n",
        "Prática 06: Difração A\n",
        "pontos de min: asen(theta)= lambda_L_R para m=1,2,3,...\n",
        "\n",
        "a_i=lambda_L_R*D/Dy_i\n",
        "\n",
        "Dados do Exemplo: D=670 (mm); n_i=4; Y_A= 96,Y_B= 44,Y_C= 22,Y_D= 11 (mm);lambda_L_R = 632.8 (nm)\n",
        "\n",
        "Grupo 01: D=1200 (mm); n_A=5,n_B=n_C=n_D=4;Y_A=190 ,Y_B=95 ,Y_C=40 ,Y_D=20 (mm);n_fio=4;Y_fio=45(mm)\n",
        "\n",
        "Grupo 02: D=1010 (mm); n_A=4,n_B=6,n_C=7,n_D=8,n_fio=4;Y_A=155 ,Y_B=105 ,Y_C=59 ,Y_D=33, Y_fio=40(mm).\n",
        "\n",
        "Grupo 03:\n",
        "\n",
        "Grupo 04:\n",
        "\n"
      ],
      "metadata": {
        "id": "aOVlph-RscLj"
      }
    },
    {
      "cell_type": "code",
      "source": [
        "#Comprimento de onda da fonte laser\n",
        "lambda_L_R = 632.8*1e-9 # m"
      ],
      "metadata": {
        "id": "IfyZ3B5Cv1-3"
      },
      "execution_count": 429,
      "outputs": []
    },
    {
      "cell_type": "markdown",
      "source": [
        "Grupo 01 - Turma 03 : Aline Chien, Gabriel Costa; Gabriel Alexandre\n",
        "\n",
        "\n",
        "---\n",
        "\n",
        "\n",
        "\n"
      ],
      "metadata": {
        "id": "-g6zgJLBucYE"
      }
    },
    {
      "cell_type": "code",
      "source": [
        "#Dinstância entre as fendas e a folha de observação D(mm):\n",
        "\n",
        "D = 1200.0"
      ],
      "metadata": {
        "id": "86GjTtusPE0C"
      },
      "execution_count": 430,
      "outputs": []
    },
    {
      "cell_type": "code",
      "source": [
        "#Dinstância entre as fendas \"d\"(mm):\n",
        "#a_A = 0.02\n",
        "#a_B = 0.04\n",
        "#a_C = 0.08\n",
        "#a_D = 0.16\n"
      ],
      "metadata": {
        "id": "W37Zu2AKyC_X"
      },
      "execution_count": 431,
      "outputs": []
    },
    {
      "cell_type": "code",
      "source": [
        "#Número de configurões da Lâmina \"N\":\n",
        "#N = 4\n",
        "#Número de intervalos de Máximos :\n",
        "n_A = 5\n",
        "n_B = 4\n",
        "n_C = 4\n",
        "n_D = 4\n",
        "n_fio = 4\n",
        "print(\"n_A:\", n_A,\";\"\"n_B:\", n_B,\";\"\"n_C:\", n_C,\";\"\"n_D:\", n_D,\"n_fio:\",n_fio,\".\")"
      ],
      "metadata": {
        "colab": {
          "base_uri": "https://localhost:8080/"
        },
        "id": "tsRDNQiDsl5B",
        "outputId": "611f82dc-3c7b-4f08-9841-e23efe6143a4"
      },
      "execution_count": 432,
      "outputs": [
        {
          "output_type": "stream",
          "name": "stdout",
          "text": [
            "n_A: 5 ;n_B: 4 ;n_C: 4 ;n_D: 4 n_fio: 4 .\n"
          ]
        }
      ]
    },
    {
      "cell_type": "code",
      "source": [
        "#Distâncias entre máximos medidos com a régua para cada Configuração (mm):\n",
        "Y_A= 190.0\n",
        "Y_B= 95.0\n",
        "Y_C= 40.0\n",
        "Y_D= 20.0\n",
        "Y_fio = 45.0\n",
        "print(\"Y_A:\", Y_A,\";\"\"Y_B:\", Y_B,\";\"\"Y_C:\", Y_C,\";\"\"Y_D:\", Y_D,\"Y_fio:\",Y_fio,\".\")"
      ],
      "metadata": {
        "colab": {
          "base_uri": "https://localhost:8080/"
        },
        "id": "Hzo7KZ1_tPic",
        "outputId": "2ae8b0d9-433c-441f-a2dd-8eefded575a1"
      },
      "execution_count": 433,
      "outputs": [
        {
          "output_type": "stream",
          "name": "stdout",
          "text": [
            "Y_A: 190.0 ;Y_B: 95.0 ;Y_C: 40.0 ;Y_D: 20.0 Y_fio: 45.0 .\n"
          ]
        }
      ]
    },
    {
      "cell_type": "code",
      "source": [
        "#Deta_Y para cada Configuração (mm):\n",
        "Dy_A= Y_A/n_A\n",
        "Dy_B= Y_B/n_B\n",
        "Dy_C= Y_C/n_C\n",
        "Dy_D= Y_D/n_D\n",
        "Dy_fio= Y_fio/n_fio\n",
        "print(\"Dy_A:\", Dy_A,\";\"\"Dy_B:\", Dy_B,\";\"\"Dy_C:\", Dy_C,\";\"\"Dy_D:\", Dy_D,\"Dy_fio:\",Dy_fio,\".\")"
      ],
      "metadata": {
        "colab": {
          "base_uri": "https://localhost:8080/"
        },
        "id": "cftwSlMmt193",
        "outputId": "a157375d-9a26-4da5-d299-f45a156a74ec"
      },
      "execution_count": 434,
      "outputs": [
        {
          "output_type": "stream",
          "name": "stdout",
          "text": [
            "Dy_A: 38.0 ;Dy_B: 23.75 ;Dy_C: 10.0 ;Dy_D: 5.0 Dy_fio: 11.25 .\n"
          ]
        }
      ]
    },
    {
      "cell_type": "code",
      "source": [
        "#largura para cada configuração das fendas(mm)\n",
        "\n",
        "a_A= (lambda_L_R*D/Dy_A) \n",
        "a_B= (lambda_L_R*D/Dy_B) \n",
        "a_C= (lambda_L_R*D/Dy_C) \n",
        "a_D= (lambda_L_R*D/Dy_D) \n",
        "a_fio=(lambda_L_R*D/Dy_fio)\n",
        "print(\"a_A:\", a_A,\";\"\"a_B:\", a_B,\";\"\"a_C:\", a_C,\";\"\"a_D:\", a_D,\"a_fio:\",a_fio,\".\")"
      ],
      "metadata": {
        "colab": {
          "base_uri": "https://localhost:8080/"
        },
        "id": "2OKq2GrcuxWZ",
        "outputId": "8b751612-bb2a-4b9a-84e7-689ee55909f5"
      },
      "execution_count": 435,
      "outputs": [
        {
          "output_type": "stream",
          "name": "stdout",
          "text": [
            "a_A: 1.9983157894736844e-05 ;a_B: 3.197305263157895e-05 ;a_C: 7.5936e-05 ;a_D: 0.000151872 a_fio: 6.749866666666666e-05 .\n"
          ]
        }
      ]
    },
    {
      "cell_type": "code",
      "source": [
        "#Passar para mm\n",
        "print(\"a_A:\", np.round(a_A*1e3, 2 ),\"(mm);\"\"a_B:\", np.round(a_B*1e3, 2 ),\"(mm);\"\"a_C:\", np.round(a_C*1e3, 2 ),\"(mm);\"\"a_D:\", np.round(a_D*1e3, 2 ),\"(mm)\",\"a_fio:\",np.round(a_fio*1e3, 2 ),\"(mm).\")\n",
        " "
      ],
      "metadata": {
        "colab": {
          "base_uri": "https://localhost:8080/"
        },
        "id": "uFiFCZ3PwoDi",
        "outputId": "3a18e723-649d-4a7b-ccd5-2bc8cb25ce67"
      },
      "execution_count": 436,
      "outputs": [
        {
          "output_type": "stream",
          "name": "stdout",
          "text": [
            "a_A: 0.02 (mm);a_B: 0.03 (mm);a_C: 0.08 (mm);a_D: 0.15 (mm) a_fio: 0.07 (mm).\n"
          ]
        }
      ]
    },
    {
      "cell_type": "markdown",
      "source": [
        "Grupo 02 - Turma 03 : Giovanna Alexim, Luiza Sant'Anna, Carolina Baptista\n"
      ],
      "metadata": {
        "id": "HFiSbol4yib0"
      }
    },
    {
      "cell_type": "code",
      "source": [
        "#Dinstância entre as fendas e a folha de observação D(mm):\n",
        "\n",
        "D = 1010.0"
      ],
      "metadata": {
        "id": "HtMAo0NLytZY"
      },
      "execution_count": 437,
      "outputs": []
    },
    {
      "cell_type": "code",
      "source": [
        "#Dinstância entre as fendas \"d\"(mm):\n",
        "#a_A = 0.02\n",
        "#a_B = 0.04\n",
        "#a_C = 0.08\n",
        "#a_D = 0.16"
      ],
      "metadata": {
        "id": "GyAbPkhhyzen"
      },
      "execution_count": 438,
      "outputs": []
    },
    {
      "cell_type": "code",
      "source": [
        "#Número de configurões da Lâmina \"N\":\n",
        "#N = 4\n",
        "#Número de intervalos de Máximos :\n",
        "n_A = 4\n",
        "n_B = 6\n",
        "n_C = 7\n",
        "n_D = 8\n",
        "n_fio = 4\n",
        "print(\"n_A:\", n_A,\";\"\"n_B:\", n_B,\";\"\"n_C:\", n_C,\";\"\"n_D:\", n_D,\"n_fio:\",n_fio,\".\")"
      ],
      "metadata": {
        "colab": {
          "base_uri": "https://localhost:8080/"
        },
        "id": "lgqnZ9cFy3jb",
        "outputId": "fd48e560-b5a8-4663-e54b-c037cdb7742f"
      },
      "execution_count": 439,
      "outputs": [
        {
          "output_type": "stream",
          "name": "stdout",
          "text": [
            "n_A: 4 ;n_B: 6 ;n_C: 7 ;n_D: 8 n_fio: 4 .\n"
          ]
        }
      ]
    },
    {
      "cell_type": "code",
      "source": [
        "#Distâncias entre máximos medidos com a régua para cada Configuração (mm):\n",
        "Y_A= 155.0\n",
        "Y_B= 105.0\n",
        "Y_C= 59.0\n",
        "Y_D= 33.0\n",
        "Y_fio = 40.0\n",
        "print(\"Y_A:\", Y_A,\";\"\"Y_B:\", Y_B,\";\"\"Y_C:\", Y_C,\";\"\"Y_D:\", Y_D,\"Y_fio:\",Y_fio,\".\")"
      ],
      "metadata": {
        "colab": {
          "base_uri": "https://localhost:8080/"
        },
        "id": "h3aPaXVDzAMV",
        "outputId": "0a413995-51f3-461c-e31f-7fd07ed2bbe7"
      },
      "execution_count": 440,
      "outputs": [
        {
          "output_type": "stream",
          "name": "stdout",
          "text": [
            "Y_A: 155.0 ;Y_B: 105.0 ;Y_C: 59.0 ;Y_D: 33.0 Y_fio: 40.0 .\n"
          ]
        }
      ]
    },
    {
      "cell_type": "code",
      "source": [
        "#Deta_Y para cada Configuração (mm):\n",
        "Dy_A= Y_A/n_A\n",
        "Dy_B= Y_B/n_B\n",
        "Dy_C= Y_C/n_C\n",
        "Dy_D= Y_D/n_D\n",
        "Dy_fio= Y_fio/n_fio\n",
        "print(\"Dy_A:\", Dy_A,\";\"\"Dy_B:\", Dy_B,\";\"\"Dy_C:\", Dy_C,\";\"\"Dy_D:\", Dy_D,\"Dy_fio:\",Dy_fio,\".\")"
      ],
      "metadata": {
        "colab": {
          "base_uri": "https://localhost:8080/"
        },
        "id": "Qs7_PSlhzDTQ",
        "outputId": "7020d39c-6af6-4580-cbfd-be0825db27cb"
      },
      "execution_count": 441,
      "outputs": [
        {
          "output_type": "stream",
          "name": "stdout",
          "text": [
            "Dy_A: 38.75 ;Dy_B: 17.5 ;Dy_C: 8.428571428571429 ;Dy_D: 4.125 Dy_fio: 10.0 .\n"
          ]
        }
      ]
    },
    {
      "cell_type": "code",
      "source": [
        "#largura para cada configuração das fendas(mm)\n",
        "\n",
        "a_A= (lambda_L_R*D/Dy_A) \n",
        "a_B= (lambda_L_R*D/Dy_B) \n",
        "a_C= (lambda_L_R*D/Dy_C) \n",
        "a_D= (lambda_L_R*D/Dy_D) \n",
        "a_fio=(lambda_L_R*D/Dy_fio)\n",
        "print(\"a_A:\", a_A,\";\"\"a_B:\", a_B,\";\"\"a_C:\", a_C,\";\"\"a_D:\", a_D,\"a_fio:\",a_fio,\".\")"
      ],
      "metadata": {
        "colab": {
          "base_uri": "https://localhost:8080/"
        },
        "id": "NV21gJaCzDb1",
        "outputId": "ba0640a2-a56b-4f85-d427-643e1b8d7bec"
      },
      "execution_count": 442,
      "outputs": [
        {
          "output_type": "stream",
          "name": "stdout",
          "text": [
            "a_A: 1.649362580645161e-05 ;a_B: 3.65216e-05 ;a_C: 7.582874576271186e-05 ;a_D: 0.0001549401212121212 a_fio: 6.39128e-05 .\n"
          ]
        }
      ]
    },
    {
      "cell_type": "code",
      "source": [
        "#Passar para mm\n",
        "print(\"a_A:\", np.round(a_A*1e3, 2 ),\"(mm);\"\"a_B:\", np.round(a_B*1e3, 2 ),\"(mm);\"\"a_C:\", np.round(a_C*1e3, 2 ),\"(mm);\"\"a_D:\", np.round(a_D*1e3, 2 ),\"(mm)\",\"a_fio:\",np.round(a_fio*1e3, 2 ),\"(mm).\")\n",
        " "
      ],
      "metadata": {
        "colab": {
          "base_uri": "https://localhost:8080/"
        },
        "id": "7eNUmRSazDj6",
        "outputId": "9ee20523-8c6b-4b97-f784-26bd4bc06409"
      },
      "execution_count": 443,
      "outputs": [
        {
          "output_type": "stream",
          "name": "stdout",
          "text": [
            "a_A: 0.02 (mm);a_B: 0.04 (mm);a_C: 0.08 (mm);a_D: 0.15 (mm) a_fio: 0.06 (mm).\n"
          ]
        }
      ]
    },
    {
      "cell_type": "markdown",
      "source": [
        "Laboratório de Física IV \n",
        "\n",
        "Prática 07: Difração B - Rede de Difração - Rede de 600linhas/mm\n",
        "\n",
        "-Medir os lambdas observados, pelo menos 4.\n",
        "\n",
        "a=N.d\n",
        "\n",
        "pontos de máx: dsen(theta)= mlambda_i para m=0,1,2,3,...\n",
        "\n",
        "Para m=1\n",
        "\n",
        "d=1,67*1e-6 m\n",
        "\n",
        "Dados do Exemplo: D=94(mm); Y_vip= 21,Y_vin= 22.\n",
        "\n",
        "x = 0.5 #radians\n",
        "\n",
        "result = math.tan(x)\n",
        "\n",
        "print('tan(x) :', result)"
      ],
      "metadata": {
        "id": "TyzwAANAxx40"
      }
    },
    {
      "cell_type": "markdown",
      "source": [
        "Grupo 01 - Turma 03: Aline, Gariel A., Gabriel C.\n",
        "\n",
        "Dados: D= 45 (mm); Y_verp=21,Y_vern=20; Y_lap=17, Y_lan=13, Y_viop=12,Y_vion=10 (mm);"
      ],
      "metadata": {
        "id": "19DBnOQW0nzg"
      }
    },
    {
      "cell_type": "code",
      "source": [
        "d=1e-3/600\n",
        "d"
      ],
      "metadata": {
        "colab": {
          "base_uri": "https://localhost:8080/"
        },
        "id": "39kvUitS2cYG",
        "outputId": "5c024f05-4074-43d7-b153-92150acd70c5"
      },
      "execution_count": 444,
      "outputs": [
        {
          "output_type": "execute_result",
          "data": {
            "text/plain": [
              "1.6666666666666667e-06"
            ]
          },
          "metadata": {},
          "execution_count": 444
        }
      ]
    },
    {
      "cell_type": "code",
      "source": [
        "#Dinstância entre as fendas e a folha de observação D(mm):\n",
        "\n",
        "D=45 #(mm)\n",
        "D\n",
        "\n"
      ],
      "metadata": {
        "colab": {
          "base_uri": "https://localhost:8080/"
        },
        "id": "bvTpmQlN1mZ2",
        "outputId": "321e9ba5-05c4-4cd4-df2a-f40250c4c4c4"
      },
      "execution_count": 445,
      "outputs": [
        {
          "output_type": "execute_result",
          "data": {
            "text/plain": [
              "45"
            ]
          },
          "metadata": {},
          "execution_count": 445
        }
      ]
    },
    {
      "cell_type": "code",
      "source": [
        "  Y_vemp= 21 #(mm)\n",
        "  Y_vemn= 20 #(mm)\n",
        "  Y_lap= 17  #(mm)\n",
        "  Y_lan= 18  #(mm)\n",
        "  Y_azp= 13  #(mm)\n",
        "  Y_azn= 14  #(mm)\n",
        "  Y_viop= 12 #(mm)\n",
        "  Y_vion= 10 #(mm)\n"
      ],
      "metadata": {
        "id": "LH6lUagU1sky"
      },
      "execution_count": 446,
      "outputs": []
    },
    {
      "cell_type": "code",
      "source": [
        "Y_vermelho = (Y_vemp+Y_vemn)/2\n",
        "Y_vermelho #(mm)"
      ],
      "metadata": {
        "colab": {
          "base_uri": "https://localhost:8080/"
        },
        "id": "tABgZUgc0cXx",
        "outputId": "4529d255-2baf-4719-bb3e-94c01965274b"
      },
      "execution_count": 447,
      "outputs": [
        {
          "output_type": "execute_result",
          "data": {
            "text/plain": [
              "20.5"
            ]
          },
          "metadata": {},
          "execution_count": 447
        }
      ]
    },
    {
      "cell_type": "code",
      "source": [
        "Y_laranja = (Y_lap+Y_lan)/2\n",
        "Y_laranja #(mm)"
      ],
      "metadata": {
        "colab": {
          "base_uri": "https://localhost:8080/"
        },
        "id": "W6-BZbnMfh1P",
        "outputId": "47e2df9f-7981-4496-b85e-9b74f3b7add5"
      },
      "execution_count": 448,
      "outputs": [
        {
          "output_type": "execute_result",
          "data": {
            "text/plain": [
              "17.5"
            ]
          },
          "metadata": {},
          "execution_count": 448
        }
      ]
    },
    {
      "cell_type": "code",
      "source": [
        "Y_azul = (Y_azp+Y_azn)/2\n",
        "Y_azul #(mm"
      ],
      "metadata": {
        "colab": {
          "base_uri": "https://localhost:8080/"
        },
        "id": "OAeKZpwSfieJ",
        "outputId": "cb72cdc4-f34b-4e60-8382-10e416d34a05"
      },
      "execution_count": 449,
      "outputs": [
        {
          "output_type": "execute_result",
          "data": {
            "text/plain": [
              "13.5"
            ]
          },
          "metadata": {},
          "execution_count": 449
        }
      ]
    },
    {
      "cell_type": "code",
      "source": [
        "Y_violeta=(Y_viop+Y_vion)/2\n",
        "Y_violeta"
      ],
      "metadata": {
        "colab": {
          "base_uri": "https://localhost:8080/"
        },
        "id": "KnNhyAnl2qhS",
        "outputId": "3c9e0bf0-de70-45d6-9323-19aa1573c544"
      },
      "execution_count": 450,
      "outputs": [
        {
          "output_type": "execute_result",
          "data": {
            "text/plain": [
              "11.0"
            ]
          },
          "metadata": {},
          "execution_count": 450
        }
      ]
    },
    {
      "cell_type": "code",
      "source": [
        "x1= Y_vermelho/D\n",
        "x2= Y_laranja/D\n",
        "x3= Y_azul/D\n",
        "x4= Y_violeta/D\n",
        "print(x1,x2,x3,x4)"
      ],
      "metadata": {
        "colab": {
          "base_uri": "https://localhost:8080/"
        },
        "id": "WYToQ6_v0to1",
        "outputId": "7bf915d7-2cf3-4ca8-ebf3-6f0bf3d1399d"
      },
      "execution_count": 451,
      "outputs": [
        {
          "output_type": "stream",
          "name": "stdout",
          "text": [
            "0.45555555555555555 0.3888888888888889 0.3 0.24444444444444444\n"
          ]
        }
      ]
    },
    {
      "cell_type": "code",
      "source": [
        "theta1=np.arctan(x1)\n",
        "theta2=np.arctan(x2)\n",
        "theta3=np.arctan(x3)\n",
        "theta4=np.arctan(x4)\n",
        "print(theta1,theta2,theta3,theta4)"
      ],
      "metadata": {
        "colab": {
          "base_uri": "https://localhost:8080/"
        },
        "id": "qbg5Nyqw578V",
        "outputId": "0f36461b-4598-498d-ac71-20fad08d7911"
      },
      "execution_count": 452,
      "outputs": [
        {
          "output_type": "stream",
          "name": "stdout",
          "text": [
            "0.4274643130152254 0.37089128881266237 0.2914567944778671 0.23974310887045658\n"
          ]
        }
      ]
    },
    {
      "cell_type": "code",
      "source": [
        "thetag_1= np.rad2deg(theta1)\n",
        "thetag_2= np.rad2deg(theta2) \n",
        "thetag_3= np.rad2deg(theta3) \n",
        "thetag_4= np.rad2deg(theta4) \n",
        "\n",
        "print(\"\\u03B8_1 =\", thetag_1,\"\\u00B0\")\n",
        "print(\"\\u03B8_2 =\", thetag_2,\"\\u00B0\")\n",
        "print(\"\\u03B8_3 =\", thetag_3,\"\\u00B0\")\n",
        "print(\"\\u03B8_4 =\", thetag_4,\"\\u00B0\")"
      ],
      "metadata": {
        "colab": {
          "base_uri": "https://localhost:8080/"
        },
        "id": "RAnmRrLE5e6B",
        "outputId": "7f306a4e-c688-42fe-bb60-0d91cf13b55d"
      },
      "execution_count": 453,
      "outputs": [
        {
          "output_type": "stream",
          "name": "stdout",
          "text": [
            "θ_1 = 24.491901028231563 °\n",
            "θ_2 = 21.25050550713324 °\n",
            "θ_3 = 16.69924423399362 °\n",
            "θ_4 = 13.736268305622572 °\n"
          ]
        }
      ]
    },
    {
      "cell_type": "code",
      "source": [
        "or1=((np.sin(theta1)) )\n",
        "or2=((np.sin(theta2)) )\n",
        "or3=((np.sin(theta3)) )\n",
        "or4=((np.sin(theta4)) )\n",
        "print(\"sen\\u03B8_1 =\",or1 ,\"rad\")\n",
        "print(\"sen\\u03B8_2 =\",or2 ,\"rad\")\n",
        "print(\"sen\\u03B8_3 =\",or3 ,\"rad\")\n",
        "print(\"sen\\u03B8_4 =\",or4 ,\"rad\")\n",
        "o1=np.rad2deg(or1)\n",
        "o2=np.rad2deg(or2)\n",
        "o3=np.rad2deg(or3)\n",
        "o4=np.rad2deg(or4)\n",
        "print(\"\\u03B8_1 =\", o1,\"\\u00B0\")\n",
        "print(\"\\u03B8_2 =\", o2,\"\\u00B0\")\n",
        "print(\"\\u03B8_3 =\", o3,\"\\u00B0\")\n",
        "print(\"\\u03B8_4 =\", o4,\"\\u00B0\")"
      ],
      "metadata": {
        "colab": {
          "base_uri": "https://localhost:8080/"
        },
        "id": "XkkewR0ngvJO",
        "outputId": "c377b34b-06f6-4058-e905-582c6aaf747f"
      },
      "execution_count": 454,
      "outputs": [
        {
          "output_type": "stream",
          "name": "stdout",
          "text": [
            "senθ_1 = 0.4145646120999256 rad\n",
            "senθ_2 = 0.36244626115494843 rad\n",
            "senθ_3 = 0.28734788556634544 rad\n",
            "senθ_4 = 0.23745309047699004 rad\n",
            "θ_1 = 23.75280260880384 °\n",
            "θ_2 = 20.766641064474978 °\n",
            "θ_3 = 16.463821094959737 °\n",
            "θ_4 = 13.605059916669608 °\n"
          ]
        }
      ]
    },
    {
      "cell_type": "code",
      "source": [
        "lambda_Verm = d*(np.sin(theta1))\n",
        "lambda_La = d*(np.sin(theta2))\n",
        "lambda_Az = d*(np.sin(theta3))\n",
        "lambda_Vio = d*(np.sin(theta4))\n",
        "print(lambda_Verm, lambda_La, lambda_Az,lambda_Vio)"
      ],
      "metadata": {
        "colab": {
          "base_uri": "https://localhost:8080/"
        },
        "id": "IHUCZ5LR2JC8",
        "outputId": "211bf06e-73a2-4f58-a7fb-c2295f531a33"
      },
      "execution_count": 455,
      "outputs": [
        {
          "output_type": "stream",
          "name": "stdout",
          "text": [
            "6.909410201665427e-07 6.04077101924914e-07 4.789131426105758e-07 3.957551507949834e-07\n"
          ]
        }
      ]
    },
    {
      "cell_type": "code",
      "source": [
        "lambda_Vermelho = d*(or1)\n",
        "lambda_Laranja = d*(or2)\n",
        "lambda_Azul = d*(or3)\n",
        "lambda_Violeta = d*(or4)\n",
        "print(lambda_Vermelho, lambda_Laranja, lambda_Azul,lambda_Violeta)"
      ],
      "metadata": {
        "colab": {
          "base_uri": "https://localhost:8080/"
        },
        "id": "Mzs5E2096RM5",
        "outputId": "0e21f603-2cc8-477b-efbb-034f25923f66"
      },
      "execution_count": 456,
      "outputs": [
        {
          "output_type": "stream",
          "name": "stdout",
          "text": [
            "6.909410201665427e-07 6.04077101924914e-07 4.789131426105758e-07 3.957551507949834e-07\n"
          ]
        }
      ]
    },
    {
      "cell_type": "code",
      "source": [
        "print(\"lambda_Vermelho:\", np.round(lambda_Vermelho*1e9, 2),\"nm\")\n",
        "print(\"lambda_Laranja:\", np.round(lambda_Laranja*1e9, 2),\"nm\")\n",
        "print(\"lambda_Azul:\", np.round(lambda_Azul*1e9, 2),\"nm\")\n",
        "print(\"lambda_Violeta:\", np.round(lambda_Violeta*1e9, 2),\"nm\")"
      ],
      "metadata": {
        "colab": {
          "base_uri": "https://localhost:8080/"
        },
        "id": "XpO-a5g12w49",
        "outputId": "bf745c31-66fe-451c-e677-a38d38061c9c"
      },
      "execution_count": 457,
      "outputs": [
        {
          "output_type": "stream",
          "name": "stdout",
          "text": [
            "lambda_Vermelho: 690.94 nm\n",
            "lambda_Laranja: 604.08 nm\n",
            "lambda_Azul: 478.91 nm\n",
            "lambda_Violeta: 395.76 nm\n"
          ]
        }
      ]
    },
    {
      "cell_type": "markdown",
      "source": [
        "Grupo 02 - Turma 03: Luiza, Carolina, Giovanna\n",
        "\n",
        "Dados: D= 128 (mm); Y_viop=29,Y_vion=27; Y_azp=39, Y_azn=35, Y_amp=43,Y_amn=43, Y_vermp=53, Y_vermn=51 (mm);"
      ],
      "metadata": {
        "id": "pLKanzyFCAY8"
      }
    },
    {
      "cell_type": "code",
      "source": [
        "d=1e-3/600\n",
        "d"
      ],
      "metadata": {
        "colab": {
          "base_uri": "https://localhost:8080/"
        },
        "outputId": "7537515c-3e4c-445c-ec0c-3d8796190171",
        "id": "V_4QD5bJCAZE"
      },
      "execution_count": 458,
      "outputs": [
        {
          "output_type": "execute_result",
          "data": {
            "text/plain": [
              "1.6666666666666667e-06"
            ]
          },
          "metadata": {},
          "execution_count": 458
        }
      ]
    },
    {
      "cell_type": "code",
      "source": [
        "#Dinstância entre as fendas e a folha de observação D(mm):\n",
        "\n",
        "D=128 #(mm)\n",
        "D\n",
        "\n"
      ],
      "metadata": {
        "colab": {
          "base_uri": "https://localhost:8080/"
        },
        "outputId": "e0ad4da7-569c-4ce5-9df2-7215edd6832c",
        "id": "ojHZ0hpuCAZG"
      },
      "execution_count": 459,
      "outputs": [
        {
          "output_type": "execute_result",
          "data": {
            "text/plain": [
              "128"
            ]
          },
          "metadata": {},
          "execution_count": 459
        }
      ]
    },
    {
      "cell_type": "code",
      "source": [
        "  Y_viop= 29 #(mm)\n",
        "  Y_vion= 27 #(mm)\n",
        "  Y_azp= 39  #(mm)\n",
        "  Y_azn= 35  #(mm)\n",
        "  Y_amp= 43  #(mm)\n",
        "  Y_amn= 43  #(mm)\n",
        "  Y_vemp= 53 #(mm)\n",
        "  Y_vemn= 54 #(mm)\n"
      ],
      "metadata": {
        "id": "rMXqe0ahCAZH"
      },
      "execution_count": 460,
      "outputs": []
    },
    {
      "cell_type": "code",
      "source": [
        "Y_vermelho = (Y_vemp+Y_vemn)/2\n",
        "Y_vermelho #(mm)"
      ],
      "metadata": {
        "colab": {
          "base_uri": "https://localhost:8080/"
        },
        "outputId": "fddaa140-7c87-464e-b9e3-4e7f9d0893ce",
        "id": "MWu4HZn-CAZH"
      },
      "execution_count": 461,
      "outputs": [
        {
          "output_type": "execute_result",
          "data": {
            "text/plain": [
              "53.5"
            ]
          },
          "metadata": {},
          "execution_count": 461
        }
      ]
    },
    {
      "cell_type": "code",
      "source": [
        "Y_amarelo = (Y_amp+Y_amn)/2\n",
        "Y_amarelo #(mm)"
      ],
      "metadata": {
        "colab": {
          "base_uri": "https://localhost:8080/"
        },
        "outputId": "a0d16cff-5b8e-4970-c00d-c4a6ff7d91a6",
        "id": "s0arUQqLCAZJ"
      },
      "execution_count": 462,
      "outputs": [
        {
          "output_type": "execute_result",
          "data": {
            "text/plain": [
              "43.0"
            ]
          },
          "metadata": {},
          "execution_count": 462
        }
      ]
    },
    {
      "cell_type": "code",
      "source": [
        "Y_azul = (Y_azp+Y_azn)/2\n",
        "Y_azul #(mm"
      ],
      "metadata": {
        "colab": {
          "base_uri": "https://localhost:8080/"
        },
        "outputId": "e56f8492-74f1-48e2-8e8b-ef8d3ed38ac7",
        "id": "4m3hcBbXCAZJ"
      },
      "execution_count": 463,
      "outputs": [
        {
          "output_type": "execute_result",
          "data": {
            "text/plain": [
              "37.0"
            ]
          },
          "metadata": {},
          "execution_count": 463
        }
      ]
    },
    {
      "cell_type": "code",
      "source": [
        "Y_violeta=(Y_viop+Y_vion)/2\n",
        "Y_violeta"
      ],
      "metadata": {
        "colab": {
          "base_uri": "https://localhost:8080/"
        },
        "outputId": "5b620add-690b-4376-a2af-7c21e3c4f09b",
        "id": "CjS0ktghCAZM"
      },
      "execution_count": 464,
      "outputs": [
        {
          "output_type": "execute_result",
          "data": {
            "text/plain": [
              "28.0"
            ]
          },
          "metadata": {},
          "execution_count": 464
        }
      ]
    },
    {
      "cell_type": "code",
      "source": [
        "x1= Y_vermelho/D\n",
        "x2= Y_amarelo/D\n",
        "x3= Y_azul/D\n",
        "x4= Y_violeta/D\n",
        "print(x1,x2,x3,x4)"
      ],
      "metadata": {
        "colab": {
          "base_uri": "https://localhost:8080/"
        },
        "outputId": "2d4efaa1-19ec-49fa-b020-78c8d8c86a0a",
        "id": "LAbAyNNGCAZM"
      },
      "execution_count": 465,
      "outputs": [
        {
          "output_type": "stream",
          "name": "stdout",
          "text": [
            "0.41796875 0.3359375 0.2890625 0.21875\n"
          ]
        }
      ]
    },
    {
      "cell_type": "code",
      "source": [
        "theta1=np.arctan(x1)\n",
        "theta2=np.arctan(x2)\n",
        "theta3=np.arctan(x3)\n",
        "theta4=np.arctan(x4)\n",
        "print(theta1,theta2,theta3,theta4)"
      ],
      "metadata": {
        "colab": {
          "base_uri": "https://localhost:8080/"
        },
        "outputId": "ca667044-1e5f-4d3d-8254-d01dda139ede",
        "id": "JWWnHuVCCAZN"
      },
      "execution_count": 466,
      "outputs": [
        {
          "output_type": "stream",
          "name": "stdout",
          "text": [
            "0.3959000740552629 0.3240924704898717 0.28139243264917846 0.21535769969773805\n"
          ]
        }
      ]
    },
    {
      "cell_type": "code",
      "source": [
        "thetag_1= np.rad2deg(theta1)\n",
        "thetag_2= np.rad2deg(theta2) \n",
        "thetag_3= np.rad2deg(theta3) \n",
        "thetag_4= np.rad2deg(theta4) \n",
        "\n",
        "print(\"\\u03B8_1 =\", thetag_1,\"\\u00B0\")\n",
        "print(\"\\u03B8_2 =\", thetag_2,\"\\u00B0\")\n",
        "print(\"\\u03B8_3 =\", thetag_3,\"\\u00B0\")\n",
        "print(\"\\u03B8_4 =\", thetag_4,\"\\u00B0\")"
      ],
      "metadata": {
        "colab": {
          "base_uri": "https://localhost:8080/"
        },
        "outputId": "b13c5e56-4449-43de-f02f-9f390a9ea125",
        "id": "YFHjzMUNCAZO"
      },
      "execution_count": 467,
      "outputs": [
        {
          "output_type": "stream",
          "name": "stdout",
          "text": [
            "θ_1 = 22.683403352283307 °\n",
            "θ_2 = 18.56913073103783 °\n",
            "θ_3 = 16.122598777717197 °\n",
            "θ_4 = 12.339087278326195 °\n"
          ]
        }
      ]
    },
    {
      "cell_type": "code",
      "source": [
        "or1=((np.sin(theta1)) )\n",
        "or2=((np.sin(theta2)) )\n",
        "or3=((np.sin(theta3)) )\n",
        "or4=((np.sin(theta4)) )\n",
        "print(\"sen\\u03B8_1 =\",or1 ,\"rad\")\n",
        "print(\"sen\\u03B8_2 =\",or2 ,\"rad\")\n",
        "print(\"sen\\u03B8_3 =\",or3 ,\"rad\")\n",
        "print(\"sen\\u03B8_4 =\",or4 ,\"rad\")\n",
        "o1=np.rad2deg(or1)\n",
        "o2=np.rad2deg(or2)\n",
        "o3=np.rad2deg(or3)\n",
        "o4=np.rad2deg(or4)\n",
        "print(\"\\u03B8_1 =\", o1,\"\\u00B0\")\n",
        "print(\"\\u03B8_2 =\", o2,\"\\u00B0\")\n",
        "print(\"\\u03B8_3 =\", o3,\"\\u00B0\")\n",
        "print(\"\\u03B8_4 =\", o4,\"\\u00B0\")"
      ],
      "metadata": {
        "colab": {
          "base_uri": "https://localhost:8080/"
        },
        "outputId": "9565e47a-7c56-4177-eb6e-2fe87528a6ce",
        "id": "tl31nyl5CAZP"
      },
      "execution_count": 468,
      "outputs": [
        {
          "output_type": "stream",
          "name": "stdout",
          "text": [
            "senθ_1 = 0.3856387980837989 rad\n",
            "senθ_2 = 0.31844863348262314 rad\n",
            "senθ_3 = 0.27769358519304144 rad\n",
            "senθ_4 = 0.21369687880543226 rad\n",
            "θ_1 = 22.095475546699415 °\n",
            "θ_2 = 18.24576269026274 °\n",
            "θ_3 = 15.910670429417845 °\n",
            "θ_4 = 12.243929250669922 °\n"
          ]
        }
      ]
    },
    {
      "cell_type": "code",
      "source": [
        "lambda_Verm = d*(np.sin(theta1))\n",
        "lambda_Am = d*(np.sin(theta2))\n",
        "lambda_Az = d*(np.sin(theta3))\n",
        "lambda_Vio = d*(np.sin(theta4))\n",
        "print(lambda_Verm, lambda_Am, lambda_Az,lambda_Vio)"
      ],
      "metadata": {
        "colab": {
          "base_uri": "https://localhost:8080/"
        },
        "outputId": "b7b0d926-b43b-45ef-eeeb-c8e4c310addf",
        "id": "JN5HyggRCAZQ"
      },
      "execution_count": 469,
      "outputs": [
        {
          "output_type": "stream",
          "name": "stdout",
          "text": [
            "6.427313301396649e-07 5.307477224710386e-07 4.628226419884024e-07 3.561614646757204e-07\n"
          ]
        }
      ]
    },
    {
      "cell_type": "code",
      "source": [
        "lambda_Vermelho = d*(or1)\n",
        "lambda_Amarelo = d*(or2)\n",
        "lambda_Azul = d*(or3)\n",
        "lambda_Violeta = d*(or4)\n",
        "print(lambda_Vermelho, lambda_Amarelo, lambda_Azul,lambda_Violeta)"
      ],
      "metadata": {
        "colab": {
          "base_uri": "https://localhost:8080/"
        },
        "outputId": "b26327b0-3863-4617-fa14-711b7180699c",
        "id": "2nZw-HFeCAZR"
      },
      "execution_count": 470,
      "outputs": [
        {
          "output_type": "stream",
          "name": "stdout",
          "text": [
            "6.427313301396649e-07 5.307477224710386e-07 4.628226419884024e-07 3.561614646757204e-07\n"
          ]
        }
      ]
    },
    {
      "cell_type": "code",
      "source": [
        "print(\"lambda_Vermelho:\", np.round(lambda_Vermelho*1e9, 2),\"nm\")\n",
        "print(\"lambda_Amarelo:\", np.round(lambda_Amarelo*1e9, 2),\"nm\")\n",
        "print(\"lambda_Azul:\", np.round(lambda_Azul*1e9, 2),\"nm\")\n",
        "print(\"lambda_Violeta:\", np.round(lambda_Violeta*1e9, 2),\"nm\")"
      ],
      "metadata": {
        "colab": {
          "base_uri": "https://localhost:8080/"
        },
        "outputId": "e325aa49-d980-4e7a-d024-769a7c61ee85",
        "id": "5EzNj66cCAZR"
      },
      "execution_count": 471,
      "outputs": [
        {
          "output_type": "stream",
          "name": "stdout",
          "text": [
            "lambda_Vermelho: 642.73 nm\n",
            "lambda_Amarelo: 530.75 nm\n",
            "lambda_Azul: 462.82 nm\n",
            "lambda_Violeta: 356.16 nm\n"
          ]
        }
      ]
    },
    {
      "cell_type": "markdown",
      "source": [
        "Difração em fenda Circular\n",
        "\n",
        "Determinação de orifícios circulares\n",
        "\n",
        "*  Coloque um dos orifícios circulares no caminho do feixe laser, e observe a figura de difração formada;\n",
        "*  Meça o diametro do primeiro anel de mínimo, e com isto determine o diâmetro do orifício, através da expressão d*sen(theta)=1.22*lambda.\n",
        "\n",
        "theta= arctg(r/D)\n",
        "y=2*r\n",
        "\n",
        "\n",
        "\n"
      ],
      "metadata": {
        "id": "iJ2ySpYv3pWM"
      }
    },
    {
      "cell_type": "code",
      "source": [
        "#Dinstância entre as fendas e a folha de observação D(mm):\n",
        "D=2680.0"
      ],
      "metadata": {
        "id": "FnKkC_nf8Mdq"
      },
      "execution_count": 472,
      "outputs": []
    },
    {
      "cell_type": "code",
      "source": [
        "#diâmetro do primeiro anel de minimo para o segundo orificio da lâmina (mm)\n",
        "y=3\n",
        "r=y/2\n",
        "r"
      ],
      "metadata": {
        "colab": {
          "base_uri": "https://localhost:8080/"
        },
        "id": "4bMixXOJ7slv",
        "outputId": "1e2244ec-7323-4dd3-d922-02a8de2542b2"
      },
      "execution_count": 473,
      "outputs": [
        {
          "output_type": "execute_result",
          "data": {
            "text/plain": [
              "1.5"
            ]
          },
          "metadata": {},
          "execution_count": 473
        }
      ]
    },
    {
      "cell_type": "code",
      "source": [
        "theta = (np.arctan(r/D))\n",
        "theta"
      ],
      "metadata": {
        "colab": {
          "base_uri": "https://localhost:8080/"
        },
        "id": "f4OmB0WQ8CCY",
        "outputId": "96859311-c780-4435-d236-ed76acd2f475"
      },
      "execution_count": 474,
      "outputs": [
        {
          "output_type": "execute_result",
          "data": {
            "text/plain": [
              "0.0005597014340922199"
            ]
          },
          "metadata": {},
          "execution_count": 474
        }
      ]
    },
    {
      "cell_type": "code",
      "source": [
        "diametro=(1.22*lambda_L_R)/(np.sin(theta)) #primeiro min\n",
        "diametro"
      ],
      "metadata": {
        "colab": {
          "base_uri": "https://localhost:8080/"
        },
        "id": "4_vZbmda8clj",
        "outputId": "3608b604-b261-4150-e6f7-5a58dba3561a"
      },
      "execution_count": 475,
      "outputs": [
        {
          "output_type": "execute_result",
          "data": {
            "text/plain": [
              "0.00137933546938257"
            ]
          },
          "metadata": {},
          "execution_count": 475
        }
      ]
    },
    {
      "cell_type": "code",
      "source": [
        "diametro2=(2.23*lambda_L_R)/(np.sin(theta)) #segundo min\n",
        "diametro2"
      ],
      "metadata": {
        "colab": {
          "base_uri": "https://localhost:8080/"
        },
        "id": "aVFDyB7C9Ahd",
        "outputId": "563d290a-c095-40ba-eb74-49a75d4fb441"
      },
      "execution_count": 476,
      "outputs": [
        {
          "output_type": "execute_result",
          "data": {
            "text/plain": [
              "0.002521244341576337"
            ]
          },
          "metadata": {},
          "execution_count": 476
        }
      ]
    },
    {
      "cell_type": "code",
      "source": [
        "diametro3=(3.24*lambda_L_R)/(np.sin(theta)) #terceiro min\n",
        "diametro3"
      ],
      "metadata": {
        "colab": {
          "base_uri": "https://localhost:8080/"
        },
        "id": "zao-Vu3LM8Uu",
        "outputId": "434be157-5cf0-4dc8-c3e0-cd3e3f19e93c"
      },
      "execution_count": 477,
      "outputs": [
        {
          "output_type": "execute_result",
          "data": {
            "text/plain": [
              "0.003663153213770104"
            ]
          },
          "metadata": {},
          "execution_count": 477
        }
      ]
    },
    {
      "cell_type": "code",
      "source": [
        "t1=(1.22*lambda_L_R)/(0.5*1e-3)\n",
        "t1"
      ],
      "metadata": {
        "colab": {
          "base_uri": "https://localhost:8080/"
        },
        "id": "Sc9uOk_9HdCc",
        "outputId": "e55a2d6d-c224-42db-d877-43caf7967cec"
      },
      "execution_count": 478,
      "outputs": [
        {
          "output_type": "execute_result",
          "data": {
            "text/plain": [
              "0.0015440319999999999"
            ]
          },
          "metadata": {},
          "execution_count": 478
        }
      ]
    },
    {
      "cell_type": "code",
      "source": [],
      "metadata": {
        "id": "Gn1H55FIM4ZZ"
      },
      "execution_count": 478,
      "outputs": []
    }
  ]
}