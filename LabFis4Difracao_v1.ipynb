{
  "nbformat": 4,
  "nbformat_minor": 0,
  "metadata": {
    "colab": {
      "provenance": [],
      "authorship_tag": "ABX9TyNkOqG0eks7SDmY7OuGn7fM",
      "include_colab_link": true
    },
    "kernelspec": {
      "name": "python3",
      "display_name": "Python 3"
    },
    "language_info": {
      "name": "python"
    }
  },
  "cells": [
    {
      "cell_type": "markdown",
      "metadata": {
        "id": "view-in-github",
        "colab_type": "text"
      },
      "source": [
        "<a href=\"https://colab.research.google.com/github/elizamelo/LabFis04/blob/main/LabFis4Difracao_v1.ipynb\" target=\"_parent\"><img src=\"https://colab.research.google.com/assets/colab-badge.svg\" alt=\"Open In Colab\"/></a>"
      ]
    },
    {
      "cell_type": "code",
      "execution_count": 340,
      "metadata": {
        "id": "ofnSdf-wsbe9"
      },
      "outputs": [],
      "source": [
        "import numpy as np\n",
        "import pandas as pd\n",
        "import math\n",
        "import matplotlib as mpl\n",
        "import matplotlib.pyplot as plt"
      ]
    },
    {
      "cell_type": "markdown",
      "source": [
        "Laboratório de Física IV \n",
        "Prática 06: Difração A\n",
        "pontos de min: asen(theta)= lambda_L_R para m=1,2,3,...\n",
        "\n",
        "a_i=lambda_L_R*D/Dy_i\n",
        "\n",
        "Dados do Exemplo: D=670 (mm); n_i=4; Y_A= 96,Y_B= 44,Y_C= 22,Y_D= 11 (mm);lambda_L_R = 632.8 (nm)\n",
        "\n",
        "Grupo 01: D=1200 (mm); n_A=5,n_B=n_C=n_D=4;Y_A=190 ,Y_B=95 ,Y_C=40 ,Y_D=20 (mm);n_fio=4;Y_fio=45(mm)\n",
        "\n",
        "Grupo 02: D=1010 (mm); n_A=4,n_B=6,n_C=7,n_D=8,n_fio=4;Y_A=155 ,Y_B=105 ,Y_C=59 ,Y_D=33, Y_fio=40(mm).\n",
        "\n",
        "Grupo 03:\n",
        "\n",
        "Grupo 04:\n",
        "\n"
      ],
      "metadata": {
        "id": "aOVlph-RscLj"
      }
    },
    {
      "cell_type": "code",
      "source": [
        "#Comprimento de onda da fonte laser\n",
        "lambda_L_R = 632.8*1e-9 # m"
      ],
      "metadata": {
        "id": "IfyZ3B5Cv1-3"
      },
      "execution_count": 341,
      "outputs": []
    },
    {
      "cell_type": "markdown",
      "source": [
        "Grupo 01 - Turma 03 : Aline Chien, Gabriel Costa; Gabriel Alexandre\n",
        "\n",
        "\n",
        "---\n",
        "\n",
        "\n",
        "\n"
      ],
      "metadata": {
        "id": "-g6zgJLBucYE"
      }
    },
    {
      "cell_type": "code",
      "source": [
        "#Dinstância entre as fendas e a folha de observação D(mm):\n",
        "\n",
        "D = 1200.0"
      ],
      "metadata": {
        "id": "86GjTtusPE0C"
      },
      "execution_count": 342,
      "outputs": []
    },
    {
      "cell_type": "code",
      "source": [
        "#Dinstância entre as fendas \"d\"(mm):\n",
        "#a_A = 0.02\n",
        "#a_B = 0.04\n",
        "#a_C = 0.08\n",
        "#a_D = 0.16\n"
      ],
      "metadata": {
        "id": "W37Zu2AKyC_X"
      },
      "execution_count": 343,
      "outputs": []
    },
    {
      "cell_type": "code",
      "source": [
        "#Número de configurões da Lâmina \"N\":\n",
        "#N = 4\n",
        "#Número de intervalos de Máximos :\n",
        "n_A = 5\n",
        "n_B = 4\n",
        "n_C = 4\n",
        "n_D = 4\n",
        "n_fio = 4\n",
        "print(\"n_A:\", n_A,\";\"\"n_B:\", n_B,\";\"\"n_C:\", n_C,\";\"\"n_D:\", n_D,\"n_fio:\",n_fio,\".\")"
      ],
      "metadata": {
        "colab": {
          "base_uri": "https://localhost:8080/"
        },
        "id": "tsRDNQiDsl5B",
        "outputId": "08e462f9-1305-418c-c127-cff2dcbf54db"
      },
      "execution_count": 344,
      "outputs": [
        {
          "output_type": "stream",
          "name": "stdout",
          "text": [
            "n_A: 5 ;n_B: 4 ;n_C: 4 ;n_D: 4 n_fio: 4 .\n"
          ]
        }
      ]
    },
    {
      "cell_type": "code",
      "source": [
        "#Distâncias entre máximos medidos com a régua para cada Configuração (mm):\n",
        "Y_A= 190.0\n",
        "Y_B= 95.0\n",
        "Y_C= 40.0\n",
        "Y_D= 20.0\n",
        "Y_fio = 45.0\n",
        "print(\"Y_A:\", Y_A,\";\"\"Y_B:\", Y_B,\";\"\"Y_C:\", Y_C,\";\"\"Y_D:\", Y_D,\"Y_fio:\",Y_fio,\".\")"
      ],
      "metadata": {
        "colab": {
          "base_uri": "https://localhost:8080/"
        },
        "id": "Hzo7KZ1_tPic",
        "outputId": "7101bad9-0c63-4819-f4bd-dbb25aac1e85"
      },
      "execution_count": 345,
      "outputs": [
        {
          "output_type": "stream",
          "name": "stdout",
          "text": [
            "Y_A: 190.0 ;Y_B: 95.0 ;Y_C: 40.0 ;Y_D: 20.0 Y_fio: 45.0 .\n"
          ]
        }
      ]
    },
    {
      "cell_type": "code",
      "source": [
        "#Deta_Y para cada Configuração (mm):\n",
        "Dy_A= Y_A/n_A\n",
        "Dy_B= Y_B/n_B\n",
        "Dy_C= Y_C/n_C\n",
        "Dy_D= Y_D/n_D\n",
        "Dy_fio= Y_fio/n_fio\n",
        "print(\"Dy_A:\", Dy_A,\";\"\"Dy_B:\", Dy_B,\";\"\"Dy_C:\", Dy_C,\";\"\"Dy_D:\", Dy_D,\"Dy_fio:\",Dy_fio,\".\")"
      ],
      "metadata": {
        "colab": {
          "base_uri": "https://localhost:8080/"
        },
        "id": "cftwSlMmt193",
        "outputId": "692b8efa-b6df-4a81-c192-49c9165f928b"
      },
      "execution_count": 346,
      "outputs": [
        {
          "output_type": "stream",
          "name": "stdout",
          "text": [
            "Dy_A: 38.0 ;Dy_B: 23.75 ;Dy_C: 10.0 ;Dy_D: 5.0 Dy_fio: 11.25 .\n"
          ]
        }
      ]
    },
    {
      "cell_type": "code",
      "source": [
        "#largura para cada configuração das fendas(mm)\n",
        "\n",
        "a_A= (lambda_L_R*D/Dy_A) \n",
        "a_B= (lambda_L_R*D/Dy_B) \n",
        "a_C= (lambda_L_R*D/Dy_C) \n",
        "a_D= (lambda_L_R*D/Dy_D) \n",
        "a_fio=(lambda_L_R*D/Dy_fio)\n",
        "print(\"a_A:\", a_A,\";\"\"a_B:\", a_B,\";\"\"a_C:\", a_C,\";\"\"a_D:\", a_D,\"a_fio:\",a_fio,\".\")"
      ],
      "metadata": {
        "colab": {
          "base_uri": "https://localhost:8080/"
        },
        "id": "2OKq2GrcuxWZ",
        "outputId": "faac7277-bd7e-4d26-b33f-2d999b6f145d"
      },
      "execution_count": 347,
      "outputs": [
        {
          "output_type": "stream",
          "name": "stdout",
          "text": [
            "a_A: 1.9983157894736844e-05 ;a_B: 3.197305263157895e-05 ;a_C: 7.5936e-05 ;a_D: 0.000151872 a_fio: 6.749866666666666e-05 .\n"
          ]
        }
      ]
    },
    {
      "cell_type": "code",
      "source": [
        "#Passar para mm\n",
        "print(\"a_A:\", np.round(a_A*1e3, 2 ),\"(mm);\"\"a_B:\", np.round(a_B*1e3, 2 ),\"(mm);\"\"a_C:\", np.round(a_C*1e3, 2 ),\"(mm);\"\"a_D:\", np.round(a_D*1e3, 2 ),\"(mm)\",\"a_fio:\",np.round(a_fio*1e3, 2 ),\"(mm).\")\n",
        " "
      ],
      "metadata": {
        "colab": {
          "base_uri": "https://localhost:8080/"
        },
        "id": "uFiFCZ3PwoDi",
        "outputId": "9bf1ebb0-83b2-49b0-b242-0db00f67f2df"
      },
      "execution_count": 348,
      "outputs": [
        {
          "output_type": "stream",
          "name": "stdout",
          "text": [
            "a_A: 0.02 (mm);a_B: 0.03 (mm);a_C: 0.08 (mm);a_D: 0.15 (mm) a_fio: 0.07 (mm).\n"
          ]
        }
      ]
    },
    {
      "cell_type": "markdown",
      "source": [
        "Grupo 02 - Turma 03 : Giovanna Alexim, Luiza Sant'Anna, Carolina Baptista\n"
      ],
      "metadata": {
        "id": "HFiSbol4yib0"
      }
    },
    {
      "cell_type": "code",
      "source": [
        "#Dinstância entre as fendas e a folha de observação D(mm):\n",
        "\n",
        "D = 1010.0"
      ],
      "metadata": {
        "id": "HtMAo0NLytZY"
      },
      "execution_count": 349,
      "outputs": []
    },
    {
      "cell_type": "code",
      "source": [
        "#Dinstância entre as fendas \"d\"(mm):\n",
        "#a_A = 0.02\n",
        "#a_B = 0.04\n",
        "#a_C = 0.08\n",
        "#a_D = 0.16"
      ],
      "metadata": {
        "id": "GyAbPkhhyzen"
      },
      "execution_count": 350,
      "outputs": []
    },
    {
      "cell_type": "code",
      "source": [
        "#Número de configurões da Lâmina \"N\":\n",
        "#N = 4\n",
        "#Número de intervalos de Máximos :\n",
        "n_A = 4\n",
        "n_B = 6\n",
        "n_C = 7\n",
        "n_D = 8\n",
        "n_fio = 4\n",
        "print(\"n_A:\", n_A,\";\"\"n_B:\", n_B,\";\"\"n_C:\", n_C,\";\"\"n_D:\", n_D,\"n_fio:\",n_fio,\".\")"
      ],
      "metadata": {
        "colab": {
          "base_uri": "https://localhost:8080/"
        },
        "id": "lgqnZ9cFy3jb",
        "outputId": "fc470387-7fa9-467c-cd13-662a6f565f24"
      },
      "execution_count": 351,
      "outputs": [
        {
          "output_type": "stream",
          "name": "stdout",
          "text": [
            "n_A: 4 ;n_B: 6 ;n_C: 7 ;n_D: 8 n_fio: 4 .\n"
          ]
        }
      ]
    },
    {
      "cell_type": "code",
      "source": [
        "#Distâncias entre máximos medidos com a régua para cada Configuração (mm):\n",
        "Y_A= 155.0\n",
        "Y_B= 105.0\n",
        "Y_C= 59.0\n",
        "Y_D= 33.0\n",
        "Y_fio = 40.0\n",
        "print(\"Y_A:\", Y_A,\";\"\"Y_B:\", Y_B,\";\"\"Y_C:\", Y_C,\";\"\"Y_D:\", Y_D,\"Y_fio:\",Y_fio,\".\")"
      ],
      "metadata": {
        "colab": {
          "base_uri": "https://localhost:8080/"
        },
        "id": "h3aPaXVDzAMV",
        "outputId": "876859a9-3604-4daa-c97f-0a55c3ccface"
      },
      "execution_count": 352,
      "outputs": [
        {
          "output_type": "stream",
          "name": "stdout",
          "text": [
            "Y_A: 155.0 ;Y_B: 105.0 ;Y_C: 59.0 ;Y_D: 33.0 Y_fio: 40.0 .\n"
          ]
        }
      ]
    },
    {
      "cell_type": "code",
      "source": [
        "#Deta_Y para cada Configuração (mm):\n",
        "Dy_A= Y_A/n_A\n",
        "Dy_B= Y_B/n_B\n",
        "Dy_C= Y_C/n_C\n",
        "Dy_D= Y_D/n_D\n",
        "Dy_fio= Y_fio/n_fio\n",
        "print(\"Dy_A:\", Dy_A,\";\"\"Dy_B:\", Dy_B,\";\"\"Dy_C:\", Dy_C,\";\"\"Dy_D:\", Dy_D,\"Dy_fio:\",Dy_fio,\".\")"
      ],
      "metadata": {
        "colab": {
          "base_uri": "https://localhost:8080/"
        },
        "id": "Qs7_PSlhzDTQ",
        "outputId": "77084345-001a-449f-8b9e-09815e8a68bf"
      },
      "execution_count": 353,
      "outputs": [
        {
          "output_type": "stream",
          "name": "stdout",
          "text": [
            "Dy_A: 38.75 ;Dy_B: 17.5 ;Dy_C: 8.428571428571429 ;Dy_D: 4.125 Dy_fio: 10.0 .\n"
          ]
        }
      ]
    },
    {
      "cell_type": "code",
      "source": [
        "#largura para cada configuração das fendas(mm)\n",
        "\n",
        "a_A= (lambda_L_R*D/Dy_A) \n",
        "a_B= (lambda_L_R*D/Dy_B) \n",
        "a_C= (lambda_L_R*D/Dy_C) \n",
        "a_D= (lambda_L_R*D/Dy_D) \n",
        "a_fio=(lambda_L_R*D/Dy_fio)\n",
        "print(\"a_A:\", a_A,\";\"\"a_B:\", a_B,\";\"\"a_C:\", a_C,\";\"\"a_D:\", a_D,\"a_fio:\",a_fio,\".\")"
      ],
      "metadata": {
        "colab": {
          "base_uri": "https://localhost:8080/"
        },
        "id": "NV21gJaCzDb1",
        "outputId": "34368bfe-f7f1-414c-9f8b-b544c533639a"
      },
      "execution_count": 354,
      "outputs": [
        {
          "output_type": "stream",
          "name": "stdout",
          "text": [
            "a_A: 1.649362580645161e-05 ;a_B: 3.65216e-05 ;a_C: 7.582874576271186e-05 ;a_D: 0.0001549401212121212 a_fio: 6.39128e-05 .\n"
          ]
        }
      ]
    },
    {
      "cell_type": "code",
      "source": [
        "#Passar para mm\n",
        "print(\"a_A:\", np.round(a_A*1e3, 2 ),\"(mm);\"\"a_B:\", np.round(a_B*1e3, 2 ),\"(mm);\"\"a_C:\", np.round(a_C*1e3, 2 ),\"(mm);\"\"a_D:\", np.round(a_D*1e3, 2 ),\"(mm)\",\"a_fio:\",np.round(a_fio*1e3, 2 ),\"(mm).\")\n",
        " "
      ],
      "metadata": {
        "colab": {
          "base_uri": "https://localhost:8080/"
        },
        "id": "7eNUmRSazDj6",
        "outputId": "aa7d5105-2f8a-4d04-977a-5baacff0b418"
      },
      "execution_count": 355,
      "outputs": [
        {
          "output_type": "stream",
          "name": "stdout",
          "text": [
            "a_A: 0.02 (mm);a_B: 0.04 (mm);a_C: 0.08 (mm);a_D: 0.15 (mm) a_fio: 0.06 (mm).\n"
          ]
        }
      ]
    },
    {
      "cell_type": "markdown",
      "source": [
        "Laboratório de Física IV \n",
        "\n",
        "Prática 07: Difração B - Rede de Difração - Rede de 600linhas/mm\n",
        "\n",
        "-Medir os lambdas observados, pelo menos 4.\n",
        "\n",
        "a=N.d\n",
        "\n",
        "pontos de máx: dsen(theta)= mlambda_i para m=0,1,2,3,...\n",
        "\n",
        "Para m=1\n",
        "\n",
        "d=1,67*1e-6 m\n",
        "\n",
        "Dados do Exemplo: D=94(mm); Y_vip= 21,Y_vin= 22.\n",
        "\n",
        "x = 0.5 #radians\n",
        "\n",
        "result = math.tan(x)\n",
        "\n",
        "print('tan(x) :', result)"
      ],
      "metadata": {
        "id": "TyzwAANAxx40"
      }
    },
    {
      "cell_type": "markdown",
      "source": [
        "Grupo 01 - Turma 03: Aline, Gariel A., Gabriel C.\n",
        "\n",
        "Dados: D= 45 (mm); Y_verp=21,Y_vern=20; Y_lap=17, Y_lan=13, Y_viop=12,Y_vion=10 (mm);"
      ],
      "metadata": {
        "id": "19DBnOQW0nzg"
      }
    },
    {
      "cell_type": "code",
      "source": [
        "d=1e-3/600\n",
        "d"
      ],
      "metadata": {
        "colab": {
          "base_uri": "https://localhost:8080/"
        },
        "id": "39kvUitS2cYG",
        "outputId": "6c311967-976a-4144-b463-6da052c86040"
      },
      "execution_count": 356,
      "outputs": [
        {
          "output_type": "execute_result",
          "data": {
            "text/plain": [
              "1.6666666666666667e-06"
            ]
          },
          "metadata": {},
          "execution_count": 356
        }
      ]
    },
    {
      "cell_type": "code",
      "source": [
        "#Dinstância entre as fendas e a folha de observação D(mm):\n",
        "\n",
        "D=45 #(mm)\n",
        "D\n",
        "\n"
      ],
      "metadata": {
        "colab": {
          "base_uri": "https://localhost:8080/"
        },
        "id": "bvTpmQlN1mZ2",
        "outputId": "0373cae4-7c15-4583-a25e-cf7e36e7afc9"
      },
      "execution_count": 357,
      "outputs": [
        {
          "output_type": "execute_result",
          "data": {
            "text/plain": [
              "45"
            ]
          },
          "metadata": {},
          "execution_count": 357
        }
      ]
    },
    {
      "cell_type": "code",
      "source": [
        "  Y_vemp= 21 #(mm)\n",
        "  Y_vemn= 20 #(mm)\n",
        "  Y_lap= 17  #(mm)\n",
        "  Y_lan= 18  #(mm)\n",
        "  Y_azp= 13  #(mm)\n",
        "  Y_azn= 14  #(mm)\n",
        "  Y_viop= 12 #(mm)\n",
        "  Y_vion= 10 #(mm)\n"
      ],
      "metadata": {
        "id": "LH6lUagU1sky"
      },
      "execution_count": 358,
      "outputs": []
    },
    {
      "cell_type": "code",
      "source": [
        "Y_vermelho = (Y_vemp+Y_vemn)/2\n",
        "Y_vermelho #(mm)"
      ],
      "metadata": {
        "colab": {
          "base_uri": "https://localhost:8080/"
        },
        "id": "tABgZUgc0cXx",
        "outputId": "5a1026a0-b015-41b0-f149-3870f6aa51ee"
      },
      "execution_count": 359,
      "outputs": [
        {
          "output_type": "execute_result",
          "data": {
            "text/plain": [
              "20.5"
            ]
          },
          "metadata": {},
          "execution_count": 359
        }
      ]
    },
    {
      "cell_type": "code",
      "source": [
        "Y_laranja = (Y_lap+Y_lan)/2\n",
        "Y_laranja #(mm)"
      ],
      "metadata": {
        "colab": {
          "base_uri": "https://localhost:8080/"
        },
        "id": "W6-BZbnMfh1P",
        "outputId": "f10349dc-f1c0-4190-b807-df3d878e805c"
      },
      "execution_count": 360,
      "outputs": [
        {
          "output_type": "execute_result",
          "data": {
            "text/plain": [
              "17.5"
            ]
          },
          "metadata": {},
          "execution_count": 360
        }
      ]
    },
    {
      "cell_type": "code",
      "source": [
        "Y_azul = (Y_azp+Y_azn)/2\n",
        "Y_azul #(mm"
      ],
      "metadata": {
        "colab": {
          "base_uri": "https://localhost:8080/"
        },
        "id": "OAeKZpwSfieJ",
        "outputId": "a71c10dc-d0f2-42e1-d5be-f04600c7b1a2"
      },
      "execution_count": 361,
      "outputs": [
        {
          "output_type": "execute_result",
          "data": {
            "text/plain": [
              "13.5"
            ]
          },
          "metadata": {},
          "execution_count": 361
        }
      ]
    },
    {
      "cell_type": "code",
      "source": [
        "Y_violeta=(Y_viop+Y_vion)/2\n",
        "Y_violeta"
      ],
      "metadata": {
        "colab": {
          "base_uri": "https://localhost:8080/"
        },
        "id": "KnNhyAnl2qhS",
        "outputId": "88b710bd-db2b-46a7-bdcd-04c3306813c4"
      },
      "execution_count": 362,
      "outputs": [
        {
          "output_type": "execute_result",
          "data": {
            "text/plain": [
              "11.0"
            ]
          },
          "metadata": {},
          "execution_count": 362
        }
      ]
    },
    {
      "cell_type": "code",
      "source": [
        "x1= Y_vermelho/D\n",
        "x2= Y_laranja/D\n",
        "x3= Y_azul/D\n",
        "x4= Y_violeta/D\n",
        "print(x1,x2,x3,x4)"
      ],
      "metadata": {
        "colab": {
          "base_uri": "https://localhost:8080/"
        },
        "id": "WYToQ6_v0to1",
        "outputId": "c4310661-957b-4541-890f-3a18b79b4037"
      },
      "execution_count": 363,
      "outputs": [
        {
          "output_type": "stream",
          "name": "stdout",
          "text": [
            "0.45555555555555555 0.3888888888888889 0.3 0.24444444444444444\n"
          ]
        }
      ]
    },
    {
      "cell_type": "code",
      "source": [
        "theta1=np.arctan(x1)\n",
        "theta2=np.arctan(x2)\n",
        "theta3=np.arctan(x3)\n",
        "theta4=np.arctan(x4)\n",
        "print(theta1,theta2,theta3,theta4)"
      ],
      "metadata": {
        "colab": {
          "base_uri": "https://localhost:8080/"
        },
        "id": "qbg5Nyqw578V",
        "outputId": "da02ffb7-f429-4060-efa4-23578655bb96"
      },
      "execution_count": 364,
      "outputs": [
        {
          "output_type": "stream",
          "name": "stdout",
          "text": [
            "0.4274643130152254 0.37089128881266237 0.2914567944778671 0.23974310887045658\n"
          ]
        }
      ]
    },
    {
      "cell_type": "code",
      "source": [
        "thetag_1= np.rad2deg(theta1)\n",
        "thetag_2= np.rad2deg(theta2) \n",
        "thetag_3= np.rad2deg(theta3) \n",
        "thetag_4= np.rad2deg(theta4) \n",
        "\n",
        "print(\"\\u03B8_1 =\", thetag_1,\"\\u00B0\")\n",
        "print(\"\\u03B8_2 =\", thetag_2,\"\\u00B0\")\n",
        "print(\"\\u03B8_3 =\", thetag_3,\"\\u00B0\")\n",
        "print(\"\\u03B8_4 =\", thetag_4,\"\\u00B0\")"
      ],
      "metadata": {
        "colab": {
          "base_uri": "https://localhost:8080/"
        },
        "id": "RAnmRrLE5e6B",
        "outputId": "e7a709fd-7f53-4706-e992-d935169dc15d"
      },
      "execution_count": 365,
      "outputs": [
        {
          "output_type": "stream",
          "name": "stdout",
          "text": [
            "θ_1 = 24.491901028231563 °\n",
            "θ_2 = 21.25050550713324 °\n",
            "θ_3 = 16.69924423399362 °\n",
            "θ_4 = 13.736268305622572 °\n"
          ]
        }
      ]
    },
    {
      "cell_type": "code",
      "source": [
        "or1=((np.sin(theta1)) )\n",
        "or2=((np.sin(theta2)) )\n",
        "or3=((np.sin(theta3)) )\n",
        "or4=((np.sin(theta4)) )\n",
        "print(\"sen\\u03B8_1 =\",or1 ,\"rad\")\n",
        "print(\"sen\\u03B8_2 =\",or2 ,\"rad\")\n",
        "print(\"sen\\u03B8_3 =\",or3 ,\"rad\")\n",
        "print(\"sen\\u03B8_4 =\",or4 ,\"rad\")\n",
        "o1=np.rad2deg(or1)\n",
        "o2=np.rad2deg(or2)\n",
        "o3=np.rad2deg(or3)\n",
        "o4=np.rad2deg(or4)\n",
        "print(\"\\u03B8_1 =\", o1,\"\\u00B0\")\n",
        "print(\"\\u03B8_2 =\", o2,\"\\u00B0\")\n",
        "print(\"\\u03B8_3 =\", o3,\"\\u00B0\")\n",
        "print(\"\\u03B8_4 =\", o4,\"\\u00B0\")"
      ],
      "metadata": {
        "colab": {
          "base_uri": "https://localhost:8080/"
        },
        "id": "XkkewR0ngvJO",
        "outputId": "687c15f9-098f-43f2-8a14-63cbf07bbf3b"
      },
      "execution_count": 366,
      "outputs": [
        {
          "output_type": "stream",
          "name": "stdout",
          "text": [
            "senθ_1 = 0.4145646120999256 rad\n",
            "senθ_2 = 0.36244626115494843 rad\n",
            "senθ_3 = 0.28734788556634544 rad\n",
            "senθ_4 = 0.23745309047699004 rad\n",
            "θ_1 = 23.75280260880384 °\n",
            "θ_2 = 20.766641064474978 °\n",
            "θ_3 = 16.463821094959737 °\n",
            "θ_4 = 13.605059916669608 °\n"
          ]
        }
      ]
    },
    {
      "cell_type": "code",
      "source": [
        "lambda_Verm = d*(np.sin(theta1))\n",
        "lambda_La = d*(np.sin(theta2))\n",
        "lambda_Az = d*(np.sin(theta3))\n",
        "lambda_Vio = d*(np.sin(theta4))\n",
        "print(lambda_Verm, lambda_La, lambda_Az,lambda_Vio)"
      ],
      "metadata": {
        "colab": {
          "base_uri": "https://localhost:8080/"
        },
        "id": "IHUCZ5LR2JC8",
        "outputId": "56445118-6104-4b8f-e05f-6caec7ed0e6b"
      },
      "execution_count": 367,
      "outputs": [
        {
          "output_type": "stream",
          "name": "stdout",
          "text": [
            "6.909410201665427e-07 6.04077101924914e-07 4.789131426105758e-07 3.957551507949834e-07\n"
          ]
        }
      ]
    },
    {
      "cell_type": "code",
      "source": [
        "lambda_Vermelho = d*(or1)\n",
        "lambda_Laranja = d*(or2)\n",
        "lambda_Azul = d*(or3)\n",
        "lambda_Violeta = d*(or4)\n",
        "print(lambda_Vermelho, lambda_Laranja, lambda_Azul,lambda_Violeta)"
      ],
      "metadata": {
        "colab": {
          "base_uri": "https://localhost:8080/"
        },
        "id": "Mzs5E2096RM5",
        "outputId": "4759df70-dd86-4c55-936a-b3e1abc86465"
      },
      "execution_count": 368,
      "outputs": [
        {
          "output_type": "stream",
          "name": "stdout",
          "text": [
            "6.909410201665427e-07 6.04077101924914e-07 4.789131426105758e-07 3.957551507949834e-07\n"
          ]
        }
      ]
    },
    {
      "cell_type": "code",
      "source": [
        "print(\"lambda_Vermelho:\", np.round(lambda_Vermelho*1e9, 2),\"nm\")\n",
        "print(\"lambda_Laranje:\", np.round(lambda_Laranja*1e9, 2),\"nm\")\n",
        "print(\"lambda_Azul:\", np.round(lambda_Azul*1e9, 2),\"nm\")\n",
        "print(\"lambda_Violeta:\", np.round(lambda_Violeta*1e9, 2),\"nm\")"
      ],
      "metadata": {
        "colab": {
          "base_uri": "https://localhost:8080/"
        },
        "id": "XpO-a5g12w49",
        "outputId": "301eac06-dde7-4177-e982-f3efd2161529"
      },
      "execution_count": 369,
      "outputs": [
        {
          "output_type": "stream",
          "name": "stdout",
          "text": [
            "lambda_Vermelho: 690.94 nm\n",
            "lambda_Laranje: 604.08 nm\n",
            "lambda_Azul: 478.91 nm\n",
            "lambda_Violeta: 395.76 nm\n"
          ]
        }
      ]
    },
    {
      "cell_type": "markdown",
      "source": [
        "Difração em fenda Circular\n",
        "\n",
        "Determinação de orifícios circulares\n",
        "\n",
        "*  Coloque um dos orifícios circulares no caminho do feixe laser, e observe a figura de difração formada;\n",
        "*  Meça o diametro do primeiro anel de mínimo, e com isto determine o diâmetro do orifício, através da expressão d*sen(theta)=1.22*lambda.\n",
        "\n",
        "theta= arctg(r/D)\n",
        "y=2*r\n",
        "\n",
        "\n",
        "\n"
      ],
      "metadata": {
        "id": "iJ2ySpYv3pWM"
      }
    },
    {
      "cell_type": "code",
      "source": [
        "#Dinstância entre as fendas e a folha de observação D(mm):\n",
        "D=2680.0"
      ],
      "metadata": {
        "id": "FnKkC_nf8Mdq"
      },
      "execution_count": 370,
      "outputs": []
    },
    {
      "cell_type": "code",
      "source": [
        "#diâmetro do primeiro anel de minimo para o segundo orificio da lâmina (mm)\n",
        "y=3\n",
        "r=y/2\n",
        "r"
      ],
      "metadata": {
        "colab": {
          "base_uri": "https://localhost:8080/"
        },
        "id": "4bMixXOJ7slv",
        "outputId": "2bdbd511-4cb1-48a1-cc20-c18ac40e7d2a"
      },
      "execution_count": 371,
      "outputs": [
        {
          "output_type": "execute_result",
          "data": {
            "text/plain": [
              "1.5"
            ]
          },
          "metadata": {},
          "execution_count": 371
        }
      ]
    },
    {
      "cell_type": "code",
      "source": [
        "theta = (np.arctan(r/D))\n",
        "theta"
      ],
      "metadata": {
        "colab": {
          "base_uri": "https://localhost:8080/"
        },
        "id": "f4OmB0WQ8CCY",
        "outputId": "5b66f026-b1ef-4a01-daa6-913c90e1d743"
      },
      "execution_count": 372,
      "outputs": [
        {
          "output_type": "execute_result",
          "data": {
            "text/plain": [
              "0.0005597014340922199"
            ]
          },
          "metadata": {},
          "execution_count": 372
        }
      ]
    },
    {
      "cell_type": "code",
      "source": [
        "diametro=(1.22*lambda_L_R)/(np.sin(theta)) #primeiro min\n",
        "diametro"
      ],
      "metadata": {
        "colab": {
          "base_uri": "https://localhost:8080/"
        },
        "id": "4_vZbmda8clj",
        "outputId": "2c267da3-f3eb-4b21-f13d-18c3bd1f097d"
      },
      "execution_count": 373,
      "outputs": [
        {
          "output_type": "execute_result",
          "data": {
            "text/plain": [
              "0.00137933546938257"
            ]
          },
          "metadata": {},
          "execution_count": 373
        }
      ]
    },
    {
      "cell_type": "code",
      "source": [
        "diametro2=(2.23*lambda_L_R)/(np.sin(theta)) #segundo min\n",
        "diametro2"
      ],
      "metadata": {
        "colab": {
          "base_uri": "https://localhost:8080/"
        },
        "id": "aVFDyB7C9Ahd",
        "outputId": "6a6f1ba0-cb25-4910-d811-7b5b488b30a7"
      },
      "execution_count": 374,
      "outputs": [
        {
          "output_type": "execute_result",
          "data": {
            "text/plain": [
              "0.002521244341576337"
            ]
          },
          "metadata": {},
          "execution_count": 374
        }
      ]
    },
    {
      "cell_type": "code",
      "source": [
        "diametro3=(3.24*lambda_L_R)/(np.sin(theta)) #terceiro min\n",
        "diametro3"
      ],
      "metadata": {
        "colab": {
          "base_uri": "https://localhost:8080/"
        },
        "id": "zao-Vu3LM8Uu",
        "outputId": "700a6331-e786-43b8-9109-0d829a484f29"
      },
      "execution_count": 375,
      "outputs": [
        {
          "output_type": "execute_result",
          "data": {
            "text/plain": [
              "0.003663153213770104"
            ]
          },
          "metadata": {},
          "execution_count": 375
        }
      ]
    },
    {
      "cell_type": "code",
      "source": [
        "t1=(1.22*lambda_L_R)/(0.5*1e-3)\n",
        "t1"
      ],
      "metadata": {
        "colab": {
          "base_uri": "https://localhost:8080/"
        },
        "id": "Sc9uOk_9HdCc",
        "outputId": "47ce823c-55b5-4ad9-c1f2-5aaf924aff55"
      },
      "execution_count": 376,
      "outputs": [
        {
          "output_type": "execute_result",
          "data": {
            "text/plain": [
              "0.0015440319999999999"
            ]
          },
          "metadata": {},
          "execution_count": 376
        }
      ]
    },
    {
      "cell_type": "code",
      "source": [],
      "metadata": {
        "id": "Gn1H55FIM4ZZ"
      },
      "execution_count": 376,
      "outputs": []
    }
  ]
}