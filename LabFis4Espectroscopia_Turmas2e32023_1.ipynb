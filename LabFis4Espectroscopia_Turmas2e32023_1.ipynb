{
  "cells": [
    {
      "cell_type": "markdown",
      "metadata": {
        "id": "view-in-github",
        "colab_type": "text"
      },
      "source": [
        "<a href=\"https://colab.research.google.com/github/elizamelo/LabFis04/blob/main/LabFis4Espectroscopia_Turmas2e32023_1.ipynb\" target=\"_parent\"><img src=\"https://colab.research.google.com/assets/colab-badge.svg\" alt=\"Open In Colab\"/></a>"
      ]
    },
    {
      "cell_type": "code",
      "execution_count": 92,
      "metadata": {
        "id": "eYhZN7qu-fDi"
      },
      "outputs": [],
      "source": [
        "import numpy as np\n",
        "import pandas as pd\n",
        "import math\n",
        "import matplotlib as mpl\n",
        "import matplotlib.pyplot as plt"
      ]
    },
    {
      "cell_type": "markdown",
      "metadata": {
        "id": "wUvzuMB--tNt"
      },
      "source": [
        "Laboratório de Física IV Prática 08 -09 : Espectrocopia I e II"
      ]
    },
    {
      "cell_type": "code",
      "execution_count": 93,
      "metadata": {
        "id": "8m-R_WSZdXpX"
      },
      "outputs": [],
      "source": [
        "#!curl -o espectroscopio1.xlsx https://raw.githubusercontent.com/LabFis04/main/Grupos/espectroscopio1.xlsx"
      ]
    },
    {
      "cell_type": "code",
      "execution_count": 94,
      "metadata": {
        "id": "1O4Nu9dHT1Wi"
      },
      "outputs": [],
      "source": [
        "#!ls -lah\n",
        "     "
      ]
    },
    {
      "cell_type": "code",
      "execution_count": 95,
      "metadata": {
        "id": "tfQAD3ni-ijW"
      },
      "outputs": [],
      "source": [
        "# Fonte - ex.: Mercurio - Hg\n",
        "Theta_ref1 =176 #graus - espectroscopio 1\n",
        "Theta_ref2 =347 #graus - espectroscopio 2\n",
        "Theta_ref3 =256 #graus - espectroscopio 3\n"
      ]
    },
    {
      "cell_type": "code",
      "execution_count": 96,
      "metadata": {
        "colab": {
          "base_uri": "https://localhost:8080/"
        },
        "id": "iz5XzrAbAjBL",
        "outputId": "be0ffed9-2506-4358-e731-99e9647af20a"
      },
      "outputs": [
        {
          "output_type": "stream",
          "name": "stdout",
          "text": [
            "theta_i_d_1: 7.5 ;  theta_i_e_1: 7.3 ;  Alinhamento do Esp. 1: 0.2 .\n",
            "theta_i_d_2: 7.3 ;  theta_i_e_2: 7.4 ;  Alinhamento do Esp. 2: 0.1 .\n",
            "theta_i_d_3: 7.5 ;  theta_i_e_3: 7.4 ;  Alinhamento do Esp. 3: 0.1 .\n"
          ]
        }
      ],
      "source": [
        "#Alinhamento\n",
        "x_d_1=168.5\n",
        "x_e_1=183.3\n",
        "\n",
        "x_d_2=339.7\n",
        "x_e_2=354.4\n",
        "\n",
        "x_d_3=263.5\n",
        "x_e_3=248.6\n",
        "\n",
        "theta_i_d_1 = abs(Theta_ref1-x_d_1)\n",
        "theta_i_e_1 = abs(Theta_ref1-x_e_1)\n",
        "a_esp1=abs(theta_i_d_1-theta_i_e_1)\n",
        "print(\"theta_i_d_1:\", theta_i_d_1,\"; \",\"theta_i_e_1:\",  np.round(theta_i_e_1,1),\"; \",\"Alinhamento do Esp. 1:\",  np.round(a_esp1, 2 ),\".\")\n",
        "\n",
        "theta_i_d_2 = abs(Theta_ref2-x_d_2)\n",
        "theta_i_e_2 = abs(Theta_ref2-x_e_2)\n",
        "a_esp2=abs(theta_i_d_2-theta_i_e_2)\n",
        "print(\"theta_i_d_2:\", np.round(theta_i_d_2,1),\"; \",\"theta_i_e_2:\",  np.round(theta_i_e_2,1),\"; \",\"Alinhamento do Esp. 2:\",  np.round(a_esp2, 2 ),\".\")\n",
        "\n",
        "theta_i_d_3 = abs(Theta_ref3-x_d_3)\n",
        "theta_i_e_3 = abs(Theta_ref3-x_e_3)\n",
        "a_esp3=abs(theta_i_d_3-theta_i_e_3)\n",
        "print(\"theta_i_d_3:\", theta_i_d_3,\"; \",\"theta_i_e_3:\", np.round(theta_i_e_3,1),\"; \",\"Alinhamento do Esp. 3:\",  np.round(a_esp3, 2 ),\".\")"
      ]
    },
    {
      "cell_type": "code",
      "execution_count": 97,
      "metadata": {
        "id": "cRZ8hNKxUGll",
        "colab": {
          "base_uri": "https://localhost:8080/"
        },
        "outputId": "b375fb51-35e7-4002-be08-c52cdbe7f39e"
      },
      "outputs": [
        {
          "output_type": "stream",
          "name": "stdout",
          "text": [
            "  % Total    % Received % Xferd  Average Speed   Time    Time     Time  Current\n",
            "                                 Dload  Upload   Total   Spent    Left  Speed\n",
            "100   223  100   223    0     0   1304      0 --:--:-- --:--:-- --:--:--  1304\n"
          ]
        }
      ],
      "source": [
        "#dataset = pd.read_excel(\"espectroscopio1.xlsx\", sheet_name=\"Sheet1\", usecols=[0,1,2], nrows=8, index_col=0, names=[\"Índice\", \"X\", \"Y\"] ) #importação dos dados \n",
        "!curl -o espectroscopio123turma3-g1.csv https://raw.githubusercontent.com/elizamelo/LabFis04/main/Grupos/espectroscopio123%20-%20turma3-g1.csv\n",
        "#dataset = pd.read_excel(\"espectroscopio123turma3-g1.csv\" ) #importação dos dados \n"
      ]
    },
    {
      "cell_type": "code",
      "source": [
        "\n",
        "\n",
        "dataset = pd.read_csv( \"espectroscopio123turma3-g1.csv\", usecols=[0,1,2], nrows=10,skiprows=1, na_values=[\"0\"],names=[\"A\", \"X\", \"Y\"] )\n",
        "dataset\n",
        "     \n"
      ],
      "metadata": {
        "colab": {
          "base_uri": "https://localhost:8080/",
          "height": 332
        },
        "id": "7IrddAMg4r9A",
        "outputId": "73442b0f-f51c-4cb8-dec0-dec55f2689e3"
      },
      "execution_count": 98,
      "outputs": [
        {
          "output_type": "execute_result",
          "data": {
            "text/plain": [
              "      A         X       Y\n",
              "0   7.4  0.128796  4358.3\n",
              "1   7.7  0.133986  4471.0\n",
              "2   8.7  0.151261  5015.0\n",
              "3   9.3  0.161604  5460.7\n",
              "4  10.0  0.173648  5769.6\n",
              "5  10.1  0.175367  5790.7\n",
              "6  10.3  0.178802  5876.0\n",
              "7  11.7  0.202787  6678.0\n",
              "8  12.3  0.213030  7065.0"
            ],
            "text/html": [
              "\n",
              "  <div id=\"df-847eb679-c466-4d87-adcf-d63431e4a841\">\n",
              "    <div class=\"colab-df-container\">\n",
              "      <div>\n",
              "<style scoped>\n",
              "    .dataframe tbody tr th:only-of-type {\n",
              "        vertical-align: middle;\n",
              "    }\n",
              "\n",
              "    .dataframe tbody tr th {\n",
              "        vertical-align: top;\n",
              "    }\n",
              "\n",
              "    .dataframe thead th {\n",
              "        text-align: right;\n",
              "    }\n",
              "</style>\n",
              "<table border=\"1\" class=\"dataframe\">\n",
              "  <thead>\n",
              "    <tr style=\"text-align: right;\">\n",
              "      <th></th>\n",
              "      <th>A</th>\n",
              "      <th>X</th>\n",
              "      <th>Y</th>\n",
              "    </tr>\n",
              "  </thead>\n",
              "  <tbody>\n",
              "    <tr>\n",
              "      <th>0</th>\n",
              "      <td>7.4</td>\n",
              "      <td>0.128796</td>\n",
              "      <td>4358.3</td>\n",
              "    </tr>\n",
              "    <tr>\n",
              "      <th>1</th>\n",
              "      <td>7.7</td>\n",
              "      <td>0.133986</td>\n",
              "      <td>4471.0</td>\n",
              "    </tr>\n",
              "    <tr>\n",
              "      <th>2</th>\n",
              "      <td>8.7</td>\n",
              "      <td>0.151261</td>\n",
              "      <td>5015.0</td>\n",
              "    </tr>\n",
              "    <tr>\n",
              "      <th>3</th>\n",
              "      <td>9.3</td>\n",
              "      <td>0.161604</td>\n",
              "      <td>5460.7</td>\n",
              "    </tr>\n",
              "    <tr>\n",
              "      <th>4</th>\n",
              "      <td>10.0</td>\n",
              "      <td>0.173648</td>\n",
              "      <td>5769.6</td>\n",
              "    </tr>\n",
              "    <tr>\n",
              "      <th>5</th>\n",
              "      <td>10.1</td>\n",
              "      <td>0.175367</td>\n",
              "      <td>5790.7</td>\n",
              "    </tr>\n",
              "    <tr>\n",
              "      <th>6</th>\n",
              "      <td>10.3</td>\n",
              "      <td>0.178802</td>\n",
              "      <td>5876.0</td>\n",
              "    </tr>\n",
              "    <tr>\n",
              "      <th>7</th>\n",
              "      <td>11.7</td>\n",
              "      <td>0.202787</td>\n",
              "      <td>6678.0</td>\n",
              "    </tr>\n",
              "    <tr>\n",
              "      <th>8</th>\n",
              "      <td>12.3</td>\n",
              "      <td>0.213030</td>\n",
              "      <td>7065.0</td>\n",
              "    </tr>\n",
              "  </tbody>\n",
              "</table>\n",
              "</div>\n",
              "      <button class=\"colab-df-convert\" onclick=\"convertToInteractive('df-847eb679-c466-4d87-adcf-d63431e4a841')\"\n",
              "              title=\"Convert this dataframe to an interactive table.\"\n",
              "              style=\"display:none;\">\n",
              "        \n",
              "  <svg xmlns=\"http://www.w3.org/2000/svg\" height=\"24px\"viewBox=\"0 0 24 24\"\n",
              "       width=\"24px\">\n",
              "    <path d=\"M0 0h24v24H0V0z\" fill=\"none\"/>\n",
              "    <path d=\"M18.56 5.44l.94 2.06.94-2.06 2.06-.94-2.06-.94-.94-2.06-.94 2.06-2.06.94zm-11 1L8.5 8.5l.94-2.06 2.06-.94-2.06-.94L8.5 2.5l-.94 2.06-2.06.94zm10 10l.94 2.06.94-2.06 2.06-.94-2.06-.94-.94-2.06-.94 2.06-2.06.94z\"/><path d=\"M17.41 7.96l-1.37-1.37c-.4-.4-.92-.59-1.43-.59-.52 0-1.04.2-1.43.59L10.3 9.45l-7.72 7.72c-.78.78-.78 2.05 0 2.83L4 21.41c.39.39.9.59 1.41.59.51 0 1.02-.2 1.41-.59l7.78-7.78 2.81-2.81c.8-.78.8-2.07 0-2.86zM5.41 20L4 18.59l7.72-7.72 1.47 1.35L5.41 20z\"/>\n",
              "  </svg>\n",
              "      </button>\n",
              "      \n",
              "  <style>\n",
              "    .colab-df-container {\n",
              "      display:flex;\n",
              "      flex-wrap:wrap;\n",
              "      gap: 12px;\n",
              "    }\n",
              "\n",
              "    .colab-df-convert {\n",
              "      background-color: #E8F0FE;\n",
              "      border: none;\n",
              "      border-radius: 50%;\n",
              "      cursor: pointer;\n",
              "      display: none;\n",
              "      fill: #1967D2;\n",
              "      height: 32px;\n",
              "      padding: 0 0 0 0;\n",
              "      width: 32px;\n",
              "    }\n",
              "\n",
              "    .colab-df-convert:hover {\n",
              "      background-color: #E2EBFA;\n",
              "      box-shadow: 0px 1px 2px rgba(60, 64, 67, 0.3), 0px 1px 3px 1px rgba(60, 64, 67, 0.15);\n",
              "      fill: #174EA6;\n",
              "    }\n",
              "\n",
              "    [theme=dark] .colab-df-convert {\n",
              "      background-color: #3B4455;\n",
              "      fill: #D2E3FC;\n",
              "    }\n",
              "\n",
              "    [theme=dark] .colab-df-convert:hover {\n",
              "      background-color: #434B5C;\n",
              "      box-shadow: 0px 1px 3px 1px rgba(0, 0, 0, 0.15);\n",
              "      filter: drop-shadow(0px 1px 2px rgba(0, 0, 0, 0.3));\n",
              "      fill: #FFFFFF;\n",
              "    }\n",
              "  </style>\n",
              "\n",
              "      <script>\n",
              "        const buttonEl =\n",
              "          document.querySelector('#df-847eb679-c466-4d87-adcf-d63431e4a841 button.colab-df-convert');\n",
              "        buttonEl.style.display =\n",
              "          google.colab.kernel.accessAllowed ? 'block' : 'none';\n",
              "\n",
              "        async function convertToInteractive(key) {\n",
              "          const element = document.querySelector('#df-847eb679-c466-4d87-adcf-d63431e4a841');\n",
              "          const dataTable =\n",
              "            await google.colab.kernel.invokeFunction('convertToInteractive',\n",
              "                                                     [key], {});\n",
              "          if (!dataTable) return;\n",
              "\n",
              "          const docLinkHtml = 'Like what you see? Visit the ' +\n",
              "            '<a target=\"_blank\" href=https://colab.research.google.com/notebooks/data_table.ipynb>data table notebook</a>'\n",
              "            + ' to learn more about interactive tables.';\n",
              "          element.innerHTML = '';\n",
              "          dataTable['output_type'] = 'display_data';\n",
              "          await google.colab.output.renderOutput(dataTable, element);\n",
              "          const docLink = document.createElement('div');\n",
              "          docLink.innerHTML = docLinkHtml;\n",
              "          element.appendChild(docLink);\n",
              "        }\n",
              "      </script>\n",
              "    </div>\n",
              "  </div>\n",
              "  "
            ]
          },
          "metadata": {},
          "execution_count": 98
        }
      ]
    },
    {
      "cell_type": "code",
      "source": [
        "dataset.dtypes"
      ],
      "metadata": {
        "colab": {
          "base_uri": "https://localhost:8080/"
        },
        "id": "WHjEqhJF9Zov",
        "outputId": "61f31c9d-ec9f-4c1d-e512-0ebfe421cfd5"
      },
      "execution_count": 99,
      "outputs": [
        {
          "output_type": "execute_result",
          "data": {
            "text/plain": [
              "A    float64\n",
              "X    float64\n",
              "Y    float64\n",
              "dtype: object"
            ]
          },
          "metadata": {},
          "execution_count": 99
        }
      ]
    },
    {
      "cell_type": "code",
      "source": [
        "dataset['X'] = pd.to_numeric(dataset['X'], errors='coerce')\n",
        "dataset['Y'] = pd.to_numeric(dataset['Y'], errors='coerce')\n",
        "\n",
        "dataset.dtypes"
      ],
      "metadata": {
        "colab": {
          "base_uri": "https://localhost:8080/"
        },
        "id": "Smj0UlMz9hDB",
        "outputId": "6b8ff4f4-0b5c-407a-9848-7b6953ed0fc3"
      },
      "execution_count": 100,
      "outputs": [
        {
          "output_type": "execute_result",
          "data": {
            "text/plain": [
              "A    float64\n",
              "X    float64\n",
              "Y    float64\n",
              "dtype: object"
            ]
          },
          "metadata": {},
          "execution_count": 100
        }
      ]
    },
    {
      "cell_type": "code",
      "execution_count": 101,
      "metadata": {
        "id": "0VKBUXalEudv",
        "colab": {
          "base_uri": "https://localhost:8080/"
        },
        "outputId": "c3f9d52d-6539-4bed-9376-ad861335d3fa"
      },
      "outputs": [
        {
          "output_type": "execute_result",
          "data": {
            "text/plain": [
              "0    0.128796\n",
              "1    0.133986\n",
              "2    0.151261\n",
              "3    0.161604\n",
              "4    0.173648\n",
              "5    0.175367\n",
              "6    0.178802\n",
              "7    0.202787\n",
              "8    0.213030\n",
              "Name: X, dtype: float64"
            ]
          },
          "metadata": {},
          "execution_count": 101
        }
      ],
      "source": [
        "\n",
        "#xdata=dataset['X'] # sen(theta)\n",
        "#ydata=dataset['Y'] # Comprimento de onda (Angtrom)\n",
        "x = dataset[ \"X\" ] # sen(theta)\n",
        "x"
      ]
    },
    {
      "cell_type": "code",
      "source": [
        "y = dataset[ \"Y\" ] #Comprimento de onda em Angstrom\n",
        "y"
      ],
      "metadata": {
        "colab": {
          "base_uri": "https://localhost:8080/"
        },
        "id": "7qjy6xJC5yDP",
        "outputId": "05431600-f4bf-4e33-b440-46d02f45cb36"
      },
      "execution_count": 102,
      "outputs": [
        {
          "output_type": "execute_result",
          "data": {
            "text/plain": [
              "0    4358.3\n",
              "1    4471.0\n",
              "2    5015.0\n",
              "3    5460.7\n",
              "4    5769.6\n",
              "5    5790.7\n",
              "6    5876.0\n",
              "7    6678.0\n",
              "8    7065.0\n",
              "Name: Y, dtype: float64"
            ]
          },
          "metadata": {},
          "execution_count": 102
        }
      ]
    },
    {
      "cell_type": "code",
      "source": [
        "from scipy.optimize import curve_fit\n",
        "\n",
        "def pol1(x, p0, p1):\n",
        "   return p0 + p1*x\n",
        "\n",
        "     \n"
      ],
      "metadata": {
        "id": "mrl7d-I067rf"
      },
      "execution_count": 103,
      "outputs": []
    },
    {
      "cell_type": "code",
      "source": [
        "popt_lin, pcov_lin = curve_fit( pol1, x, y, p0=(0.,0.) )\n",
        "print ( popt_lin, pcov_lin )"
      ],
      "metadata": {
        "colab": {
          "base_uri": "https://localhost:8080/"
        },
        "id": "P9x6o7ZB8cFq",
        "outputId": "851737a9-ce2e-4bac-b692-e3e8abc05104"
      },
      "execution_count": 104,
      "outputs": [
        {
          "output_type": "stream",
          "name": "stdout",
          "text": [
            "[  204.4770619  32017.77635221] [[  9629.50379944 -55644.38033701]\n",
            " [-55644.38033701 329629.18638844]]\n"
          ]
        }
      ]
    },
    {
      "cell_type": "code",
      "source": [
        "print ( \"Coeficiente m' (m): {}\".format( popt_lin[ 1 ] ) )\n",
        "print ( \"Incerteza padrão coeficiente m (m): {}\".format( np.sqrt( pcov_lin[ 1, 1 ] ) ) )\n",
        "print ( \"a = {:.2f} ± {:.2f} (m)\".format( np.round( popt_lin[ 1 ], 2 ), np.round( np.sqrt( pcov_lin[ 1, 1 ] ), 2 ) ) )"
      ],
      "metadata": {
        "colab": {
          "base_uri": "https://localhost:8080/"
        },
        "id": "LSmF4d2GnLOc",
        "outputId": "449cc1c5-6d2a-45d2-a011-cb31b22fede2"
      },
      "execution_count": 122,
      "outputs": [
        {
          "output_type": "stream",
          "name": "stdout",
          "text": [
            "Coeficiente m' (m): 32017.776352206758\n",
            "Incerteza padrão coeficiente m (m): 574.1334221140937\n",
            "a = 32017.78 ± 574.13 (m)\n"
          ]
        }
      ]
    },
    {
      "cell_type": "code",
      "source": [
        "print ( \"Coeficiente b (m): {}\".format( popt_lin[ 0 ] ) )\n",
        "print ( \"Incerteza padrão coeficiente b (m): {}\".format( np.sqrt( pcov_lin[ 0, 0 ] ) ) )\n",
        "print ( \"{} ± {} (m)\".format( np.round( popt_lin[ 0 ], 2 ), np.round( np.sqrt( pcov_lin[ 0, 0 ] ), 2 ) ) )"
      ],
      "metadata": {
        "colab": {
          "base_uri": "https://localhost:8080/"
        },
        "id": "TAi_qWBSnbfA",
        "outputId": "d9ce0da4-41dd-4b48-d0dd-8aeb8b95aea2"
      },
      "execution_count": 123,
      "outputs": [
        {
          "output_type": "stream",
          "name": "stdout",
          "text": [
            "Coeficiente b (m): 204.47706189587214\n",
            "Incerteza padrão coeficiente b (m): 98.13003515456883\n",
            "204.48 ± 98.13 (m)\n"
          ]
        }
      ]
    },
    {
      "cell_type": "code",
      "source": [
        "fig = plt.figure( figsize=(12,10) )\n",
        "\n",
        "plt.plot( x, y, 'ko' )\n",
        "plt.plot( x, ( popt_lin[ 0 ]  + popt_lin[ 1 ] * x ), '-g' )\n",
        "plt.xlabel( r\"$sin\\theta$\", fontsize=18)\n",
        "plt.ylabel( r\"$\\lambda(\\AA)$\", fontsize=18 )\n",
        "plt.title('Reta de Calibração - Espectroscopio 1', fontsize=18)\n",
        "\n",
        "plt.text( 0.4, 0.9,\n",
        "          r\"$m' = {} \\pm {}(\\rm{{m}})$\".format( np.round( popt_lin[ 1 ], 2 ), np.round( np.sqrt( pcov_lin[ 1, 1 ] ), 2 ) ),\n",
        "          fontsize=16, transform=plt.gca().transAxes )\n",
        "plt.text( 0.4, 0.85,\n",
        "          r\"$b = {} \\pm {}\\,\\left(\\rm{{m}}\\right)$\".format( np.round( popt_lin[ 0 ], 2 ), np.round( np.sqrt( pcov_lin[ 0, 0 ] ), 2 ) ),\n",
        "          fontsize=16, transform=plt.gca().transAxes )"
      ],
      "metadata": {
        "colab": {
          "base_uri": "https://localhost:8080/",
          "height": 904
        },
        "id": "KA1obezPABeR",
        "outputId": "c251df26-b41d-438a-fb95-f835d104185f"
      },
      "execution_count": 128,
      "outputs": [
        {
          "output_type": "execute_result",
          "data": {
            "text/plain": [
              "Text(0.4, 0.85, '$b = 204.48 \\\\pm 98.13\\\\,\\\\left(\\\\rm{m}\\\\right)$')"
            ]
          },
          "metadata": {},
          "execution_count": 128
        },
        {
          "output_type": "display_data",
          "data": {
            "text/plain": [
              "<Figure size 1200x1000 with 1 Axes>"
            ],
            "image/png": "[encoded data removed]"
          },
          "metadata": {}
        }
      ]
    },
    {
      "cell_type": "code",
      "source": [
        "d=1e-3/300 #m\n",
        "d"
      ],
      "metadata": {
        "colab": {
          "base_uri": "https://localhost:8080/"
        },
        "id": "5AWY0FLVCNNY",
        "outputId": "d0aca5b4-de72-4daa-b8e2-f9894cfe0fe0"
      },
      "execution_count": 129,
      "outputs": [
        {
          "output_type": "execute_result",
          "data": {
            "text/plain": [
              "3.3333333333333333e-06"
            ]
          },
          "metadata": {},
          "execution_count": 129
        }
      ]
    },
    {
      "cell_type": "code",
      "source": [
        "coefa=popt_lin[ 1 ] #Angstrom\n",
        "coefa*1e-10"
      ],
      "metadata": {
        "colab": {
          "base_uri": "https://localhost:8080/"
        },
        "id": "5MjFjnd-Ccqf",
        "outputId": "251bd856-62db-47e5-98c5-b2ab76e4ea1b"
      },
      "execution_count": 133,
      "outputs": [
        {
          "output_type": "execute_result",
          "data": {
            "text/plain": [
              "3.201777635220676e-06"
            ]
          },
          "metadata": {},
          "execution_count": 133
        }
      ]
    },
    {
      "cell_type": "code",
      "source": [
        "D= np.abs(d-(coefa*1e-10))/(np.sqrt( pcov_lin[ 1, 1 ]*1e-10))\n",
        "D"
      ],
      "metadata": {
        "colab": {
          "base_uri": "https://localhost:8080/"
        },
        "id": "a-ICSgmaDAIY",
        "outputId": "62d5ddf0-85bb-4675-f372-c9a4c922e551"
      },
      "execution_count": 140,
      "outputs": [
        {
          "output_type": "execute_result",
          "data": {
            "text/plain": [
              "2.291378502722213e-05"
            ]
          },
          "metadata": {},
          "execution_count": 140
        }
      ]
    },
    {
      "cell_type": "markdown",
      "metadata": {
        "id": "YbykXM3RAmuC"
      },
      "source": [
        "Lâmpada de Hidrogênio - espectro visível\n",
        "\n",
        "Determinar a constante de Rydberg\n",
        "\n",
        "d=1e-3/300 m\n",
        "\n",
        "m=1\n",
        "\n",
        "lambda=d/m *sen(theta)"
      ]
    },
    {
      "cell_type": "code",
      "execution_count": 109,
      "metadata": {
        "id": "DEyPsHTtAxOt",
        "colab": {
          "base_uri": "https://localhost:8080/"
        },
        "outputId": "4efaeb78-c9be-43bc-d1be-908d9a4213e5"
      },
      "outputs": [
        {
          "output_type": "execute_result",
          "data": {
            "text/plain": [
              "0.001097"
            ]
          },
          "metadata": {},
          "execution_count": 109
        }
      ],
      "source": [
        "R_H=1.097e-3 #A\n",
        "R_H"
      ]
    },
    {
      "cell_type": "code",
      "execution_count": 110,
      "metadata": {
        "id": "PrsmyxgwBbzi",
        "colab": {
          "base_uri": "https://localhost:8080/"
        },
        "outputId": "cbe83b71-b810-42cc-f318-4ce4424aef58"
      },
      "outputs": [
        {
          "output_type": "execute_result",
          "data": {
            "text/plain": [
              "3.3333333333333333e-06"
            ]
          },
          "metadata": {},
          "execution_count": 110
        }
      ],
      "source": [
        "d=1e-3/300 #m\n",
        "d"
      ]
    },
    {
      "cell_type": "code",
      "execution_count": 111,
      "metadata": {
        "id": "23ATWQyjBDU-",
        "colab": {
          "base_uri": "https://localhost:8080/"
        },
        "outputId": "cf85646f-1ad1-4d7a-9199-febf9ea7261e"
      },
      "outputs": [
        {
          "output_type": "stream",
          "name": "stdout",
          "text": [
            "θ_1 = 7.4 °\n",
            "θ_2 = 8.5 °\n",
            "θ_3 = 11.3 °\n"
          ]
        }
      ],
      "source": [
        "thetag_1=7.4 #violeta 2\n",
        "thetag_2=8.5 #azul-esverdeada\n",
        "thetag_3=11.3 #vermelha\n",
        "print(\"\\u03B8_1 =\", thetag_1,\"\\u00B0\")\n",
        "print(\"\\u03B8_2 =\", thetag_2,\"\\u00B0\")\n",
        "print(\"\\u03B8_3 =\", thetag_3,\"\\u00B0\")"
      ]
    },
    {
      "cell_type": "code",
      "execution_count": 112,
      "metadata": {
        "id": "nTQg943_jC00",
        "colab": {
          "base_uri": "https://localhost:8080/"
        },
        "outputId": "cc310b6f-09b6-4de0-fe27-a8a0d2864e81"
      },
      "outputs": [
        {
          "output_type": "stream",
          "name": "stdout",
          "text": [
            "θ_1 = 0.1291543646475804 rad\n",
            "θ_2 = 0.14835298641951802 rad\n",
            "θ_3 = 0.19722220547535926 rad\n"
          ]
        }
      ],
      "source": [
        "thetar_1= np.deg2rad(thetag_1)#violeta 2\n",
        "thetar_2= np.deg2rad(thetag_2) #azul-esverdeada\n",
        "thetar_3= np.deg2rad(thetag_3) #vermelha\n",
        "print(\"\\u03B8_1 =\", thetar_1,\"rad\")\n",
        "print(\"\\u03B8_2 =\", thetar_2,\"rad\")\n",
        "print(\"\\u03B8_3 =\", thetar_3,\"rad\")"
      ]
    },
    {
      "cell_type": "code",
      "execution_count": 113,
      "metadata": {
        "id": "fp9B9TLuDg_H",
        "colab": {
          "base_uri": "https://localhost:8080/"
        },
        "outputId": "05df642b-f1cd-4ec6-ff68-985372f3d531"
      },
      "outputs": [
        {
          "output_type": "stream",
          "name": "stdout",
          "text": [
            "senθ_1 = 0.1287955965775628 rad\n",
            "senθ_2 = 0.14780941112961063 rad\n",
            "senθ_3 = 0.19594614424251772 rad\n",
            "θ_1 = 7.379444103763937 °\n",
            "θ_2 = 8.468855430040707 °\n",
            "θ_3 = 11.22688707695792 °\n"
          ]
        }
      ],
      "source": [
        "or1=((np.sin(thetar_1)) )\n",
        "or2=((np.sin(thetar_2)) )\n",
        "or3=((np.sin(thetar_3)) )\n",
        "print(\"sen\\u03B8_1 =\",or1 ,\"rad\")\n",
        "print(\"sen\\u03B8_2 =\",or2 ,\"rad\")\n",
        "print(\"sen\\u03B8_3 =\",or3 ,\"rad\")\n",
        "o1=np.rad2deg(or1)\n",
        "o2=np.rad2deg(or2)\n",
        "o3=np.rad2deg(or3)\n",
        "print(\"\\u03B8_1 =\", o1,\"\\u00B0\")\n",
        "print(\"\\u03B8_2 =\", o2,\"\\u00B0\")\n",
        "print(\"\\u03B8_3 =\", o3,\"\\u00B0\")\n",
        "\n",
        "\n"
      ]
    },
    {
      "cell_type": "code",
      "execution_count": 114,
      "metadata": {
        "id": "mNTX_VfzmFlJ",
        "colab": {
          "base_uri": "https://localhost:8080/"
        },
        "outputId": "ab68a811-57f0-4266-9b5b-de12ef234958"
      },
      "outputs": [
        {
          "output_type": "execute_result",
          "data": {
            "text/plain": [
              "4.2931865525854265e-07"
            ]
          },
          "metadata": {},
          "execution_count": 114
        }
      ],
      "source": [
        "l_1=(d * or1)\n",
        "l_1"
      ]
    },
    {
      "cell_type": "code",
      "execution_count": 115,
      "metadata": {
        "id": "zJOMEf0BIlXv",
        "colab": {
          "base_uri": "https://localhost:8080/"
        },
        "outputId": "98768a14-4e87-483d-b364-363cea34457b"
      },
      "outputs": [
        {
          "output_type": "execute_result",
          "data": {
            "text/plain": [
              "4.926980370987021e-07"
            ]
          },
          "metadata": {},
          "execution_count": 115
        }
      ],
      "source": [
        "l_2=(d * or2)\n",
        "l_2"
      ]
    },
    {
      "cell_type": "code",
      "execution_count": 116,
      "metadata": {
        "id": "-78wHzfWImKQ",
        "colab": {
          "base_uri": "https://localhost:8080/"
        },
        "outputId": "75bb2ff1-9db3-473c-b980-1ffd2cc91bce"
      },
      "outputs": [
        {
          "output_type": "execute_result",
          "data": {
            "text/plain": [
              "6.531538141417257e-07"
            ]
          },
          "metadata": {},
          "execution_count": 116
        }
      ],
      "source": [
        "l_3=(d * or3)\n",
        "l_3"
      ]
    },
    {
      "cell_type": "code",
      "execution_count": 117,
      "metadata": {
        "id": "pX03SL2EIwdL",
        "colab": {
          "base_uri": "https://localhost:8080/"
        },
        "outputId": "a9bfcb32-466a-4373-fdab-ccda95ce8b28"
      },
      "outputs": [
        {
          "output_type": "stream",
          "name": "stdout",
          "text": [
            "2329272.179886485 ; 2029640.7225175735 ; 1531032.9333589613 ;\n"
          ]
        }
      ],
      "source": [
        "y1=1/l_1\n",
        "y2=1/l_2\n",
        "y3=1/l_3\n",
        "print(y1,\";\",y2,\";\",y3,\";\")"
      ]
    },
    {
      "cell_type": "code",
      "execution_count": 118,
      "metadata": {
        "id": "1vXoVYw4JIFQ",
        "colab": {
          "base_uri": "https://localhost:8080/"
        },
        "outputId": "7de05c40-26e2-471f-b683-968a3548aae6"
      },
      "outputs": [
        {
          "output_type": "stream",
          "name": "stdout",
          "text": [
            "0.21 ; 0.1875 ; 0.1388888888888889 ;\n"
          ]
        }
      ],
      "source": [
        "x1=(1/4)-(1/25)\n",
        "x2=(1/4)-(1/16)\n",
        "x3=(1/4)-(1/9)\n",
        "print(x1,\";\",x2,\";\",x3,\";\")"
      ]
    },
    {
      "cell_type": "code",
      "execution_count": 119,
      "metadata": {
        "id": "mrF8qycKJ0EG"
      },
      "outputs": [],
      "source": [
        "x_h=np.array([x1,x2,x3]) # sen(theta)\n",
        "y_h=np.array([y1,y2,y3] )# Comprimento de onda (Angtrom)"
      ]
    },
    {
      "cell_type": "code",
      "execution_count": 120,
      "metadata": {
        "id": "I9P0G-kOKE0S",
        "colab": {
          "base_uri": "https://localhost:8080/"
        },
        "outputId": "97d0e27a-d570-42be-9b2d-e8625c60693f"
      },
      "outputs": [
        {
          "output_type": "stream",
          "name": "stdout",
          "text": [
            "coef. angular (a_h):  1.11 1e7/m\n",
            "coeficiente linear (b_h):  -15994.86\n",
            "Equação da reta: y_h= 11070196.55 *x_h + -15994.86\n"
          ]
        }
      ],
      "source": [
        "xhbar = np.mean(x_h) # cálculo da média de x_h\n",
        "yhbar = np.mean(y_h)  # cálculo da média de y_h\n",
        "\n",
        "\n",
        "a_h = np.sum(x_h*(y_h-yhbar))/np.sum(x_h*(x_h-xhbar)) #coef. angular estimado\n",
        "b_h = yhbar - a_h*xhbar #coeficiente linear estimado\n",
        "\n",
        "\n",
        "yhest = a_h*x_h + b_h # função estimada\n",
        "\n",
        "Rh_squared = np.sum((yhest-yhbar)**2)/np.sum((y_h-yhbar)**2) #coef. de determinação\n",
        "print(\"coef. angular (a_h): \", np.round(a_h*1e-7,2),\"1e7/m\")\n",
        "print(\"coeficiente linear (b_h): \", np.round(b_h,2))\n",
        "print(\"Equação da reta: y_h=\",np.round(a_h,2),\"*x_h +\", np.round(b_h,2))"
      ]
    },
    {
      "cell_type": "code",
      "execution_count": 121,
      "metadata": {
        "id": "OVBDfFuGMF2A",
        "colab": {
          "base_uri": "https://localhost:8080/",
          "height": 926
        },
        "outputId": "e2cba41b-c7a6-40de-b430-a16a9981c793"
      },
      "outputs": [
        {
          "output_type": "stream",
          "name": "stdout",
          "text": [
            "Equação da reta: y_h= 11070196.55 *x_h + -15994.86\n"
          ]
        },
        {
          "output_type": "display_data",
          "data": {
            "text/plain": [
              "<Figure size 1200x1000 with 1 Axes>"
            ],
            "image/png": "[encoded data removed]"
          },
          "metadata": {}
        }
      ],
      "source": [
        "print(\"Equação da reta: y_h=\",np.round(a_h,2),\"*x_h +\", np.round(b_h,2))\n",
        "plt.figure(figsize=(12,10))\n",
        "plt.plot(x_h, yhest, 'r', label = \"fitted curve\")\n",
        "plt.scatter(x_h, y_h, label = \"data\")\n",
        "plt.xlabel(r'$(\\frac{1}{4}-\\frac{1}{n_{i}^{2}})$',fontsize=18 )\n",
        "plt.ylabel(r'$\\frac{1}{\\lambda}(m)$',fontsize=18  )\n",
        "plt.title('Reta - Espectrocopio 1',fontsize=18 )\n",
        "plt.show()"
      ]
    }
  ],
  "metadata": {
    "colab": {
      "provenance": [],
      "authorship_tag": "ABX9TyNhh/vXAAWcZ2/y4NbO1pRN",
      "include_colab_link": true
    },
    "kernelspec": {
      "display_name": "Python 3",
      "name": "python3"
    },
    "language_info": {
      "name": "python"
    }
  },
  "nbformat": 4,
  "nbformat_minor": 0
}