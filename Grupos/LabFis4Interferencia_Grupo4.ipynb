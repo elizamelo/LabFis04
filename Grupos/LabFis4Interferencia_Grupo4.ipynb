{
  "nbformat": 4,
  "nbformat_minor": 0,
  "metadata": {
    "colab": {
      "provenance": [],
      "authorship_tag": "ABX9TyMV5pofjfQX2lZSDgSNmCtJ",
      "include_colab_link": true
    },
    "kernelspec": {
      "name": "python3",
      "display_name": "Python 3"
    },
    "language_info": {
      "name": "python"
    }
  },
  "cells": [
    {
      "cell_type": "markdown",
      "metadata": {
        "id": "view-in-github",
        "colab_type": "text"
      },
      "source": [
        "<a href=\"https://colab.research.google.com/github/elizamelo/LabFis04/blob/main/Grupos/LabFis4Interferencia_Grupo4.ipynb\" target=\"_parent\"><img src=\"https://colab.research.google.com/assets/colab-badge.svg\" alt=\"Open In Colab\"/></a>"
      ]
    },
    {
      "cell_type": "code",
      "execution_count": 1,
      "metadata": {
        "id": "ofnSdf-wsbe9"
      },
      "outputs": [],
      "source": [
        "import numpy as np\n",
        "import pandas as pd\n",
        "import matplotlib as mpl\n",
        "import matplotlib.pyplot as plt"
      ]
    },
    {
      "cell_type": "markdown",
      "source": [],
      "metadata": {
        "id": "rywg4FTGyAVD"
      }
    },
    {
      "cell_type": "markdown",
      "source": [
        "Laboratório de Física IV \n",
        "Prática 05 : Interferência\n",
        "\n",
        "\n",
        "Dados do Exemplo: D=2223 (mm); n_i=4; Y_A= 22,Y_B= 12.5,Y_C= 16,Y_D= 12 (mm);lambda_L_R = 632.8 (nm)\n",
        "\n",
        "Grupo 01: D=1850(mm);n_A=6,n_B=9,n_c=5,n_D=8;Y_A= 27,Y_B= 20,Y_C=28.5,Y_D=18 (mm);\n",
        "\n",
        "Grupo 02: D=2300(mm);n_i=3;Y_A= 170,Y_B= 80,Y_C=170,Y_D=80 (mm);\n",
        "\n",
        "Grupo 03: D=1905(mm);n_i=5;Y_A= 24,Y_B= 12,5,Y_C=23,Y_D=11,5 (mm);\n",
        "\n",
        "Grupo 04: D=1860(mm);n_A=3,n_B=6,n_c=3,n_D=3;Y_A= 8,Y_B= 8,Y_C=12,Y_D=6 (mm); \n"
      ],
      "metadata": {
        "id": "aOVlph-RscLj"
      }
    },
    {
      "cell_type": "code",
      "source": [
        "#Dinstância entre as fendas e a folha de observação D(mm):\n",
        "\n",
        "D = 1860.0"
      ],
      "metadata": {
        "id": "86GjTtusPE0C"
      },
      "execution_count": 2,
      "outputs": []
    },
    {
      "cell_type": "code",
      "source": [
        "#Dinstância entre as fendas \"d\"(mm):\n",
        "d_A = 0.250\n",
        "d_B = 0.500\n",
        "d_C = 0.250\n",
        "d_D = 0.500\n"
      ],
      "metadata": {
        "id": "W37Zu2AKyC_X"
      },
      "execution_count": 3,
      "outputs": []
    },
    {
      "cell_type": "code",
      "source": [
        "#Número de configurões da Lâmina \"N\":\n",
        "#N = 4\n",
        "#Número de intervalos de Máximos :\n",
        "n_A = 3\n",
        "n_B = 6\n",
        "n_C = 3\n",
        "n_D = 3\n",
        "print(\"n_A:\", n_A,\";\"\"n_B:\", n_B,\";\"\"n_C:\", n_C,\";\"\"n_D:\", n_D,\".\")"
      ],
      "metadata": {
        "colab": {
          "base_uri": "https://localhost:8080/"
        },
        "id": "tsRDNQiDsl5B",
        "outputId": "12c7e177-924f-4a52-e2b1-d878256c7c7e"
      },
      "execution_count": 4,
      "outputs": [
        {
          "output_type": "stream",
          "name": "stdout",
          "text": [
            "n_A: 3 ;n_B: 6 ;n_C: 3 ;n_D: 3 .\n"
          ]
        }
      ]
    },
    {
      "cell_type": "code",
      "source": [
        "#Distâncias entre máximos medidos com a régua para cada Configuração (mm):\n",
        "Y_A= 8.0\n",
        "Y_B= 8.0\n",
        "Y_C= 12.0\n",
        "Y_D= 6.0\n",
        "print(\"Y_A:\", Y_A,\";\"\"Y_B:\", Y_B,\";\"\"Y_C:\", Y_C,\";\"\"Y_D:\", Y_D,\".\")"
      ],
      "metadata": {
        "colab": {
          "base_uri": "https://localhost:8080/"
        },
        "id": "Hzo7KZ1_tPic",
        "outputId": "c7addecf-f17d-4b84-8a9b-77d14f06f20f"
      },
      "execution_count": 5,
      "outputs": [
        {
          "output_type": "stream",
          "name": "stdout",
          "text": [
            "Y_A: 8.0 ;Y_B: 8.0 ;Y_C: 12.0 ;Y_D: 6.0 .\n"
          ]
        }
      ]
    },
    {
      "cell_type": "code",
      "source": [
        "#Deta_Y para cada Configuração (mm):\n",
        "Dy_A= Y_A/n_A\n",
        "Dy_B= Y_B/n_B\n",
        "Dy_C= Y_C/n_C\n",
        "Dy_D= Y_D/n_D\n",
        "print(\"Dy_A:\", Dy_A,\";\"\"Dy_B:\", Dy_B,\";\"\"Dy_C:\", Dy_C,\";\"\"Dy_D:\", Dy_D,\".\")"
      ],
      "metadata": {
        "colab": {
          "base_uri": "https://localhost:8080/"
        },
        "id": "cftwSlMmt193",
        "outputId": "8de23744-3ca1-4b5e-acd4-7f95d108a52f"
      },
      "execution_count": 6,
      "outputs": [
        {
          "output_type": "stream",
          "name": "stdout",
          "text": [
            "Dy_A: 2.6666666666666665 ;Dy_B: 1.3333333333333333 ;Dy_C: 4.0 ;Dy_D: 2.0 .\n"
          ]
        }
      ]
    },
    {
      "cell_type": "code",
      "source": [
        "#Lambda para cada configuração (nm)\n",
        "\n",
        "l_A= (d_A*Dy_A/D) \n",
        "l_B= (d_B*Dy_B/D) \n",
        "l_C= (d_C*Dy_C/D) \n",
        "l_D= (d_D*Dy_D/D) \n",
        "print(\"l_A:\", l_A,\";\"\"l_B:\", l_B,\";\"\"l_C:\", l_C,\";\"\"l_D:\", l_D,\".\")"
      ],
      "metadata": {
        "colab": {
          "base_uri": "https://localhost:8080/"
        },
        "id": "2OKq2GrcuxWZ",
        "outputId": "ee018f05-b6cb-4e9d-ba2d-20ba5e224bd2"
      },
      "execution_count": 7,
      "outputs": [
        {
          "output_type": "stream",
          "name": "stdout",
          "text": [
            "l_A: 0.00035842293906810036 ;l_B: 0.00035842293906810036 ;l_C: 0.0005376344086021505 ;l_D: 0.0005376344086021505 .\n"
          ]
        }
      ]
    },
    {
      "cell_type": "code",
      "source": [
        "#Passar para nm\n",
        "print(\"l_A:\", l_A*1e6,\"(nm);\"\"l_B:\", l_B*1e6,\"(nm);\"\"l_C:\", l_C*1e6,\"(nm);\"\"l_D:\", l_D*1e6,\"(nm).\")"
      ],
      "metadata": {
        "colab": {
          "base_uri": "https://localhost:8080/"
        },
        "id": "uFiFCZ3PwoDi",
        "outputId": "131599ae-8869-4ffd-8561-661a6dc7191c"
      },
      "execution_count": 8,
      "outputs": [
        {
          "output_type": "stream",
          "name": "stdout",
          "text": [
            "l_A: 358.42293906810033 (nm);l_B: 358.42293906810033 (nm);l_C: 537.6344086021505 (nm);l_D: 537.6344086021505 (nm).\n"
          ]
        }
      ]
    },
    {
      "cell_type": "code",
      "source": [
        "array_L = np.array( [ l_A*1e6, l_B*1e6 , l_C*1e6 , l_D*1e6])\n",
        "\n",
        "\n",
        "array_L"
      ],
      "metadata": {
        "colab": {
          "base_uri": "https://localhost:8080/"
        },
        "id": "qy1gADjYxZc0",
        "outputId": "44e41b26-4752-4377-b8ea-c489d10b11c9"
      },
      "execution_count": 9,
      "outputs": [
        {
          "output_type": "execute_result",
          "data": {
            "text/plain": [
              "array([358.42293907, 358.42293907, 537.6344086 , 537.6344086 ])"
            ]
          },
          "metadata": {},
          "execution_count": 9
        }
      ]
    },
    {
      "cell_type": "code",
      "source": [
        "media_L = np.mean( array_L )\n",
        "print ( \"Média (mm) = {}\".format( media_L ) )\n",
        "var_L_p = np.mean( array_L ** 2 ) - np.mean( array_L ) ** 2\n",
        "print ( \"Variância populacional (mm²) = {}\".format( var_L_p ) ) "
      ],
      "metadata": {
        "colab": {
          "base_uri": "https://localhost:8080/"
        },
        "id": "IJP08hohyaJK",
        "outputId": "17ff30e5-5de6-4ee4-99e0-64a41ed88cff"
      },
      "execution_count": 10,
      "outputs": [
        {
          "output_type": "stream",
          "name": "stdout",
          "text": [
            "Média (mm) = 448.02867383512546\n",
            "Variância populacional (mm²) = 8029.187703138421\n"
          ]
        }
      ]
    },
    {
      "cell_type": "markdown",
      "source": [
        "Desvio padrão populacional:\n"
      ],
      "metadata": {
        "id": "X4rXshcazaRk"
      }
    },
    {
      "cell_type": "code",
      "source": [
        "sigma_L_p = np.sqrt( var_L_p )\n",
        "print ( \"Desvio padrão populacional (nm) = {}\".format( sigma_L_p ) )"
      ],
      "metadata": {
        "colab": {
          "base_uri": "https://localhost:8080/"
        },
        "id": "ibVifyxdzWCQ",
        "outputId": "d2bce0a1-9ccb-4084-b3ca-b511197139ee"
      },
      "execution_count": 11,
      "outputs": [
        {
          "output_type": "stream",
          "name": "stdout",
          "text": [
            "Desvio padrão populacional (nm) = 89.60573476702494\n"
          ]
        }
      ]
    },
    {
      "cell_type": "code",
      "source": [
        "np.std( array_L, ddof=0 )"
      ],
      "metadata": {
        "colab": {
          "base_uri": "https://localhost:8080/"
        },
        "id": "6XufC_7cG2Bq",
        "outputId": "f48b2c5d-e99b-4f1b-df4e-5e2bba5a44e8"
      },
      "execution_count": 12,
      "outputs": [
        {
          "output_type": "execute_result",
          "data": {
            "text/plain": [
              "89.6057347670251"
            ]
          },
          "metadata": {},
          "execution_count": 12
        }
      ]
    },
    {
      "cell_type": "markdown",
      "source": [
        "Desvio padrão amostral:\n"
      ],
      "metadata": {
        "id": "vd6aEiqoyqQJ"
      }
    },
    {
      "cell_type": "code",
      "source": [
        "N = array_L.size # tamanho da sequência L\n",
        "print ( \"N = {}\".format( N ) )\n",
        "\n",
        "sigma_L_a = np.sqrt( N / (N - 1) ) * sigma_L_p\n",
        "\n",
        "print ( \"Desvio padrão amostral (nm) = {}\".format( sigma_L_a ) )"
      ],
      "metadata": {
        "colab": {
          "base_uri": "https://localhost:8080/"
        },
        "id": "eFxwDmMTyj-J",
        "outputId": "7dac5eb9-1943-4ca3-b82f-b2cad04286ed"
      },
      "execution_count": 13,
      "outputs": [
        {
          "output_type": "stream",
          "name": "stdout",
          "text": [
            "N = 4\n",
            "Desvio padrão amostral (nm) = 103.46779017735211\n"
          ]
        }
      ]
    },
    {
      "cell_type": "code",
      "source": [
        "np.std( array_L, ddof=1 )"
      ],
      "metadata": {
        "colab": {
          "base_uri": "https://localhost:8080/"
        },
        "id": "NHFX0eP7zlY0",
        "outputId": "8b6769cf-ac42-46b8-dcc3-466e801451ae"
      },
      "execution_count": 14,
      "outputs": [
        {
          "output_type": "execute_result",
          "data": {
            "text/plain": [
              "103.4677901773523"
            ]
          },
          "metadata": {},
          "execution_count": 14
        }
      ]
    },
    {
      "cell_type": "markdown",
      "source": [
        "Erro da média:"
      ],
      "metadata": {
        "id": "juxBB5vEzyWd"
      }
    },
    {
      "cell_type": "code",
      "source": [
        "erro_media_L = sigma_L_a / np.sqrt( N )\n",
        "print ( \"Erro da média (nm) = {}\".format( erro_media_L ) )"
      ],
      "metadata": {
        "colab": {
          "base_uri": "https://localhost:8080/"
        },
        "id": "a3KQNw_-zzqY",
        "outputId": "e44b1def-17d1-46dd-ba13-b0f2ef299ef9"
      },
      "execution_count": 15,
      "outputs": [
        {
          "output_type": "stream",
          "name": "stdout",
          "text": [
            "Erro da média (nm) = 51.73389508867606\n"
          ]
        }
      ]
    },
    {
      "cell_type": "code",
      "source": [
        "epsilon_media_L = np.sqrt( var_L_p/(N-1) )\n",
        "print ( \"Erro da média (nm) = {}\".format( epsilon_media_L ) )"
      ],
      "metadata": {
        "colab": {
          "base_uri": "https://localhost:8080/"
        },
        "id": "kvTGQ3NNHe5t",
        "outputId": "37f84bb7-a47b-4b47-d24b-a2e8903cf7d7"
      },
      "execution_count": 16,
      "outputs": [
        {
          "output_type": "stream",
          "name": "stdout",
          "text": [
            "Erro da média (nm) = 51.73389508867606\n"
          ]
        }
      ]
    },
    {
      "cell_type": "markdown",
      "source": [
        "Estimativa do comprimento de onda da fonte:\n"
      ],
      "metadata": {
        "id": "JhrJFzJK0AgP"
      }
    },
    {
      "cell_type": "code",
      "source": [
        "print ( \"L = {:.2f} ± {:.2f} (nm)\".format( np.round( media_L, 2), np.round( erro_media_L, 2 ) ) )"
      ],
      "metadata": {
        "colab": {
          "base_uri": "https://localhost:8080/"
        },
        "id": "f7pFXqr2z_xt",
        "outputId": "fd7d2782-0588-4a6b-f54c-1b2ece5f408c"
      },
      "execution_count": 17,
      "outputs": [
        {
          "output_type": "stream",
          "name": "stdout",
          "text": [
            "L = 448.03 ± 51.73 (nm)\n"
          ]
        }
      ]
    },
    {
      "cell_type": "markdown",
      "source": [
        "Discrepância: L_ref=632.8nm"
      ],
      "metadata": {
        "id": "Y9jbHMyp0Rcb"
      }
    },
    {
      "cell_type": "code",
      "source": [
        "l = media_L \n",
        "l\n"
      ],
      "metadata": {
        "colab": {
          "base_uri": "https://localhost:8080/"
        },
        "id": "pGpjki9G0_N-",
        "outputId": "1d20d451-ca34-4b63-9a15-8f05a131ad5e"
      },
      "execution_count": 18,
      "outputs": [
        {
          "output_type": "execute_result",
          "data": {
            "text/plain": [
              "448.02867383512546"
            ]
          },
          "metadata": {},
          "execution_count": 18
        }
      ]
    },
    {
      "cell_type": "code",
      "source": [
        "#Comprimento de onda da fonte laser\n",
        "lambda_L_R = 632.8 # nm\n"
      ],
      "metadata": {
        "id": "8rDISpjSy2x7"
      },
      "execution_count": 19,
      "outputs": []
    },
    {
      "cell_type": "code",
      "source": [
        "dis = abs( media_L-(lambda_L_R))/erro_media_L\n",
        "np.round(dis,2)"
      ],
      "metadata": {
        "colab": {
          "base_uri": "https://localhost:8080/"
        },
        "id": "-XXl2a3D2oEM",
        "outputId": "2159f556-1686-4416-a64c-175ddc8a0f24"
      },
      "execution_count": 20,
      "outputs": [
        {
          "output_type": "execute_result",
          "data": {
            "text/plain": [
              "3.57"
            ]
          },
          "metadata": {},
          "execution_count": 20
        }
      ]
    },
    {
      "cell_type": "code",
      "source": [
        "if dis < 2.0:\n",
        "  print(\"Compatível\")\n",
        "else:\n",
        "  print(\"Incompatível\")  "
      ],
      "metadata": {
        "colab": {
          "base_uri": "https://localhost:8080/"
        },
        "id": "so7o5Pb63H9l",
        "outputId": "a946d1fd-a929-4ce9-88c2-8c84991319c6"
      },
      "execution_count": 21,
      "outputs": [
        {
          "output_type": "stream",
          "name": "stdout",
          "text": [
            "Incompatível\n"
          ]
        }
      ]
    }
  ]
}