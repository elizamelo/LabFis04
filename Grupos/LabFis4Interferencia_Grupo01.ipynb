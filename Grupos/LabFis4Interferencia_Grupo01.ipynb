{
  "nbformat": 4,
  "nbformat_minor": 0,
  "metadata": {
    "colab": {
      "provenance": [],
      "authorship_tag": "ABX9TyP0eZot965a6RwOkxb8+7x0",
      "include_colab_link": true
    },
    "kernelspec": {
      "name": "python3",
      "display_name": "Python 3"
    },
    "language_info": {
      "name": "python"
    }
  },
  "cells": [
    {
      "cell_type": "markdown",
      "metadata": {
        "id": "view-in-github",
        "colab_type": "text"
      },
      "source": [
        "<a href=\"https://colab.research.google.com/github/elizamelo/LabFis04/blob/main/Grupos/LabFis4Interferencia_Grupo01.ipynb\" target=\"_parent\"><img src=\"https://colab.research.google.com/assets/colab-badge.svg\" alt=\"Open In Colab\"/></a>"
      ]
    },
    {
      "cell_type": "code",
      "execution_count": 1,
      "metadata": {
        "id": "ofnSdf-wsbe9"
      },
      "outputs": [],
      "source": [
        "import numpy as np\n",
        "import pandas as pd\n",
        "import matplotlib as mpl\n",
        "import matplotlib.pyplot as plt"
      ]
    },
    {
      "cell_type": "markdown",
      "source": [],
      "metadata": {
        "id": "rywg4FTGyAVD"
      }
    },
    {
      "cell_type": "markdown",
      "source": [
        "Laboratório de Física IV \n",
        "Prática 05 : Interferência\n",
        "\n",
        "\n",
        "Dados do Exemplo: D=2223 (mm); n_i=4; Y_A= 22,Y_B= 12.5,Y_C= 16,Y_D= 12 (mm);lambda_L_R = 632.8 (nm); \n",
        "\n",
        "Grupo 01: D=1850(mm);n_A=6,n_B=9,n_c=5,n_D=8;Y_A= 27,Y_B= 20,Y_C=28.5,Y_D=18 (mm);\n",
        "\n",
        "Grupo 02:\n",
        "\n",
        "Grupo 03:\n",
        "\n",
        "Grupo 04:\n"
      ],
      "metadata": {
        "id": "aOVlph-RscLj"
      }
    },
    {
      "cell_type": "code",
      "source": [
        "#Dinstância entre as fendas \"d\"(mm) e D(mm):\n",
        "d_A = 0.250\n",
        "d_B = 0.500\n",
        "d_C = 0.250\n",
        "d_D = 0.500\n",
        "D = 1850.0"
      ],
      "metadata": {
        "id": "W37Zu2AKyC_X"
      },
      "execution_count": 2,
      "outputs": []
    },
    {
      "cell_type": "code",
      "source": [
        "#Número de configurões da Lâmina \"N\":\n",
        "#N = 4\n",
        "#Número de intervalos de Máximos :\n",
        "n_A = 6\n",
        "n_B = 9\n",
        "n_C = 5\n",
        "n_D = 8\n",
        "print(\"n_A:\", n_A,\";\"\"n_B:\", n_B,\";\"\"n_C:\", n_C,\";\"\"n_D:\", n_D,\".\")"
      ],
      "metadata": {
        "colab": {
          "base_uri": "https://localhost:8080/"
        },
        "id": "tsRDNQiDsl5B",
        "outputId": "3e442515-5893-46d6-f4f6-c2cc742ad5d9"
      },
      "execution_count": 3,
      "outputs": [
        {
          "output_type": "stream",
          "name": "stdout",
          "text": [
            "n_A: 6 ;n_B: 9 ;n_C: 5 ;n_D: 8 .\n"
          ]
        }
      ]
    },
    {
      "cell_type": "code",
      "source": [
        "#Distâncias entre máximos medidos com a régua para cada Configuração (mm):\n",
        "Y_A= 27.0\n",
        "Y_B= 20.0\n",
        "Y_C= 28.5\n",
        "Y_D= 18.0\n",
        "print(\"Y_A:\", Y_A,\";\"\"Y_B:\", Y_B,\";\"\"Y_C:\", Y_C,\";\"\"Y_D:\", Y_D,\".\")"
      ],
      "metadata": {
        "colab": {
          "base_uri": "https://localhost:8080/"
        },
        "id": "Hzo7KZ1_tPic",
        "outputId": "825b9aea-f1d6-49e5-c8bb-7d4cb167f537"
      },
      "execution_count": 4,
      "outputs": [
        {
          "output_type": "stream",
          "name": "stdout",
          "text": [
            "Y_A: 27.0 ;Y_B: 20.0 ;Y_C: 28.5 ;Y_D: 18.0 .\n"
          ]
        }
      ]
    },
    {
      "cell_type": "code",
      "source": [
        "#Deta_Y para cada Configuração (mm):\n",
        "Dy_A= Y_A/n_A\n",
        "Dy_B= Y_B/n_B\n",
        "Dy_C= Y_C/n_C\n",
        "Dy_D= Y_D/n_D\n",
        "print(\"Dy_A:\", Dy_A,\";\"\"Dy_B:\", Dy_B,\";\"\"Dy_C:\", Dy_C,\";\"\"Dy_D:\", Dy_D,\".\")"
      ],
      "metadata": {
        "colab": {
          "base_uri": "https://localhost:8080/"
        },
        "id": "cftwSlMmt193",
        "outputId": "24276a18-af16-404b-dc9a-2f56e82962bf"
      },
      "execution_count": 5,
      "outputs": [
        {
          "output_type": "stream",
          "name": "stdout",
          "text": [
            "Dy_A: 4.5 ;Dy_B: 2.2222222222222223 ;Dy_C: 5.7 ;Dy_D: 2.25 .\n"
          ]
        }
      ]
    },
    {
      "cell_type": "code",
      "source": [
        "#Lambda para cada configuração (nm)\n",
        "\n",
        "l_A= (d_A*Dy_A/D) \n",
        "l_B= (d_B*Dy_B/D) \n",
        "l_C= (d_C*Dy_C/D) \n",
        "l_D= (d_D*Dy_D/D) \n",
        "print(\"l_A:\", l_A,\";\"\"l_B:\", l_B,\";\"\"l_C:\", l_C,\";\"\"l_D:\", l_D,\".\")"
      ],
      "metadata": {
        "colab": {
          "base_uri": "https://localhost:8080/"
        },
        "id": "2OKq2GrcuxWZ",
        "outputId": "5ae547a8-53f5-41bf-a1bb-9aaafc6ed9cf"
      },
      "execution_count": 6,
      "outputs": [
        {
          "output_type": "stream",
          "name": "stdout",
          "text": [
            "l_A: 0.0006081081081081081 ;l_B: 0.0006006006006006006 ;l_C: 0.0007702702702702703 ;l_D: 0.0006081081081081081 .\n"
          ]
        }
      ]
    },
    {
      "cell_type": "code",
      "source": [
        "#Passar para nm\n",
        "print(\"l_A:\", l_A*1e6,\"(nm);\"\"l_B:\", l_B*1e6,\"(nm);\"\"l_C:\", l_C*1e6,\"(nm);\"\"l_D:\", l_D*1e6,\"(nm).\")"
      ],
      "metadata": {
        "colab": {
          "base_uri": "https://localhost:8080/"
        },
        "id": "uFiFCZ3PwoDi",
        "outputId": "a6b8bc25-dbc9-4a90-a8d1-5b3ff1217641"
      },
      "execution_count": 7,
      "outputs": [
        {
          "output_type": "stream",
          "name": "stdout",
          "text": [
            "l_A: 608.1081081081081 (nm);l_B: 600.6006006006006 (nm);l_C: 770.2702702702703 (nm);l_D: 608.1081081081081 (nm).\n"
          ]
        }
      ]
    },
    {
      "cell_type": "code",
      "source": [
        "array_L = np.array( [ l_A*1e6, l_B*1e6 , l_C*1e6 , l_D*1e6])\n",
        "\n",
        "\n",
        "array_L"
      ],
      "metadata": {
        "colab": {
          "base_uri": "https://localhost:8080/"
        },
        "id": "qy1gADjYxZc0",
        "outputId": "2f4c42fc-81e0-4c41-a70a-3e108272c16e"
      },
      "execution_count": 8,
      "outputs": [
        {
          "output_type": "execute_result",
          "data": {
            "text/plain": [
              "array([608.10810811, 600.6006006 , 770.27027027, 608.10810811])"
            ]
          },
          "metadata": {},
          "execution_count": 8
        }
      ]
    },
    {
      "cell_type": "code",
      "source": [
        "media_L = np.mean( array_L )\n",
        "print ( \"Média (mm) = {}\".format( media_L ) )\n",
        "var_L_p = np.mean( array_L ** 2 ) - np.mean( array_L ) ** 2\n",
        "print ( \"Variância populacional (mm²) = {}\".format( var_L_p ) ) "
      ],
      "metadata": {
        "colab": {
          "base_uri": "https://localhost:8080/"
        },
        "id": "IJP08hohyaJK",
        "outputId": "cb1a6258-a14b-4bd5-9abb-b5ae84f50f2b"
      },
      "execution_count": 9,
      "outputs": [
        {
          "output_type": "stream",
          "name": "stdout",
          "text": [
            "Média (mm) = 646.7717717717719\n",
            "Variância populacional (mm²) = 5093.35348862363\n"
          ]
        }
      ]
    },
    {
      "cell_type": "markdown",
      "source": [
        "Desvio padrão populacional:\n"
      ],
      "metadata": {
        "id": "X4rXshcazaRk"
      }
    },
    {
      "cell_type": "code",
      "source": [
        "sigma_L_p = np.sqrt( var_L_p )\n",
        "print ( \"Desvio padrão populacional (nm) = {}\".format( sigma_L_p ) )"
      ],
      "metadata": {
        "colab": {
          "base_uri": "https://localhost:8080/"
        },
        "id": "ibVifyxdzWCQ",
        "outputId": "7d35d30f-f793-443d-84f8-a6c071f7ff7e"
      },
      "execution_count": 10,
      "outputs": [
        {
          "output_type": "stream",
          "name": "stdout",
          "text": [
            "Desvio padrão populacional (nm) = 71.36773422649503\n"
          ]
        }
      ]
    },
    {
      "cell_type": "code",
      "source": [
        "np.std( array_L, ddof=0 )"
      ],
      "metadata": {
        "colab": {
          "base_uri": "https://localhost:8080/"
        },
        "id": "6XufC_7cG2Bq",
        "outputId": "fd9c1377-a70c-4908-8d69-d6905601c45b"
      },
      "execution_count": 11,
      "outputs": [
        {
          "output_type": "execute_result",
          "data": {
            "text/plain": [
              "71.36773422649594"
            ]
          },
          "metadata": {},
          "execution_count": 11
        }
      ]
    },
    {
      "cell_type": "markdown",
      "source": [
        "Desvio padrão amostral:\n"
      ],
      "metadata": {
        "id": "vd6aEiqoyqQJ"
      }
    },
    {
      "cell_type": "code",
      "source": [
        "N = array_L.size # tamanho da sequência L\n",
        "print ( \"N = {}\".format( N ) )\n",
        "\n",
        "sigma_L_a = np.sqrt( N / (N - 1) ) * sigma_L_p\n",
        "\n",
        "print ( \"Desvio padrão amostral (nm) = {}\".format( sigma_L_a ) )"
      ],
      "metadata": {
        "colab": {
          "base_uri": "https://localhost:8080/"
        },
        "id": "eFxwDmMTyj-J",
        "outputId": "009e67f5-1816-4200-bee4-a588a616630c"
      },
      "execution_count": 12,
      "outputs": [
        {
          "output_type": "stream",
          "name": "stdout",
          "text": [
            "N = 4\n",
            "Desvio padrão amostral (nm) = 82.40836113424115\n"
          ]
        }
      ]
    },
    {
      "cell_type": "code",
      "source": [
        "np.std( array_L, ddof=1 )"
      ],
      "metadata": {
        "colab": {
          "base_uri": "https://localhost:8080/"
        },
        "id": "NHFX0eP7zlY0",
        "outputId": "48cbcbad-5d07-47cb-fac6-1f8b50989920"
      },
      "execution_count": 13,
      "outputs": [
        {
          "output_type": "execute_result",
          "data": {
            "text/plain": [
              "82.4083611342422"
            ]
          },
          "metadata": {},
          "execution_count": 13
        }
      ]
    },
    {
      "cell_type": "markdown",
      "source": [
        "Erro da média:"
      ],
      "metadata": {
        "id": "juxBB5vEzyWd"
      }
    },
    {
      "cell_type": "code",
      "source": [
        "erro_media_L = sigma_L_a / np.sqrt( N )\n",
        "print ( \"Erro da média (nm) = {}\".format( erro_media_L ) )"
      ],
      "metadata": {
        "colab": {
          "base_uri": "https://localhost:8080/"
        },
        "id": "a3KQNw_-zzqY",
        "outputId": "8f58619b-061e-461f-8295-f7498e4a0aa1"
      },
      "execution_count": 14,
      "outputs": [
        {
          "output_type": "stream",
          "name": "stdout",
          "text": [
            "Erro da média (nm) = 41.204180567120574\n"
          ]
        }
      ]
    },
    {
      "cell_type": "code",
      "source": [
        "epsilon_media_L = np.sqrt( var_L_p/(N-1) )\n",
        "print ( \"Erro da média (nm) = {}\".format( epsilon_media_L ) )"
      ],
      "metadata": {
        "colab": {
          "base_uri": "https://localhost:8080/"
        },
        "id": "kvTGQ3NNHe5t",
        "outputId": "45924698-7ea8-4707-837b-b16fc97132e4"
      },
      "execution_count": 15,
      "outputs": [
        {
          "output_type": "stream",
          "name": "stdout",
          "text": [
            "Erro da média (nm) = 41.204180567120574\n"
          ]
        }
      ]
    },
    {
      "cell_type": "markdown",
      "source": [
        "Estimativa do comprimento de onda da fonte:\n"
      ],
      "metadata": {
        "id": "JhrJFzJK0AgP"
      }
    },
    {
      "cell_type": "code",
      "source": [
        "print ( \"L = {:.2f} ± {:.2f} (nm)\".format( np.round( media_L, 2), np.round( erro_media_L, 2 ) ) )"
      ],
      "metadata": {
        "colab": {
          "base_uri": "https://localhost:8080/"
        },
        "id": "f7pFXqr2z_xt",
        "outputId": "55a132af-82f6-4860-ae52-2e4b5c8ea424"
      },
      "execution_count": 16,
      "outputs": [
        {
          "output_type": "stream",
          "name": "stdout",
          "text": [
            "L = 646.77 ± 41.20 (nm)\n"
          ]
        }
      ]
    },
    {
      "cell_type": "markdown",
      "source": [
        "Discrepância: L_ref=632.8nm"
      ],
      "metadata": {
        "id": "Y9jbHMyp0Rcb"
      }
    },
    {
      "cell_type": "code",
      "source": [
        "l = media_L \n",
        "l\n"
      ],
      "metadata": {
        "colab": {
          "base_uri": "https://localhost:8080/"
        },
        "id": "pGpjki9G0_N-",
        "outputId": "40112384-f714-4e80-a382-60c06cfd2f30"
      },
      "execution_count": 17,
      "outputs": [
        {
          "output_type": "execute_result",
          "data": {
            "text/plain": [
              "646.7717717717719"
            ]
          },
          "metadata": {},
          "execution_count": 17
        }
      ]
    },
    {
      "cell_type": "code",
      "source": [
        "#Comprimento de onda da fonte laser\n",
        "lambda_L_R = 632.8 # nm\n"
      ],
      "metadata": {
        "id": "8rDISpjSy2x7"
      },
      "execution_count": 18,
      "outputs": []
    },
    {
      "cell_type": "code",
      "source": [
        "dis = abs( media_L-(lambda_L_R))/erro_media_L\n",
        "np.round(dis,2)"
      ],
      "metadata": {
        "colab": {
          "base_uri": "https://localhost:8080/"
        },
        "id": "-XXl2a3D2oEM",
        "outputId": "badef914-a7a5-4b58-93e6-bc557f520ae6"
      },
      "execution_count": 19,
      "outputs": [
        {
          "output_type": "execute_result",
          "data": {
            "text/plain": [
              "0.34"
            ]
          },
          "metadata": {},
          "execution_count": 19
        }
      ]
    },
    {
      "cell_type": "code",
      "source": [
        "if dis < 2.0:\n",
        "  print(\"Compatível\")\n",
        "else:\n",
        "  print(\"Incompatível\")  "
      ],
      "metadata": {
        "colab": {
          "base_uri": "https://localhost:8080/"
        },
        "id": "so7o5Pb63H9l",
        "outputId": "3ed140e4-5791-429e-8c72-6fa4754dcd5e"
      },
      "execution_count": 20,
      "outputs": [
        {
          "output_type": "stream",
          "name": "stdout",
          "text": [
            "Compatível\n"
          ]
        }
      ]
    }
  ]
}