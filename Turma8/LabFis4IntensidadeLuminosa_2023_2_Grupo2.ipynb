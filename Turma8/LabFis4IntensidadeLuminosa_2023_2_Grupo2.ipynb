{
  "nbformat": 4,
  "nbformat_minor": 0,
  "metadata": {
    "colab": {
      "provenance": [],
      "authorship_tag": "ABX9TyPxNQnD+cQH53jDRd3RNF7t",
      "include_colab_link": true
    },
    "kernelspec": {
      "name": "python3",
      "display_name": "Python 3"
    },
    "language_info": {
      "name": "python"
    }
  },
  "cells": [
    {
      "cell_type": "markdown",
      "metadata": {
        "id": "view-in-github",
        "colab_type": "text"
      },
      "source": [
        "<a href=\"https://colab.research.google.com/github/elizamelo/LabFis04/blob/main/Turma8/LabFis4IntensidadeLuminosa_2023_2_Grupo2.ipynb\" target=\"_parent\"><img src=\"https://colab.research.google.com/assets/colab-badge.svg\" alt=\"Open In Colab\"/></a>"
      ]
    },
    {
      "cell_type": "code",
      "execution_count": 1,
      "metadata": {
        "id": "ofnSdf-wsbe9"
      },
      "outputs": [],
      "source": [
        "import numpy as np\n",
        "import pandas as pd\n",
        "import math\n",
        "import matplotlib as mpl\n",
        "import matplotlib.pyplot as plt"
      ]
    },
    {
      "cell_type": "markdown",
      "source": [],
      "metadata": {
        "id": "rywg4FTGyAVD"
      }
    },
    {
      "cell_type": "markdown",
      "source": [
        "Laboratório de Física IV\n",
        "\n",
        "Prática 01: Intensidade Luminosa\n",
        "\n",
        "obj.: Verificar a relação: I = C/r^2\n",
        "\n",
        "log (I(r)/I_max) = log(C) - 2.log(r)\n",
        "\n",
        "y=m.x+b\n",
        "\n",
        "y=log (I(r)/I_max); x=log (I(r)/I_max); m_t=-2 e b_t=log(C)\n",
        "\n",
        "Dados do Exemplo: I_max=10 w/m²; I(r)=10,9,8,7,6,5,4,3,2,1; r=?\n",
        "\n",
        "\n",
        "Grupo 01: r=[5.0,5.5,6.0,7.0,8.0,9.0,11.0,13.5,17.9,27.0] turma 3\n",
        "\n",
        "          IR=[1.0,0.9,0.8,0.7,0.6,0.5,0.4,0.3,0.2,0.1]\n",
        "\n",
        "Grupo 02: r=[2.0,2.75,3.2,3.8,4.3,5.15,6.25,7.9,10.4,15.3] turma 3\n",
        "\n",
        "Grupo 03: r=[2.0,2.3,2.9,3.2,4.7,6.10,7.40,9.95,15.05,25.05,63.95] turma 2\n",
        "\n",
        "          IR=[1.0,0.9,0.8,0.7,0.6,0.5,0.4,0.3,0.2,0.1,0,01]\n",
        "\n",
        "Grupo 04: r=[2.0,2.2,2.6,3.0,3.6,4.2,5.2,6.6,8.8,12.6] turma 2\n",
        "\n",
        "          IR=[1.0,0.9,0.8,0.7,0.6,0.5,0.4,0.3,0.2,0.1]\n",
        "\n",
        "Grupo 05: r=[2.0,2.7,3.1,3.4,4.1,4.8,5.8,7.6,9.4,14.2] turma 2\n",
        "\n",
        "          IR=[1.0,0.9,0.8,0.7,0.6,0.5,0.4,0.3,0.2,0.1]"
      ],
      "metadata": {
        "id": "aOVlph-RscLj"
      }
    },
    {
      "cell_type": "code",
      "source": [
        "I_m=10"
      ],
      "metadata": {
        "id": "FqOPNrnjbmtJ"
      },
      "execution_count": 2,
      "outputs": []
    },
    {
      "cell_type": "code",
      "source": [
        "#Distãncia da fonte a fibra óptica\n",
        "#r = [14.0,14.85,16.05,17.55,19.4,21.55,24.8,30.35,37.25,56.9] # cm - grupo 01,\n",
        "r=[1.9,2.0,2.45,2.51,3.0,3.85,4.5,5.6,7.6,12.9] # cm - grupo 02,\n",
        "#r = [2.0,2.3,2.9,3.75,4.7,6.10,7.40,9.95,15.05,25.05,63.95] #cm grupo 3, turma 2\n",
        "#r=[2.0,2.2,2.6,3.0,3.6,4.2,5.2,6.6,8.8,12.6] #cm grupo 04 ,turma 2\n",
        "#r=[2.0,2.7,3.1,3.4,4.1,4.8,5.8,7.6,9.4,14.2] #cm grupo 05 ,turma 2\n"
      ],
      "metadata": {
        "id": "IfyZ3B5Cv1-3"
      },
      "execution_count": 3,
      "outputs": []
    },
    {
      "cell_type": "code",
      "source": [
        "#Intensidades Relativas:\n",
        "\n",
        "IR =[ 1.0,0.9,0.8,0.7,0.6,0.5,0.4,0.3,0.2,0.1]"
      ],
      "metadata": {
        "id": "86GjTtusPE0C"
      },
      "execution_count": 4,
      "outputs": []
    },
    {
      "cell_type": "code",
      "source": [
        "print(r)\n",
        "N_medidas = len(r)\n",
        "print ( \"Número de medidas: {}\".format( N_medidas ) )\n",
        "\n"
      ],
      "metadata": {
        "colab": {
          "base_uri": "https://localhost:8080/"
        },
        "id": "VuDlhoWAb3Si",
        "outputId": "43f2afd5-ea71-42a2-f8af-6be0780d3176"
      },
      "execution_count": 5,
      "outputs": [
        {
          "output_type": "stream",
          "name": "stdout",
          "text": [
            "[1.9, 2.0, 2.45, 2.51, 3.0, 3.85, 4.5, 5.6, 7.6, 12.9]\n",
            "Número de medidas: 10\n"
          ]
        }
      ]
    },
    {
      "cell_type": "code",
      "source": [
        "x = np.log10(r)\n",
        "print (\"x=log(r) = \", x)"
      ],
      "metadata": {
        "colab": {
          "base_uri": "https://localhost:8080/"
        },
        "id": "EcxjQqvpdYCX",
        "outputId": "273d265b-f25b-4967-bbdc-e9e4488a85fc"
      },
      "execution_count": 6,
      "outputs": [
        {
          "output_type": "stream",
          "name": "stdout",
          "text": [
            "x=log(r) =  [0.2787536  0.30103    0.38916608 0.39967372 0.47712125 0.58546073\n",
            " 0.65321251 0.74818803 0.88081359 1.11058971]\n"
          ]
        }
      ]
    },
    {
      "cell_type": "code",
      "source": [
        "y=np.log10(IR)\n",
        "print (\"y=log(IR) = \", y)"
      ],
      "metadata": {
        "colab": {
          "base_uri": "https://localhost:8080/"
        },
        "id": "qhKWqp6Sd9F6",
        "outputId": "b2cfc422-a671-419d-81dc-9f548a73d942"
      },
      "execution_count": 7,
      "outputs": [
        {
          "output_type": "stream",
          "name": "stdout",
          "text": [
            "y=log(IR) =  [ 0.         -0.04575749 -0.09691001 -0.15490196 -0.22184875 -0.30103\n",
            " -0.39794001 -0.52287875 -0.69897    -1.        ]\n"
          ]
        }
      ]
    },
    {
      "cell_type": "code",
      "source": [
        "media_X = x.mean()\n",
        "media_X2 = ( x** 2 ).mean()\n",
        "var_X_populacional = ( x ** 2 ).mean() - ( media_X ** 2 )\n",
        "dp_X_populacional = np.sqrt( var_X_populacional )\n",
        "print ( \"Média (cm): {}\".format( media_X ) )\n",
        "print ( \"Média quadrados(cm²): {}\".format( media_X2 ) )\n",
        "print ( \"Variância (cm²): {}\".format( var_X_populacional ) )\n",
        "print ( \"Desvio padrão (cm): {}\".format( dp_X_populacional ) )\n",
        "\n"
      ],
      "metadata": {
        "colab": {
          "base_uri": "https://localhost:8080/"
        },
        "id": "vhP2Xa4WeTY6",
        "outputId": "aa03bab2-38f6-47a7-a823-691873bdfa8b"
      },
      "execution_count": 8,
      "outputs": [
        {
          "output_type": "stream",
          "name": "stdout",
          "text": [
            "Média (cm): 0.5824009230052127\n",
            "Média quadrados(cm²): 0.4045634911574938\n",
            "Variância (cm²): 0.06537265604017006\n",
            "Desvio padrão (cm): 0.2556807697895367\n"
          ]
        }
      ]
    },
    {
      "cell_type": "code",
      "source": [
        "media_Y = y.mean()\n",
        "media_Y2 = ( y** 2 ).mean()\n",
        "var_Y_populacional = ( y ** 2 ).mean() - ( media_Y ** 2 )\n",
        "dp_Y_populacional = np.sqrt( var_Y_populacional )\n",
        "print ( \"Média : {}\".format( media_Y ) )\n",
        "print ( \"Média quadrados: {}\".format( media_Y2 ) )\n",
        "print ( \"Variância : {}\".format( var_Y_populacional ) )\n",
        "print ( \"Desvio padrão : {}\".format( dp_Y_populacional ) )"
      ],
      "metadata": {
        "colab": {
          "base_uri": "https://localhost:8080/"
        },
        "id": "ZOTEXRtMf5mm",
        "outputId": "bc1bfd48-cc4e-4f15-fbc3-cfacf02ab1e9"
      },
      "execution_count": 9,
      "outputs": [
        {
          "output_type": "stream",
          "name": "stdout",
          "text": [
            "Média : -0.3440236967123206\n",
            "Média quadrados: 0.20956333414961897\n",
            "Variância : 0.09121103025000823\n",
            "Desvio padrão : 0.3020116392624765\n"
          ]
        }
      ]
    },
    {
      "cell_type": "code",
      "source": [
        "x_X_y = ( x * y ).mean()\n",
        "cov_populacional = x_X_y - ( media_X * media_Y )\n",
        "coeficiente_correlacao = cov_populacional / ( dp_X_populacional * dp_Y_populacional )\n",
        "print ( \"Covariância (logr × logIr): {}\".format( cov_populacional ) )\n",
        "print ( \"Coeficiente de correlação: {}\".format( coeficiente_correlacao ) )\n"
      ],
      "metadata": {
        "colab": {
          "base_uri": "https://localhost:8080/"
        },
        "id": "Hlnlc-3bgfV7",
        "outputId": "7558b914-a911-4fc8-ba19-ff56c1aaa562"
      },
      "execution_count": 10,
      "outputs": [
        {
          "output_type": "stream",
          "name": "stdout",
          "text": [
            "Covariância (logr × logIr): -0.07692945208326502\n",
            "Coeficiente de correlação: -0.9962558703857064\n"
          ]
        }
      ]
    },
    {
      "cell_type": "markdown",
      "source": [
        "Coeficientes:\n"
      ],
      "metadata": {
        "id": "nXii6u3fhejG"
      }
    },
    {
      "cell_type": "code",
      "source": [
        "coeficiente_m = cov_populacional / var_X_populacional\n",
        "print ( \"Coeficiente m (cm): {}\".format( coeficiente_m ) )\n"
      ],
      "metadata": {
        "colab": {
          "base_uri": "https://localhost:8080/"
        },
        "id": "GHX5jQ4rhOyr",
        "outputId": "827868a4-f2cd-4dea-8240-805e34e89d70"
      },
      "execution_count": 11,
      "outputs": [
        {
          "output_type": "stream",
          "name": "stdout",
          "text": [
            "Coeficiente m (cm): -1.1767833333250763\n"
          ]
        }
      ]
    },
    {
      "cell_type": "code",
      "source": [
        "\n",
        "coeficiente_b = media_Y - coeficiente_m * media_X # cm\n",
        "print ( \"Coeficiente b (cm): {}\".format( coeficiente_b ) )"
      ],
      "metadata": {
        "colab": {
          "base_uri": "https://localhost:8080/"
        },
        "id": "ObHDPHnCh6Yx",
        "outputId": "5fc2a2a5-c83f-4d9e-8286-35d647076f21"
      },
      "execution_count": 12,
      "outputs": [
        {
          "output_type": "stream",
          "name": "stdout",
          "text": [
            "Coeficiente b (cm): 0.34133600279335474\n"
          ]
        }
      ]
    },
    {
      "cell_type": "markdown",
      "source": [
        "Incertezas:"
      ],
      "metadata": {
        "id": "ReIvfc4diKR6"
      }
    },
    {
      "cell_type": "code",
      "source": [
        "arr_desvios_ajuste = ( y - ( coeficiente_m * x + coeficiente_b ) )\n",
        "arr_desvios_ajuste"
      ],
      "metadata": {
        "colab": {
          "base_uri": "https://localhost:8080/"
        },
        "id": "4NQfJBENiH7R",
        "outputId": "547631cc-2279-4e8e-d5c6-762abc84f386"
      },
      "execution_count": 13,
      "outputs": [
        {
          "output_type": "execute_result",
          "data": {
            "text/plain": [
              "array([-0.01330341, -0.03284641,  0.01971815, -0.02590859, -0.00171641,\n",
              "        0.04659443,  0.02941359,  0.01624045, -0.00377925, -0.03441254])"
            ]
          },
          "metadata": {},
          "execution_count": 13
        }
      ]
    },
    {
      "cell_type": "code",
      "source": [
        "print ( arr_desvios_ajuste ** 2 )\n",
        "print ( \"Soma quadrado desvios (cm): {}\".format( ( arr_desvios_ajuste ** 2 ).sum() ) )\n",
        "\n"
      ],
      "metadata": {
        "colab": {
          "base_uri": "https://localhost:8080/"
        },
        "id": "S9SG7RAYiVOC",
        "outputId": "17668ebf-d468-4afa-c637-0b8b40fa7042"
      },
      "execution_count": 14,
      "outputs": [
        {
          "output_type": "stream",
          "name": "stdout",
          "text": [
            "[1.76980747e-04 1.07888676e-03 3.88805289e-04 6.71254962e-04\n",
            " 2.94606974e-06 2.17104094e-03 8.65159151e-04 2.63752291e-04\n",
            " 1.42827454e-05 1.18422302e-03]\n",
            "Soma quadrado desvios (cm): 0.006817331965916927\n"
          ]
        }
      ]
    },
    {
      "cell_type": "code",
      "source": [
        "ep_y_1 = np.sqrt( ( arr_desvios_ajuste ** 2 ).sum() / ( N_medidas - 2 ) )\n",
        "print ( \"epsilon_y = {}\".format( ep_y_1 ) )\n",
        "\n"
      ],
      "metadata": {
        "colab": {
          "base_uri": "https://localhost:8080/"
        },
        "id": "MMFMjDPjinNm",
        "outputId": "7fb24c0f-56f6-4540-be02-624e9ce3d8a7"
      },
      "execution_count": 15,
      "outputs": [
        {
          "output_type": "stream",
          "name": "stdout",
          "text": [
            "epsilon_y = 0.029191890924358015\n"
          ]
        }
      ]
    },
    {
      "cell_type": "code",
      "source": [
        "ep_y_2 = dp_Y_populacional * np.sqrt( ( N_medidas / ( N_medidas - 2 ) ) * ( 1. - coeficiente_correlacao ** 2 ) )\n",
        "print ( \"epsilon_y = {}\".format( ep_y_2 ) )"
      ],
      "metadata": {
        "colab": {
          "base_uri": "https://localhost:8080/"
        },
        "id": "bP_a0JMdi2-_",
        "outputId": "472cc0fe-043c-41fc-f926-fb49a0ea0bbf"
      },
      "execution_count": 16,
      "outputs": [
        {
          "output_type": "stream",
          "name": "stdout",
          "text": [
            "epsilon_y = 0.02919189092436191\n"
          ]
        }
      ]
    },
    {
      "cell_type": "code",
      "source": [
        "ep_y = ep_y_2\n",
        "sigma_m = ep_y / ( dp_X_populacional * np.sqrt( N_medidas ) )\n",
        "print ( \"Incerteza padrão coeficiente m (cm): {}\".format( sigma_m ) )\n"
      ],
      "metadata": {
        "colab": {
          "base_uri": "https://localhost:8080/"
        },
        "id": "vBsEY2wii9KB",
        "outputId": "b5dfcd6b-f257-494d-d1cb-c1415456fea5"
      },
      "execution_count": 17,
      "outputs": [
        {
          "output_type": "stream",
          "name": "stdout",
          "text": [
            "Incerteza padrão coeficiente m (cm): 0.036104735058553265\n"
          ]
        }
      ]
    },
    {
      "cell_type": "code",
      "source": [
        "sigma_b = sigma_m * np.sqrt( media_X2 )\n",
        "print ( \"Incerteza padrão coeficiente b (cm): {}\".format( sigma_b ) )"
      ],
      "metadata": {
        "colab": {
          "base_uri": "https://localhost:8080/"
        },
        "id": "uoB0fol_jP0A",
        "outputId": "6c092701-89d9-4bad-dfc8-b78b4a1c8854"
      },
      "execution_count": 18,
      "outputs": [
        {
          "output_type": "stream",
          "name": "stdout",
          "text": [
            "Incerteza padrão coeficiente b (cm): 0.022964527101582748\n"
          ]
        }
      ]
    },
    {
      "cell_type": "markdown",
      "source": [
        "Estimativas para os coeficientes:"
      ],
      "metadata": {
        "id": "mFjAW4NlkJMN"
      }
    },
    {
      "cell_type": "code",
      "source": [
        "print ( \"m = {:.2f} ± {:.2f} (cm)\".format( np.round( coeficiente_m, 2 ), np.round( sigma_m, 2 ) ) )"
      ],
      "metadata": {
        "colab": {
          "base_uri": "https://localhost:8080/"
        },
        "id": "ZQTcRMCzjXu-",
        "outputId": "8f18fde0-7c45-4fe1-b93c-e3c54d918d89"
      },
      "execution_count": 19,
      "outputs": [
        {
          "output_type": "stream",
          "name": "stdout",
          "text": [
            "m = -1.18 ± 0.04 (cm)\n"
          ]
        }
      ]
    },
    {
      "cell_type": "code",
      "source": [
        "print ( \"b = {} ± {} (cm)\".format( np.round( coeficiente_b, 2 ), np.round( sigma_b, 2 ) ) )"
      ],
      "metadata": {
        "colab": {
          "base_uri": "https://localhost:8080/"
        },
        "id": "kWetR3UqkPlB",
        "outputId": "2cec9570-c33d-4838-8c7c-ab6fbe887915"
      },
      "execution_count": 20,
      "outputs": [
        {
          "output_type": "stream",
          "name": "stdout",
          "text": [
            "b = 0.34 ± 0.02 (cm)\n"
          ]
        }
      ]
    },
    {
      "cell_type": "code",
      "source": [
        "fig = plt.figure( figsize=(12,10) )\n",
        "\n",
        "plt.plot( x, y, 'ko' )\n",
        "plt.plot( x, ( coeficiente_m * x + coeficiente_b ), '-r' )\n",
        "plt.xlabel( r\"$log(r) (\\rm{cm})$\", fontsize=18)\n",
        "plt.ylabel( r\"$log(I/I_{máx})$\", fontsize=18 )\n",
        "\n",
        "plt.text( 0.4, 0.9,\n",
        "          r\"$m = {} \\pm {}\\,\\left(\\rm{{cm}}\\right)$\".format( np.round( coeficiente_m, 2 ), np.round( sigma_m, 2 ) ),\n",
        "          fontsize=14, transform=plt.gca().transAxes )\n",
        "plt.text( 0.4, 0.85,\n",
        "          r\"$b = {} \\pm {}\\,\\left(\\rm{{cm}}\\right)$\".format( np.round( coeficiente_b, 2 ), np.round( sigma_b, 2 ) ),\n",
        "          fontsize=16, transform=plt.gca().transAxes )"
      ],
      "metadata": {
        "colab": {
          "base_uri": "https://localhost:8080/",
          "height": 882
        },
        "id": "D1LfwwYxkbrz",
        "outputId": "ef908e34-bf7b-4128-dbc3-4a28f8c227d0"
      },
      "execution_count": 21,
      "outputs": [
        {
          "output_type": "execute_result",
          "data": {
            "text/plain": [
              "Text(0.4, 0.85, '$b = 0.34 \\\\pm 0.02\\\\,\\\\left(\\\\rm{cm}\\\\right)$')"
            ]
          },
          "metadata": {},
          "execution_count": 21
        },
        {
          "output_type": "display_data",
          "data": {
            "text/plain": [
              "<Figure size 1200x1000 with 1 Axes>"
            ],
            "image/png": "[encoded data removed]"
          },
          "metadata": {}
        }
      ]
    },
    {
      "cell_type": "markdown",
      "source": [
        "Usando um pacote:"
      ],
      "metadata": {
        "id": "-uLhsC2em4kJ"
      }
    },
    {
      "cell_type": "code",
      "source": [
        "from scipy.optimize import curve_fit\n",
        "\n",
        "def pol1(x, p0, p1):\n",
        "   return p0 + p1*x\n",
        "\n",
        "popt_lin, pcov_lin = curve_fit( pol1, x, y, p0=(0.,0.) )\n",
        "print ( popt_lin, pcov_lin )"
      ],
      "metadata": {
        "colab": {
          "base_uri": "https://localhost:8080/"
        },
        "id": "wZsV9rzOm6bM",
        "outputId": "3bd6476f-b284-441b-b9a5-d8f7f5865a4a"
      },
      "execution_count": 22,
      "outputs": [
        {
          "output_type": "stream",
          "name": "stdout",
          "text": [
            "[ 0.341336   -1.17678333] [[ 0.00052737 -0.00075919]\n",
            " [-0.00075919  0.00130355]]\n"
          ]
        }
      ]
    },
    {
      "cell_type": "code",
      "source": [
        "print ( \"Coeficiente m (cm): {}\".format( popt_lin[ 1 ] ) )\n",
        "print ( \"Incerteza padrão coeficiente m (cm): {}\".format( np.sqrt( pcov_lin[ 1, 1 ] ) ) )\n",
        "print ( \"a = {:.2f} ± {:.2f} (cm)\".format( np.round( popt_lin[ 1 ], 2 ), np.round( np.sqrt( pcov_lin[ 1, 1 ] ), 2 ) ) )"
      ],
      "metadata": {
        "colab": {
          "base_uri": "https://localhost:8080/"
        },
        "id": "LSmF4d2GnLOc",
        "outputId": "68a99f8a-e226-4d57-8af3-771e82e4cbe4"
      },
      "execution_count": 23,
      "outputs": [
        {
          "output_type": "stream",
          "name": "stdout",
          "text": [
            "Coeficiente m (cm): -1.1767833313871743\n",
            "Incerteza padrão coeficiente m (cm): 0.03610473452591527\n",
            "a = -1.18 ± 0.04 (cm)\n"
          ]
        }
      ]
    },
    {
      "cell_type": "code",
      "source": [
        "print ( \"Coeficiente b (cm): {}\".format( popt_lin[ 0 ] ) )\n",
        "print ( \"Incerteza padrão coeficiente b (cm): {}\".format( np.sqrt( pcov_lin[ 0, 0 ] ) ) )\n",
        "print ( \"{} ± {} (cm)\".format( np.round( popt_lin[ 0 ], 2 ), np.round( np.sqrt( pcov_lin[ 0, 0 ] ), 2 ) ) )"
      ],
      "metadata": {
        "colab": {
          "base_uri": "https://localhost:8080/"
        },
        "id": "TAi_qWBSnbfA",
        "outputId": "b95c109b-742b-4290-c145-77b77cca48d2"
      },
      "execution_count": 24,
      "outputs": [
        {
          "output_type": "stream",
          "name": "stdout",
          "text": [
            "Coeficiente b (cm): 0.3413360016381694\n",
            "Incerteza padrão coeficiente b (cm): 0.022964527049323495\n",
            "0.34 ± 0.02 (cm)\n"
          ]
        }
      ]
    },
    {
      "cell_type": "code",
      "source": [
        "fig = plt.figure( figsize=(12,10) )\n",
        "\n",
        "plt.plot( x, y, 'ko' )\n",
        "plt.plot( x, ( popt_lin[ 0 ]  + popt_lin[ 1 ] * x ), '-r' )\n",
        "plt.xlabel( r\"$log(r)~(\\rm{{cm}}$\", fontsize=18)\n",
        "plt.ylabel( r\"$log(I/I_{máx})$\", fontsize=18 )\n",
        "\n",
        "plt.text( 0.4, 0.9,\n",
        "          r\"$m = {} \\pm {}(\\rm{{cm}})$\".format( np.round( popt_lin[ 1 ], 2 ), np.round( np.sqrt( pcov_lin[ 1, 1 ] ), 2 ) ),\n",
        "          fontsize=16, transform=plt.gca().transAxes )\n",
        "plt.text( 0.4, 0.85,\n",
        "          r\"$b = {} \\pm {}\\,\\left(\\rm{{cm}}\\right)$\".format( np.round( popt_lin[ 0 ], 2 ), np.round( np.sqrt( pcov_lin[ 0, 0 ] ), 2 ) ),\n",
        "          fontsize=16, transform=plt.gca().transAxes )"
      ],
      "metadata": {
        "colab": {
          "base_uri": "https://localhost:8080/",
          "height": 882
        },
        "id": "YX3VdsGInl0Q",
        "outputId": "d6f4c54a-65f5-4d03-ce17-810bec6649d8"
      },
      "execution_count": 25,
      "outputs": [
        {
          "output_type": "execute_result",
          "data": {
            "text/plain": [
              "Text(0.4, 0.85, '$b = 0.34 \\\\pm 0.02\\\\,\\\\left(\\\\rm{cm}\\\\right)$')"
            ]
          },
          "metadata": {},
          "execution_count": 25
        },
        {
          "output_type": "display_data",
          "data": {
            "text/plain": [
              "<Figure size 1200x1000 with 1 Axes>"
            ],
            "image/png": "[encoded data removed]"
          },
          "metadata": {}
        }
      ]
    }
  ]
}